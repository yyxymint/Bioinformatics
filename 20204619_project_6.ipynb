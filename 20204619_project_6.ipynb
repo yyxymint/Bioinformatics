{
  "nbformat": 4,
  "nbformat_minor": 0,
  "metadata": {
    "colab": {
      "name": "20204619 project #6.ipynb",
      "provenance": [],
      "collapsed_sections": []
    },
    "kernelspec": {
      "name": "python3",
      "display_name": "Python 3"
    }
  },
  "cells": [
    {
      "cell_type": "markdown",
      "metadata": {
        "id": "49klnQ0oEeeA"
      },
      "source": [
        "\n",
        "# Project #6. Predicting the RBP-binding RNA sequences\n",
        "## 20204619 Hwang Yechan\n",
        "#### Link for Google Colab : https://colab.research.google.com/drive/1Az3GJ2r5jpJQhnsZSdHHCHll4txJF032?usp=sharing\n",
        "<br/><br/>\n",
        "### 1. Load data using google drive\n",
        "In Project #6, we will upload fasta data to google drive and use them to train our model. So we will use 'drive.mount'.\n",
        "<hr/>"
      ]
    },
    {
      "cell_type": "code",
      "metadata": {
        "id": "0ozCP0Bg9DIP"
      },
      "source": [
        "# import\n",
        "import os\n",
        "import numpy as np\n",
        "import random\n",
        "\n",
        "import keras\n",
        "import tensorflow as tf\n",
        "import matplotlib.pyplot as plt"
      ],
      "execution_count": 1,
      "outputs": []
    },
    {
      "cell_type": "code",
      "metadata": {
        "colab": {
          "base_uri": "https://localhost:8080/"
        },
        "id": "ZaHDmlpJ9L1l",
        "outputId": "58cc6c10-07d8-4e1e-dfb9-a85fcc091c8a"
      },
      "source": [
        "# import my google drive\n",
        "from google.colab import drive\n",
        "drive.mount('/content/gdrive')"
      ],
      "execution_count": 2,
      "outputs": [
        {
          "output_type": "stream",
          "text": [
            "Mounted at /content/gdrive\n"
          ],
          "name": "stdout"
        }
      ]
    },
    {
      "cell_type": "markdown",
      "metadata": {
        "id": "mWX7K28YFUsh"
      },
      "source": [
        "### 2. Read fasta files\n",
        "Now we can load data in set file path. Since we have two dataset, ELAVL1 and ALKBH5, I set two rbp name seperately. We can check which files are in that path. From now, I'll use postfix '_EL' as an abbreviation to express ELAVL1 and '_AL' to express ALKBH5.\n",
        "<hr/>"
      ]
    },
    {
      "cell_type": "code",
      "metadata": {
        "colab": {
          "base_uri": "https://localhost:8080/"
        },
        "id": "iclfQFwZ9Tv8",
        "outputId": "4a67a78b-2e4a-4705-9f5e-edf345780aec"
      },
      "source": [
        "# read fasta files  \n",
        "fasta_file_path='gdrive/My Drive/data sample/'\n",
        "rbp_name_EL = 'ELAVL1'\n",
        "rbp_name_AL = 'ALKBH5'\n",
        "print('list of files', os.listdir(fasta_file_path))"
      ],
      "execution_count": 3,
      "outputs": [
        {
          "output_type": "stream",
          "text": [
            "list of files ['ALKBH5_Baltz2012.test_negatives.fasta', 'ALKBH5_Baltz2012.test.positives.fasta', 'ALKBH5_Baltz2012.train.negatives.fasta', 'ALKBH5_Baltz2012.train.positives.fasta', 'CLIPSEQ_ELAVL1.test.negatives.fasta', 'CLIPSEQ_ELAVL1.test.positives.fasta', 'CLIPSEQ_ELAVL1.train.negatives.fasta', 'CLIPSEQ_ELAVL1.train.positives.fasta']\n"
          ],
          "name": "stdout"
        }
      ]
    },
    {
      "cell_type": "markdown",
      "metadata": {
        "id": "p7Orbhd0Fz-K"
      },
      "source": [
        "### 3. Load and process dataset\n",
        "We have data for training and testing seperately. First, let's load and preprocess train data. Train data consists of train dataset for ELAVL1 and ALKBH5. They have their corresponding label, positive or negative. By using list in python, we can append all their contents. Train label 1 represents its rbp sequence is positive rbp sequence and 0 is negative rbp sequence. After executing the code below, we finish preprocessing trainin data for both ELAVL1 and ALKBH5."
      ]
    },
    {
      "cell_type": "code",
      "metadata": {
        "colab": {
          "base_uri": "https://localhost:8080/"
        },
        "id": "Ns3UEMJg9_Vk",
        "outputId": "d61a047e-4d5f-47bc-85b2-2af162030e66"
      },
      "source": [
        "# loading training set\n",
        "train_fasta_EL = list()\n",
        "train_label_EL = list()\n",
        "\n",
        "train_fasta_AL = list()\n",
        "train_label_AL = list()\n",
        "\n",
        "for single_file in [x for x in os.listdir(fasta_file_path) if rbp_name_EL in x and 'train' in x]:\n",
        "\tprint('Processing file...', single_file)\n",
        "\twith open(fasta_file_path + single_file) as f:\n",
        "\t\tfor line in f.readlines():\n",
        "\t\t\t# get fasta sequence\n",
        "\t\t\tif '>' in line:\n",
        "\t\t\t\tcontinue\n",
        "\t\t\telse:\n",
        "\t\t\t\ttrain_fasta_EL.append(line.strip())\n",
        "\t\t\t# get positive negative label\n",
        "\t\t\tif 'positives' in single_file:\n",
        "\t\t\t\ttrain_label_EL.append(1)\n",
        "\t\t\telse:\n",
        "\t\t\t\ttrain_label_EL.append(0)\n",
        "\t\n",
        "for single_file in [x for x in os.listdir(fasta_file_path) if rbp_name_AL in x and 'train' in x]:\n",
        "\tprint('Processing file...', single_file)\n",
        "\twith open(fasta_file_path + single_file) as f:\n",
        "\t\tfor line in f.readlines():\n",
        "\t\t\t# get fasta sequence\n",
        "\t\t\tif '>' in line:\n",
        "\t\t\t\tcontinue\n",
        "\t\t\telse:\n",
        "\t\t\t\ttrain_fasta_AL.append(line.strip())\n",
        "\t\t\t# get positive negative label\n",
        "\t\t\tif 'positives' in single_file:\n",
        "\t\t\t\ttrain_label_AL.append(1)\n",
        "\t\t\telse:\n",
        "\t\t\t\ttrain_label_AL.append(0)"
      ],
      "execution_count": 4,
      "outputs": [
        {
          "output_type": "stream",
          "text": [
            "Processing file... CLIPSEQ_ELAVL1.train.negatives.fasta\n",
            "Processing file... CLIPSEQ_ELAVL1.train.positives.fasta\n",
            "Processing file... ALKBH5_Baltz2012.train.negatives.fasta\n",
            "Processing file... ALKBH5_Baltz2012.train.positives.fasta\n"
          ],
          "name": "stdout"
        }
      ]
    },
    {
      "cell_type": "markdown",
      "metadata": {
        "id": "bnmDB77_H_Im"
      },
      "source": [
        "### 4. Convert data : One-hot encoding\n",
        "Using function 'convert2onehot' defined below, we can convert DNA/RNA strings to one-hot encoded array. A, U, T, G, C will be converted to 1,2,2,3,4. U and T are converted into same number since they have same context in RNA and DNA each. After converting, we have 2 arrays for input data sequence.<br/><br/>\n",
        "\n",
        "Now, our label data have 1 dimension, each elements are 0 or 1. We can change 0 and 1 to [1,0] and [0,1] repectively using 'to_categorical' in keras.utils. Then we have 2 dimensional arrays for label."
      ]
    },
    {
      "cell_type": "code",
      "metadata": {
        "id": "B95eSf_8-yd1"
      },
      "source": [
        "# convert sequence file to one-hot encoding representation\n",
        "# function: fasta to onehot representation\n",
        "def convert2onehot(sequence_list):\n",
        "\tmap = {\n",
        "\t\t\t'A':[1,0,0,0],\n",
        "\t\t\t'U':[0,1,0,0],\n",
        "\t\t\t'T':[0,1,0,0],\n",
        "\t\t\t'G':[0,0,1,0],\n",
        "\t\t\t'C':[0,0,0,1]\n",
        "\t}\n",
        "\t\n",
        "\tonehot = []\n",
        "\tfor single_sequence in sequence_list:\n",
        "\t\tsingle_onehot = []\n",
        "\t\tfor x in single_sequence:\n",
        "\t\t\tsingle_onehot.append(map[x.upper()])\n",
        "\t\tonehot.append(single_onehot)\n",
        "\t\t\n",
        "\treturn np.asarray(onehot, dtype=np.float32)\n",
        "\n",
        "train_input_EL = convert2onehot(train_fasta_EL)\n",
        "train_label_EL = keras.utils.to_categorical(train_label_EL, 2)\n",
        "\n",
        "train_input_AL = convert2onehot(train_fasta_AL)\n",
        "train_label_AL = keras.utils.to_categorical(train_label_AL, 2)"
      ],
      "execution_count": 5,
      "outputs": []
    },
    {
      "cell_type": "markdown",
      "metadata": {
        "id": "26mtBeDgJObM"
      },
      "source": [
        "We can check their shape. We have 16550 training sequences for ELAVL1 and 2361 sequences for ALKBH5. Number 4, the last element at shape, represents all bases in DNA/RNA sequence is one-hot encoded.<br/>\n",
        "Because the performance of deep learning depends on the number of data, we can predict that learning ELAVL1 model will be easier.<br/><br/>\n",
        "\n",
        "Also I checked that whether every sequences have equal lengths. We can be sure that every sequences have equal length 200 because of the result of function 'check_length' defined below."
      ]
    },
    {
      "cell_type": "code",
      "metadata": {
        "colab": {
          "base_uri": "https://localhost:8080/"
        },
        "id": "vQP5AZaKVerc",
        "outputId": "d812e184-2d16-4208-f628-78af59969fe6"
      },
      "source": [
        "train_input_EL.shape, train_input_AL.shape"
      ],
      "execution_count": 6,
      "outputs": [
        {
          "output_type": "execute_result",
          "data": {
            "text/plain": [
              "((16550, 200, 4), (2361, 200, 4))"
            ]
          },
          "metadata": {
            "tags": []
          },
          "execution_count": 6
        }
      ]
    },
    {
      "cell_type": "code",
      "metadata": {
        "colab": {
          "base_uri": "https://localhost:8080/"
        },
        "id": "T56vZyO0p8IH",
        "outputId": "d1c073a2-9141-4df4-cbf6-d497ad599d06"
      },
      "source": [
        "def check_length():\n",
        "    for input in train_input_EL:\n",
        "        if len(input)!=200:\n",
        "            print(\"There is sequence whose length is not 200.\")\n",
        "            return \n",
        "    for input in train_input_AL:\n",
        "        if len(input)!=200:\n",
        "            print(\"There is sequence whose length is not 200.\")\n",
        "            return \n",
        "    print(\"All sequences have equal length 200.\")\n",
        "\n",
        "check_length()"
      ],
      "execution_count": 7,
      "outputs": [
        {
          "output_type": "stream",
          "text": [
            "All sequences have equal length 200.\n"
          ],
          "name": "stdout"
        }
      ]
    },
    {
      "cell_type": "markdown",
      "metadata": {
        "id": "DDLD2S0sJ9Eq"
      },
      "source": [
        "### 6. Split the datasets\n",
        "To avoid overfitting and train properly, it is necessary to split data into training, validation and test sets.\n",
        "Since we have untouched test datasets, we only need to split train data to training set and validation set. I will use 10% of data for validation. After spliting data, we have 14895 sequences to train ELAVL1, 1655 to validate ELAVL1, 2124 to train ALKBH5 and 237 to validate ALKBH5.<br/>\n",
        "To use 'train_test_split', I set 'random_state' to a random number 2. (It doesn't matter what number I put in in terms of randomness.)"
      ]
    },
    {
      "cell_type": "code",
      "metadata": {
        "colab": {
          "base_uri": "https://localhost:8080/"
        },
        "id": "DDCfGL-L-yv0",
        "outputId": "a4d07577-5f61-470a-80e9-df38c48549e6"
      },
      "source": [
        "# split training set into training set and validation set\n",
        "# random shuffling of training data\n",
        "from sklearn.model_selection import train_test_split\n",
        "\n",
        "train_input_EL, validation_input_EL, train_label_EL, validation_label_EL = train_test_split(train_input_EL, train_label_EL, test_size=0.1, random_state=2)\n",
        "train_input_AL, validation_input_AL, train_label_AL, validation_label_AL = train_test_split(train_input_AL, train_label_AL, test_size=0.1, random_state=2)\n",
        "\n",
        "print('Dataset_EL preparation done... train_input_EL, train_label_EL, validation_input_EL, validation_label_EL')\n",
        "print('Size of each set...', train_input_EL.shape, train_label_EL.shape, validation_input_EL.shape, validation_label_EL.shape)\n",
        "print()\n",
        "print('Dataset_AL preparation done... train_input_AL, train_label_AL, validation_input_AL, validation_label_AL')\n",
        "print('Size of each set...', train_input_AL.shape, train_label_AL.shape, validation_input_AL.shape, validation_label_AL.shape)"
      ],
      "execution_count": 8,
      "outputs": [
        {
          "output_type": "stream",
          "text": [
            "Dataset_EL preparation done... train_input_EL, train_label_EL, validation_input_EL, validation_label_EL\n",
            "Size of each set... (14895, 200, 4) (14895, 2) (1655, 200, 4) (1655, 2)\n",
            "\n",
            "Dataset_AL preparation done... train_input_AL, train_label_AL, validation_input_AL, validation_label_AL\n",
            "Size of each set... (2124, 200, 4) (2124, 2) (237, 200, 4) (237, 2)\n"
          ],
          "name": "stdout"
        }
      ]
    },
    {
      "cell_type": "markdown",
      "metadata": {
        "id": "wcJqii_xrRTI"
      },
      "source": [
        "In addition to dividing the data, we need to make sure that the labels are properly divided since train_label_EL and train_label_AL have 0s first and 1s second because of all negative sequences are in train.negatives.fasta which is preprocessed first and positive sequences are in train.positives.fasta which is preprocessed second. Therefor before preprocessing, labels had not shuffled sequences '000...00011....11'.<br/><br/>\n",
        "\n",
        "First, I checked how many positive/negative rbp sequences are in our train dataset. We can check 7315 positives and 7580 negatives in ELAVL1, 1057 positives and 1067 negatives in ALKBH5. "
      ]
    },
    {
      "cell_type": "code",
      "metadata": {
        "colab": {
          "base_uri": "https://localhost:8080/"
        },
        "id": "ZfLcUrxvr0nS",
        "outputId": "4953a038-d8d1-4095-cb1b-9dad030dc1cc"
      },
      "source": [
        "print(\"Distribution of 0s and 1s in train_label : \")\n",
        "\n",
        "train_count_zero_EL=0\n",
        "train_count_zero_AL=0\n",
        "\n",
        "for i in range(len(train_label_EL)):\n",
        "    if train_label_EL[i][0]==1:\n",
        "        train_count_zero_EL+=1\n",
        "print(str(len(train_label_EL)-train_count_zero_EL)+\" positive rbp sequences in train_label_EL.\")\n",
        "print(str(train_count_zero_EL)+\" negative rbp sequences in train_label_EL.\")\n",
        "\n",
        "for i in range(len(train_label_AL)):\n",
        "    if train_label_AL[i][0]==1:\n",
        "        train_count_zero_AL+=1\n",
        "print(str(len(train_label_AL)-train_count_zero_AL)+\" positive rbp sequences in train_label_AL.\")\n",
        "print(str(train_count_zero_AL)+\" negative rbp sequences in train_label_AL.\")"
      ],
      "execution_count": 9,
      "outputs": [
        {
          "output_type": "stream",
          "text": [
            "Distribution of 0s and 1s in train_label : \n",
            "7315 positive rbp sequences in train_label_EL.\n",
            "7580 negative rbp sequences in train_label_EL.\n",
            "1057 positive rbp sequences in train_label_AL.\n",
            "1067 negative rbp sequences in train_label_AL.\n"
          ],
          "name": "stdout"
        }
      ]
    },
    {
      "cell_type": "markdown",
      "metadata": {
        "id": "2Wiv30xuvyta"
      },
      "source": [
        "Also I checked how many positive/negative rbp sequences are in our validation dataset. We can check 878 positives and 777 negatives in ELAVL1, 121 positives and 116 negatives in ALKBH5. <br/>\n",
        "From these results, we can see positive and negative sequences are divided evenly."
      ]
    },
    {
      "cell_type": "code",
      "metadata": {
        "colab": {
          "base_uri": "https://localhost:8080/"
        },
        "id": "uf5DJj0ovrSy",
        "outputId": "3a2d95c6-dfdc-4173-dcf7-a3e10e389949"
      },
      "source": [
        "print(\"Distribution of 0s and 1s in validation_label : \")\n",
        "\n",
        "validation_count_zero_EL=0\n",
        "validation_count_zero_AL=0\n",
        "\n",
        "for i in range(len(validation_label_EL)):\n",
        "    if validation_label_EL[i][0]==1:\n",
        "        validation_count_zero_EL+=1\n",
        "print(str(len(validation_label_EL)-validation_count_zero_EL)+\" positive rbp sequences in validation_label_EL.\")\n",
        "print(str(validation_count_zero_EL)+\" negative rbp sequences in validation_label_EL.\")\n",
        "\n",
        "for i in range(len(validation_label_AL)):\n",
        "    if validation_label_AL[i][0]==1:\n",
        "        validation_count_zero_AL+=1\n",
        "print(str(len(validation_label_AL)-validation_count_zero_AL)+\" positive rbp sequences in validation_label_AL.\")\n",
        "print(str(validation_count_zero_AL)+\" negative rbp sequences in validation_label_AL.\")"
      ],
      "execution_count": 10,
      "outputs": [
        {
          "output_type": "stream",
          "text": [
            "Distribution of 0s and 1s in validation_label : \n",
            "878 positive rbp sequences in validation_label_EL.\n",
            "777 negative rbp sequences in validation_label_EL.\n",
            "121 positive rbp sequences in validation_label_AL.\n",
            "116 negative rbp sequences in validation_label_AL.\n"
          ],
          "name": "stdout"
        }
      ]
    },
    {
      "cell_type": "markdown",
      "metadata": {
        "id": "rMG5q0qWLJ-a"
      },
      "source": [
        "### 7. Build a neural network model based on CNN\n",
        "I built neural networks based on CNN. Since we need two model for ELAVL1 and ALKBH5, I set hyperparameters for two architecture seperately.<br/>\n",
        "Since our label data are 2 dimensional arrays, I chose 'categorical_crossentropy' for loss function. Since it is binary classification, last two layers are Dense layer with 2 dimensions and Softmax activation layer. Both of models have two Convolution layers and Pooling layers. I tried increasing them but it didn't imporve performances."
      ]
    },
    {
      "cell_type": "code",
      "metadata": {
        "colab": {
          "base_uri": "https://localhost:8080/"
        },
        "id": "k4AjW6GibIF-",
        "outputId": "0a7ef7db-1788-4803-fe28-aa18fc65bd06"
      },
      "source": [
        "# model building\n",
        "\n",
        "model_EL = tf.keras.Sequential()\n",
        "model_EL.add(tf.keras.layers.Conv1D(filters=32, kernel_size=3, activation='relu', padding='same', input_shape=(200, 4)))\n",
        "model_EL.add(tf.keras.layers.MaxPooling1D(pool_size=2))\n",
        "model_EL.add(tf.keras.layers.Conv1D(filters=64, kernel_size=5, activation='relu', padding='same'))\n",
        "model_EL.add(tf.keras.layers.MaxPooling1D(pool_size=2))\n",
        "model_EL.add(tf.keras.layers.Flatten())\n",
        "model_EL.add(tf.keras.layers.Dense(128, activation='relu'))\n",
        "model_EL.add(tf.keras.layers.Dropout(0.5))\n",
        "model_EL.add(tf.keras.layers.Dense(2))\n",
        "model_EL.add(tf.keras.layers.Softmax())\n",
        "\n",
        "model_EL.compile(optimizer='adam',\n",
        "              loss='categorical_crossentropy',\n",
        "              metrics=['accuracy'])\n",
        "\n",
        "model_EL.summary()"
      ],
      "execution_count": 11,
      "outputs": [
        {
          "output_type": "stream",
          "text": [
            "Model: \"sequential\"\n",
            "_________________________________________________________________\n",
            "Layer (type)                 Output Shape              Param #   \n",
            "=================================================================\n",
            "conv1d (Conv1D)              (None, 200, 32)           416       \n",
            "_________________________________________________________________\n",
            "max_pooling1d (MaxPooling1D) (None, 100, 32)           0         \n",
            "_________________________________________________________________\n",
            "conv1d_1 (Conv1D)            (None, 100, 64)           10304     \n",
            "_________________________________________________________________\n",
            "max_pooling1d_1 (MaxPooling1 (None, 50, 64)            0         \n",
            "_________________________________________________________________\n",
            "flatten (Flatten)            (None, 3200)              0         \n",
            "_________________________________________________________________\n",
            "dense (Dense)                (None, 128)               409728    \n",
            "_________________________________________________________________\n",
            "dropout (Dropout)            (None, 128)               0         \n",
            "_________________________________________________________________\n",
            "dense_1 (Dense)              (None, 2)                 258       \n",
            "_________________________________________________________________\n",
            "softmax (Softmax)            (None, 2)                 0         \n",
            "=================================================================\n",
            "Total params: 420,706\n",
            "Trainable params: 420,706\n",
            "Non-trainable params: 0\n",
            "_________________________________________________________________\n"
          ],
          "name": "stdout"
        }
      ]
    },
    {
      "cell_type": "code",
      "metadata": {
        "colab": {
          "base_uri": "https://localhost:8080/"
        },
        "id": "IrfofPjhmxWn",
        "outputId": "2090493f-9812-4d22-d87f-6d545e703fca"
      },
      "source": [
        "# model building\n",
        "\n",
        "model_AL = tf.keras.Sequential()\n",
        "model_AL.add(tf.keras.layers.Conv1D(filters=32, kernel_size=3, activation='relu', padding='same', input_shape=(200, 4)))\n",
        "model_AL.add(tf.keras.layers.MaxPooling1D(pool_size=2))\n",
        "model_AL.add(tf.keras.layers.Conv1D(filters=64, kernel_size=5, activation='relu', padding='same'))\n",
        "model_AL.add(tf.keras.layers.MaxPooling1D(pool_size=2))\n",
        "model_AL.add(tf.keras.layers.Flatten())\n",
        "model_AL.add(tf.keras.layers.Dense(64, activation='relu'))\n",
        "model_AL.add(tf.keras.layers.Dropout(0.5))\n",
        "model_AL.add(tf.keras.layers.Dense(2))\n",
        "model_AL.add(tf.keras.layers.Softmax())\n",
        "\n",
        "model_AL.compile(optimizer='adam',\n",
        "              loss='categorical_crossentropy',\n",
        "              metrics=['accuracy'])\n",
        "\n",
        "model_AL.summary()"
      ],
      "execution_count": 12,
      "outputs": [
        {
          "output_type": "stream",
          "text": [
            "Model: \"sequential_1\"\n",
            "_________________________________________________________________\n",
            "Layer (type)                 Output Shape              Param #   \n",
            "=================================================================\n",
            "conv1d_2 (Conv1D)            (None, 200, 32)           416       \n",
            "_________________________________________________________________\n",
            "max_pooling1d_2 (MaxPooling1 (None, 100, 32)           0         \n",
            "_________________________________________________________________\n",
            "conv1d_3 (Conv1D)            (None, 100, 64)           10304     \n",
            "_________________________________________________________________\n",
            "max_pooling1d_3 (MaxPooling1 (None, 50, 64)            0         \n",
            "_________________________________________________________________\n",
            "flatten_1 (Flatten)          (None, 3200)              0         \n",
            "_________________________________________________________________\n",
            "dense_2 (Dense)              (None, 64)                204864    \n",
            "_________________________________________________________________\n",
            "dropout_1 (Dropout)          (None, 64)                0         \n",
            "_________________________________________________________________\n",
            "dense_3 (Dense)              (None, 2)                 130       \n",
            "_________________________________________________________________\n",
            "softmax_1 (Softmax)          (None, 2)                 0         \n",
            "=================================================================\n",
            "Total params: 215,714\n",
            "Trainable params: 215,714\n",
            "Non-trainable params: 0\n",
            "_________________________________________________________________\n"
          ],
          "name": "stdout"
        }
      ]
    },
    {
      "cell_type": "markdown",
      "metadata": {
        "id": "L2oMO0LmMI6J"
      },
      "source": [
        "### 8. Train the model \n",
        "Now we are ready to train the models. In order to optimize the models, we can use early stopping watching the \n",
        "validation accuracy. We can train the models and save accuracy and loss of both training data and validation data simultaneously .\n",
        "\n"
      ]
    },
    {
      "cell_type": "code",
      "metadata": {
        "id": "WbhGismimxZI"
      },
      "source": [
        "from keras.callbacks import EarlyStopping\n",
        "from keras.callbacks import ModelCheckpoint"
      ],
      "execution_count": 13,
      "outputs": []
    },
    {
      "cell_type": "code",
      "metadata": {
        "colab": {
          "base_uri": "https://localhost:8080/"
        },
        "id": "Nevaa6D4mxfo",
        "outputId": "16f712ec-ac74-478d-a3a6-5b8788a78703"
      },
      "source": [
        "# model training\n",
        "# using training and validation set\n",
        "epochs = 50\n",
        "\n",
        "es_EL = EarlyStopping(monitor='val_loss', mode='min', verbose=1, patience=5)\n",
        "mc_EL = ModelCheckpoint('best_model_EL.h5', monitor='val_accuracy', mode='max', verbose=1, save_best_only=True)\n",
        "\n",
        "hist_EL = model_EL.fit(train_input_EL, train_label_EL, validation_data=(validation_input_EL, validation_label_EL), batch_size=32, epochs=epochs, verbose=0, callbacks=[es_EL, mc_EL])"
      ],
      "execution_count": 14,
      "outputs": [
        {
          "output_type": "stream",
          "text": [
            "\n",
            "Epoch 00001: val_accuracy improved from -inf to 0.94562, saving model to best_model_EL.h5\n",
            "\n",
            "Epoch 00002: val_accuracy improved from 0.94562 to 0.94924, saving model to best_model_EL.h5\n",
            "\n",
            "Epoch 00003: val_accuracy did not improve from 0.94924\n",
            "\n",
            "Epoch 00004: val_accuracy did not improve from 0.94924\n",
            "\n",
            "Epoch 00005: val_accuracy did not improve from 0.94924\n",
            "\n",
            "Epoch 00006: val_accuracy did not improve from 0.94924\n",
            "\n",
            "Epoch 00007: val_accuracy did not improve from 0.94924\n",
            "\n",
            "Epoch 00008: val_accuracy did not improve from 0.94924\n",
            "Epoch 00008: early stopping\n"
          ],
          "name": "stdout"
        }
      ]
    },
    {
      "cell_type": "code",
      "metadata": {
        "colab": {
          "base_uri": "https://localhost:8080/"
        },
        "id": "2EbFcgHNbO0q",
        "outputId": "074b5842-a6c5-4fd5-cb49-93c554cb8707"
      },
      "source": [
        "es_AL = EarlyStopping(monitor='val_loss', mode='min', verbose=1, patience=5)\n",
        "mc_AL = ModelCheckpoint('best_model_AL.h5', monitor='val_accuracy', mode='max', verbose=1, save_best_only=True)\n",
        "\n",
        "hist_AL = model_AL.fit(train_input_AL, train_label_AL, validation_data=(validation_input_AL, validation_label_AL), batch_size=32, epochs=epochs, verbose=0, callbacks=[es_AL, mc_AL])"
      ],
      "execution_count": 15,
      "outputs": [
        {
          "output_type": "stream",
          "text": [
            "\n",
            "Epoch 00001: val_accuracy improved from -inf to 0.50211, saving model to best_model_AL.h5\n",
            "\n",
            "Epoch 00002: val_accuracy improved from 0.50211 to 0.53586, saving model to best_model_AL.h5\n",
            "\n",
            "Epoch 00003: val_accuracy improved from 0.53586 to 0.60759, saving model to best_model_AL.h5\n",
            "\n",
            "Epoch 00004: val_accuracy did not improve from 0.60759\n",
            "\n",
            "Epoch 00005: val_accuracy did not improve from 0.60759\n",
            "\n",
            "Epoch 00006: val_accuracy did not improve from 0.60759\n",
            "\n",
            "Epoch 00007: val_accuracy improved from 0.60759 to 0.64135, saving model to best_model_AL.h5\n",
            "\n",
            "Epoch 00008: val_accuracy did not improve from 0.64135\n",
            "\n",
            "Epoch 00009: val_accuracy did not improve from 0.64135\n",
            "\n",
            "Epoch 00010: val_accuracy did not improve from 0.64135\n",
            "Epoch 00010: early stopping\n"
          ],
          "name": "stdout"
        }
      ]
    },
    {
      "cell_type": "markdown",
      "metadata": {
        "id": "XK0wOsQ_M6AC"
      },
      "source": [
        "### 9. Visualize accuracy and loss\n",
        "With the stored accuracy and loss in hist_EL and hist_AL, we can visualize them using matplotlib. The code for visualizing the accuracy and loss according to epoch for model_EL and its result is shown below. And at the left plot, we can see that accuracy for validation data keep increases. At the right plot, we can see that validation loss decreases. By the two plots, we can check that our model is not overfitted."
      ]
    },
    {
      "cell_type": "code",
      "metadata": {
        "colab": {
          "base_uri": "https://localhost:8080/",
          "height": 355
        },
        "id": "ECPVEuNcs_93",
        "outputId": "6f7b9951-9fa0-4f73-ccc3-6842f335c482"
      },
      "source": [
        "# plot the accuracy and loss value of each model.\n",
        "\n",
        "plt.figure(figsize=(20,5))\n",
        "\n",
        "plt.subplot(1,2,1)\n",
        "plt.plot(hist_EL.history['val_accuracy'])\n",
        "plt.plot(hist_EL.history['accuracy'])\n",
        "plt.title('model_EL train and validation accuracy',fontsize=15)\n",
        "plt.ylabel('accuracy',fontsize=12)\n",
        "plt.xlabel('epoch',fontsize=12)\n",
        "plt.legend(['train', 'valid'], loc='lower right')\n",
        "\n",
        "plt.subplot(1,2,2)\n",
        "plt.plot(hist_EL.history['val_loss'])\n",
        "plt.plot(hist_EL.history['loss'])\n",
        "plt.title('model_EL train and validation loss',fontsize=15)\n",
        "plt.ylabel('loss',fontsize=14)\n",
        "plt.xlabel('epoch',fontsize=12)\n",
        "plt.legend(['train', 'valid'], loc='lower left')\n",
        "plt.show()"
      ],
      "execution_count": 16,
      "outputs": [
        {
          "output_type": "display_data",
          "data": {
            "image/png": "[encoded data removed]",
            "text/plain": [
              "<Figure size 1440x360 with 2 Axes>"
            ]
          },
          "metadata": {
            "tags": [],
            "needs_background": "light"
          }
        }
      ]
    },
    {
      "cell_type": "markdown",
      "metadata": {
        "id": "3Gp_eFjpNZRN"
      },
      "source": [
        "We can do the same procedure for model_AL too. The shape of the graphs are similar to the graphs in plots above. This also shows that the model is not overfitted.<br/>\n",
        "model_EL tends to finish learning earlier than model_AL since the difference of the quantity of training data."
      ]
    },
    {
      "cell_type": "code",
      "metadata": {
        "colab": {
          "base_uri": "https://localhost:8080/",
          "height": 355
        },
        "id": "_u-xOztYtTY1",
        "outputId": "e29908e6-e48a-47dc-8311-0ddd1e41d00e"
      },
      "source": [
        "plt.figure(figsize=(20,5))\n",
        "\n",
        "plt.subplot(1,2,1)\n",
        "plt.plot(hist_AL.history['val_accuracy'],color='green')\n",
        "plt.plot(hist_AL.history['accuracy'],color='violet')\n",
        "plt.title('model_AL train and validation accuracy',fontsize=15)\n",
        "plt.ylabel('accuracy',fontsize=12)\n",
        "plt.xlabel('epoch',fontsize=12)\n",
        "plt.legend(['train', 'valid'], loc='lower right')\n",
        "\n",
        "plt.subplot(1,2,2)\n",
        "plt.plot(hist_AL.history['val_loss'],color='green')\n",
        "plt.plot(hist_AL.history['loss'],color='violet')\n",
        "plt.title('model_AL train and validation loss',fontsize=15)\n",
        "plt.ylabel('loss',fontsize=14)\n",
        "plt.xlabel('epoch',fontsize=12)\n",
        "plt.legend(['train', 'valid'], loc='lower left')\n",
        "plt.show()"
      ],
      "execution_count": 17,
      "outputs": [
        {
          "output_type": "display_data",
          "data": {
            "image/png": "[encoded data removed]",
            "text/plain": [
              "<Figure size 1440x360 with 2 Axes>"
            ]
          },
          "metadata": {
            "tags": [],
            "needs_background": "light"
          }
        }
      ]
    },
    {
      "cell_type": "markdown",
      "metadata": {
        "id": "znZ3yNT4Nrdq"
      },
      "source": [
        "### 10. Load the best model\n",
        "Now let's load the models which performed best for ELAVL1 and ALKBH5. \n",
        "I compiled them with the same parameters as when I trained them."
      ]
    },
    {
      "cell_type": "code",
      "metadata": {
        "id": "kxicpS9jBArk"
      },
      "source": [
        "# load the best model\n",
        "from keras.models import load_model\n",
        "saved_model_EL = load_model('best_model_EL.h5')\n",
        "saved_model_EL.compile(optimizer='adam',\n",
        "                           loss='categorical_crossentropy',\n",
        "                           metrics=['accuracy'])\n",
        "saved_model_AL = load_model('best_model_AL.h5')\n",
        "saved_model_AL.compile(optimizer='adam',\n",
        "                           loss='categorical_crossentropy',\n",
        "                           metrics=['accuracy'])"
      ],
      "execution_count": 18,
      "outputs": []
    },
    {
      "cell_type": "markdown",
      "metadata": {
        "id": "NbNPpz0KOB2-"
      },
      "source": [
        "### 11. Evaluate the prediction model\n",
        "In order to evaluate the models loaded and compiled, we have to use given test datas for EL and AL. The same procedure as in preprocessing training data was followed for test data. We can see that we have 975 sequences for testing ELAVL1 and 262 for ALKBH5."
      ]
    },
    {
      "cell_type": "code",
      "metadata": {
        "colab": {
          "base_uri": "https://localhost:8080/"
        },
        "id": "qD7lHEmjot3G",
        "outputId": "835631c4-9196-424f-a098-6a7be258f846"
      },
      "source": [
        "# evaluation: calculate AUC score for the test set\n",
        "# loading test sets \n",
        "\n",
        "test_fasta_EL = list()\n",
        "test_label_EL = list()\n",
        "\n",
        "test_fasta_AL = list()\n",
        "test_label_AL = list()\n",
        "\n",
        "for single_file in [x for x in os.listdir(fasta_file_path) if rbp_name_EL in x and 'test' in x]:\n",
        "\tprint('Processing file...', single_file)\n",
        "\twith open(fasta_file_path + single_file) as f:\n",
        "\t\tfor line in f.readlines():\n",
        "\t\t\t# get fasta sequence\n",
        "\t\t\tif '>' in line:\n",
        "\t\t\t\tcontinue\n",
        "\t\t\telse:\n",
        "\t\t\t\ttest_fasta_EL.append(line.strip())\n",
        "\t\t\t# get positive negative label\n",
        "\t\t\tif 'positives' in single_file:\n",
        "\t\t\t\ttest_label_EL.append(1)\n",
        "\t\t\telse:\n",
        "\t\t\t\ttest_label_EL.append(0)\n",
        "\t\n",
        "for single_file in [x for x in os.listdir(fasta_file_path) if rbp_name_AL in x and 'test' in x]:\n",
        "\tprint('Processing file...', single_file)\n",
        "\twith open(fasta_file_path + single_file) as f:\n",
        "\t\tfor line in f.readlines():\n",
        "\t\t\t# get fasta sequence\n",
        "\t\t\tif '>' in line:\n",
        "\t\t\t\tcontinue\n",
        "\t\t\telse:\n",
        "\t\t\t\ttest_fasta_AL.append(line.strip())\n",
        "\t\t\t# get positive negative label\n",
        "\t\t\tif 'positives' in single_file:\n",
        "\t\t\t\ttest_label_AL.append(1)\n",
        "\t\t\telse:\n",
        "\t\t\t\ttest_label_AL.append(0)"
      ],
      "execution_count": 19,
      "outputs": [
        {
          "output_type": "stream",
          "text": [
            "Processing file... CLIPSEQ_ELAVL1.test.negatives.fasta\n",
            "Processing file... CLIPSEQ_ELAVL1.test.positives.fasta\n",
            "Processing file... ALKBH5_Baltz2012.test_negatives.fasta\n",
            "Processing file... ALKBH5_Baltz2012.test.positives.fasta\n"
          ],
          "name": "stdout"
        }
      ]
    },
    {
      "cell_type": "code",
      "metadata": {
        "colab": {
          "base_uri": "https://localhost:8080/"
        },
        "id": "LZKJQ5-Hot5k",
        "outputId": "81e7911b-cfe2-49bf-a930-e761fab60599"
      },
      "source": [
        "test_input_EL = convert2onehot(test_fasta_EL)\n",
        "test_label_EL = keras.utils.to_categorical(test_label_EL, 2)\n",
        "\n",
        "test_input_AL = convert2onehot(test_fasta_AL)\n",
        "test_label_AL = keras.utils.to_categorical(test_label_AL, 2)\n",
        "\n",
        "print('TEST_EL set prepared...', test_input_EL.shape, test_label_EL.shape)\n",
        "print('TEST_AL set prepared...', test_input_AL.shape, test_label_AL.shape)"
      ],
      "execution_count": 20,
      "outputs": [
        {
          "output_type": "stream",
          "text": [
            "TEST_EL set prepared... (975, 200, 4) (975, 2)\n",
            "TEST_AL set prepared... (262, 200, 4) (262, 2)\n"
          ],
          "name": "stdout"
        }
      ]
    },
    {
      "cell_type": "markdown",
      "metadata": {
        "id": "sK1R6EcCOlrO"
      },
      "source": [
        "First we can evaluate the models by using 'classification_report'. Since I made models determining the positiveness and negativeness of rbp sequences, I set the target_names as 'negatives' and 'positives'. Then using the 'predicted classes', we can check some performances such as precision, recall, etc. Predicted class will be 1 if model's predicted probability for 1(positive) is larger than 0(negative). We can check classification_report for both ELAVL1 and ALKBH5. "
      ]
    },
    {
      "cell_type": "code",
      "metadata": {
        "colab": {
          "base_uri": "https://localhost:8080/"
        },
        "id": "YoaBZIl9xwX7",
        "outputId": "5144de2c-eeea-44ce-e41d-03b8020811f3"
      },
      "source": [
        "# evaluate the prediction model using test dataset.\n",
        "from sklearn.metrics import classification_report, roc_curve, auc\n",
        "\n",
        "true_label_EL=np.argmax(test_label_EL,axis=1)\n",
        "pred_label_EL=saved_model_EL.predict_classes(test_input_EL)\n",
        "\n",
        "target_names = ['negatives', 'positives']\n",
        "print(classification_report(true_label_EL, pred_label_EL, target_names=target_names))"
      ],
      "execution_count": 21,
      "outputs": [
        {
          "output_type": "stream",
          "text": [
            "WARNING:tensorflow:From <ipython-input-21-9ca0f54a9c87>:5: Sequential.predict_classes (from tensorflow.python.keras.engine.sequential) is deprecated and will be removed after 2021-01-01.\n",
            "Instructions for updating:\n",
            "Please use instead:* `np.argmax(model.predict(x), axis=-1)`,   if your model does multi-class classification   (e.g. if it uses a `softmax` last-layer activation).* `(model.predict(x) > 0.5).astype(\"int32\")`,   if your model does binary classification   (e.g. if it uses a `sigmoid` last-layer activation).\n",
            "              precision    recall  f1-score   support\n",
            "\n",
            "   negatives       0.93      0.95      0.94       496\n",
            "   positives       0.95      0.93      0.94       479\n",
            "\n",
            "    accuracy                           0.94       975\n",
            "   macro avg       0.94      0.94      0.94       975\n",
            "weighted avg       0.94      0.94      0.94       975\n",
            "\n"
          ],
          "name": "stdout"
        }
      ]
    },
    {
      "cell_type": "code",
      "metadata": {
        "colab": {
          "base_uri": "https://localhost:8080/"
        },
        "id": "Rsd-iKzTxwfw",
        "outputId": "300e4ca1-ef59-4c9b-f5d0-5a5550e15ce5"
      },
      "source": [
        "true_label_AL=np.argmax(test_label_AL,axis=1)\n",
        "pred_label_AL=saved_model_AL.predict_classes(test_input_AL)\n",
        "\n",
        "target_names = ['negatives', 'positives']\n",
        "print(classification_report(true_label_AL, pred_label_AL, target_names=target_names))"
      ],
      "execution_count": 22,
      "outputs": [
        {
          "output_type": "stream",
          "text": [
            "              precision    recall  f1-score   support\n",
            "\n",
            "   negatives       0.65      0.65      0.65       131\n",
            "   positives       0.65      0.65      0.65       131\n",
            "\n",
            "    accuracy                           0.65       262\n",
            "   macro avg       0.65      0.65      0.65       262\n",
            "weighted avg       0.65      0.65      0.65       262\n",
            "\n"
          ],
          "name": "stdout"
        }
      ]
    },
    {
      "cell_type": "markdown",
      "metadata": {
        "id": "rvftmRgkPLn3"
      },
      "source": [
        "Also, the test score for both models is shown above. model_EL has a high accuracy over 94%.<br/>\n",
        "As expected, model_EL performed better."
      ]
    },
    {
      "cell_type": "code",
      "metadata": {
        "colab": {
          "base_uri": "https://localhost:8080/"
        },
        "id": "volLDm0pmxdI",
        "outputId": "233243d0-9e5b-4aa8-b6ed-6bec9039b003"
      },
      "source": [
        "saved_model_EL.evaluate(test_input_EL, test_label_EL, verbose=2)"
      ],
      "execution_count": 23,
      "outputs": [
        {
          "output_type": "stream",
          "text": [
            "31/31 - 0s - loss: 0.1684 - accuracy: 0.9405\n"
          ],
          "name": "stdout"
        },
        {
          "output_type": "execute_result",
          "data": {
            "text/plain": [
              "[0.16841869056224823, 0.9405128359794617]"
            ]
          },
          "metadata": {
            "tags": []
          },
          "execution_count": 23
        }
      ]
    },
    {
      "cell_type": "code",
      "metadata": {
        "colab": {
          "base_uri": "https://localhost:8080/"
        },
        "id": "F23E5h_6mxb2",
        "outputId": "68324183-a394-4287-f270-2f5e3b49afcd"
      },
      "source": [
        "saved_model_AL.evaluate(test_input_AL, test_label_AL, verbose=2)"
      ],
      "execution_count": 24,
      "outputs": [
        {
          "output_type": "stream",
          "text": [
            "9/9 - 0s - loss: 0.6170 - accuracy: 0.6489\n"
          ],
          "name": "stdout"
        },
        {
          "output_type": "execute_result",
          "data": {
            "text/plain": [
              "[0.616963803768158, 0.6488549709320068]"
            ]
          },
          "metadata": {
            "tags": []
          },
          "execution_count": 24
        }
      ]
    },
    {
      "cell_type": "markdown",
      "metadata": {
        "id": "TLZJ3QRLPeVn"
      },
      "source": [
        "This time, let's see the ROC curve and AUC of both models. Here fpr is 'False positive rates' for each possible threshold and tpr is 'True positive rates' for each possible threshold. We must give the true labels of test datasets and the predicted probabilities for the 1 class to the 'roc_curve' to calculate fpr, tpr and thresholds. (The predicted probabilities for the 1 class is second element of predicted output.) Then using fpr and tpr, we can get AUC of model_AR by using 'auc' in sklearn.<br/><br/>\n",
        "We can see AUC of EL dataset is over 0.98. Also I drew plot for model_EL with blue color."
      ]
    },
    {
      "cell_type": "code",
      "metadata": {
        "colab": {
          "base_uri": "https://localhost:8080/"
        },
        "id": "Z8hKgWTRot9r",
        "outputId": "44b34745-1209-4378-d480-95778f2471d2"
      },
      "source": [
        "# calculate AUC score for test sets\n",
        "\n",
        "# AUC of EL dataset\n",
        "pred_label_EL = saved_model_EL.predict(test_input_EL)\n",
        "fpr_EL, tpr_EL, thresholds_EL = roc_curve(np.argmax(test_label_EL,axis=1), pred_label_EL[:,1])\n",
        "auc_EL = auc(fpr_EL, tpr_EL)\n",
        "print(auc_EL)"
      ],
      "execution_count": 25,
      "outputs": [
        {
          "output_type": "stream",
          "text": [
            "0.980806788335915\n"
          ],
          "name": "stdout"
        }
      ]
    },
    {
      "cell_type": "code",
      "metadata": {
        "colab": {
          "base_uri": "https://localhost:8080/",
          "height": 518
        },
        "id": "xDUIu7rjot8R",
        "outputId": "b16568e9-66cd-495f-a264-dbfdce1be5c2"
      },
      "source": [
        "plt.figure(figsize=(8,8))\n",
        "plt.plot([0, 1], [0, 1], 'k--')\n",
        "plt.plot(fpr_EL, tpr_EL, label='model_EL (area = {:.3f})'.format(auc_EL),color='blue')\n",
        "plt.plot([0,1],[0,1],label='random chances',linestyle='dashed',color='black')\n",
        "plt.xlabel('False positive rate',fontsize=12)\n",
        "plt.ylabel('True positive rate',fontsize=12)\n",
        "plt.title('ROC curve(EL)',fontsize=15)\n",
        "plt.legend(loc='lower right')\n",
        "plt.show()"
      ],
      "execution_count": 26,
      "outputs": [
        {
          "output_type": "display_data",
          "data": {
            "image/png": "[encoded data removed]",
            "text/plain": [
              "<Figure size 576x576 with 1 Axes>"
            ]
          },
          "metadata": {
            "tags": [],
            "needs_background": "light"
          }
        }
      ]
    },
    {
      "cell_type": "markdown",
      "metadata": {
        "id": "3tkbgJtCQRSo"
      },
      "source": [
        "Also we can see AUC of AL dataset is over 0.70. As expected, AUC for model_AL has worse result than model_EL. Again I drew plot for model_AL with red color."
      ]
    },
    {
      "cell_type": "code",
      "metadata": {
        "colab": {
          "base_uri": "https://localhost:8080/"
        },
        "id": "jdBRbFm8bIJb",
        "outputId": "b7a4b6c7-b426-4610-d0a5-1e6eae09350b"
      },
      "source": [
        "# AUC of AL dataset\n",
        "pred_label_AL = saved_model_AL.predict(test_input_AL)\n",
        "fpr_AL, tpr_AL, thresholds_AL = roc_curve(np.argmax(test_label_AL,axis=1), pred_label_AL[:,1])\n",
        "auc_AL = auc(fpr_AL, tpr_AL)\n",
        "print(auc_AL)"
      ],
      "execution_count": 27,
      "outputs": [
        {
          "output_type": "stream",
          "text": [
            "0.7151098420837946\n"
          ],
          "name": "stdout"
        }
      ]
    },
    {
      "cell_type": "code",
      "metadata": {
        "colab": {
          "base_uri": "https://localhost:8080/",
          "height": 518
        },
        "id": "1pjJKI1obIBv",
        "outputId": "481860b7-9a7a-47a9-da5a-7edc3f4edb75"
      },
      "source": [
        "plt.figure(figsize=(8,8))\n",
        "plt.plot([0, 1], [0, 1], 'k--')\n",
        "plt.plot(fpr_AL, tpr_AL, label='model_AL (area = {:.3f})'.format(auc_AL),color='red')\n",
        "plt.plot([0,1],[0,1],label='random chances',linestyle='dashed',color='black')\n",
        "plt.xlabel('False positive rate',fontsize=12)\n",
        "plt.ylabel('True positive rate',fontsize=12)\n",
        "plt.title('ROC curve(AL)',fontsize=15)\n",
        "plt.legend(loc='lower right')\n",
        "plt.show()"
      ],
      "execution_count": 28,
      "outputs": [
        {
          "output_type": "display_data",
          "data": {
            "image/png": "[encoded data removed]",
            "text/plain": [
              "<Figure size 576x576 with 1 Axes>"
            ]
          },
          "metadata": {
            "tags": [],
            "needs_background": "light"
          }
        }
      ]
    },
    {
      "cell_type": "markdown",
      "metadata": {
        "id": "7HyNS6mKQe-p"
      },
      "source": [
        "Finally, I drew the two ROC curves overlapping and finished the project."
      ]
    },
    {
      "cell_type": "code",
      "metadata": {
        "colab": {
          "base_uri": "https://localhost:8080/",
          "height": 518
        },
        "id": "1404kEXAbH_z",
        "outputId": "71b47efb-fd20-40c6-f485-d7c0b54e5992"
      },
      "source": [
        "plt.figure(figsize=(8,8))\n",
        "plt.plot([0, 1], [0, 1], 'k--')\n",
        "plt.plot(fpr_EL, tpr_EL, label='model_EL (area = {:.3f})'.format(auc_EL),color='blue')\n",
        "plt.plot(fpr_AL, tpr_AL, label='model_AL (area = {:.3f})'.format(auc_AL),color='red')\n",
        "plt.plot([0,1],[0,1],label='random chances',linestyle='dashed',color='black')\n",
        "plt.xlabel('False positive rate',fontsize=12)\n",
        "plt.ylabel('True positive rate',fontsize=12)\n",
        "plt.title('ROC curve for EL and AL',fontsize=15)\n",
        "plt.legend(loc='lower right')\n",
        "plt.show()"
      ],
      "execution_count": 29,
      "outputs": [
        {
          "output_type": "display_data",
          "data": {
            "image/png": "[encoded data removed]",
            "text/plain": [
              "<Figure size 576x576 with 1 Axes>"
            ]
          },
          "metadata": {
            "tags": [],
            "needs_background": "light"
          }
        }
      ]
    }
  ]
}