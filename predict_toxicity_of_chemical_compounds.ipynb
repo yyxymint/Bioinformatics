{
  "nbformat": 4,
  "nbformat_minor": 0,
  "metadata": {
    "colab": {
      "name": "20204619 project5.ipynb",
      "provenance": [],
      "collapsed_sections": []
    },
    "kernelspec": {
      "name": "python3",
      "display_name": "Python 3"
    }
  },
  "cells": [
    {
      "cell_type": "markdown",
      "metadata": {
        "id": "NkD0zzEZKPr1"
      },
      "source": [
        "\n",
        "# Project #5. Predict toxicity of chemical compounds\n",
        "## 20204619 Hwang Yechan\n",
        "#### Link for Google Colab : https://colab.research.google.com/drive/1s4TmlsBKAG60raTZ7gqA8sQzKu7DOHW4?usp=sharing\n",
        "<br/><br/>\n",
        "### 1. Install rdkit\n",
        "To accomplish Project #5, first we need to install rdkit, a module that allows us to manipulate molecular structures dealing with smiles strings.\n",
        "<hr/>"
      ]
    },
    {
      "cell_type": "code",
      "metadata": {
        "id": "eZoPzPZz2cgF",
        "colab": {
          "base_uri": "https://localhost:8080/"
        },
        "outputId": "d513052e-8dc1-4e77-a698-d851c08d555b"
      },
      "source": [
        "# install rdkit library on colab environment\n",
        "!wget -c https://repo.continuum.io/miniconda/Miniconda3-py37_4.8.3-Linux-x86_64.sh\n",
        "!chmod +x Miniconda3-py37_4.8.3-Linux-x86_64.sh\n",
        "!time bash ./Miniconda3-py37_4.8.3-Linux-x86_64.sh -b -f -p /usr/local\n",
        "!time conda install -q -y -c conda-forge rdkit"
      ],
      "execution_count": null,
      "outputs": [
        {
          "output_type": "stream",
          "text": [
            "--2020-11-20 05:32:39--  https://repo.continuum.io/miniconda/Miniconda3-py37_4.8.3-Linux-x86_64.sh\n",
            "Resolving repo.continuum.io (repo.continuum.io)... 104.18.200.79, 104.18.201.79, 2606:4700::6812:c94f, ...\n",
            "Connecting to repo.continuum.io (repo.continuum.io)|104.18.200.79|:443... connected.\n",
            "HTTP request sent, awaiting response... 301 Moved Permanently\n",
            "Location: https://repo.anaconda.com/miniconda/Miniconda3-py37_4.8.3-Linux-x86_64.sh [following]\n",
            "--2020-11-20 05:32:39--  https://repo.anaconda.com/miniconda/Miniconda3-py37_4.8.3-Linux-x86_64.sh\n",
            "Resolving repo.anaconda.com (repo.anaconda.com)... 104.16.130.3, 104.16.131.3, 2606:4700::6810:8303, ...\n",
            "Connecting to repo.anaconda.com (repo.anaconda.com)|104.16.130.3|:443... connected.\n",
            "HTTP request sent, awaiting response... 200 OK\n",
            "Length: 88867207 (85M) [application/x-sh]\n",
            "Saving to: ‘Miniconda3-py37_4.8.3-Linux-x86_64.sh’\n",
            "\n",
            "Miniconda3-py37_4.8 100%[===================>]  84.75M   114MB/s    in 0.7s    \n",
            "\n",
            "2020-11-20 05:32:40 (114 MB/s) - ‘Miniconda3-py37_4.8.3-Linux-x86_64.sh’ saved [88867207/88867207]\n",
            "\n",
            "PREFIX=/usr/local\n",
            "Unpacking payload ...\n",
            "Collecting package metadata (current_repodata.json): - \b\b\\ \b\b| \b\bdone\n",
            "Solving environment: - \b\b\\ \b\bdone\n",
            "\n",
            "## Package Plan ##\n",
            "\n",
            "  environment location: /usr/local\n",
            "\n",
            "  added / updated specs:\n",
            "    - _libgcc_mutex==0.1=main\n",
            "    - ca-certificates==2020.1.1=0\n",
            "    - certifi==2020.4.5.1=py37_0\n",
            "    - cffi==1.14.0=py37he30daa8_1\n",
            "    - chardet==3.0.4=py37_1003\n",
            "    - conda-package-handling==1.6.1=py37h7b6447c_0\n",
            "    - conda==4.8.3=py37_0\n",
            "    - cryptography==2.9.2=py37h1ba5d50_0\n",
            "    - idna==2.9=py_1\n",
            "    - ld_impl_linux-64==2.33.1=h53a641e_7\n",
            "    - libedit==3.1.20181209=hc058e9b_0\n",
            "    - libffi==3.3=he6710b0_1\n",
            "    - libgcc-ng==9.1.0=hdf63c60_0\n",
            "    - libstdcxx-ng==9.1.0=hdf63c60_0\n",
            "    - ncurses==6.2=he6710b0_1\n",
            "    - openssl==1.1.1g=h7b6447c_0\n",
            "    - pip==20.0.2=py37_3\n",
            "    - pycosat==0.6.3=py37h7b6447c_0\n",
            "    - pycparser==2.20=py_0\n",
            "    - pyopenssl==19.1.0=py37_0\n",
            "    - pysocks==1.7.1=py37_0\n",
            "    - python==3.7.7=hcff3b4d_5\n",
            "    - readline==8.0=h7b6447c_0\n",
            "    - requests==2.23.0=py37_0\n",
            "    - ruamel_yaml==0.15.87=py37h7b6447c_0\n",
            "    - setuptools==46.4.0=py37_0\n",
            "    - six==1.14.0=py37_0\n",
            "    - sqlite==3.31.1=h62c20be_1\n",
            "    - tk==8.6.8=hbc83047_0\n",
            "    - tqdm==4.46.0=py_0\n",
            "    - urllib3==1.25.8=py37_0\n",
            "    - wheel==0.34.2=py37_0\n",
            "    - xz==5.2.5=h7b6447c_0\n",
            "    - yaml==0.1.7=had09818_2\n",
            "    - zlib==1.2.11=h7b6447c_3\n",
            "\n",
            "\n",
            "The following NEW packages will be INSTALLED:\n",
            "\n",
            "  _libgcc_mutex      pkgs/main/linux-64::_libgcc_mutex-0.1-main\n",
            "  ca-certificates    pkgs/main/linux-64::ca-certificates-2020.1.1-0\n",
            "  certifi            pkgs/main/linux-64::certifi-2020.4.5.1-py37_0\n",
            "  cffi               pkgs/main/linux-64::cffi-1.14.0-py37he30daa8_1\n",
            "  chardet            pkgs/main/linux-64::chardet-3.0.4-py37_1003\n",
            "  conda              pkgs/main/linux-64::conda-4.8.3-py37_0\n",
            "  conda-package-han~ pkgs/main/linux-64::conda-package-handling-1.6.1-py37h7b6447c_0\n",
            "  cryptography       pkgs/main/linux-64::cryptography-2.9.2-py37h1ba5d50_0\n",
            "  idna               pkgs/main/noarch::idna-2.9-py_1\n",
            "  ld_impl_linux-64   pkgs/main/linux-64::ld_impl_linux-64-2.33.1-h53a641e_7\n",
            "  libedit            pkgs/main/linux-64::libedit-3.1.20181209-hc058e9b_0\n",
            "  libffi             pkgs/main/linux-64::libffi-3.3-he6710b0_1\n",
            "  libgcc-ng          pkgs/main/linux-64::libgcc-ng-9.1.0-hdf63c60_0\n",
            "  libstdcxx-ng       pkgs/main/linux-64::libstdcxx-ng-9.1.0-hdf63c60_0\n",
            "  ncurses            pkgs/main/linux-64::ncurses-6.2-he6710b0_1\n",
            "  openssl            pkgs/main/linux-64::openssl-1.1.1g-h7b6447c_0\n",
            "  pip                pkgs/main/linux-64::pip-20.0.2-py37_3\n",
            "  pycosat            pkgs/main/linux-64::pycosat-0.6.3-py37h7b6447c_0\n",
            "  pycparser          pkgs/main/noarch::pycparser-2.20-py_0\n",
            "  pyopenssl          pkgs/main/linux-64::pyopenssl-19.1.0-py37_0\n",
            "  pysocks            pkgs/main/linux-64::pysocks-1.7.1-py37_0\n",
            "  python             pkgs/main/linux-64::python-3.7.7-hcff3b4d_5\n",
            "  readline           pkgs/main/linux-64::readline-8.0-h7b6447c_0\n",
            "  requests           pkgs/main/linux-64::requests-2.23.0-py37_0\n",
            "  ruamel_yaml        pkgs/main/linux-64::ruamel_yaml-0.15.87-py37h7b6447c_0\n",
            "  setuptools         pkgs/main/linux-64::setuptools-46.4.0-py37_0\n",
            "  six                pkgs/main/linux-64::six-1.14.0-py37_0\n",
            "  sqlite             pkgs/main/linux-64::sqlite-3.31.1-h62c20be_1\n",
            "  tk                 pkgs/main/linux-64::tk-8.6.8-hbc83047_0\n",
            "  tqdm               pkgs/main/noarch::tqdm-4.46.0-py_0\n",
            "  urllib3            pkgs/main/linux-64::urllib3-1.25.8-py37_0\n",
            "  wheel              pkgs/main/linux-64::wheel-0.34.2-py37_0\n",
            "  xz                 pkgs/main/linux-64::xz-5.2.5-h7b6447c_0\n",
            "  yaml               pkgs/main/linux-64::yaml-0.1.7-had09818_2\n",
            "  zlib               pkgs/main/linux-64::zlib-1.2.11-h7b6447c_3\n",
            "\n",
            "\n",
            "Preparing transaction: / \b\b- \b\b\\ \b\b| \b\bdone\n",
            "Executing transaction: - \b\b\\ \b\b| \b\b/ \b\b- \b\b\\ \b\b| \b\b/ \b\b- \b\b\\ \b\b| \b\b/ \b\b- \b\b\\ \b\bdone\n",
            "installation finished.\n",
            "WARNING:\n",
            "    You currently have a PYTHONPATH environment variable set. This may cause\n",
            "    unexpected behavior when running the Python interpreter in Miniconda3.\n",
            "    For best results, please verify that your PYTHONPATH only points to\n",
            "    directories of packages that are compatible with the Python interpreter\n",
            "    in Miniconda3: /usr/local\n",
            "\n",
            "real\t0m29.799s\n",
            "user\t0m17.674s\n",
            "sys\t0m5.006s\n",
            "Collecting package metadata (current_repodata.json): ...working... done\n",
            "Solving environment: ...working... done\n",
            "\n",
            "## Package Plan ##\n",
            "\n",
            "  environment location: /usr/local\n",
            "\n",
            "  added / updated specs:\n",
            "    - rdkit\n",
            "\n",
            "\n",
            "The following packages will be downloaded:\n",
            "\n",
            "    package                    |            build\n",
            "    ---------------------------|-----------------\n",
            "    boost-1.74.0               |   py37h48f8a5e_1         317 KB  conda-forge\n",
            "    boost-cpp-1.74.0           |       h9359b55_0        16.4 MB  conda-forge\n",
            "    bzip2-1.0.8                |       h516909a_3         398 KB  conda-forge\n",
            "    ca-certificates-2020.11.8  |       ha878542_0         145 KB  conda-forge\n",
            "    cairo-1.16.0               |    h3fc0475_1005         1.5 MB  conda-forge\n",
            "    certifi-2020.11.8          |   py37h89c1867_0         150 KB  conda-forge\n",
            "    conda-4.9.2                |   py37h89c1867_0         3.0 MB  conda-forge\n",
            "    fontconfig-2.13.1          |    h7e3eb15_1002         324 KB  conda-forge\n",
            "    freetype-2.10.4            |       h7ca028e_0         912 KB  conda-forge\n",
            "    glib-2.66.1                |       h92f7085_0         2.9 MB\n",
            "    icu-67.1                   |       he1b5a44_0        12.9 MB  conda-forge\n",
            "    jpeg-9d                    |       h36c2ea0_0         264 KB  conda-forge\n",
            "    lcms2-2.11                 |       hcbb858e_1         434 KB  conda-forge\n",
            "    libblas-3.9.0              |       3_openblas          11 KB  conda-forge\n",
            "    libcblas-3.9.0             |       3_openblas          11 KB  conda-forge\n",
            "    libgfortran-ng-7.5.0       |      hae1eefd_17          22 KB  conda-forge\n",
            "    libgfortran4-7.5.0         |      hae1eefd_17         1.3 MB  conda-forge\n",
            "    libiconv-1.16              |       h516909a_0         1.4 MB  conda-forge\n",
            "    liblapack-3.9.0            |       3_openblas          11 KB  conda-forge\n",
            "    libopenblas-0.3.12         |pthreads_hb3c22a3_1         8.2 MB  conda-forge\n",
            "    libpng-1.6.37              |       h21135ba_2         306 KB  conda-forge\n",
            "    libtiff-4.1.0              |       h4f3a223_6         618 KB  conda-forge\n",
            "    libuuid-2.32.1             |    h14c3975_1000          26 KB  conda-forge\n",
            "    libwebp-base-1.1.0         |       h36c2ea0_3         864 KB  conda-forge\n",
            "    libxcb-1.13                |    h14c3975_1002         396 KB  conda-forge\n",
            "    libxml2-2.9.10             |       h68273f3_2         1.3 MB  conda-forge\n",
            "    lz4-c-1.9.2                |       he1b5a44_3         203 KB  conda-forge\n",
            "    numpy-1.19.4               |   py37h7e9df27_1         5.2 MB  conda-forge\n",
            "    olefile-0.46               |     pyh9f0ad1d_1          32 KB  conda-forge\n",
            "    openssl-1.1.1h             |       h516909a_0         2.1 MB  conda-forge\n",
            "    pandas-1.1.4               |   py37h10a2094_0        10.5 MB  conda-forge\n",
            "    pcre-8.44                  |       he1b5a44_0         261 KB  conda-forge\n",
            "    pillow-8.0.1               |   py37he98fc37_0         619 KB\n",
            "    pixman-0.38.0              |    h516909a_1003         594 KB  conda-forge\n",
            "    pthread-stubs-0.4          |    h14c3975_1001           5 KB  conda-forge\n",
            "    pycairo-1.20.0             |   py37h01af8b0_1          77 KB  conda-forge\n",
            "    python-dateutil-2.8.1      |             py_0         220 KB  conda-forge\n",
            "    python_abi-3.7             |          1_cp37m           4 KB  conda-forge\n",
            "    pytz-2020.4                |     pyhd8ed1ab_0         229 KB  conda-forge\n",
            "    rdkit-2020.09.1            |   py37h0c252aa_0        25.8 MB  conda-forge\n",
            "    xorg-kbproto-1.0.7         |    h14c3975_1002          26 KB  conda-forge\n",
            "    xorg-libice-1.0.10         |       h516909a_0          57 KB  conda-forge\n",
            "    xorg-libsm-1.2.3           |    h84519dc_1000          25 KB  conda-forge\n",
            "    xorg-libx11-1.6.12         |       h516909a_0         917 KB  conda-forge\n",
            "    xorg-libxau-1.0.9          |       h14c3975_0          13 KB  conda-forge\n",
            "    xorg-libxdmcp-1.1.3        |       h516909a_0          18 KB  conda-forge\n",
            "    xorg-libxext-1.3.4         |       h516909a_0          51 KB  conda-forge\n",
            "    xorg-libxrender-0.9.10     |    h516909a_1002          31 KB  conda-forge\n",
            "    xorg-renderproto-0.11.1    |    h14c3975_1002           8 KB  conda-forge\n",
            "    xorg-xextproto-7.3.0       |    h14c3975_1002          27 KB  conda-forge\n",
            "    xorg-xproto-7.0.31         |    h14c3975_1007          72 KB  conda-forge\n",
            "    zstd-1.4.5                 |       h6597ccf_2         712 KB  conda-forge\n",
            "    ------------------------------------------------------------\n",
            "                                           Total:       101.6 MB\n",
            "\n",
            "The following NEW packages will be INSTALLED:\n",
            "\n",
            "  boost              conda-forge/linux-64::boost-1.74.0-py37h48f8a5e_1\n",
            "  boost-cpp          conda-forge/linux-64::boost-cpp-1.74.0-h9359b55_0\n",
            "  bzip2              conda-forge/linux-64::bzip2-1.0.8-h516909a_3\n",
            "  cairo              conda-forge/linux-64::cairo-1.16.0-h3fc0475_1005\n",
            "  fontconfig         conda-forge/linux-64::fontconfig-2.13.1-h7e3eb15_1002\n",
            "  freetype           conda-forge/linux-64::freetype-2.10.4-h7ca028e_0\n",
            "  glib               pkgs/main/linux-64::glib-2.66.1-h92f7085_0\n",
            "  icu                conda-forge/linux-64::icu-67.1-he1b5a44_0\n",
            "  jpeg               conda-forge/linux-64::jpeg-9d-h36c2ea0_0\n",
            "  lcms2              conda-forge/linux-64::lcms2-2.11-hcbb858e_1\n",
            "  libblas            conda-forge/linux-64::libblas-3.9.0-3_openblas\n",
            "  libcblas           conda-forge/linux-64::libcblas-3.9.0-3_openblas\n",
            "  libgfortran-ng     conda-forge/linux-64::libgfortran-ng-7.5.0-hae1eefd_17\n",
            "  libgfortran4       conda-forge/linux-64::libgfortran4-7.5.0-hae1eefd_17\n",
            "  libiconv           conda-forge/linux-64::libiconv-1.16-h516909a_0\n",
            "  liblapack          conda-forge/linux-64::liblapack-3.9.0-3_openblas\n",
            "  libopenblas        conda-forge/linux-64::libopenblas-0.3.12-pthreads_hb3c22a3_1\n",
            "  libpng             conda-forge/linux-64::libpng-1.6.37-h21135ba_2\n",
            "  libtiff            conda-forge/linux-64::libtiff-4.1.0-h4f3a223_6\n",
            "  libuuid            conda-forge/linux-64::libuuid-2.32.1-h14c3975_1000\n",
            "  libwebp-base       conda-forge/linux-64::libwebp-base-1.1.0-h36c2ea0_3\n",
            "  libxcb             conda-forge/linux-64::libxcb-1.13-h14c3975_1002\n",
            "  libxml2            conda-forge/linux-64::libxml2-2.9.10-h68273f3_2\n",
            "  lz4-c              conda-forge/linux-64::lz4-c-1.9.2-he1b5a44_3\n",
            "  numpy              conda-forge/linux-64::numpy-1.19.4-py37h7e9df27_1\n",
            "  olefile            conda-forge/noarch::olefile-0.46-pyh9f0ad1d_1\n",
            "  pandas             conda-forge/linux-64::pandas-1.1.4-py37h10a2094_0\n",
            "  pcre               conda-forge/linux-64::pcre-8.44-he1b5a44_0\n",
            "  pillow             pkgs/main/linux-64::pillow-8.0.1-py37he98fc37_0\n",
            "  pixman             conda-forge/linux-64::pixman-0.38.0-h516909a_1003\n",
            "  pthread-stubs      conda-forge/linux-64::pthread-stubs-0.4-h14c3975_1001\n",
            "  pycairo            conda-forge/linux-64::pycairo-1.20.0-py37h01af8b0_1\n",
            "  python-dateutil    conda-forge/noarch::python-dateutil-2.8.1-py_0\n",
            "  python_abi         conda-forge/linux-64::python_abi-3.7-1_cp37m\n",
            "  pytz               conda-forge/noarch::pytz-2020.4-pyhd8ed1ab_0\n",
            "  rdkit              conda-forge/linux-64::rdkit-2020.09.1-py37h0c252aa_0\n",
            "  xorg-kbproto       conda-forge/linux-64::xorg-kbproto-1.0.7-h14c3975_1002\n",
            "  xorg-libice        conda-forge/linux-64::xorg-libice-1.0.10-h516909a_0\n",
            "  xorg-libsm         conda-forge/linux-64::xorg-libsm-1.2.3-h84519dc_1000\n",
            "  xorg-libx11        conda-forge/linux-64::xorg-libx11-1.6.12-h516909a_0\n",
            "  xorg-libxau        conda-forge/linux-64::xorg-libxau-1.0.9-h14c3975_0\n",
            "  xorg-libxdmcp      conda-forge/linux-64::xorg-libxdmcp-1.1.3-h516909a_0\n",
            "  xorg-libxext       conda-forge/linux-64::xorg-libxext-1.3.4-h516909a_0\n",
            "  xorg-libxrender    conda-forge/linux-64::xorg-libxrender-0.9.10-h516909a_1002\n",
            "  xorg-renderproto   conda-forge/linux-64::xorg-renderproto-0.11.1-h14c3975_1002\n",
            "  xorg-xextproto     conda-forge/linux-64::xorg-xextproto-7.3.0-h14c3975_1002\n",
            "  xorg-xproto        conda-forge/linux-64::xorg-xproto-7.0.31-h14c3975_1007\n",
            "  zstd               conda-forge/linux-64::zstd-1.4.5-h6597ccf_2\n",
            "\n",
            "The following packages will be UPDATED:\n",
            "\n",
            "  ca-certificates     pkgs/main::ca-certificates-2020.1.1-0 --> conda-forge::ca-certificates-2020.11.8-ha878542_0\n",
            "  certifi              pkgs/main::certifi-2020.4.5.1-py37_0 --> conda-forge::certifi-2020.11.8-py37h89c1867_0\n",
            "  conda                       pkgs/main::conda-4.8.3-py37_0 --> conda-forge::conda-4.9.2-py37h89c1867_0\n",
            "  openssl              pkgs/main::openssl-1.1.1g-h7b6447c_0 --> conda-forge::openssl-1.1.1h-h516909a_0\n",
            "\n",
            "\n",
            "Preparing transaction: ...working... done\n",
            "Verifying transaction: ...working... done\n",
            "Executing transaction: ...working... done\n",
            "\n",
            "real\t0m51.270s\n",
            "user\t0m43.972s\n",
            "sys\t0m4.697s\n"
          ],
          "name": "stdout"
        }
      ]
    },
    {
      "cell_type": "markdown",
      "metadata": {
        "id": "f-1dJeiIK6Q1"
      },
      "source": [
        "### 2. Import modules and load datasets\n",
        "Then I imported basic modules for Deep Learning and rdkit.<br/>\n",
        "Also I loaded data files from given datasets.\n",
        "<hr/>"
      ]
    },
    {
      "cell_type": "code",
      "metadata": {
        "id": "2rrlAnWQ21TE"
      },
      "source": [
        "# %matplotlib inline\n",
        "import matplotlib.pyplot as plt\n",
        "import sys\n",
        "import os\n",
        "sys.path.append('/usr/local/lib/python3.7/site-packages/')"
      ],
      "execution_count": null,
      "outputs": []
    },
    {
      "cell_type": "code",
      "metadata": {
        "id": "YrNE30Te22pL"
      },
      "source": [
        "#import basic python packages\n",
        "import numpy as np\n",
        "import pandas as pd\n",
        "\n",
        "from rdkit import Chem\n",
        "from rdkit.Chem import DataStructs\n",
        "from rdkit.Chem import AllChem\n",
        "from rdkit.Chem import RDConfig\n",
        "from rdkit import rdBase\n",
        "\n",
        "import tensorflow as tf\n",
        "import tensorflow.keras as keras\n",
        "from keras import Model\n",
        "from keras.backend import one_hot\n",
        "from keras.layers import Activation, Dense, Dropout, Input\n",
        "from keras.utils import np_utils"
      ],
      "execution_count": null,
      "outputs": []
    },
    {
      "cell_type": "code",
      "metadata": {
        "id": "JU1FDdjy23pm",
        "colab": {
          "resources": {
            "http://localhost:8080/nbextensions/google.colab/files.js": {
              "data": "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",
              "ok": true,
              "headers": [
                [
                  "content-type",
                  "application/javascript"
                ]
              ],
              "status": 200,
              "status_text": ""
            }
          },
          "base_uri": "https://localhost:8080/",
          "height": 134
        },
        "outputId": "437ae1b0-0edf-40be-96ce-c65e8fac6cb6"
      },
      "source": [
        "# load data from files\n",
        "from google.colab import files\n",
        "data_AR = files.upload() # select 'nr-ar.smiles' file and upload it\n",
        "data_ER = files.upload() # select 'nr-er.smiels' file and upload it"
      ],
      "execution_count": null,
      "outputs": [
        {
          "output_type": "display_data",
          "data": {
            "text/html": [
              "\n",
              "     <input type=\"file\" id=\"files-be15010d-dc25-476f-a8e0-fbd6b930840d\" name=\"files[]\" multiple disabled\n",
              "        style=\"border:none\" />\n",
              "     <output id=\"result-be15010d-dc25-476f-a8e0-fbd6b930840d\">\n",
              "      Upload widget is only available when the cell has been executed in the\n",
              "      current browser session. Please rerun this cell to enable.\n",
              "      </output>\n",
              "      <script src=\"/nbextensions/google.colab/files.js\"></script> "
            ],
            "text/plain": [
              "<IPython.core.display.HTML object>"
            ]
          },
          "metadata": {
            "tags": []
          }
        },
        {
          "output_type": "stream",
          "text": [
            "Saving nr-ar.smiles to nr-ar.smiles\n"
          ],
          "name": "stdout"
        },
        {
          "output_type": "display_data",
          "data": {
            "text/html": [
              "\n",
              "     <input type=\"file\" id=\"files-68c65d91-5564-496e-a6e6-33adb63ef73f\" name=\"files[]\" multiple disabled\n",
              "        style=\"border:none\" />\n",
              "     <output id=\"result-68c65d91-5564-496e-a6e6-33adb63ef73f\">\n",
              "      Upload widget is only available when the cell has been executed in the\n",
              "      current browser session. Please rerun this cell to enable.\n",
              "      </output>\n",
              "      <script src=\"/nbextensions/google.colab/files.js\"></script> "
            ],
            "text/plain": [
              "<IPython.core.display.HTML object>"
            ]
          },
          "metadata": {
            "tags": []
          }
        },
        {
          "output_type": "stream",
          "text": [
            "Saving nr-er.smiles to nr-er.smiles\n"
          ],
          "name": "stdout"
        }
      ]
    },
    {
      "cell_type": "markdown",
      "metadata": {
        "id": "HfzlTx2hLuJd"
      },
      "source": [
        "### 3. Open smiles datasets\n",
        "I opened 2 smiles datasets by pandas.read_csv. Smiles string informations were loaded to smi_AR and smi_ER. And their corresponding activity informations were loaded to activity_AR and activity_ER seperately. Activity value is marked as 0 when a compound is non-toxic, and 1 vice versa. "
      ]
    },
    {
      "cell_type": "code",
      "metadata": {
        "id": "IBu9Z0vC26Vm"
      },
      "source": [
        "# save the uploaded data as Pandas dataframe\n",
        "import io\n",
        "df_AR = pd.read_csv(io.BytesIO(data_AR['nr-ar.smiles']), sep = '\\t', names = ['smiles', 'array', 'activity'])\n",
        "df_ER = pd.read_csv(io.BytesIO(data_ER['nr-er.smiles']), sep = '\\t', names = ['smiles', 'array', 'activity'])\n",
        "\n",
        "smi_AR = df_AR['smiles']\n",
        "smi_ER = df_ER['smiles']\n",
        "activity_AR = df_AR['activity']\n",
        "activity_ER = df_ER['activity']"
      ],
      "execution_count": null,
      "outputs": []
    },
    {
      "cell_type": "markdown",
      "metadata": {
        "id": "IjNRjiZ8MQZa"
      },
      "source": [
        "### 4. Data preprocessing : SMILES to 2048 bit Fingerprint\n",
        "We need proper data shape to train Deep Learning model. Therefore our data, smiles strings, must be converted into some python recognizable form. So let's convert them to 2048 bit vectors. Converting smiles strings to 2048 bit Fingerprints are not very difficult since we can use converting function in rdkit. It is 'GetMorganFingerprintAsBitVect', which converts chemical 'Mol' object given as an argument to n-Bit vector. In order to use this function, we need to convert smiles string to Mol object first. It can be done using 'MolFromSmiles', which converts smiles strings to Mol object. But I found that some smiles strings(for example smi_AR[2168]) in our dataset failed to convert to Mol object.<br/><br/>\n",
        "MolFromSmiles RETURNS: a Mol object, None on failure.<br/>\n",
        "(https://www.rdkit.org/docs/source/rdkit.Chem.rdmolfiles.html)"
      ]
    },
    {
      "cell_type": "code",
      "metadata": {
        "colab": {
          "base_uri": "https://localhost:8080/"
        },
        "id": "X69ZNIj2OBui",
        "outputId": "f58149a6-e32b-4d18-8420-b844596ad8b1"
      },
      "source": [
        "# Some smiles data failed to convert to Mol object. \n",
        "# 'MolFromSmiles' returns 'None' when it failed to convert smiles to Mol object.\n",
        "MolObject=Chem.MolFromSmiles(smi_AR[2168])\n",
        "print(MolObject)"
      ],
      "execution_count": null,
      "outputs": [
        {
          "output_type": "stream",
          "text": [
            "None\n"
          ],
          "name": "stdout"
        }
      ]
    },
    {
      "cell_type": "markdown",
      "metadata": {
        "id": "Jnia_Ck0OfVa"
      },
      "source": [
        "So before converting smiles strings through 'MolFromSmiles', I excluded some Mol unconvertible strings. Then convertible Mol objects were again converted to 2048 bit Fingerprint vector using 'GetMorganFingerprintAsBitVect'. To use that function, I set the argument 'radius' as 2 which is similar to ECFP4.<br/>\n",
        "https://www.researchgate.net/post/How_to_choose_bits_and_radius_during_circular_fingerprint_calculation_in_RDKit<br/><br/>\n",
        "We can adjust the length of Fingerprint vector by giving the argument 'nBits' the desired value. I set it 2048 to convert Mols to 2048 bit vecetor. After all, 2048 bits Fingerprints are converted into array using 'numpy.array'."
      ]
    },
    {
      "cell_type": "code",
      "metadata": {
        "id": "j8YLu4d43KK_"
      },
      "source": [
        "# data preprocessing; convert SMILES string to 2048 bit Fingerprint\n",
        "def preprocessing(data_X, data_Y):\n",
        "    data_x=[]\n",
        "    data_y=[]\n",
        "    for i in range(len(data_X)):\n",
        "        MolObject=Chem.MolFromSmiles(data_X[i])\n",
        "\n",
        "        # if smiles string failed to convert to Mol object, it is ignored and the next smiles string is processed.\n",
        "        if MolObject==None:\n",
        "            continue\n",
        "        data_x.append(AllChem.GetMorganFingerprintAsBitVect(MolObject,2,nBits=2048))\n",
        "        data_y.append(data_Y[i])\n",
        "    return np.array(data_x), np.array(data_y)\n",
        "\n",
        "data_X_AR, data_Y_AR = preprocessing(smi_AR, activity_AR)\n",
        "data_X_ER, data_Y_ER = preprocessing(smi_ER, activity_ER)"
      ],
      "execution_count": null,
      "outputs": []
    },
    {
      "cell_type": "markdown",
      "metadata": {
        "id": "ZANmcqasQUOC"
      },
      "source": [
        "Using 'preprocessing' defined above, we can get array consists of 2048 bit Fingerprints and check its shape.<br/>\n",
        "We can see their shape has (_,2048)."
      ]
    },
    {
      "cell_type": "code",
      "metadata": {
        "id": "HsbY0FVC69kt",
        "colab": {
          "base_uri": "https://localhost:8080/"
        },
        "outputId": "c0177b9d-c940-4bdb-b5a9-e7567f579cad"
      },
      "source": [
        "# check the shape of the raw data\n",
        "print(data_X_AR.shape)\n",
        "print(data_Y_AR.shape)\n",
        "print(data_X_ER.shape)\n",
        "print(data_Y_ER.shape)"
      ],
      "execution_count": null,
      "outputs": [
        {
          "output_type": "stream",
          "text": [
            "(9359, 2048)\n",
            "(9359,)\n",
            "(7695, 2048)\n",
            "(7695,)\n"
          ],
          "name": "stdout"
        }
      ]
    },
    {
      "cell_type": "markdown",
      "metadata": {
        "id": "1OBiVdGsQx09"
      },
      "source": [
        "### 4. Split the datasets\n",
        "To avoid overfitting and train properly, it is necessary to split datas into training, validation and test sets. Since we want to split the datasets in a ratio of train:validation:test=8:1:1, I splited them twice first dividing into 9:1(train+validation : test) and again them into 8:1(train : validation). After two dividing, we can get 80% training datasets(100% x 0.9 x 8/9 = 80%), 10% test datasets(100% x 0.1 = 10%) and 10% validation datasets(100 x 0.9 x 1/9=10%).<br/>To use 'train_test_split', I set 'random_state' to a random number 2. (It doesn't matter what number I put in in terms of randomness.)"
      ]
    },
    {
      "cell_type": "code",
      "metadata": {
        "id": "OUBvE1iyItaX"
      },
      "source": [
        "# split the training, validation and test dataset. train:validation:test=8:1:1\n",
        "from sklearn.model_selection import train_test_split\n",
        "#split training and test dataset from raw dataset\n",
        "\n",
        "X_train_AR, X_test_AR, Y_train_AR, Y_test_AR = train_test_split(data_X_AR, data_Y_AR, test_size=0.1, random_state=2)\n",
        "X_train_ER, X_test_ER, Y_train_ER, Y_test_ER = train_test_split(data_X_ER, data_Y_ER, test_size=0.1, random_state=2)"
      ],
      "execution_count": null,
      "outputs": []
    },
    {
      "cell_type": "code",
      "metadata": {
        "id": "AP7Y0fCoIvFZ"
      },
      "source": [
        "#split training and validation dataset from training dataset\n",
        "X_train_AR, X_valid_AR, Y_train_AR, Y_valid_AR = train_test_split(X_train_AR, Y_train_AR, test_size=1/9, random_state=2)\n",
        "X_train_ER, X_valid_ER, Y_train_ER, Y_valid_ER = train_test_split(X_train_ER, Y_train_ER, test_size=1/9, random_state=2)"
      ],
      "execution_count": null,
      "outputs": []
    },
    {
      "cell_type": "code",
      "metadata": {
        "id": "1SHARtDDI0AU",
        "colab": {
          "base_uri": "https://localhost:8080/"
        },
        "outputId": "9718082f-4bf6-4310-d001-b5997c42f7f2"
      },
      "source": [
        "# check the shape of the splited data\n",
        "print(X_train_AR.shape, Y_train_AR.shape)\n",
        "print(X_valid_AR.shape, Y_valid_AR.shape)\n",
        "print(X_test_AR.shape, Y_test_AR.shape)\n",
        "print(X_train_ER.shape, Y_train_ER.shape)\n",
        "print(X_valid_ER.shape, Y_valid_ER.shape)\n",
        "print(X_test_ER.shape, Y_test_ER.shape)"
      ],
      "execution_count": null,
      "outputs": [
        {
          "output_type": "stream",
          "text": [
            "(7487, 2048) (7487,)\n",
            "(936, 2048) (936,)\n",
            "(936, 2048) (936,)\n",
            "(6155, 2048) (6155,)\n",
            "(770, 2048) (770,)\n",
            "(770, 2048) (770,)\n"
          ],
          "name": "stdout"
        }
      ]
    },
    {
      "cell_type": "markdown",
      "metadata": {
        "id": "31K3k7s_SrSu"
      },
      "source": [
        "We got 8:1:1 training, validation and test sets successfully.\n",
        "\n",
        "### 5. Build a neural network model\n",
        "I built a neural network with parameters I chose by some procedures. The procedure is described at the end of this jupyter notebook file. The architecture I chose for AR is shown below."
      ]
    },
    {
      "cell_type": "code",
      "metadata": {
        "id": "TEB11q_qI16i"
      },
      "source": [
        "# build a neural network model\n",
        "# the activation function of hidden layer is relu, and output is softmax"
      ],
      "execution_count": null,
      "outputs": []
    },
    {
      "cell_type": "code",
      "metadata": {
        "id": "RIsL6oq3I3D8",
        "colab": {
          "base_uri": "https://localhost:8080/"
        },
        "outputId": "28339551-2b6d-4951-ff0d-2537ecb5d2f1"
      },
      "source": [
        "# make a prediction model for AR\n",
        "model_AR = tf.keras.models.Sequential()\n",
        "model_AR.add(tf.keras.layers.Dense(32, input_shape=(2048,)))\n",
        "model_AR.add(tf.keras.layers.Activation('relu'))\n",
        "model_AR.add(tf.keras.layers.Dense(32))\n",
        "model_AR.add(tf.keras.layers.Activation('relu'))\n",
        "model_AR.add(tf.keras.layers.Dropout(0.2))\n",
        "model_AR.add(tf.keras.layers.Dense(16))\n",
        "model_AR.add(tf.keras.layers.Activation('relu'))\n",
        "model_AR.add(tf.keras.layers.Dense(2))\n",
        "model_AR.add(tf.keras.layers.Softmax())\n",
        "\n",
        "model_AR.compile(optimizer='adam',\n",
        "              loss=tf.keras.losses.SparseCategoricalCrossentropy(from_logits=False),\n",
        "              metrics=['accuracy'])\n",
        "\n",
        "model_AR.summary() # print summary of AR model"
      ],
      "execution_count": null,
      "outputs": [
        {
          "output_type": "stream",
          "text": [
            "Model: \"sequential_134\"\n",
            "_________________________________________________________________\n",
            "Layer (type)                 Output Shape              Param #   \n",
            "=================================================================\n",
            "dense_507 (Dense)            (None, 32)                65568     \n",
            "_________________________________________________________________\n",
            "activation_373 (Activation)  (None, 32)                0         \n",
            "_________________________________________________________________\n",
            "dense_508 (Dense)            (None, 32)                1056      \n",
            "_________________________________________________________________\n",
            "activation_374 (Activation)  (None, 32)                0         \n",
            "_________________________________________________________________\n",
            "dropout_219 (Dropout)        (None, 32)                0         \n",
            "_________________________________________________________________\n",
            "dense_509 (Dense)            (None, 16)                528       \n",
            "_________________________________________________________________\n",
            "activation_375 (Activation)  (None, 16)                0         \n",
            "_________________________________________________________________\n",
            "dense_510 (Dense)            (None, 2)                 34        \n",
            "_________________________________________________________________\n",
            "softmax_134 (Softmax)        (None, 2)                 0         \n",
            "=================================================================\n",
            "Total params: 67,186\n",
            "Trainable params: 67,186\n",
            "Non-trainable params: 0\n",
            "_________________________________________________________________\n"
          ],
          "name": "stdout"
        }
      ]
    },
    {
      "cell_type": "markdown",
      "metadata": {
        "id": "gzskMsKxd24a"
      },
      "source": [
        "Since it is binary classification, last two layers are Dense layer with 2 dimensions and Softmax activation layer. Also I chose optimizer 'adam' which performed better and learned faster than 'RMSprop'.<br/><br/>\n",
        "Also the prediction model for ER is shown below."
      ]
    },
    {
      "cell_type": "code",
      "metadata": {
        "id": "0IfzKWyxChjp",
        "colab": {
          "base_uri": "https://localhost:8080/"
        },
        "outputId": "a486d75e-1ebb-45df-ad22-0367101bd42c"
      },
      "source": [
        "# make a prediction model for ER\n",
        "model_ER = tf.keras.models.Sequential()\n",
        "model_ER.add(tf.keras.layers.Dense(64, input_shape=(2048,)))\n",
        "model_ER.add(tf.keras.layers.Activation('relu'))\n",
        "model_ER.add(tf.keras.layers.Dropout(0.5))\n",
        "model_ER.add(tf.keras.layers.Dense(32))\n",
        "model_ER.add(tf.keras.layers.Activation('relu'))\n",
        "model_ER.add(tf.keras.layers.Dropout(0.5))\n",
        "model_ER.add(tf.keras.layers.Dense(16))\n",
        "model_ER.add(tf.keras.layers.Activation('relu'))\n",
        "model_ER.add(tf.keras.layers.Dense(2))\n",
        "model_ER.add(tf.keras.layers.Softmax())\n",
        "\n",
        "model_ER.compile(optimizer='adam',\n",
        "              loss=tf.keras.losses.SparseCategoricalCrossentropy(from_logits=False),\n",
        "              metrics=['accuracy'])\n",
        "\n",
        "model_ER.summary() # print summary of ER model"
      ],
      "execution_count": null,
      "outputs": [
        {
          "output_type": "stream",
          "text": [
            "Model: \"sequential_135\"\n",
            "_________________________________________________________________\n",
            "Layer (type)                 Output Shape              Param #   \n",
            "=================================================================\n",
            "dense_511 (Dense)            (None, 64)                131136    \n",
            "_________________________________________________________________\n",
            "activation_376 (Activation)  (None, 64)                0         \n",
            "_________________________________________________________________\n",
            "dropout_220 (Dropout)        (None, 64)                0         \n",
            "_________________________________________________________________\n",
            "dense_512 (Dense)            (None, 32)                2080      \n",
            "_________________________________________________________________\n",
            "activation_377 (Activation)  (None, 32)                0         \n",
            "_________________________________________________________________\n",
            "dropout_221 (Dropout)        (None, 32)                0         \n",
            "_________________________________________________________________\n",
            "dense_513 (Dense)            (None, 16)                528       \n",
            "_________________________________________________________________\n",
            "activation_378 (Activation)  (None, 16)                0         \n",
            "_________________________________________________________________\n",
            "dense_514 (Dense)            (None, 2)                 34        \n",
            "_________________________________________________________________\n",
            "softmax_135 (Softmax)        (None, 2)                 0         \n",
            "=================================================================\n",
            "Total params: 133,778\n",
            "Trainable params: 133,778\n",
            "Non-trainable params: 0\n",
            "_________________________________________________________________\n"
          ],
          "name": "stdout"
        }
      ]
    },
    {
      "cell_type": "markdown",
      "metadata": {
        "id": "ED-OmjGPegte"
      },
      "source": [
        "In order to optimize the model, we can use early stopping watching the validation accuracy."
      ]
    },
    {
      "cell_type": "code",
      "metadata": {
        "id": "edWu6rHcIIJn"
      },
      "source": [
        "# early stopping with validation dataset \n",
        "from keras.callbacks import EarlyStopping\n",
        "from keras.callbacks import ModelCheckpoint\n",
        "\n",
        "es_AR = EarlyStopping(monitor='val_loss', mode='min', verbose=1, patience=5)\n",
        "mc_AR = ModelCheckpoint('best_model_AR.h5', monitor='val_accuracy', mode='max', verbose=1, save_best_only=True)\n",
        "es_ER = EarlyStopping(monitor='val_loss', mode='min', verbose=1, patience=5)\n",
        "mc_ER = ModelCheckpoint('best_model_ER.h5', monitor='val_accuracy', mode='max', verbose=1, save_best_only=True)"
      ],
      "execution_count": null,
      "outputs": []
    },
    {
      "cell_type": "markdown",
      "metadata": {
        "id": "FjhvzA_sevdW"
      },
      "source": [
        "### 6. Train the model \n",
        "Now we are ready to train the model. We can train the model and save accuracy and loss of both training data and validation data simultaneously ."
      ]
    },
    {
      "cell_type": "code",
      "metadata": {
        "id": "eanWamjAIQK8",
        "colab": {
          "base_uri": "https://localhost:8080/"
        },
        "outputId": "87e24b54-dcc9-48dc-a11c-595bdfb6044e"
      },
      "source": [
        "# training the model using training and validation set\n",
        "epochs = 50\n",
        "\n",
        "hist_AR = model_AR.fit(X_train_AR, Y_train_AR, validation_data=(X_valid_AR, Y_valid_AR), batch_size=32, epochs=epochs, verbose=0, callbacks=[es_AR, mc_AR])"
      ],
      "execution_count": null,
      "outputs": [
        {
          "output_type": "stream",
          "text": [
            "\n",
            "Epoch 00001: val_accuracy improved from -inf to 0.98077, saving model to best_model_AR.h5\n",
            "\n",
            "Epoch 00002: val_accuracy improved from 0.98077 to 0.98184, saving model to best_model_AR.h5\n",
            "\n",
            "Epoch 00003: val_accuracy improved from 0.98184 to 0.98291, saving model to best_model_AR.h5\n",
            "\n",
            "Epoch 00004: val_accuracy did not improve from 0.98291\n",
            "\n",
            "Epoch 00005: val_accuracy did not improve from 0.98291\n",
            "\n",
            "Epoch 00006: val_accuracy did not improve from 0.98291\n",
            "\n",
            "Epoch 00007: val_accuracy did not improve from 0.98291\n",
            "Epoch 00007: early stopping\n"
          ],
          "name": "stdout"
        }
      ]
    },
    {
      "cell_type": "code",
      "metadata": {
        "colab": {
          "base_uri": "https://localhost:8080/"
        },
        "id": "DYQ7yR7PMfsI",
        "outputId": "3516c5ef-21ba-422e-86bf-9b3b91e22226"
      },
      "source": [
        "hist_ER = model_ER.fit(X_train_ER, Y_train_ER, validation_data=(X_valid_ER, Y_valid_ER),batch_size=32, epochs=epochs, verbose=0, callbacks=[es_ER, mc_ER])"
      ],
      "execution_count": null,
      "outputs": [
        {
          "output_type": "stream",
          "text": [
            "\n",
            "Epoch 00001: val_accuracy improved from -inf to 0.87662, saving model to best_model_ER.h5\n",
            "\n",
            "Epoch 00002: val_accuracy did not improve from 0.87662\n",
            "\n",
            "Epoch 00003: val_accuracy improved from 0.87662 to 0.89221, saving model to best_model_ER.h5\n",
            "\n",
            "Epoch 00004: val_accuracy improved from 0.89221 to 0.89740, saving model to best_model_ER.h5\n",
            "\n",
            "Epoch 00005: val_accuracy improved from 0.89740 to 0.90390, saving model to best_model_ER.h5\n",
            "\n",
            "Epoch 00006: val_accuracy improved from 0.90390 to 0.90649, saving model to best_model_ER.h5\n",
            "\n",
            "Epoch 00007: val_accuracy did not improve from 0.90649\n",
            "\n",
            "Epoch 00008: val_accuracy did not improve from 0.90649\n",
            "\n",
            "Epoch 00009: val_accuracy did not improve from 0.90649\n",
            "Epoch 00009: early stopping\n"
          ],
          "name": "stdout"
        }
      ]
    },
    {
      "cell_type": "markdown",
      "metadata": {
        "id": "DqmK3NQyfU-p"
      },
      "source": [
        "### 7. Visualize accuracy and loss\n",
        "With the stored accuracy and loss in hist_AR and hist_ER, we can visualize them using matplotlib. The code for visualizing the accuracy and loss according to epoch for model_AR and its result is shown below. And at the left plot, we can see that accuracy for training data decreases after epoch 2 while accuracy for validation data keep increases. At the right plot, we can see that validation loss decreases. By the two plots, we can check that our model is not overfitted."
      ]
    },
    {
      "cell_type": "code",
      "metadata": {
        "id": "5RtXQnkkISPu",
        "colab": {
          "base_uri": "https://localhost:8080/",
          "height": 355
        },
        "outputId": "1d85a617-41a6-4fc4-affc-854934b06962"
      },
      "source": [
        "# plot the accuracy and loss value of each model.\n",
        "\n",
        "plt.figure(figsize=(20,5))\n",
        "\n",
        "plt.subplot(1,2,1)\n",
        "plt.plot(hist_AR.history['val_accuracy'])\n",
        "plt.plot(hist_AR.history['accuracy'])\n",
        "plt.title('model_AR train and validation accuracy',fontsize=15)\n",
        "plt.ylabel('accuracy',fontsize=12)\n",
        "plt.xlabel('epoch',fontsize=12)\n",
        "plt.legend(['train', 'valid'], loc='lower right')\n",
        "\n",
        "plt.subplot(1,2,2)\n",
        "plt.plot(hist_AR.history['val_loss'])\n",
        "plt.plot(hist_AR.history['loss'])\n",
        "plt.title('model_AR train and validation loss',fontsize=15)\n",
        "plt.ylabel('loss',fontsize=14)\n",
        "plt.xlabel('epoch',fontsize=12)\n",
        "plt.legend(['train', 'valid'], loc='lower left')\n",
        "plt.show()"
      ],
      "execution_count": null,
      "outputs": [
        {
          "output_type": "display_data",
          "data": {
            "image/png": "[encoded data removed]",
            "text/plain": [
              "<Figure size 1440x360 with 2 Axes>"
            ]
          },
          "metadata": {
            "tags": [],
            "needs_background": "light"
          }
        }
      ]
    },
    {
      "cell_type": "markdown",
      "metadata": {
        "id": "SnJdTzrug72n"
      },
      "source": [
        "We can do the same procedure for model_ER too. The shape of the graphs are similar to the graphs in plots above. This also shows that the model is not overfitted.<br/>\n",
        "model_AR tends to finish learning earlier than model_AR since the difference of the quantity of training data and number of trainable parameters."
      ]
    },
    {
      "cell_type": "code",
      "metadata": {
        "id": "q4TNOsykhfig",
        "colab": {
          "base_uri": "https://localhost:8080/",
          "height": 355
        },
        "outputId": "ff5e13df-983c-4628-e138-49f2acd2a78d"
      },
      "source": [
        "plt.figure(figsize=(15,5))\n",
        "\n",
        "plt.subplot(1,2,1)\n",
        "plt.plot(hist_ER.history['val_accuracy'],color='green')\n",
        "plt.plot(hist_ER.history['accuracy'],color='violet')\n",
        "plt.title('model_ER train and validation accuracy',fontsize=15)\n",
        "plt.ylabel('accuracy',fontsize=12)\n",
        "plt.xlabel('epoch',fontsize=12)\n",
        "plt.legend(['train', 'valid'], loc='lower right')\n",
        "\n",
        "plt.subplot(1,2,2)\n",
        "plt.plot(hist_ER.history['val_loss'],color='green')\n",
        "plt.plot(hist_ER.history['loss'],color='violet')\n",
        "plt.title('model_ER train and validation loss',fontsize=15)\n",
        "plt.ylabel('loss',fontsize=14)\n",
        "plt.xlabel('epoch',fontsize=12)\n",
        "plt.legend(['train', 'valid'], loc='lower left')\n",
        "plt.show()"
      ],
      "execution_count": null,
      "outputs": [
        {
          "output_type": "display_data",
          "data": {
            "image/png": "[encoded data removed]",
            "text/plain": [
              "<Figure size 1080x360 with 2 Axes>"
            ]
          },
          "metadata": {
            "tags": [],
            "needs_background": "light"
          }
        }
      ]
    },
    {
      "cell_type": "markdown",
      "metadata": {
        "id": "oaZrFmBxh1PB"
      },
      "source": [
        "### 8. Evaluate the prediction model\n",
        "Finally, let's evaluate our two models using test datasets. First we can evaluate the models by using 'classification_report'. Since I made models determining the toxicity of Mols, I set the target_names as 'non-toxic' and 'toxic'. Then using the predicted classes, we can check some performances such as precision, recall, etc. Predicted class will be 1 if model's predicted probability for 1(toxic) is larger than 0(non-toxic)."
      ]
    },
    {
      "cell_type": "code",
      "metadata": {
        "id": "Eh9r49W3QOD4",
        "colab": {
          "base_uri": "https://localhost:8080/"
        },
        "outputId": "a8a881c8-375d-4277-c641-f3182524e23e"
      },
      "source": [
        "# evaluate the prediction model using test dataset.\n",
        "from sklearn.metrics import classification_report, roc_curve, auc\n",
        "\n",
        "Y_true_AR=Y_test_AR\n",
        "Y_pred_AR=model_AR.predict_classes(X_test_AR)\n",
        "\n",
        "target_names = ['non-toxic', 'toxic']\n",
        "print(classification_report(Y_true_AR, Y_pred_AR, target_names=target_names))"
      ],
      "execution_count": null,
      "outputs": [
        {
          "output_type": "stream",
          "text": [
            "              precision    recall  f1-score   support\n",
            "\n",
            "   non-toxic       0.99      1.00      0.99       901\n",
            "       toxic       0.87      0.74      0.80        35\n",
            "\n",
            "    accuracy                           0.99       936\n",
            "   macro avg       0.93      0.87      0.90       936\n",
            "weighted avg       0.99      0.99      0.99       936\n",
            "\n"
          ],
          "name": "stdout"
        }
      ]
    },
    {
      "cell_type": "code",
      "metadata": {
        "id": "WWbZKrN1kfIA",
        "colab": {
          "base_uri": "https://localhost:8080/"
        },
        "outputId": "04642d33-ca01-4ecb-817f-3d29364c1df0"
      },
      "source": [
        "score_AR = model_AR.evaluate(X_test_AR, Y_test_AR, verbose=2)"
      ],
      "execution_count": null,
      "outputs": [
        {
          "output_type": "stream",
          "text": [
            "30/30 - 0s - loss: 0.1691 - accuracy: 0.9861\n"
          ],
          "name": "stdout"
        }
      ]
    },
    {
      "cell_type": "markdown",
      "metadata": {
        "id": "OYJvaiRojZcT"
      },
      "source": [
        "Also, the test score for model_AR is shown above. It has a very high accuracy over 98%.<br/>\n",
        "For model_ER, we can see some performances and test score as well."
      ]
    },
    {
      "cell_type": "code",
      "metadata": {
        "id": "wa41Q_Eehrup",
        "colab": {
          "base_uri": "https://localhost:8080/"
        },
        "outputId": "a8fe7e2f-7a3b-4c01-eadd-c658e536d758"
      },
      "source": [
        "\n",
        "Y_true_ER=Y_test_ER\n",
        "Y_pred_ER=model_ER.predict_classes(X_test_ER)\n",
        "\n",
        "target_names = ['non-toxic', 'toxic']\n",
        "print(classification_report(Y_true_ER, Y_pred_ER, target_names=target_names))"
      ],
      "execution_count": null,
      "outputs": [
        {
          "output_type": "stream",
          "text": [
            "              precision    recall  f1-score   support\n",
            "\n",
            "   non-toxic       0.92      0.99      0.95       674\n",
            "       toxic       0.80      0.43      0.56        96\n",
            "\n",
            "    accuracy                           0.92       770\n",
            "   macro avg       0.86      0.71      0.76       770\n",
            "weighted avg       0.91      0.92      0.90       770\n",
            "\n"
          ],
          "name": "stdout"
        }
      ]
    },
    {
      "cell_type": "code",
      "metadata": {
        "id": "1cRHpvKxkujF",
        "colab": {
          "base_uri": "https://localhost:8080/"
        },
        "outputId": "eb605488-53cb-4c2e-951d-be008eb86eb1"
      },
      "source": [
        "score_ER = model_ER.evaluate(X_test_ER, Y_test_ER, verbose=2)"
      ],
      "execution_count": null,
      "outputs": [
        {
          "output_type": "stream",
          "text": [
            "25/25 - 0s - loss: 0.3876 - accuracy: 0.9156\n"
          ],
          "name": "stdout"
        }
      ]
    },
    {
      "cell_type": "markdown",
      "metadata": {
        "id": "tmDU2wAdj-5P"
      },
      "source": [
        "This time, let's check the ROC curve and AUC of both models. Here fpr is 'False positive rates' for each possible threshold and tpr is 'True positive rates' for each possible threshold. We must give the true labels of test datasets and the predicted probabilities for the 1 class to the 'roc_curve' to calculate fpr, tpr and thresholds. (The predicted probabilities for the 1 class is second element of predicted output.) Then using fpr and tpr, we can get AUC of model_AR by using 'auc' in sklearn."
      ]
    },
    {
      "cell_type": "code",
      "metadata": {
        "id": "CV0GwSQ3XqoV",
        "colab": {
          "base_uri": "https://localhost:8080/"
        },
        "outputId": "2f69517d-e455-45c7-815f-59c96d05a123"
      },
      "source": [
        "# AUC of AR dataset\n",
        "Y_pred_AR = model_AR.predict(X_test_AR)\n",
        "fpr_AR, tpr_AR, thresholds_AR = roc_curve(Y_test_AR, Y_pred_AR[:,1])\n",
        "auc_AR = auc(fpr_AR, tpr_AR)\n",
        "print(auc_AR)"
      ],
      "execution_count": null,
      "outputs": [
        {
          "output_type": "stream",
          "text": [
            "0.8308863167908673\n"
          ],
          "name": "stdout"
        }
      ]
    },
    {
      "cell_type": "markdown",
      "metadata": {
        "id": "aTJAWdAKmMSL"
      },
      "source": [
        "AUC for model_AR is about 0.8309. Now let's draw ROC curve of model_AR."
      ]
    },
    {
      "cell_type": "code",
      "metadata": {
        "colab": {
          "base_uri": "https://localhost:8080/",
          "height": 518
        },
        "id": "N2OyUBqvaqyQ",
        "outputId": "5d8cac35-8c21-4a63-f441-5eaa25bc5dde"
      },
      "source": [
        "plt.figure(figsize=(8,8))\n",
        "plt.plot([0, 1], [0, 1], 'k--')\n",
        "plt.plot(fpr_AR, tpr_AR, label='model_AR (area = {:.3f})'.format(auc_AR),color='blue')\n",
        "plt.plot([0,1],[0,1],label='random chances',linestyle='dashed',color='black')\n",
        "plt.xlabel('False positive rate',fontsize=12)\n",
        "plt.ylabel('True positive rate',fontsize=12)\n",
        "plt.title('ROC curve(AR)',fontsize=15)\n",
        "plt.legend(loc='lower right')\n",
        "plt.show()"
      ],
      "execution_count": null,
      "outputs": [
        {
          "output_type": "display_data",
          "data": {
            "image/png": "[encoded data removed]",
            "text/plain": [
              "<Figure size 576x576 with 1 Axes>"
            ]
          },
          "metadata": {
            "tags": [],
            "needs_background": "light"
          }
        }
      ]
    },
    {
      "cell_type": "markdown",
      "metadata": {
        "id": "9Zl_IqwInlpf"
      },
      "source": [
        "Now let's do the same procedure for model_ER. As expected by the performances such as test score and precisions, model_AR has larger AUC and good shape of ROC curve.<br/>\n",
        "Finally, I drew the two ROC curves overlapping and finished the project."
      ]
    },
    {
      "cell_type": "code",
      "metadata": {
        "id": "AOCuXG7Xjx1d",
        "colab": {
          "base_uri": "https://localhost:8080/",
          "height": 536
        },
        "outputId": "35246682-9386-4ecd-da6b-c7ae5e40e5a4"
      },
      "source": [
        "# AUC of ER dataset\n",
        "Y_pred_ER = model_ER.predict(X_test_ER)\n",
        "fpr_ER, tpr_ER, thresholds_ER = roc_curve(Y_test_ER, Y_pred_ER[:,1])\n",
        "auc_ER = auc(fpr_ER, tpr_ER)\n",
        "print(auc_ER)\n",
        "\n",
        "plt.figure(figsize=(8,8))\n",
        "plt.plot([0, 1], [0, 1], 'k--')\n",
        "plt.plot(fpr_ER, tpr_ER, label='model_ER (area = {:.3f})'.format(auc_ER),color='red')\n",
        "plt.plot([0,1],[0,1],label='random chances',linestyle='dashed',color='black')\n",
        "plt.xlabel('False positive rate',fontsize=12)\n",
        "plt.ylabel('True positive rate',fontsize=12)\n",
        "plt.title('ROC curve(ER)',fontsize=15)\n",
        "plt.legend(loc='lower right')\n",
        "plt.show()"
      ],
      "execution_count": null,
      "outputs": [
        {
          "output_type": "stream",
          "text": [
            "0.7002117334322453\n"
          ],
          "name": "stdout"
        },
        {
          "output_type": "display_data",
          "data": {
            "image/png": "[encoded data removed]",
            "text/plain": [
              "<Figure size 576x576 with 1 Axes>"
            ]
          },
          "metadata": {
            "tags": [],
            "needs_background": "light"
          }
        }
      ]
    },
    {
      "cell_type": "code",
      "metadata": {
        "colab": {
          "base_uri": "https://localhost:8080/",
          "height": 518
        },
        "id": "MD6PVDwWnadF",
        "outputId": "62677085-bb29-4863-f059-5e19af36973e"
      },
      "source": [
        "plt.figure(figsize=(8,8))\n",
        "plt.plot([0, 1], [0, 1], 'k--')\n",
        "plt.plot(fpr_AR, tpr_AR, label='model_AR (area = {:.3f})'.format(auc_AR),color='blue')\n",
        "plt.plot(fpr_ER, tpr_ER, label='model_ER (area = {:.3f})'.format(auc_ER),color='red')\n",
        "plt.plot([0,1],[0,1],label='random chances',linestyle='dashed',color='black')\n",
        "plt.xlabel('False positive rate',fontsize=12)\n",
        "plt.ylabel('True positive rate',fontsize=12)\n",
        "plt.title('ROC curve for AR and ER',fontsize=15)\n",
        "plt.legend(loc='lower right')\n",
        "plt.show()"
      ],
      "execution_count": null,
      "outputs": [
        {
          "output_type": "display_data",
          "data": {
            "image/png": "[encoded data removed]",
            "text/plain": [
              "<Figure size 576x576 with 1 Axes>"
            ]
          },
          "metadata": {
            "tags": [],
            "needs_background": "light"
          }
        }
      ]
    },
    {
      "cell_type": "markdown",
      "metadata": {
        "id": "0SS3OoHtUpTA"
      },
      "source": [
        "<br/><br/><br/><br/><br/><br/><br/>\n",
        "### (Before running : The code below takes very long time. I do not recommend to run it to see the result.)\n",
        "<hr/>\n",
        "\n",
        "### Appendix: How did I optimize the parameters?\n",
        "To optimize the parameters and architectures, I used some kind of making combinations of layers. I set some rules for architecture.<br/>\n",
        "\n",
        "\n",
        "1. Number of layer is 1,2 or 3.\n",
        "2. Each layer can have dimension among 16, 32, 64, 128, 256, 512 and 1024.\n",
        "3. After dense layer, activation layer(relu) is added.\n",
        "4. Dropout layer can be added with prob=0.2, 0.5 or not.\n",
        "5. Last two layers are dense layer with dimension 2 and Softmax.\n",
        "6. Deeper layer cannot have more dimensions that upper layer.\n",
        "\n",
        "With these rules, I made code to implement them. I used same 'EarlyStopping' which is given in the pseudo code.<br/>\n",
        "So there are total 2541 candidate architectures. Using all these architectures with two optimizer(adam and RMSprop), I trained them parallelly in different colab servers and then copied them. It took really much time. At the last part of this jupyter file, there are results of each architectures.\n",
        "\n"
      ]
    },
    {
      "cell_type": "code",
      "metadata": {
        "colab": {
          "base_uri": "https://localhost:8080/"
        },
        "id": "Z38D9uz6zUZL",
        "outputId": "ca1d8d37-6a0c-40e4-92b3-5f83898c32d2"
      },
      "source": [
        "LayerNum=[16,32,64,128,256,512,1024]\n",
        "DropoutProb=[0,0.2,0.5]\n",
        "\n",
        "LinearModelList=[]\n",
        "ArchitectureList=[]\n",
        "\n",
        "epochs = 50\n",
        "\n",
        "# early stopping with validation dataset \n",
        "from keras.callbacks import EarlyStopping\n",
        "from keras.callbacks import ModelCheckpoint\n",
        "\n",
        "es_AR = EarlyStopping(monitor='val_loss', mode='min', verbose=0, patience=5)\n",
        "mc_AR = ModelCheckpoint('best_model_AR.h5', monitor='val_accuracy', mode='max', verbose=0, save_best_only=True)\n",
        "es_ER = EarlyStopping(monitor='val_loss', mode='min', verbose=0, patience=5)\n",
        "mc_ER = ModelCheckpoint('best_model_ER.h5', monitor='val_accuracy', mode='max', verbose=0, save_best_only=True)\n",
        "\n",
        "for LayerNumElement in LayerNum:\n",
        "    for DropoutProbElement in DropoutProb:\n",
        "        ArchitectureList.append([LayerNumElement,DropoutProbElement])\n",
        "        LinearModelList.append([LayerNumElement,DropoutProbElement])\n",
        "\n",
        "LinearModelList,len(LinearModelList)"
      ],
      "execution_count": null,
      "outputs": [
        {
          "output_type": "execute_result",
          "data": {
            "text/plain": [
              "([[16, 0],\n",
              "  [16, 0.2],\n",
              "  [16, 0.5],\n",
              "  [32, 0],\n",
              "  [32, 0.2],\n",
              "  [32, 0.5],\n",
              "  [64, 0],\n",
              "  [64, 0.2],\n",
              "  [64, 0.5],\n",
              "  [128, 0],\n",
              "  [128, 0.2],\n",
              "  [128, 0.5],\n",
              "  [256, 0],\n",
              "  [256, 0.2],\n",
              "  [256, 0.5],\n",
              "  [512, 0],\n",
              "  [512, 0.2],\n",
              "  [512, 0.5],\n",
              "  [1024, 0],\n",
              "  [1024, 0.2],\n",
              "  [1024, 0.5]],\n",
              " 21)"
            ]
          },
          "metadata": {
            "tags": []
          },
          "execution_count": 285
        }
      ]
    },
    {
      "cell_type": "code",
      "metadata": {
        "id": "kRIxycZ4zUbt",
        "colab": {
          "base_uri": "https://localhost:8080/"
        },
        "outputId": "f77774e2-030f-4f8b-d7a0-7d9834ce50ee"
      },
      "source": [
        "ModelIndex=[0,21]\n",
        "for layer in range(2):\n",
        "    LinearModelListLen=len(LinearModelList)\n",
        "    for modelIndex in range(ModelIndex[layer],LinearModelListLen):\n",
        "        for ArchitectureListElement in ArchitectureList:\n",
        "            NewLinearModel=LinearModelList[modelIndex].copy()\n",
        "            NewLinearModel.extend(ArchitectureListElement)\n",
        "            if NewLinearModel[2*layer]>=NewLinearModel[2*(layer+1)]:\n",
        "                LinearModelList.append(NewLinearModel)\n",
        "\n",
        "len(LinearModelList)"
      ],
      "execution_count": null,
      "outputs": [
        {
          "output_type": "execute_result",
          "data": {
            "text/plain": [
              "2541"
            ]
          },
          "metadata": {
            "tags": []
          },
          "execution_count": 286
        }
      ]
    },
    {
      "cell_type": "code",
      "metadata": {
        "id": "QqN5E8GazUec"
      },
      "source": [
        "bestModel_AR=''\n",
        "bestScore_AR=0\n",
        "bestOptimizer_AR=''\n",
        "\n",
        "es_AR = EarlyStopping(monitor='val_loss', mode='min', verbose=0, patience=5)\n",
        "mc_AR = ModelCheckpoint('best_model_AR.h5', monitor='val_accuracy', mode='max', verbose=0, save_best_only=True)\n",
        "\n",
        "for LinearModelIndex in range(len(LinearModelList)):\n",
        "    model_AR = tf.keras.models.Sequential()\n",
        "    for architecture in range(0,len(LinearModelList[LinearModelIndex]),2):\n",
        "        LayerNodeNum,DropOutProb = LinearModelList[LinearModelIndex][architecture:architecture+2]\n",
        "        if architecture==0:\n",
        "            model_AR.add(tf.keras.layers.Dense(LayerNodeNum, input_shape=(2048,)))\n",
        "        else:\n",
        "            model_AR.add(tf.keras.layers.Dense(LayerNodeNum))\n",
        "        model_AR.add(tf.keras.layers.Activation('relu'))\n",
        "        if DropOutProb!=0:\n",
        "            model_AR.add(tf.keras.layers.Dropout(DropOutProb))\n",
        "    model_AR.add(tf.keras.layers.Dense(2))\n",
        "    model_AR.add(tf.keras.layers.Softmax())\n",
        "\n",
        "    model_AR.compile(optimizer='RMSprop',\n",
        "                loss=tf.keras.losses.SparseCategoricalCrossentropy(from_logits=False),\n",
        "                metrics=['accuracy'])\n",
        "    \n",
        "    model_AR.fit(X_train_AR, Y_train_AR, validation_data=(X_valid_AR, Y_valid_AR), batch_size=32, epochs=epochs, verbose=0, callbacks=[es_AR, mc_AR])\n",
        "    print(\"model : \"+str(LinearModelList[LinearModelIndex]))\n",
        "    score_AR = model_AR.evaluate(X_test_AR, Y_test_AR, verbose=2)\n",
        "    print(score_AR)\n",
        "    print()\n",
        "    if bestScore_AR<score_AR[1]:\n",
        "        bestScore_AR=score_AR[1]\n",
        "        bestModel_AR=LinearModelList[LinearModelIndex]\n",
        "        bestOptimizer_AR='RMSprop'\n",
        "\n",
        "print(\"best model_AR with RMSprop is :\"+str(bestModel_AR))\n",
        "print(bestScore_AR)"
      ],
      "execution_count": null,
      "outputs": []
    },
    {
      "cell_type": "code",
      "metadata": {
        "id": "depHzmwlUS1r"
      },
      "source": [
        "bestModel_AR=''\n",
        "bestScore_AR=0\n",
        "bestOptimizer_AR=''\n",
        "\n",
        "es_AR = EarlyStopping(monitor='val_loss', mode='min', verbose=0, patience=5)\n",
        "mc_AR = ModelCheckpoint('best_model_AR.h5', monitor='val_accuracy', mode='max', verbose=0, save_best_only=True)\n",
        "\n",
        "for LinearModelIndex in range(len(LinearModelList)):\n",
        "    model_AR = tf.keras.models.Sequential()\n",
        "    for architecture in range(0,len(LinearModelList[LinearModelIndex]),2):\n",
        "        LayerNodeNum,DropOutProb = LinearModelList[LinearModelIndex][architecture:architecture+2]\n",
        "        if architecture==0:\n",
        "            model_AR.add(tf.keras.layers.Dense(LayerNodeNum, input_shape=(2048,)))\n",
        "        else:\n",
        "            model_AR.add(tf.keras.layers.Dense(LayerNodeNum))\n",
        "        model_AR.add(tf.keras.layers.Activation('relu'))\n",
        "        if DropOutProb!=0:\n",
        "            model_AR.add(tf.keras.layers.Dropout(DropOutProb))\n",
        "    model_AR.add(tf.keras.layers.Dense(2))\n",
        "    model_AR.add(tf.keras.layers.Softmax())\n",
        "\n",
        "    model_AR.compile(optimizer='adam',\n",
        "                loss=tf.keras.losses.SparseCategoricalCrossentropy(from_logits=False),\n",
        "                metrics=['accuracy'])\n",
        "    \n",
        "    model_AR.fit(X_train_AR, Y_train_AR, validation_data=(X_valid_AR, Y_valid_AR), batch_size=32, epochs=epochs, verbose=0, callbacks=[es_AR, mc_AR])\n",
        "    print(\"model : \"+str(LinearModelList[LinearModelIndex]))\n",
        "    score_AR = model_AR.evaluate(X_test_AR, Y_test_AR, verbose=2)\n",
        "    print(score_AR)\n",
        "    print()\n",
        "    if bestScore_AR<score_AR[1]:\n",
        "        bestScore_AR=score_AR[1]\n",
        "        bestModel_AR=LinearModelList[LinearModelIndex]\n",
        "        bestOptimizer_AR='adam'\n",
        "\n",
        "print(\"best model_AR with adam is :\"+str(bestModel_AR))\n",
        "print(bestScore_AR)"
      ],
      "execution_count": null,
      "outputs": []
    },
    {
      "cell_type": "code",
      "metadata": {
        "id": "jrhIQRTRUWZZ"
      },
      "source": [
        "bestModel_ER=''\n",
        "bestScore_ER=0\n",
        "bestOptimizer_ER=''\n",
        "\n",
        "es_ER = EarlyStopping(monitor='val_loss', mode='min', verbose=0, patience=5)\n",
        "mc_ER = ModelCheckpoint('best_model_ER.h5', monitor='val_accuracy', mode='max', verbose=0, save_best_only=True)\n",
        "\n",
        "for LinearModelIndex in range(len(LinearModelList)):\n",
        "    model_ER = tf.keras.models.Sequential()\n",
        "    for architecture in range(0,len(LinearModelList[LinearModelIndex]),2):\n",
        "        LayerNodeNum,DropOutProb = LinearModelList[LinearModelIndex][architecture:architecture+2]\n",
        "        if architecture==0:\n",
        "            model_ER.add(tf.keras.layers.Dense(LayerNodeNum, input_shape=(2048,)))\n",
        "        else:\n",
        "            model_ER.add(tf.keras.layers.Dense(LayerNodeNum))\n",
        "        model_ER.add(tf.keras.layers.Activation('relu'))\n",
        "        if DropOutProb!=0:\n",
        "            model_ER.add(tf.keras.layers.Dropout(DropOutProb))\n",
        "    model_ER.add(tf.keras.layers.Dense(2))\n",
        "    model_ER.add(tf.keras.layers.Softmax())\n",
        "\n",
        "    model_ER.compile(optimizer='RMSprop',\n",
        "                loss=tf.keras.losses.SparseCategoricalCrossentropy(from_logits=False),\n",
        "                metrics=['accuracy'])\n",
        "    \n",
        "    model_ER.fit(X_train_ER, Y_train_ER, validation_data=(X_valid_ER, Y_valid_ER), batch_size=32, epochs=epochs, verbose=0, callbacks=[es_ER, mc_ER])\n",
        "    print(\"model : \"+str(LinearModelList[LinearModelIndex]))\n",
        "    score_ER = model_ER.evaluate(X_test_ER, Y_test_ER, verbose=2)\n",
        "    print(score_ER)\n",
        "    print()\n",
        "    if bestScore_ER<score_ER[1]:\n",
        "        bestScore_ER=score_ER[1]\n",
        "        bestModel_ER=LinearModelList[LinearModelIndex]\n",
        "        bestOptimizer_ER='RMSprop'\n",
        "\n",
        "print(\"best model_ER with RMSprop is :\"+str(bestModel_AR))\n",
        "print(bestScore_AR)"
      ],
      "execution_count": null,
      "outputs": []
    },
    {
      "cell_type": "code",
      "metadata": {
        "id": "cLAS0vduUWt9"
      },
      "source": [
        "bestModel_ER=''\n",
        "bestScore_ER=0\n",
        "bestOptimizer_ER=''\n",
        "\n",
        "es_ER = EarlyStopping(monitor='val_loss', mode='min', verbose=0, patience=5)\n",
        "mc_ER = ModelCheckpoint('best_model_ER.h5', monitor='val_accuracy', mode='max', verbose=0, save_best_only=True)\n",
        "\n",
        "for LinearModelIndex in range(len(LinearModelList)):\n",
        "    model_ER = tf.keras.models.Sequential()\n",
        "    for architecture in range(0,len(LinearModelList[LinearModelIndex]),2):\n",
        "        LayerNodeNum,DropOutProb = LinearModelList[LinearModelIndex][architecture:architecture+2]\n",
        "        if architecture==0:\n",
        "            model_ER.add(tf.keras.layers.Dense(LayerNodeNum, input_shape=(2048,)))\n",
        "        else:\n",
        "            model_ER.add(tf.keras.layers.Dense(LayerNodeNum))\n",
        "        model_ER.add(tf.keras.layers.Activation('relu'))\n",
        "        if DropOutProb!=0:\n",
        "            model_ER.add(tf.keras.layers.Dropout(DropOutProb))\n",
        "    model_ER.add(tf.keras.layers.Dense(2))\n",
        "    model_ER.add(tf.keras.layers.Softmax())\n",
        "\n",
        "    model_ER.compile(optimizer='adam',\n",
        "                loss=tf.keras.losses.SparseCategoricalCrossentropy(from_logits=False),\n",
        "                metrics=['accuracy'])\n",
        "    \n",
        "    model_ER.fit(X_train_ER, Y_train_ER, validation_data=(X_valid_ER, Y_valid_ER), batch_size=32, epochs=epochs, verbose=0, callbacks=[es_ER, mc_ER])\n",
        "    print(\"model : \"+str(LinearModelList[LinearModelIndex]))\n",
        "    score_ER = model_ER.evaluate(X_test_ER, Y_test_ER, verbose=2)\n",
        "    print(score_ER)\n",
        "    print()\n",
        "    if bestScore_ER<score_ER[1]:\n",
        "        bestScore_ER=score_ER[1]\n",
        "        bestModel_ER=LinearModelList[LinearModelIndex]\n",
        "        bestOptimizer_ER='adam'\n",
        "\n",
        "print(\"best model_ER with adam is :\"+str(bestModel_AR))\n",
        "print(bestScore_AR)"
      ],
      "execution_count": null,
      "outputs": []
    },
    {
      "cell_type": "markdown",
      "metadata": {
        "id": "hFQHI0nBUAw1"
      },
      "source": [
        "best model_AR with RMSprop is :[512, 0, 16, 0, 16, 0]<br/>\n",
        "0.9893162250518799<br/><br/>\n",
        "\n",
        "best model_AR with adam is :[64, 0, 64, 0.2, 64, 0]<br/>\n",
        "0.9903846383094788<br/><br/>\n",
        "\n",
        "best model_AR with RMSprop is :[512, 0.2, 16, 0.2]<br/>\n",
        "0.9116883277893066<br/><br/>\n",
        "\n",
        "best model_ER with adam is :[64, 0.5, 32, 0.5, 16, 0]<br/>\n",
        "0.916883111000061\n"
      ]
    },
    {
      "cell_type": "markdown",
      "metadata": {
        "id": "MDasw5AXV6rH"
      },
      "source": [
        "<hr/>\n",
        "The results are shown above, which have very good performances. But since the initializing problem of parameters, the best architectures didn't perform same as the results shown above. If I saved the models and imported them, they would perform with same accuracy."
      ]
    }
  ]
}
