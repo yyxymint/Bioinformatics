{
 "cells": [
  {
   "cell_type": "code",
   "execution_count": 2,
   "metadata": {},
   "outputs": [],
   "source": [
    "from keras.models import load_model\n",
    "from pkg_resources import resource_filename\n",
    "from utils2 import one_hot_encode\n",
    "import numpy as np\n",
    "\n",
    "import datetime as dt\n",
    "import h5py\n",
    "import numpy as np\n",
    "import os\n",
    "import fnmatch\n",
    "import time\n",
    "import re\n",
    "from sklearn.metrics import average_precision_score\n",
    "from pandas import DataFrame\n",
    "import pandas as pd"
   ]
  },
  {
   "cell_type": "code",
   "execution_count": 3,
   "metadata": {},
   "outputs": [],
   "source": [
    "import sys\n",
    "sys.path.append('/home/ychwang/jklib')\n",
    "import jklib\n",
    "from jklib.genome import *\n",
    "from jklib import REFERENCE"
   ]
  },
  {
   "cell_type": "code",
   "execution_count": 4,
   "metadata": {},
   "outputs": [],
   "source": [
    "h_chr  = loadBlatOutput(REFERENCE.RefFlat.hg38, by=\"chrom\")"
   ]
  },
  {
   "cell_type": "code",
   "execution_count": 5,
   "metadata": {},
   "outputs": [],
   "source": [
    "loc = locus('chr8:140300606-140300626-')\n",
    "seq1=loc.twoBitFrag().upper()"
   ]
  },
  {
   "cell_type": "markdown",
   "metadata": {},
   "source": [
    "위 코드가 실행되시면 됩니다"
   ]
  },
  {
   "cell_type": "code",
   "execution_count": 6,
   "metadata": {},
   "outputs": [
    {
     "ename": "InternalError",
     "evalue": "CUDA runtime implicit initialization on GPU:0 failed. Status: out of memory",
     "output_type": "error",
     "traceback": [
      "\u001b[0;31m---------------------------------------------------------------------------\u001b[0m",
      "\u001b[0;31mInternalError\u001b[0m                             Traceback (most recent call last)",
      "\u001b[0;32m<ipython-input-6-ba4f08664a10>\u001b[0m in \u001b[0;36m<module>\u001b[0;34m\u001b[0m\n\u001b[1;32m      1\u001b[0m \u001b[0;31m# default model\u001b[0m\u001b[0;34m\u001b[0m\u001b[0;34m\u001b[0m\u001b[0;34m\u001b[0m\u001b[0m\n\u001b[1;32m      2\u001b[0m \u001b[0mpaths\u001b[0m \u001b[0;34m=\u001b[0m \u001b[0;34m(\u001b[0m\u001b[0;34m'models/spliceai{}.h5'\u001b[0m\u001b[0;34m.\u001b[0m\u001b[0mformat\u001b[0m\u001b[0;34m(\u001b[0m\u001b[0mx\u001b[0m\u001b[0;34m)\u001b[0m \u001b[0;32mfor\u001b[0m \u001b[0mx\u001b[0m \u001b[0;32min\u001b[0m \u001b[0mrange\u001b[0m\u001b[0;34m(\u001b[0m\u001b[0;36m1\u001b[0m\u001b[0;34m,\u001b[0m \u001b[0;36m6\u001b[0m\u001b[0;34m)\u001b[0m\u001b[0;34m)\u001b[0m\u001b[0;34m\u001b[0m\u001b[0;34m\u001b[0m\u001b[0m\n\u001b[0;32m----> 3\u001b[0;31m \u001b[0mmodels\u001b[0m \u001b[0;34m=\u001b[0m \u001b[0;34m[\u001b[0m\u001b[0mload_model\u001b[0m\u001b[0;34m(\u001b[0m\u001b[0mresource_filename\u001b[0m\u001b[0;34m(\u001b[0m\u001b[0;34m'spliceai'\u001b[0m\u001b[0;34m,\u001b[0m \u001b[0mx\u001b[0m\u001b[0;34m)\u001b[0m\u001b[0;34m,\u001b[0m\u001b[0mcompile\u001b[0m\u001b[0;34m=\u001b[0m\u001b[0;32mFalse\u001b[0m\u001b[0;34m)\u001b[0m \u001b[0;32mfor\u001b[0m \u001b[0mx\u001b[0m \u001b[0;32min\u001b[0m \u001b[0mpaths\u001b[0m\u001b[0;34m]\u001b[0m\u001b[0;34m\u001b[0m\u001b[0;34m\u001b[0m\u001b[0m\n\u001b[0m",
      "\u001b[0;32m<ipython-input-6-ba4f08664a10>\u001b[0m in \u001b[0;36m<listcomp>\u001b[0;34m(.0)\u001b[0m\n\u001b[1;32m      1\u001b[0m \u001b[0;31m# default model\u001b[0m\u001b[0;34m\u001b[0m\u001b[0;34m\u001b[0m\u001b[0;34m\u001b[0m\u001b[0m\n\u001b[1;32m      2\u001b[0m \u001b[0mpaths\u001b[0m \u001b[0;34m=\u001b[0m \u001b[0;34m(\u001b[0m\u001b[0;34m'models/spliceai{}.h5'\u001b[0m\u001b[0;34m.\u001b[0m\u001b[0mformat\u001b[0m\u001b[0;34m(\u001b[0m\u001b[0mx\u001b[0m\u001b[0;34m)\u001b[0m \u001b[0;32mfor\u001b[0m \u001b[0mx\u001b[0m \u001b[0;32min\u001b[0m \u001b[0mrange\u001b[0m\u001b[0;34m(\u001b[0m\u001b[0;36m1\u001b[0m\u001b[0;34m,\u001b[0m \u001b[0;36m6\u001b[0m\u001b[0;34m)\u001b[0m\u001b[0;34m)\u001b[0m\u001b[0;34m\u001b[0m\u001b[0;34m\u001b[0m\u001b[0m\n\u001b[0;32m----> 3\u001b[0;31m \u001b[0mmodels\u001b[0m \u001b[0;34m=\u001b[0m \u001b[0;34m[\u001b[0m\u001b[0mload_model\u001b[0m\u001b[0;34m(\u001b[0m\u001b[0mresource_filename\u001b[0m\u001b[0;34m(\u001b[0m\u001b[0;34m'spliceai'\u001b[0m\u001b[0;34m,\u001b[0m \u001b[0mx\u001b[0m\u001b[0;34m)\u001b[0m\u001b[0;34m,\u001b[0m\u001b[0mcompile\u001b[0m\u001b[0;34m=\u001b[0m\u001b[0;32mFalse\u001b[0m\u001b[0;34m)\u001b[0m \u001b[0;32mfor\u001b[0m \u001b[0mx\u001b[0m \u001b[0;32min\u001b[0m \u001b[0mpaths\u001b[0m\u001b[0;34m]\u001b[0m\u001b[0;34m\u001b[0m\u001b[0;34m\u001b[0m\u001b[0m\n\u001b[0m",
      "\u001b[0;32m/commons/software/anaconda3/lib/python3.8/site-packages/tensorflow/python/keras/saving/save.py\u001b[0m in \u001b[0;36mload_model\u001b[0;34m(filepath, custom_objects, compile, options)\u001b[0m\n\u001b[1;32m    204\u001b[0m       if (h5py is not None and\n\u001b[1;32m    205\u001b[0m           (isinstance(filepath, h5py.File) or h5py.is_hdf5(filepath))):\n\u001b[0;32m--> 206\u001b[0;31m         return hdf5_format.load_model_from_hdf5(filepath, custom_objects,\n\u001b[0m\u001b[1;32m    207\u001b[0m                                                 compile)\n\u001b[1;32m    208\u001b[0m \u001b[0;34m\u001b[0m\u001b[0m\n",
      "\u001b[0;32m/commons/software/anaconda3/lib/python3.8/site-packages/tensorflow/python/keras/saving/hdf5_format.py\u001b[0m in \u001b[0;36mload_model_from_hdf5\u001b[0;34m(filepath, custom_objects, compile)\u001b[0m\n\u001b[1;32m    181\u001b[0m       \u001b[0;32mraise\u001b[0m \u001b[0mValueError\u001b[0m\u001b[0;34m(\u001b[0m\u001b[0;34m'No model found in config file.'\u001b[0m\u001b[0;34m)\u001b[0m\u001b[0;34m\u001b[0m\u001b[0;34m\u001b[0m\u001b[0m\n\u001b[1;32m    182\u001b[0m     \u001b[0mmodel_config\u001b[0m \u001b[0;34m=\u001b[0m \u001b[0mjson_utils\u001b[0m\u001b[0;34m.\u001b[0m\u001b[0mdecode\u001b[0m\u001b[0;34m(\u001b[0m\u001b[0mmodel_config\u001b[0m\u001b[0;34m.\u001b[0m\u001b[0mdecode\u001b[0m\u001b[0;34m(\u001b[0m\u001b[0;34m'utf-8'\u001b[0m\u001b[0;34m)\u001b[0m\u001b[0;34m)\u001b[0m\u001b[0;34m\u001b[0m\u001b[0;34m\u001b[0m\u001b[0m\n\u001b[0;32m--> 183\u001b[0;31m     model = model_config_lib.model_from_config(model_config,\n\u001b[0m\u001b[1;32m    184\u001b[0m                                                custom_objects=custom_objects)\n\u001b[1;32m    185\u001b[0m \u001b[0;34m\u001b[0m\u001b[0m\n",
      "\u001b[0;32m/commons/software/anaconda3/lib/python3.8/site-packages/tensorflow/python/keras/saving/model_config.py\u001b[0m in \u001b[0;36mmodel_from_config\u001b[0;34m(config, custom_objects)\u001b[0m\n\u001b[1;32m     62\u001b[0m                     '`Sequential.from_config(config)`?')\n\u001b[1;32m     63\u001b[0m   \u001b[0;32mfrom\u001b[0m \u001b[0mtensorflow\u001b[0m\u001b[0;34m.\u001b[0m\u001b[0mpython\u001b[0m\u001b[0;34m.\u001b[0m\u001b[0mkeras\u001b[0m\u001b[0;34m.\u001b[0m\u001b[0mlayers\u001b[0m \u001b[0;32mimport\u001b[0m \u001b[0mdeserialize\u001b[0m  \u001b[0;31m# pylint: disable=g-import-not-at-top\u001b[0m\u001b[0;34m\u001b[0m\u001b[0;34m\u001b[0m\u001b[0m\n\u001b[0;32m---> 64\u001b[0;31m   \u001b[0;32mreturn\u001b[0m \u001b[0mdeserialize\u001b[0m\u001b[0;34m(\u001b[0m\u001b[0mconfig\u001b[0m\u001b[0;34m,\u001b[0m \u001b[0mcustom_objects\u001b[0m\u001b[0;34m=\u001b[0m\u001b[0mcustom_objects\u001b[0m\u001b[0;34m)\u001b[0m\u001b[0;34m\u001b[0m\u001b[0;34m\u001b[0m\u001b[0m\n\u001b[0m\u001b[1;32m     65\u001b[0m \u001b[0;34m\u001b[0m\u001b[0m\n\u001b[1;32m     66\u001b[0m \u001b[0;34m\u001b[0m\u001b[0m\n",
      "\u001b[0;32m/commons/software/anaconda3/lib/python3.8/site-packages/tensorflow/python/keras/layers/serialization.py\u001b[0m in \u001b[0;36mdeserialize\u001b[0;34m(config, custom_objects)\u001b[0m\n\u001b[1;32m    171\u001b[0m   \"\"\"\n\u001b[1;32m    172\u001b[0m   \u001b[0mpopulate_deserializable_objects\u001b[0m\u001b[0;34m(\u001b[0m\u001b[0;34m)\u001b[0m\u001b[0;34m\u001b[0m\u001b[0;34m\u001b[0m\u001b[0m\n\u001b[0;32m--> 173\u001b[0;31m   return generic_utils.deserialize_keras_object(\n\u001b[0m\u001b[1;32m    174\u001b[0m       \u001b[0mconfig\u001b[0m\u001b[0;34m,\u001b[0m\u001b[0;34m\u001b[0m\u001b[0;34m\u001b[0m\u001b[0m\n\u001b[1;32m    175\u001b[0m       \u001b[0mmodule_objects\u001b[0m\u001b[0;34m=\u001b[0m\u001b[0mLOCAL\u001b[0m\u001b[0;34m.\u001b[0m\u001b[0mALL_OBJECTS\u001b[0m\u001b[0;34m,\u001b[0m\u001b[0;34m\u001b[0m\u001b[0;34m\u001b[0m\u001b[0m\n",
      "\u001b[0;32m/commons/software/anaconda3/lib/python3.8/site-packages/tensorflow/python/keras/utils/generic_utils.py\u001b[0m in \u001b[0;36mdeserialize_keras_object\u001b[0;34m(identifier, module_objects, custom_objects, printable_module_name)\u001b[0m\n\u001b[1;32m    352\u001b[0m \u001b[0;34m\u001b[0m\u001b[0m\n\u001b[1;32m    353\u001b[0m       \u001b[0;32mif\u001b[0m \u001b[0;34m'custom_objects'\u001b[0m \u001b[0;32min\u001b[0m \u001b[0marg_spec\u001b[0m\u001b[0;34m.\u001b[0m\u001b[0margs\u001b[0m\u001b[0;34m:\u001b[0m\u001b[0;34m\u001b[0m\u001b[0;34m\u001b[0m\u001b[0m\n\u001b[0;32m--> 354\u001b[0;31m         return cls.from_config(\n\u001b[0m\u001b[1;32m    355\u001b[0m             \u001b[0mcls_config\u001b[0m\u001b[0;34m,\u001b[0m\u001b[0;34m\u001b[0m\u001b[0;34m\u001b[0m\u001b[0m\n\u001b[1;32m    356\u001b[0m             custom_objects=dict(\n",
      "\u001b[0;32m/commons/software/anaconda3/lib/python3.8/site-packages/tensorflow/python/keras/engine/training.py\u001b[0m in \u001b[0;36mfrom_config\u001b[0;34m(cls, config, custom_objects)\u001b[0m\n\u001b[1;32m   2259\u001b[0m     \u001b[0;31m# be constructed for FunctionalModel\u001b[0m\u001b[0;34m\u001b[0m\u001b[0;34m\u001b[0m\u001b[0;34m\u001b[0m\u001b[0m\n\u001b[1;32m   2260\u001b[0m     \u001b[0;32mfrom\u001b[0m \u001b[0mtensorflow\u001b[0m\u001b[0;34m.\u001b[0m\u001b[0mpython\u001b[0m\u001b[0;34m.\u001b[0m\u001b[0mkeras\u001b[0m\u001b[0;34m.\u001b[0m\u001b[0mengine\u001b[0m \u001b[0;32mimport\u001b[0m \u001b[0mfunctional\u001b[0m  \u001b[0;31m# pylint: disable=g-import-not-at-top\u001b[0m\u001b[0;34m\u001b[0m\u001b[0;34m\u001b[0m\u001b[0m\n\u001b[0;32m-> 2261\u001b[0;31m     return functional.Functional.from_config(\n\u001b[0m\u001b[1;32m   2262\u001b[0m         config, custom_objects=custom_objects)\n\u001b[1;32m   2263\u001b[0m \u001b[0;34m\u001b[0m\u001b[0m\n",
      "\u001b[0;32m/commons/software/anaconda3/lib/python3.8/site-packages/tensorflow/python/keras/engine/functional.py\u001b[0m in \u001b[0;36mfrom_config\u001b[0;34m(cls, config, custom_objects)\u001b[0m\n\u001b[1;32m    666\u001b[0m         \u001b[0mValueError\u001b[0m\u001b[0;34m:\u001b[0m \u001b[0mIn\u001b[0m \u001b[0mcase\u001b[0m \u001b[0mof\u001b[0m \u001b[0mimproperly\u001b[0m \u001b[0mformatted\u001b[0m \u001b[0mconfig\u001b[0m \u001b[0mdict\u001b[0m\u001b[0;34m.\u001b[0m\u001b[0;34m\u001b[0m\u001b[0;34m\u001b[0m\u001b[0m\n\u001b[1;32m    667\u001b[0m     \"\"\"\n\u001b[0;32m--> 668\u001b[0;31m     input_tensors, output_tensors, created_layers = reconstruct_from_config(\n\u001b[0m\u001b[1;32m    669\u001b[0m         config, custom_objects)\n\u001b[1;32m    670\u001b[0m     model = cls(inputs=input_tensors, outputs=output_tensors,\n",
      "\u001b[0;32m/commons/software/anaconda3/lib/python3.8/site-packages/tensorflow/python/keras/engine/functional.py\u001b[0m in \u001b[0;36mreconstruct_from_config\u001b[0;34m(config, custom_objects, created_layers)\u001b[0m\n\u001b[1;32m   1283\u001b[0m       \u001b[0;32mif\u001b[0m \u001b[0mlayer\u001b[0m \u001b[0;32min\u001b[0m \u001b[0munprocessed_nodes\u001b[0m\u001b[0;34m:\u001b[0m\u001b[0;34m\u001b[0m\u001b[0;34m\u001b[0m\u001b[0m\n\u001b[1;32m   1284\u001b[0m         \u001b[0;32mfor\u001b[0m \u001b[0mnode_data\u001b[0m \u001b[0;32min\u001b[0m \u001b[0munprocessed_nodes\u001b[0m\u001b[0;34m.\u001b[0m\u001b[0mpop\u001b[0m\u001b[0;34m(\u001b[0m\u001b[0mlayer\u001b[0m\u001b[0;34m)\u001b[0m\u001b[0;34m:\u001b[0m\u001b[0;34m\u001b[0m\u001b[0;34m\u001b[0m\u001b[0m\n\u001b[0;32m-> 1285\u001b[0;31m           \u001b[0mprocess_node\u001b[0m\u001b[0;34m(\u001b[0m\u001b[0mlayer\u001b[0m\u001b[0;34m,\u001b[0m \u001b[0mnode_data\u001b[0m\u001b[0;34m)\u001b[0m\u001b[0;34m\u001b[0m\u001b[0;34m\u001b[0m\u001b[0m\n\u001b[0m\u001b[1;32m   1286\u001b[0m \u001b[0;34m\u001b[0m\u001b[0m\n\u001b[1;32m   1287\u001b[0m   \u001b[0minput_tensors\u001b[0m \u001b[0;34m=\u001b[0m \u001b[0;34m[\u001b[0m\u001b[0;34m]\u001b[0m\u001b[0;34m\u001b[0m\u001b[0;34m\u001b[0m\u001b[0m\n",
      "\u001b[0;32m/commons/software/anaconda3/lib/python3.8/site-packages/tensorflow/python/keras/engine/functional.py\u001b[0m in \u001b[0;36mprocess_node\u001b[0;34m(layer, node_data)\u001b[0m\n\u001b[1;32m   1231\u001b[0m         input_tensors = (\n\u001b[1;32m   1232\u001b[0m             base_layer_utils.unnest_if_single_tensor(input_tensors))\n\u001b[0;32m-> 1233\u001b[0;31m       \u001b[0moutput_tensors\u001b[0m \u001b[0;34m=\u001b[0m \u001b[0mlayer\u001b[0m\u001b[0;34m(\u001b[0m\u001b[0minput_tensors\u001b[0m\u001b[0;34m,\u001b[0m \u001b[0;34m**\u001b[0m\u001b[0mkwargs\u001b[0m\u001b[0;34m)\u001b[0m\u001b[0;34m\u001b[0m\u001b[0;34m\u001b[0m\u001b[0m\n\u001b[0m\u001b[1;32m   1234\u001b[0m \u001b[0;34m\u001b[0m\u001b[0m\n\u001b[1;32m   1235\u001b[0m       \u001b[0;31m# Update node index map.\u001b[0m\u001b[0;34m\u001b[0m\u001b[0;34m\u001b[0m\u001b[0;34m\u001b[0m\u001b[0m\n",
      "\u001b[0;32m/commons/software/anaconda3/lib/python3.8/site-packages/tensorflow/python/keras/engine/base_layer.py\u001b[0m in \u001b[0;36m__call__\u001b[0;34m(self, *args, **kwargs)\u001b[0m\n\u001b[1;32m    949\u001b[0m     \u001b[0;31m# >> model = tf.keras.Model(inputs, outputs)\u001b[0m\u001b[0;34m\u001b[0m\u001b[0;34m\u001b[0m\u001b[0;34m\u001b[0m\u001b[0m\n\u001b[1;32m    950\u001b[0m     \u001b[0;32mif\u001b[0m \u001b[0m_in_functional_construction_mode\u001b[0m\u001b[0;34m(\u001b[0m\u001b[0mself\u001b[0m\u001b[0;34m,\u001b[0m \u001b[0minputs\u001b[0m\u001b[0;34m,\u001b[0m \u001b[0margs\u001b[0m\u001b[0;34m,\u001b[0m \u001b[0mkwargs\u001b[0m\u001b[0;34m,\u001b[0m \u001b[0minput_list\u001b[0m\u001b[0;34m)\u001b[0m\u001b[0;34m:\u001b[0m\u001b[0;34m\u001b[0m\u001b[0;34m\u001b[0m\u001b[0m\n\u001b[0;32m--> 951\u001b[0;31m       return self._functional_construction_call(inputs, args, kwargs,\n\u001b[0m\u001b[1;32m    952\u001b[0m                                                 input_list)\n\u001b[1;32m    953\u001b[0m \u001b[0;34m\u001b[0m\u001b[0m\n",
      "\u001b[0;32m/commons/software/anaconda3/lib/python3.8/site-packages/tensorflow/python/keras/engine/base_layer.py\u001b[0m in \u001b[0;36m_functional_construction_call\u001b[0;34m(self, inputs, args, kwargs, input_list)\u001b[0m\n\u001b[1;32m   1088\u001b[0m           layer=self, inputs=inputs, build_graph=True, training=training_value):\n\u001b[1;32m   1089\u001b[0m         \u001b[0;31m# Check input assumptions set after layer building, e.g. input shape.\u001b[0m\u001b[0;34m\u001b[0m\u001b[0;34m\u001b[0m\u001b[0;34m\u001b[0m\u001b[0m\n\u001b[0;32m-> 1090\u001b[0;31m         outputs = self._keras_tensor_symbolic_call(\n\u001b[0m\u001b[1;32m   1091\u001b[0m             inputs, input_masks, args, kwargs)\n\u001b[1;32m   1092\u001b[0m \u001b[0;34m\u001b[0m\u001b[0m\n",
      "\u001b[0;32m/commons/software/anaconda3/lib/python3.8/site-packages/tensorflow/python/keras/engine/base_layer.py\u001b[0m in \u001b[0;36m_keras_tensor_symbolic_call\u001b[0;34m(self, inputs, input_masks, args, kwargs)\u001b[0m\n\u001b[1;32m    820\u001b[0m       \u001b[0;32mreturn\u001b[0m \u001b[0mnest\u001b[0m\u001b[0;34m.\u001b[0m\u001b[0mmap_structure\u001b[0m\u001b[0;34m(\u001b[0m\u001b[0mkeras_tensor\u001b[0m\u001b[0;34m.\u001b[0m\u001b[0mKerasTensor\u001b[0m\u001b[0;34m,\u001b[0m \u001b[0moutput_signature\u001b[0m\u001b[0;34m)\u001b[0m\u001b[0;34m\u001b[0m\u001b[0;34m\u001b[0m\u001b[0m\n\u001b[1;32m    821\u001b[0m     \u001b[0;32melse\u001b[0m\u001b[0;34m:\u001b[0m\u001b[0;34m\u001b[0m\u001b[0;34m\u001b[0m\u001b[0m\n\u001b[0;32m--> 822\u001b[0;31m       \u001b[0;32mreturn\u001b[0m \u001b[0mself\u001b[0m\u001b[0;34m.\u001b[0m\u001b[0m_infer_output_signature\u001b[0m\u001b[0;34m(\u001b[0m\u001b[0minputs\u001b[0m\u001b[0;34m,\u001b[0m \u001b[0margs\u001b[0m\u001b[0;34m,\u001b[0m \u001b[0mkwargs\u001b[0m\u001b[0;34m,\u001b[0m \u001b[0minput_masks\u001b[0m\u001b[0;34m)\u001b[0m\u001b[0;34m\u001b[0m\u001b[0;34m\u001b[0m\u001b[0m\n\u001b[0m\u001b[1;32m    823\u001b[0m \u001b[0;34m\u001b[0m\u001b[0m\n\u001b[1;32m    824\u001b[0m   \u001b[0;32mdef\u001b[0m \u001b[0m_infer_output_signature\u001b[0m\u001b[0;34m(\u001b[0m\u001b[0mself\u001b[0m\u001b[0;34m,\u001b[0m \u001b[0minputs\u001b[0m\u001b[0;34m,\u001b[0m \u001b[0margs\u001b[0m\u001b[0;34m,\u001b[0m \u001b[0mkwargs\u001b[0m\u001b[0;34m,\u001b[0m \u001b[0minput_masks\u001b[0m\u001b[0;34m)\u001b[0m\u001b[0;34m:\u001b[0m\u001b[0;34m\u001b[0m\u001b[0;34m\u001b[0m\u001b[0m\n",
      "\u001b[0;32m/commons/software/anaconda3/lib/python3.8/site-packages/tensorflow/python/keras/engine/base_layer.py\u001b[0m in \u001b[0;36m_infer_output_signature\u001b[0;34m(self, inputs, args, kwargs, input_masks)\u001b[0m\n\u001b[1;32m    860\u001b[0m           \u001b[0;31m# overridden).\u001b[0m\u001b[0;34m\u001b[0m\u001b[0;34m\u001b[0m\u001b[0;34m\u001b[0m\u001b[0m\n\u001b[1;32m    861\u001b[0m           \u001b[0;31m# TODO(kaftan): do we maybe_build here, or have we already done it?\u001b[0m\u001b[0;34m\u001b[0m\u001b[0;34m\u001b[0m\u001b[0;34m\u001b[0m\u001b[0m\n\u001b[0;32m--> 862\u001b[0;31m           \u001b[0mself\u001b[0m\u001b[0;34m.\u001b[0m\u001b[0m_maybe_build\u001b[0m\u001b[0;34m(\u001b[0m\u001b[0minputs\u001b[0m\u001b[0;34m)\u001b[0m\u001b[0;34m\u001b[0m\u001b[0;34m\u001b[0m\u001b[0m\n\u001b[0m\u001b[1;32m    863\u001b[0m           \u001b[0moutputs\u001b[0m \u001b[0;34m=\u001b[0m \u001b[0mcall_fn\u001b[0m\u001b[0;34m(\u001b[0m\u001b[0minputs\u001b[0m\u001b[0;34m,\u001b[0m \u001b[0;34m*\u001b[0m\u001b[0margs\u001b[0m\u001b[0;34m,\u001b[0m \u001b[0;34m**\u001b[0m\u001b[0mkwargs\u001b[0m\u001b[0;34m)\u001b[0m\u001b[0;34m\u001b[0m\u001b[0;34m\u001b[0m\u001b[0m\n\u001b[1;32m    864\u001b[0m \u001b[0;34m\u001b[0m\u001b[0m\n",
      "\u001b[0;32m/commons/software/anaconda3/lib/python3.8/site-packages/tensorflow/python/keras/engine/base_layer.py\u001b[0m in \u001b[0;36m_maybe_build\u001b[0;34m(self, inputs)\u001b[0m\n\u001b[1;32m   2708\u001b[0m         \u001b[0;31m# operations.\u001b[0m\u001b[0;34m\u001b[0m\u001b[0;34m\u001b[0m\u001b[0;34m\u001b[0m\u001b[0m\n\u001b[1;32m   2709\u001b[0m         \u001b[0;32mwith\u001b[0m \u001b[0mtf_utils\u001b[0m\u001b[0;34m.\u001b[0m\u001b[0mmaybe_init_scope\u001b[0m\u001b[0;34m(\u001b[0m\u001b[0mself\u001b[0m\u001b[0;34m)\u001b[0m\u001b[0;34m:\u001b[0m\u001b[0;34m\u001b[0m\u001b[0;34m\u001b[0m\u001b[0m\n\u001b[0;32m-> 2710\u001b[0;31m           \u001b[0mself\u001b[0m\u001b[0;34m.\u001b[0m\u001b[0mbuild\u001b[0m\u001b[0;34m(\u001b[0m\u001b[0minput_shapes\u001b[0m\u001b[0;34m)\u001b[0m  \u001b[0;31m# pylint:disable=not-callable\u001b[0m\u001b[0;34m\u001b[0m\u001b[0;34m\u001b[0m\u001b[0m\n\u001b[0m\u001b[1;32m   2711\u001b[0m       \u001b[0;31m# We must set also ensure that the layer is marked as built, and the build\u001b[0m\u001b[0;34m\u001b[0m\u001b[0;34m\u001b[0m\u001b[0;34m\u001b[0m\u001b[0m\n\u001b[1;32m   2712\u001b[0m       \u001b[0;31m# shape is stored since user defined build functions may not be calling\u001b[0m\u001b[0;34m\u001b[0m\u001b[0;34m\u001b[0m\u001b[0;34m\u001b[0m\u001b[0m\n",
      "\u001b[0;32m/commons/software/anaconda3/lib/python3.8/site-packages/tensorflow/python/keras/layers/convolutional.py\u001b[0m in \u001b[0;36mbuild\u001b[0;34m(self, input_shape)\u001b[0m\n\u001b[1;32m    196\u001b[0m                                        self.filters)\n\u001b[1;32m    197\u001b[0m \u001b[0;34m\u001b[0m\u001b[0m\n\u001b[0;32m--> 198\u001b[0;31m     self.kernel = self.add_weight(\n\u001b[0m\u001b[1;32m    199\u001b[0m         \u001b[0mname\u001b[0m\u001b[0;34m=\u001b[0m\u001b[0;34m'kernel'\u001b[0m\u001b[0;34m,\u001b[0m\u001b[0;34m\u001b[0m\u001b[0;34m\u001b[0m\u001b[0m\n\u001b[1;32m    200\u001b[0m         \u001b[0mshape\u001b[0m\u001b[0;34m=\u001b[0m\u001b[0mkernel_shape\u001b[0m\u001b[0;34m,\u001b[0m\u001b[0;34m\u001b[0m\u001b[0;34m\u001b[0m\u001b[0m\n",
      "\u001b[0;32m/commons/software/anaconda3/lib/python3.8/site-packages/tensorflow/python/keras/engine/base_layer.py\u001b[0m in \u001b[0;36madd_weight\u001b[0;34m(self, name, shape, dtype, initializer, regularizer, trainable, constraint, use_resource, synchronization, aggregation, **kwargs)\u001b[0m\n\u001b[1;32m    621\u001b[0m         \u001b[0mcaching_device\u001b[0m \u001b[0;34m=\u001b[0m \u001b[0;32mNone\u001b[0m\u001b[0;34m\u001b[0m\u001b[0;34m\u001b[0m\u001b[0m\n\u001b[1;32m    622\u001b[0m \u001b[0;34m\u001b[0m\u001b[0m\n\u001b[0;32m--> 623\u001b[0;31m     variable = self._add_variable_with_custom_getter(\n\u001b[0m\u001b[1;32m    624\u001b[0m         \u001b[0mname\u001b[0m\u001b[0;34m=\u001b[0m\u001b[0mname\u001b[0m\u001b[0;34m,\u001b[0m\u001b[0;34m\u001b[0m\u001b[0;34m\u001b[0m\u001b[0m\n\u001b[1;32m    625\u001b[0m         \u001b[0mshape\u001b[0m\u001b[0;34m=\u001b[0m\u001b[0mshape\u001b[0m\u001b[0;34m,\u001b[0m\u001b[0;34m\u001b[0m\u001b[0;34m\u001b[0m\u001b[0m\n",
      "\u001b[0;32m/commons/software/anaconda3/lib/python3.8/site-packages/tensorflow/python/training/tracking/base.py\u001b[0m in \u001b[0;36m_add_variable_with_custom_getter\u001b[0;34m(self, name, shape, dtype, initializer, getter, overwrite, **kwargs_for_getter)\u001b[0m\n\u001b[1;32m    803\u001b[0m         \u001b[0;31m# \"best effort\" to set the initializer with the highest restore UID.\u001b[0m\u001b[0;34m\u001b[0m\u001b[0;34m\u001b[0m\u001b[0;34m\u001b[0m\u001b[0m\n\u001b[1;32m    804\u001b[0m         \u001b[0minitializer\u001b[0m \u001b[0;34m=\u001b[0m \u001b[0mcheckpoint_initializer\u001b[0m\u001b[0;34m\u001b[0m\u001b[0;34m\u001b[0m\u001b[0m\n\u001b[0;32m--> 805\u001b[0;31m     new_variable = getter(\n\u001b[0m\u001b[1;32m    806\u001b[0m         \u001b[0mname\u001b[0m\u001b[0;34m=\u001b[0m\u001b[0mname\u001b[0m\u001b[0;34m,\u001b[0m\u001b[0;34m\u001b[0m\u001b[0;34m\u001b[0m\u001b[0m\n\u001b[1;32m    807\u001b[0m         \u001b[0mshape\u001b[0m\u001b[0;34m=\u001b[0m\u001b[0mshape\u001b[0m\u001b[0;34m,\u001b[0m\u001b[0;34m\u001b[0m\u001b[0;34m\u001b[0m\u001b[0m\n",
      "\u001b[0;32m/commons/software/anaconda3/lib/python3.8/site-packages/tensorflow/python/keras/engine/base_layer_utils.py\u001b[0m in \u001b[0;36mmake_variable\u001b[0;34m(name, shape, dtype, initializer, trainable, caching_device, validate_shape, constraint, use_resource, collections, synchronization, aggregation, partitioner)\u001b[0m\n\u001b[1;32m    128\u001b[0m   \u001b[0;31m# can remove the V1.\u001b[0m\u001b[0;34m\u001b[0m\u001b[0;34m\u001b[0m\u001b[0;34m\u001b[0m\u001b[0m\n\u001b[1;32m    129\u001b[0m   \u001b[0mvariable_shape\u001b[0m \u001b[0;34m=\u001b[0m \u001b[0mtensor_shape\u001b[0m\u001b[0;34m.\u001b[0m\u001b[0mTensorShape\u001b[0m\u001b[0;34m(\u001b[0m\u001b[0mshape\u001b[0m\u001b[0;34m)\u001b[0m\u001b[0;34m\u001b[0m\u001b[0;34m\u001b[0m\u001b[0m\n\u001b[0;32m--> 130\u001b[0;31m   return tf_variables.VariableV1(\n\u001b[0m\u001b[1;32m    131\u001b[0m       \u001b[0minitial_value\u001b[0m\u001b[0;34m=\u001b[0m\u001b[0minit_val\u001b[0m\u001b[0;34m,\u001b[0m\u001b[0;34m\u001b[0m\u001b[0;34m\u001b[0m\u001b[0m\n\u001b[1;32m    132\u001b[0m       \u001b[0mname\u001b[0m\u001b[0;34m=\u001b[0m\u001b[0mname\u001b[0m\u001b[0;34m,\u001b[0m\u001b[0;34m\u001b[0m\u001b[0;34m\u001b[0m\u001b[0m\n",
      "\u001b[0;32m/commons/software/anaconda3/lib/python3.8/site-packages/tensorflow/python/ops/variables.py\u001b[0m in \u001b[0;36m__call__\u001b[0;34m(cls, *args, **kwargs)\u001b[0m\n\u001b[1;32m    258\u001b[0m   \u001b[0;32mdef\u001b[0m \u001b[0m__call__\u001b[0m\u001b[0;34m(\u001b[0m\u001b[0mcls\u001b[0m\u001b[0;34m,\u001b[0m \u001b[0;34m*\u001b[0m\u001b[0margs\u001b[0m\u001b[0;34m,\u001b[0m \u001b[0;34m**\u001b[0m\u001b[0mkwargs\u001b[0m\u001b[0;34m)\u001b[0m\u001b[0;34m:\u001b[0m\u001b[0;34m\u001b[0m\u001b[0;34m\u001b[0m\u001b[0m\n\u001b[1;32m    259\u001b[0m     \u001b[0;32mif\u001b[0m \u001b[0mcls\u001b[0m \u001b[0;32mis\u001b[0m \u001b[0mVariableV1\u001b[0m\u001b[0;34m:\u001b[0m\u001b[0;34m\u001b[0m\u001b[0;34m\u001b[0m\u001b[0m\n\u001b[0;32m--> 260\u001b[0;31m       \u001b[0;32mreturn\u001b[0m \u001b[0mcls\u001b[0m\u001b[0;34m.\u001b[0m\u001b[0m_variable_v1_call\u001b[0m\u001b[0;34m(\u001b[0m\u001b[0;34m*\u001b[0m\u001b[0margs\u001b[0m\u001b[0;34m,\u001b[0m \u001b[0;34m**\u001b[0m\u001b[0mkwargs\u001b[0m\u001b[0;34m)\u001b[0m\u001b[0;34m\u001b[0m\u001b[0;34m\u001b[0m\u001b[0m\n\u001b[0m\u001b[1;32m    261\u001b[0m     \u001b[0;32melif\u001b[0m \u001b[0mcls\u001b[0m \u001b[0;32mis\u001b[0m \u001b[0mVariable\u001b[0m\u001b[0;34m:\u001b[0m\u001b[0;34m\u001b[0m\u001b[0;34m\u001b[0m\u001b[0m\n\u001b[1;32m    262\u001b[0m       \u001b[0;32mreturn\u001b[0m \u001b[0mcls\u001b[0m\u001b[0;34m.\u001b[0m\u001b[0m_variable_v2_call\u001b[0m\u001b[0;34m(\u001b[0m\u001b[0;34m*\u001b[0m\u001b[0margs\u001b[0m\u001b[0;34m,\u001b[0m \u001b[0;34m**\u001b[0m\u001b[0mkwargs\u001b[0m\u001b[0;34m)\u001b[0m\u001b[0;34m\u001b[0m\u001b[0;34m\u001b[0m\u001b[0m\n",
      "\u001b[0;32m/commons/software/anaconda3/lib/python3.8/site-packages/tensorflow/python/ops/variables.py\u001b[0m in \u001b[0;36m_variable_v1_call\u001b[0;34m(cls, initial_value, trainable, collections, validate_shape, caching_device, name, variable_def, dtype, expected_shape, import_scope, constraint, use_resource, synchronization, aggregation, shape)\u001b[0m\n\u001b[1;32m    204\u001b[0m     \u001b[0;32mif\u001b[0m \u001b[0maggregation\u001b[0m \u001b[0;32mis\u001b[0m \u001b[0;32mNone\u001b[0m\u001b[0;34m:\u001b[0m\u001b[0;34m\u001b[0m\u001b[0;34m\u001b[0m\u001b[0m\n\u001b[1;32m    205\u001b[0m       \u001b[0maggregation\u001b[0m \u001b[0;34m=\u001b[0m \u001b[0mVariableAggregation\u001b[0m\u001b[0;34m.\u001b[0m\u001b[0mNONE\u001b[0m\u001b[0;34m\u001b[0m\u001b[0;34m\u001b[0m\u001b[0m\n\u001b[0;32m--> 206\u001b[0;31m     return previous_getter(\n\u001b[0m\u001b[1;32m    207\u001b[0m         \u001b[0minitial_value\u001b[0m\u001b[0;34m=\u001b[0m\u001b[0minitial_value\u001b[0m\u001b[0;34m,\u001b[0m\u001b[0;34m\u001b[0m\u001b[0;34m\u001b[0m\u001b[0m\n\u001b[1;32m    208\u001b[0m         \u001b[0mtrainable\u001b[0m\u001b[0;34m=\u001b[0m\u001b[0mtrainable\u001b[0m\u001b[0;34m,\u001b[0m\u001b[0;34m\u001b[0m\u001b[0;34m\u001b[0m\u001b[0m\n",
      "\u001b[0;32m/commons/software/anaconda3/lib/python3.8/site-packages/tensorflow/python/ops/variables.py\u001b[0m in \u001b[0;36m<lambda>\u001b[0;34m(**kwargs)\u001b[0m\n\u001b[1;32m    197\u001b[0m                         shape=None):\n\u001b[1;32m    198\u001b[0m     \u001b[0;34m\"\"\"Call on Variable class. Useful to force the signature.\"\"\"\u001b[0m\u001b[0;34m\u001b[0m\u001b[0;34m\u001b[0m\u001b[0m\n\u001b[0;32m--> 199\u001b[0;31m     \u001b[0mprevious_getter\u001b[0m \u001b[0;34m=\u001b[0m \u001b[0;32mlambda\u001b[0m \u001b[0;34m**\u001b[0m\u001b[0mkwargs\u001b[0m\u001b[0;34m:\u001b[0m \u001b[0mdefault_variable_creator\u001b[0m\u001b[0;34m(\u001b[0m\u001b[0;32mNone\u001b[0m\u001b[0;34m,\u001b[0m \u001b[0;34m**\u001b[0m\u001b[0mkwargs\u001b[0m\u001b[0;34m)\u001b[0m\u001b[0;34m\u001b[0m\u001b[0;34m\u001b[0m\u001b[0m\n\u001b[0m\u001b[1;32m    200\u001b[0m     \u001b[0;32mfor\u001b[0m \u001b[0m_\u001b[0m\u001b[0;34m,\u001b[0m \u001b[0mgetter\u001b[0m \u001b[0;32min\u001b[0m \u001b[0mops\u001b[0m\u001b[0;34m.\u001b[0m\u001b[0mget_default_graph\u001b[0m\u001b[0;34m(\u001b[0m\u001b[0;34m)\u001b[0m\u001b[0;34m.\u001b[0m\u001b[0m_variable_creator_stack\u001b[0m\u001b[0;34m:\u001b[0m  \u001b[0;31m# pylint: disable=protected-access\u001b[0m\u001b[0;34m\u001b[0m\u001b[0;34m\u001b[0m\u001b[0m\n\u001b[1;32m    201\u001b[0m       \u001b[0mprevious_getter\u001b[0m \u001b[0;34m=\u001b[0m \u001b[0m_make_getter\u001b[0m\u001b[0;34m(\u001b[0m\u001b[0mgetter\u001b[0m\u001b[0;34m,\u001b[0m \u001b[0mprevious_getter\u001b[0m\u001b[0;34m)\u001b[0m\u001b[0;34m\u001b[0m\u001b[0;34m\u001b[0m\u001b[0m\n",
      "\u001b[0;32m/commons/software/anaconda3/lib/python3.8/site-packages/tensorflow/python/ops/variable_scope.py\u001b[0m in \u001b[0;36mdefault_variable_creator\u001b[0;34m(next_creator, **kwargs)\u001b[0m\n\u001b[1;32m   2602\u001b[0m   \u001b[0;32mif\u001b[0m \u001b[0muse_resource\u001b[0m\u001b[0;34m:\u001b[0m\u001b[0;34m\u001b[0m\u001b[0;34m\u001b[0m\u001b[0m\n\u001b[1;32m   2603\u001b[0m     \u001b[0mdistribute_strategy\u001b[0m \u001b[0;34m=\u001b[0m \u001b[0mkwargs\u001b[0m\u001b[0;34m.\u001b[0m\u001b[0mget\u001b[0m\u001b[0;34m(\u001b[0m\u001b[0;34m\"distribute_strategy\"\u001b[0m\u001b[0;34m,\u001b[0m \u001b[0;32mNone\u001b[0m\u001b[0;34m)\u001b[0m\u001b[0;34m\u001b[0m\u001b[0;34m\u001b[0m\u001b[0m\n\u001b[0;32m-> 2604\u001b[0;31m     return resource_variable_ops.ResourceVariable(\n\u001b[0m\u001b[1;32m   2605\u001b[0m         \u001b[0minitial_value\u001b[0m\u001b[0;34m=\u001b[0m\u001b[0minitial_value\u001b[0m\u001b[0;34m,\u001b[0m\u001b[0;34m\u001b[0m\u001b[0;34m\u001b[0m\u001b[0m\n\u001b[1;32m   2606\u001b[0m         \u001b[0mtrainable\u001b[0m\u001b[0;34m=\u001b[0m\u001b[0mtrainable\u001b[0m\u001b[0;34m,\u001b[0m\u001b[0;34m\u001b[0m\u001b[0;34m\u001b[0m\u001b[0m\n",
      "\u001b[0;32m/commons/software/anaconda3/lib/python3.8/site-packages/tensorflow/python/ops/variables.py\u001b[0m in \u001b[0;36m__call__\u001b[0;34m(cls, *args, **kwargs)\u001b[0m\n\u001b[1;32m    262\u001b[0m       \u001b[0;32mreturn\u001b[0m \u001b[0mcls\u001b[0m\u001b[0;34m.\u001b[0m\u001b[0m_variable_v2_call\u001b[0m\u001b[0;34m(\u001b[0m\u001b[0;34m*\u001b[0m\u001b[0margs\u001b[0m\u001b[0;34m,\u001b[0m \u001b[0;34m**\u001b[0m\u001b[0mkwargs\u001b[0m\u001b[0;34m)\u001b[0m\u001b[0;34m\u001b[0m\u001b[0;34m\u001b[0m\u001b[0m\n\u001b[1;32m    263\u001b[0m     \u001b[0;32melse\u001b[0m\u001b[0;34m:\u001b[0m\u001b[0;34m\u001b[0m\u001b[0;34m\u001b[0m\u001b[0m\n\u001b[0;32m--> 264\u001b[0;31m       \u001b[0;32mreturn\u001b[0m \u001b[0msuper\u001b[0m\u001b[0;34m(\u001b[0m\u001b[0mVariableMetaclass\u001b[0m\u001b[0;34m,\u001b[0m \u001b[0mcls\u001b[0m\u001b[0;34m)\u001b[0m\u001b[0;34m.\u001b[0m\u001b[0m__call__\u001b[0m\u001b[0;34m(\u001b[0m\u001b[0;34m*\u001b[0m\u001b[0margs\u001b[0m\u001b[0;34m,\u001b[0m \u001b[0;34m**\u001b[0m\u001b[0mkwargs\u001b[0m\u001b[0;34m)\u001b[0m\u001b[0;34m\u001b[0m\u001b[0;34m\u001b[0m\u001b[0m\n\u001b[0m\u001b[1;32m    265\u001b[0m \u001b[0;34m\u001b[0m\u001b[0m\n\u001b[1;32m    266\u001b[0m \u001b[0;34m\u001b[0m\u001b[0m\n",
      "\u001b[0;32m/commons/software/anaconda3/lib/python3.8/site-packages/tensorflow/python/ops/resource_variable_ops.py\u001b[0m in \u001b[0;36m__init__\u001b[0;34m(self, initial_value, trainable, collections, validate_shape, caching_device, name, dtype, variable_def, import_scope, constraint, distribute_strategy, synchronization, aggregation, shape)\u001b[0m\n\u001b[1;32m   1572\u001b[0m       \u001b[0mself\u001b[0m\u001b[0;34m.\u001b[0m\u001b[0m_init_from_proto\u001b[0m\u001b[0;34m(\u001b[0m\u001b[0mvariable_def\u001b[0m\u001b[0;34m,\u001b[0m \u001b[0mimport_scope\u001b[0m\u001b[0;34m=\u001b[0m\u001b[0mimport_scope\u001b[0m\u001b[0;34m)\u001b[0m\u001b[0;34m\u001b[0m\u001b[0;34m\u001b[0m\u001b[0m\n\u001b[1;32m   1573\u001b[0m     \u001b[0;32melse\u001b[0m\u001b[0;34m:\u001b[0m\u001b[0;34m\u001b[0m\u001b[0;34m\u001b[0m\u001b[0m\n\u001b[0;32m-> 1574\u001b[0;31m       self._init_from_args(\n\u001b[0m\u001b[1;32m   1575\u001b[0m           \u001b[0minitial_value\u001b[0m\u001b[0;34m=\u001b[0m\u001b[0minitial_value\u001b[0m\u001b[0;34m,\u001b[0m\u001b[0;34m\u001b[0m\u001b[0;34m\u001b[0m\u001b[0m\n\u001b[1;32m   1576\u001b[0m           \u001b[0mtrainable\u001b[0m\u001b[0;34m=\u001b[0m\u001b[0mtrainable\u001b[0m\u001b[0;34m,\u001b[0m\u001b[0;34m\u001b[0m\u001b[0;34m\u001b[0m\u001b[0m\n",
      "\u001b[0;32m/commons/software/anaconda3/lib/python3.8/site-packages/tensorflow/python/ops/resource_variable_ops.py\u001b[0m in \u001b[0;36m_init_from_args\u001b[0;34m(self, initial_value, trainable, collections, caching_device, name, dtype, constraint, synchronization, aggregation, distribute_strategy, shape)\u001b[0m\n\u001b[1;32m   1710\u001b[0m           \u001b[0;32mwith\u001b[0m \u001b[0mops\u001b[0m\u001b[0;34m.\u001b[0m\u001b[0mname_scope\u001b[0m\u001b[0;34m(\u001b[0m\u001b[0;34m\"Initializer\"\u001b[0m\u001b[0;34m)\u001b[0m\u001b[0;34m,\u001b[0m \u001b[0mdevice_context_manager\u001b[0m\u001b[0;34m(\u001b[0m\u001b[0;32mNone\u001b[0m\u001b[0;34m)\u001b[0m\u001b[0;34m:\u001b[0m\u001b[0;34m\u001b[0m\u001b[0;34m\u001b[0m\u001b[0m\n\u001b[1;32m   1711\u001b[0m             \u001b[0;32mif\u001b[0m \u001b[0minit_from_fn\u001b[0m\u001b[0;34m:\u001b[0m\u001b[0;34m\u001b[0m\u001b[0;34m\u001b[0m\u001b[0m\n\u001b[0;32m-> 1712\u001b[0;31m               \u001b[0minitial_value\u001b[0m \u001b[0;34m=\u001b[0m \u001b[0minitial_value\u001b[0m\u001b[0;34m(\u001b[0m\u001b[0;34m)\u001b[0m\u001b[0;34m\u001b[0m\u001b[0;34m\u001b[0m\u001b[0m\n\u001b[0m\u001b[1;32m   1713\u001b[0m             \u001b[0;32mif\u001b[0m \u001b[0misinstance\u001b[0m\u001b[0;34m(\u001b[0m\u001b[0minitial_value\u001b[0m\u001b[0;34m,\u001b[0m \u001b[0mtrackable\u001b[0m\u001b[0;34m.\u001b[0m\u001b[0mCheckpointInitialValue\u001b[0m\u001b[0;34m)\u001b[0m\u001b[0;34m:\u001b[0m\u001b[0;34m\u001b[0m\u001b[0;34m\u001b[0m\u001b[0m\n\u001b[1;32m   1714\u001b[0m               \u001b[0mself\u001b[0m\u001b[0;34m.\u001b[0m\u001b[0m_maybe_initialize_trackable\u001b[0m\u001b[0;34m(\u001b[0m\u001b[0;34m)\u001b[0m\u001b[0;34m\u001b[0m\u001b[0;34m\u001b[0m\u001b[0m\n",
      "\u001b[0;32m/commons/software/anaconda3/lib/python3.8/site-packages/tensorflow/python/keras/initializers/initializers_v2.py\u001b[0m in \u001b[0;36m__call__\u001b[0;34m(self, shape, dtype, **kwargs)\u001b[0m\n\u001b[1;32m    407\u001b[0m       \u001b[0;34m**\u001b[0m\u001b[0mkwargs\u001b[0m\u001b[0;34m:\u001b[0m \u001b[0mAdditional\u001b[0m \u001b[0mkeyword\u001b[0m \u001b[0marguments\u001b[0m\u001b[0;34m.\u001b[0m\u001b[0;34m\u001b[0m\u001b[0;34m\u001b[0m\u001b[0m\n\u001b[1;32m    408\u001b[0m     \"\"\"\n\u001b[0;32m--> 409\u001b[0;31m     return super(VarianceScaling, self).__call__(\n\u001b[0m\u001b[1;32m    410\u001b[0m         shape, dtype=_get_dtype(dtype), **kwargs)\n\u001b[1;32m    411\u001b[0m \u001b[0;34m\u001b[0m\u001b[0m\n",
      "\u001b[0;32m/commons/software/anaconda3/lib/python3.8/site-packages/tensorflow/python/ops/init_ops_v2.py\u001b[0m in \u001b[0;36m__call__\u001b[0;34m(self, shape, dtype, **kwargs)\u001b[0m\n\u001b[1;32m    598\u001b[0m     \u001b[0;32melse\u001b[0m\u001b[0;34m:\u001b[0m\u001b[0;34m\u001b[0m\u001b[0;34m\u001b[0m\u001b[0m\n\u001b[1;32m    599\u001b[0m       \u001b[0mlimit\u001b[0m \u001b[0;34m=\u001b[0m \u001b[0mmath\u001b[0m\u001b[0;34m.\u001b[0m\u001b[0msqrt\u001b[0m\u001b[0;34m(\u001b[0m\u001b[0;36m3.0\u001b[0m \u001b[0;34m*\u001b[0m \u001b[0mscale\u001b[0m\u001b[0;34m)\u001b[0m\u001b[0;34m\u001b[0m\u001b[0;34m\u001b[0m\u001b[0m\n\u001b[0;32m--> 600\u001b[0;31m       \u001b[0;32mreturn\u001b[0m \u001b[0mself\u001b[0m\u001b[0;34m.\u001b[0m\u001b[0m_random_generator\u001b[0m\u001b[0;34m.\u001b[0m\u001b[0mrandom_uniform\u001b[0m\u001b[0;34m(\u001b[0m\u001b[0mshape\u001b[0m\u001b[0;34m,\u001b[0m \u001b[0;34m-\u001b[0m\u001b[0mlimit\u001b[0m\u001b[0;34m,\u001b[0m \u001b[0mlimit\u001b[0m\u001b[0;34m,\u001b[0m \u001b[0mdtype\u001b[0m\u001b[0;34m)\u001b[0m\u001b[0;34m\u001b[0m\u001b[0;34m\u001b[0m\u001b[0m\n\u001b[0m\u001b[1;32m    601\u001b[0m \u001b[0;34m\u001b[0m\u001b[0m\n\u001b[1;32m    602\u001b[0m   \u001b[0;32mdef\u001b[0m \u001b[0mget_config\u001b[0m\u001b[0;34m(\u001b[0m\u001b[0mself\u001b[0m\u001b[0;34m)\u001b[0m\u001b[0;34m:\u001b[0m\u001b[0;34m\u001b[0m\u001b[0;34m\u001b[0m\u001b[0m\n",
      "\u001b[0;32m/commons/software/anaconda3/lib/python3.8/site-packages/tensorflow/python/ops/init_ops_v2.py\u001b[0m in \u001b[0;36mrandom_uniform\u001b[0;34m(self, shape, minval, maxval, dtype)\u001b[0m\n\u001b[1;32m   1079\u001b[0m     \u001b[0;32melse\u001b[0m\u001b[0;34m:\u001b[0m\u001b[0;34m\u001b[0m\u001b[0;34m\u001b[0m\u001b[0m\n\u001b[1;32m   1080\u001b[0m       \u001b[0mop\u001b[0m \u001b[0;34m=\u001b[0m \u001b[0mrandom_ops\u001b[0m\u001b[0;34m.\u001b[0m\u001b[0mrandom_uniform\u001b[0m\u001b[0;34m\u001b[0m\u001b[0;34m\u001b[0m\u001b[0m\n\u001b[0;32m-> 1081\u001b[0;31m     return op(\n\u001b[0m\u001b[1;32m   1082\u001b[0m         shape=shape, minval=minval, maxval=maxval, dtype=dtype, seed=self.seed)\n\u001b[1;32m   1083\u001b[0m \u001b[0;34m\u001b[0m\u001b[0m\n",
      "\u001b[0;32m/commons/software/anaconda3/lib/python3.8/site-packages/tensorflow/python/util/dispatch.py\u001b[0m in \u001b[0;36mwrapper\u001b[0;34m(*args, **kwargs)\u001b[0m\n\u001b[1;32m    199\u001b[0m     \u001b[0;34m\"\"\"Call target, and fall back on dispatchers if there is a TypeError.\"\"\"\u001b[0m\u001b[0;34m\u001b[0m\u001b[0;34m\u001b[0m\u001b[0m\n\u001b[1;32m    200\u001b[0m     \u001b[0;32mtry\u001b[0m\u001b[0;34m:\u001b[0m\u001b[0;34m\u001b[0m\u001b[0;34m\u001b[0m\u001b[0m\n\u001b[0;32m--> 201\u001b[0;31m       \u001b[0;32mreturn\u001b[0m \u001b[0mtarget\u001b[0m\u001b[0;34m(\u001b[0m\u001b[0;34m*\u001b[0m\u001b[0margs\u001b[0m\u001b[0;34m,\u001b[0m \u001b[0;34m**\u001b[0m\u001b[0mkwargs\u001b[0m\u001b[0;34m)\u001b[0m\u001b[0;34m\u001b[0m\u001b[0;34m\u001b[0m\u001b[0m\n\u001b[0m\u001b[1;32m    202\u001b[0m     \u001b[0;32mexcept\u001b[0m \u001b[0;34m(\u001b[0m\u001b[0mTypeError\u001b[0m\u001b[0;34m,\u001b[0m \u001b[0mValueError\u001b[0m\u001b[0;34m)\u001b[0m\u001b[0;34m:\u001b[0m\u001b[0;34m\u001b[0m\u001b[0;34m\u001b[0m\u001b[0m\n\u001b[1;32m    203\u001b[0m       \u001b[0;31m# Note: convert_to_eager_tensor currently raises a ValueError, not a\u001b[0m\u001b[0;34m\u001b[0m\u001b[0;34m\u001b[0m\u001b[0;34m\u001b[0m\u001b[0m\n",
      "\u001b[0;32m/commons/software/anaconda3/lib/python3.8/site-packages/tensorflow/python/ops/random_ops.py\u001b[0m in \u001b[0;36mrandom_uniform\u001b[0;34m(shape, minval, maxval, dtype, seed, name)\u001b[0m\n\u001b[1;32m    287\u001b[0m     \u001b[0mmaxval\u001b[0m \u001b[0;34m=\u001b[0m \u001b[0;36m1\u001b[0m\u001b[0;34m\u001b[0m\u001b[0;34m\u001b[0m\u001b[0m\n\u001b[1;32m    288\u001b[0m   \u001b[0;32mwith\u001b[0m \u001b[0mops\u001b[0m\u001b[0;34m.\u001b[0m\u001b[0mname_scope\u001b[0m\u001b[0;34m(\u001b[0m\u001b[0mname\u001b[0m\u001b[0;34m,\u001b[0m \u001b[0;34m\"random_uniform\"\u001b[0m\u001b[0;34m,\u001b[0m \u001b[0;34m[\u001b[0m\u001b[0mshape\u001b[0m\u001b[0;34m,\u001b[0m \u001b[0mminval\u001b[0m\u001b[0;34m,\u001b[0m \u001b[0mmaxval\u001b[0m\u001b[0;34m]\u001b[0m\u001b[0;34m)\u001b[0m \u001b[0;32mas\u001b[0m \u001b[0mname\u001b[0m\u001b[0;34m:\u001b[0m\u001b[0;34m\u001b[0m\u001b[0;34m\u001b[0m\u001b[0m\n\u001b[0;32m--> 289\u001b[0;31m     \u001b[0mshape\u001b[0m \u001b[0;34m=\u001b[0m \u001b[0mtensor_util\u001b[0m\u001b[0;34m.\u001b[0m\u001b[0mshape_tensor\u001b[0m\u001b[0;34m(\u001b[0m\u001b[0mshape\u001b[0m\u001b[0;34m)\u001b[0m\u001b[0;34m\u001b[0m\u001b[0;34m\u001b[0m\u001b[0m\n\u001b[0m\u001b[1;32m    290\u001b[0m     \u001b[0;31m# In case of [0,1) floating results, minval and maxval is unused. We do an\u001b[0m\u001b[0;34m\u001b[0m\u001b[0;34m\u001b[0m\u001b[0;34m\u001b[0m\u001b[0m\n\u001b[1;32m    291\u001b[0m     \u001b[0;31m# `is` comparison here since this is cheaper than isinstance or  __eq__.\u001b[0m\u001b[0;34m\u001b[0m\u001b[0;34m\u001b[0m\u001b[0;34m\u001b[0m\u001b[0m\n",
      "\u001b[0;32m/commons/software/anaconda3/lib/python3.8/site-packages/tensorflow/python/framework/tensor_util.py\u001b[0m in \u001b[0;36mshape_tensor\u001b[0;34m(shape)\u001b[0m\n\u001b[1;32m   1033\u001b[0m       \u001b[0;31m# not convertible to Tensors because of mixed content.\u001b[0m\u001b[0;34m\u001b[0m\u001b[0;34m\u001b[0m\u001b[0;34m\u001b[0m\u001b[0m\n\u001b[1;32m   1034\u001b[0m       \u001b[0mshape\u001b[0m \u001b[0;34m=\u001b[0m \u001b[0mtuple\u001b[0m\u001b[0;34m(\u001b[0m\u001b[0mmap\u001b[0m\u001b[0;34m(\u001b[0m\u001b[0mtensor_shape\u001b[0m\u001b[0;34m.\u001b[0m\u001b[0mdimension_value\u001b[0m\u001b[0;34m,\u001b[0m \u001b[0mshape\u001b[0m\u001b[0;34m)\u001b[0m\u001b[0;34m)\u001b[0m\u001b[0;34m\u001b[0m\u001b[0;34m\u001b[0m\u001b[0m\n\u001b[0;32m-> 1035\u001b[0;31m   \u001b[0;32mreturn\u001b[0m \u001b[0mops\u001b[0m\u001b[0;34m.\u001b[0m\u001b[0mconvert_to_tensor\u001b[0m\u001b[0;34m(\u001b[0m\u001b[0mshape\u001b[0m\u001b[0;34m,\u001b[0m \u001b[0mdtype\u001b[0m\u001b[0;34m=\u001b[0m\u001b[0mdtype\u001b[0m\u001b[0;34m,\u001b[0m \u001b[0mname\u001b[0m\u001b[0;34m=\u001b[0m\u001b[0;34m\"shape\"\u001b[0m\u001b[0;34m)\u001b[0m\u001b[0;34m\u001b[0m\u001b[0;34m\u001b[0m\u001b[0m\n\u001b[0m\u001b[1;32m   1036\u001b[0m \u001b[0;34m\u001b[0m\u001b[0m\n\u001b[1;32m   1037\u001b[0m \u001b[0;34m\u001b[0m\u001b[0m\n",
      "\u001b[0;32m/commons/software/anaconda3/lib/python3.8/site-packages/tensorflow/python/profiler/trace.py\u001b[0m in \u001b[0;36mwrapped\u001b[0;34m(*args, **kwargs)\u001b[0m\n\u001b[1;32m    161\u001b[0m         \u001b[0;32mwith\u001b[0m \u001b[0mTrace\u001b[0m\u001b[0;34m(\u001b[0m\u001b[0mtrace_name\u001b[0m\u001b[0;34m,\u001b[0m \u001b[0;34m**\u001b[0m\u001b[0mtrace_kwargs\u001b[0m\u001b[0;34m)\u001b[0m\u001b[0;34m:\u001b[0m\u001b[0;34m\u001b[0m\u001b[0;34m\u001b[0m\u001b[0m\n\u001b[1;32m    162\u001b[0m           \u001b[0;32mreturn\u001b[0m \u001b[0mfunc\u001b[0m\u001b[0;34m(\u001b[0m\u001b[0;34m*\u001b[0m\u001b[0margs\u001b[0m\u001b[0;34m,\u001b[0m \u001b[0;34m**\u001b[0m\u001b[0mkwargs\u001b[0m\u001b[0;34m)\u001b[0m\u001b[0;34m\u001b[0m\u001b[0;34m\u001b[0m\u001b[0m\n\u001b[0;32m--> 163\u001b[0;31m       \u001b[0;32mreturn\u001b[0m \u001b[0mfunc\u001b[0m\u001b[0;34m(\u001b[0m\u001b[0;34m*\u001b[0m\u001b[0margs\u001b[0m\u001b[0;34m,\u001b[0m \u001b[0;34m**\u001b[0m\u001b[0mkwargs\u001b[0m\u001b[0;34m)\u001b[0m\u001b[0;34m\u001b[0m\u001b[0;34m\u001b[0m\u001b[0m\n\u001b[0m\u001b[1;32m    164\u001b[0m \u001b[0;34m\u001b[0m\u001b[0m\n\u001b[1;32m    165\u001b[0m     \u001b[0;32mreturn\u001b[0m \u001b[0mwrapped\u001b[0m\u001b[0;34m\u001b[0m\u001b[0;34m\u001b[0m\u001b[0m\n",
      "\u001b[0;32m/commons/software/anaconda3/lib/python3.8/site-packages/tensorflow/python/framework/ops.py\u001b[0m in \u001b[0;36mconvert_to_tensor\u001b[0;34m(value, dtype, name, as_ref, preferred_dtype, dtype_hint, ctx, accepted_result_types)\u001b[0m\n\u001b[1;32m   1538\u001b[0m \u001b[0;34m\u001b[0m\u001b[0m\n\u001b[1;32m   1539\u001b[0m     \u001b[0;32mif\u001b[0m \u001b[0mret\u001b[0m \u001b[0;32mis\u001b[0m \u001b[0;32mNone\u001b[0m\u001b[0;34m:\u001b[0m\u001b[0;34m\u001b[0m\u001b[0;34m\u001b[0m\u001b[0m\n\u001b[0;32m-> 1540\u001b[0;31m       \u001b[0mret\u001b[0m \u001b[0;34m=\u001b[0m \u001b[0mconversion_func\u001b[0m\u001b[0;34m(\u001b[0m\u001b[0mvalue\u001b[0m\u001b[0;34m,\u001b[0m \u001b[0mdtype\u001b[0m\u001b[0;34m=\u001b[0m\u001b[0mdtype\u001b[0m\u001b[0;34m,\u001b[0m \u001b[0mname\u001b[0m\u001b[0;34m=\u001b[0m\u001b[0mname\u001b[0m\u001b[0;34m,\u001b[0m \u001b[0mas_ref\u001b[0m\u001b[0;34m=\u001b[0m\u001b[0mas_ref\u001b[0m\u001b[0;34m)\u001b[0m\u001b[0;34m\u001b[0m\u001b[0;34m\u001b[0m\u001b[0m\n\u001b[0m\u001b[1;32m   1541\u001b[0m \u001b[0;34m\u001b[0m\u001b[0m\n\u001b[1;32m   1542\u001b[0m     \u001b[0;32mif\u001b[0m \u001b[0mret\u001b[0m \u001b[0;32mis\u001b[0m \u001b[0mNotImplemented\u001b[0m\u001b[0;34m:\u001b[0m\u001b[0;34m\u001b[0m\u001b[0;34m\u001b[0m\u001b[0m\n",
      "\u001b[0;32m/commons/software/anaconda3/lib/python3.8/site-packages/tensorflow/python/framework/constant_op.py\u001b[0m in \u001b[0;36m_constant_tensor_conversion_function\u001b[0;34m(v, dtype, name, as_ref)\u001b[0m\n\u001b[1;32m    337\u001b[0m                                          as_ref=False):\n\u001b[1;32m    338\u001b[0m   \u001b[0m_\u001b[0m \u001b[0;34m=\u001b[0m \u001b[0mas_ref\u001b[0m\u001b[0;34m\u001b[0m\u001b[0;34m\u001b[0m\u001b[0m\n\u001b[0;32m--> 339\u001b[0;31m   \u001b[0;32mreturn\u001b[0m \u001b[0mconstant\u001b[0m\u001b[0;34m(\u001b[0m\u001b[0mv\u001b[0m\u001b[0;34m,\u001b[0m \u001b[0mdtype\u001b[0m\u001b[0;34m=\u001b[0m\u001b[0mdtype\u001b[0m\u001b[0;34m,\u001b[0m \u001b[0mname\u001b[0m\u001b[0;34m=\u001b[0m\u001b[0mname\u001b[0m\u001b[0;34m)\u001b[0m\u001b[0;34m\u001b[0m\u001b[0;34m\u001b[0m\u001b[0m\n\u001b[0m\u001b[1;32m    340\u001b[0m \u001b[0;34m\u001b[0m\u001b[0m\n\u001b[1;32m    341\u001b[0m \u001b[0;34m\u001b[0m\u001b[0m\n",
      "\u001b[0;32m/commons/software/anaconda3/lib/python3.8/site-packages/tensorflow/python/framework/constant_op.py\u001b[0m in \u001b[0;36mconstant\u001b[0;34m(value, dtype, shape, name)\u001b[0m\n\u001b[1;32m    262\u001b[0m     \u001b[0mValueError\u001b[0m\u001b[0;34m:\u001b[0m \u001b[0;32mif\u001b[0m \u001b[0mcalled\u001b[0m \u001b[0mon\u001b[0m \u001b[0ma\u001b[0m \u001b[0msymbolic\u001b[0m \u001b[0mtensor\u001b[0m\u001b[0;34m.\u001b[0m\u001b[0;34m\u001b[0m\u001b[0;34m\u001b[0m\u001b[0m\n\u001b[1;32m    263\u001b[0m   \"\"\"\n\u001b[0;32m--> 264\u001b[0;31m   return _constant_impl(value, dtype, shape, name, verify_shape=False,\n\u001b[0m\u001b[1;32m    265\u001b[0m                         allow_broadcast=True)\n\u001b[1;32m    266\u001b[0m \u001b[0;34m\u001b[0m\u001b[0m\n",
      "\u001b[0;32m/commons/software/anaconda3/lib/python3.8/site-packages/tensorflow/python/framework/constant_op.py\u001b[0m in \u001b[0;36m_constant_impl\u001b[0;34m(value, dtype, shape, name, verify_shape, allow_broadcast)\u001b[0m\n\u001b[1;32m    274\u001b[0m       \u001b[0;32mwith\u001b[0m \u001b[0mtrace\u001b[0m\u001b[0;34m.\u001b[0m\u001b[0mTrace\u001b[0m\u001b[0;34m(\u001b[0m\u001b[0;34m\"tf.constant\"\u001b[0m\u001b[0;34m)\u001b[0m\u001b[0;34m:\u001b[0m\u001b[0;34m\u001b[0m\u001b[0;34m\u001b[0m\u001b[0m\n\u001b[1;32m    275\u001b[0m         \u001b[0;32mreturn\u001b[0m \u001b[0m_constant_eager_impl\u001b[0m\u001b[0;34m(\u001b[0m\u001b[0mctx\u001b[0m\u001b[0;34m,\u001b[0m \u001b[0mvalue\u001b[0m\u001b[0;34m,\u001b[0m \u001b[0mdtype\u001b[0m\u001b[0;34m,\u001b[0m \u001b[0mshape\u001b[0m\u001b[0;34m,\u001b[0m \u001b[0mverify_shape\u001b[0m\u001b[0;34m)\u001b[0m\u001b[0;34m\u001b[0m\u001b[0;34m\u001b[0m\u001b[0m\n\u001b[0;32m--> 276\u001b[0;31m     \u001b[0;32mreturn\u001b[0m \u001b[0m_constant_eager_impl\u001b[0m\u001b[0;34m(\u001b[0m\u001b[0mctx\u001b[0m\u001b[0;34m,\u001b[0m \u001b[0mvalue\u001b[0m\u001b[0;34m,\u001b[0m \u001b[0mdtype\u001b[0m\u001b[0;34m,\u001b[0m \u001b[0mshape\u001b[0m\u001b[0;34m,\u001b[0m \u001b[0mverify_shape\u001b[0m\u001b[0;34m)\u001b[0m\u001b[0;34m\u001b[0m\u001b[0;34m\u001b[0m\u001b[0m\n\u001b[0m\u001b[1;32m    277\u001b[0m \u001b[0;34m\u001b[0m\u001b[0m\n\u001b[1;32m    278\u001b[0m   \u001b[0mg\u001b[0m \u001b[0;34m=\u001b[0m \u001b[0mops\u001b[0m\u001b[0;34m.\u001b[0m\u001b[0mget_default_graph\u001b[0m\u001b[0;34m(\u001b[0m\u001b[0;34m)\u001b[0m\u001b[0;34m\u001b[0m\u001b[0;34m\u001b[0m\u001b[0m\n",
      "\u001b[0;32m/commons/software/anaconda3/lib/python3.8/site-packages/tensorflow/python/framework/constant_op.py\u001b[0m in \u001b[0;36m_constant_eager_impl\u001b[0;34m(ctx, value, dtype, shape, verify_shape)\u001b[0m\n\u001b[1;32m    299\u001b[0m \u001b[0;32mdef\u001b[0m \u001b[0m_constant_eager_impl\u001b[0m\u001b[0;34m(\u001b[0m\u001b[0mctx\u001b[0m\u001b[0;34m,\u001b[0m \u001b[0mvalue\u001b[0m\u001b[0;34m,\u001b[0m \u001b[0mdtype\u001b[0m\u001b[0;34m,\u001b[0m \u001b[0mshape\u001b[0m\u001b[0;34m,\u001b[0m \u001b[0mverify_shape\u001b[0m\u001b[0;34m)\u001b[0m\u001b[0;34m:\u001b[0m\u001b[0;34m\u001b[0m\u001b[0;34m\u001b[0m\u001b[0m\n\u001b[1;32m    300\u001b[0m   \u001b[0;34m\"\"\"Implementation of eager constant.\"\"\"\u001b[0m\u001b[0;34m\u001b[0m\u001b[0;34m\u001b[0m\u001b[0m\n\u001b[0;32m--> 301\u001b[0;31m   \u001b[0mt\u001b[0m \u001b[0;34m=\u001b[0m \u001b[0mconvert_to_eager_tensor\u001b[0m\u001b[0;34m(\u001b[0m\u001b[0mvalue\u001b[0m\u001b[0;34m,\u001b[0m \u001b[0mctx\u001b[0m\u001b[0;34m,\u001b[0m \u001b[0mdtype\u001b[0m\u001b[0;34m)\u001b[0m\u001b[0;34m\u001b[0m\u001b[0;34m\u001b[0m\u001b[0m\n\u001b[0m\u001b[1;32m    302\u001b[0m   \u001b[0;32mif\u001b[0m \u001b[0mshape\u001b[0m \u001b[0;32mis\u001b[0m \u001b[0;32mNone\u001b[0m\u001b[0;34m:\u001b[0m\u001b[0;34m\u001b[0m\u001b[0;34m\u001b[0m\u001b[0m\n\u001b[1;32m    303\u001b[0m     \u001b[0;32mreturn\u001b[0m \u001b[0mt\u001b[0m\u001b[0;34m\u001b[0m\u001b[0;34m\u001b[0m\u001b[0m\n",
      "\u001b[0;32m/commons/software/anaconda3/lib/python3.8/site-packages/tensorflow/python/framework/constant_op.py\u001b[0m in \u001b[0;36mconvert_to_eager_tensor\u001b[0;34m(value, ctx, dtype)\u001b[0m\n\u001b[1;32m     95\u001b[0m     \u001b[0;32mexcept\u001b[0m \u001b[0mAttributeError\u001b[0m\u001b[0;34m:\u001b[0m\u001b[0;34m\u001b[0m\u001b[0;34m\u001b[0m\u001b[0m\n\u001b[1;32m     96\u001b[0m       \u001b[0mdtype\u001b[0m \u001b[0;34m=\u001b[0m \u001b[0mdtypes\u001b[0m\u001b[0;34m.\u001b[0m\u001b[0mas_dtype\u001b[0m\u001b[0;34m(\u001b[0m\u001b[0mdtype\u001b[0m\u001b[0;34m)\u001b[0m\u001b[0;34m.\u001b[0m\u001b[0mas_datatype_enum\u001b[0m\u001b[0;34m\u001b[0m\u001b[0;34m\u001b[0m\u001b[0m\n\u001b[0;32m---> 97\u001b[0;31m   \u001b[0mctx\u001b[0m\u001b[0;34m.\u001b[0m\u001b[0mensure_initialized\u001b[0m\u001b[0;34m(\u001b[0m\u001b[0;34m)\u001b[0m\u001b[0;34m\u001b[0m\u001b[0;34m\u001b[0m\u001b[0m\n\u001b[0m\u001b[1;32m     98\u001b[0m   \u001b[0;32mreturn\u001b[0m \u001b[0mops\u001b[0m\u001b[0;34m.\u001b[0m\u001b[0mEagerTensor\u001b[0m\u001b[0;34m(\u001b[0m\u001b[0mvalue\u001b[0m\u001b[0;34m,\u001b[0m \u001b[0mctx\u001b[0m\u001b[0;34m.\u001b[0m\u001b[0mdevice_name\u001b[0m\u001b[0;34m,\u001b[0m \u001b[0mdtype\u001b[0m\u001b[0;34m)\u001b[0m\u001b[0;34m\u001b[0m\u001b[0;34m\u001b[0m\u001b[0m\n\u001b[1;32m     99\u001b[0m \u001b[0;34m\u001b[0m\u001b[0m\n",
      "\u001b[0;32m/commons/software/anaconda3/lib/python3.8/site-packages/tensorflow/python/eager/context.py\u001b[0m in \u001b[0;36mensure_initialized\u001b[0;34m(self)\u001b[0m\n\u001b[1;32m    524\u001b[0m         \u001b[0;32mif\u001b[0m \u001b[0mself\u001b[0m\u001b[0;34m.\u001b[0m\u001b[0m_use_tfrt\u001b[0m \u001b[0;32mis\u001b[0m \u001b[0;32mnot\u001b[0m \u001b[0;32mNone\u001b[0m\u001b[0;34m:\u001b[0m\u001b[0;34m\u001b[0m\u001b[0;34m\u001b[0m\u001b[0m\n\u001b[1;32m    525\u001b[0m           \u001b[0mpywrap_tfe\u001b[0m\u001b[0;34m.\u001b[0m\u001b[0mTFE_ContextOptionsSetTfrt\u001b[0m\u001b[0;34m(\u001b[0m\u001b[0mopts\u001b[0m\u001b[0;34m,\u001b[0m \u001b[0mself\u001b[0m\u001b[0;34m.\u001b[0m\u001b[0m_use_tfrt\u001b[0m\u001b[0;34m)\u001b[0m\u001b[0;34m\u001b[0m\u001b[0;34m\u001b[0m\u001b[0m\n\u001b[0;32m--> 526\u001b[0;31m         \u001b[0mcontext_handle\u001b[0m \u001b[0;34m=\u001b[0m \u001b[0mpywrap_tfe\u001b[0m\u001b[0;34m.\u001b[0m\u001b[0mTFE_NewContext\u001b[0m\u001b[0;34m(\u001b[0m\u001b[0mopts\u001b[0m\u001b[0;34m)\u001b[0m\u001b[0;34m\u001b[0m\u001b[0;34m\u001b[0m\u001b[0m\n\u001b[0m\u001b[1;32m    527\u001b[0m       \u001b[0;32mfinally\u001b[0m\u001b[0;34m:\u001b[0m\u001b[0;34m\u001b[0m\u001b[0;34m\u001b[0m\u001b[0m\n\u001b[1;32m    528\u001b[0m         \u001b[0mpywrap_tfe\u001b[0m\u001b[0;34m.\u001b[0m\u001b[0mTFE_DeleteContextOptions\u001b[0m\u001b[0;34m(\u001b[0m\u001b[0mopts\u001b[0m\u001b[0;34m)\u001b[0m\u001b[0;34m\u001b[0m\u001b[0;34m\u001b[0m\u001b[0m\n",
      "\u001b[0;31mInternalError\u001b[0m: CUDA runtime implicit initialization on GPU:0 failed. Status: out of memory"
     ]
    }
   ],
   "source": [
    "# default model\n",
    "paths = ('models/spliceai{}.h5'.format(x) for x in range(1, 6))\n",
    "models = [load_model(resource_filename('spliceai', x),compile=False) for x in paths]"
   ]
  },
  {
   "cell_type": "code",
   "execution_count": null,
   "metadata": {},
   "outputs": [],
   "source": [
    "def predict_sequence_with_context2(dna_sequence,model,assembly='hg38'):\n",
    "    encoded_dna_sequence = one_hot_encode(dna_sequence)[None, :]\n",
    "    \n",
    "    if strand == '-':\n",
    "        encoded_dna_sequence = encoded_dna_sequence[:, ::-1, ::-1]\n",
    "    \n",
    "    predicted_value = np.mean([model[m].predict(encoded_dna_sequence) for m in range(5)], axis=0)\n",
    "    \n",
    "    \n",
    "    acceptor_prob = predicted_value[0, :, 1]\n",
    "    donor_prob = predicted_value[0, :, 2]\n",
    "    \n",
    "    acceptor_prob_sorted_index=acceptor_prob.argsort()\n",
    "    acceptor_prob_sorted_index=np.flip(acceptor_prob_sorted_index)\n",
    "    \n",
    "    donor_prob_sorted_index=donor_prob.argsort()\n",
    "    donor_prob_sorted_index=np.flip(donor_prob_sorted_index)\n",
    "    \n",
    "    acceptor_prob_sorted_value=acceptor_prob[acceptor_prob_sorted_index]\n",
    "    donor_prob_sorted_value=donor_prob[donor_prob_sorted_index]\n",
    "    \n",
    "    #                 0          1             2                 3                          4\n",
    "    return predicted_value, acceptor_prob, donor_prob, acceptor_prob_sorted_index, donor_prob_sorted_index,\\\n",
    "        acceptor_prob_sorted_value, donor_prob_sorted_value"
   ]
  },
  {
   "cell_type": "code",
   "execution_count": null,
   "metadata": {},
   "outputs": [],
   "source": [
    "def replace_dna_ref_to_alt2(dna_sequence,pos,ref,alt,max_distance):    \n",
    "    original_dna_sequence=dna_sequence\n",
    "    altered_dna_sequence=dna_sequence[:5000+max_distance] + alt + dna_sequence[5000+max_distance+len(ref):]\n",
    "\n",
    "    \n",
    "    print(\"Ref and Alt : (\"+ref+\" to \"+alt+\")\")\n",
    "    if len(ref)>len(alt):\n",
    "        print(original_dna_sequence[5000+max_distance-50:5000+max_distance]+ref+                         original_dna_sequence[5000+max_distance+len(ref):5000+max_distance+len(ref)+50])\n",
    "        print(\" \"*50+\"-\"*len(ref))\n",
    "        print(altered_dna_sequence[5000+max_distance-50:5000+max_distance]+alt+'.'*(len(ref)-len(alt))+altered_dna_sequence[5000+max_distance+len(alt):5000+max_distance+len(alt)+50])\n",
    "        \n",
    "        \n",
    "    else:\n",
    "        print(original_dna_sequence[5000+max_distance-50:5000+max_distance]+ref+'.'*(len(alt)-len(ref))+original_dna_sequence[5000+max_distance+len(ref):5000+max_distance+len(ref)+50])\n",
    "        print(\" \"*50+\"-\"*len(alt))\n",
    "        print(altered_dna_sequence[5000+max_distance-50:5000+max_distance]+alt                        +altered_dna_sequence[5000+max_distance+len(alt):5000+max_distance+len(alt)+50])\n",
    "    print()\n",
    "    \n",
    "    print(str(len(original_dna_sequence))+' HEREHEREHR')\n",
    "    print(str(len(altered_dna_sequence))+' HEREHEREHR')\n",
    "    \n",
    "    return original_dna_sequence,altered_dna_sequence"
   ]
  },
  {
   "cell_type": "code",
   "execution_count": null,
   "metadata": {},
   "outputs": [],
   "source": [
    "def compare_mutated_sequences2(chrom,pos,ref,alt,strand,max_distance,model,assembly='hg38'):\n",
    "    \n",
    "    start_time = time.time()\n",
    "    \n",
    "    start_index= pos-5000-max_distance\n",
    "    end_index= pos+5000+max_distance+1\n",
    "    \n",
    "    dna_sequence=jkgenome.locus(chrom+':'+str(start_index)+'-'+str(end_index)+'+')\n",
    "    dna_sequence=dna_sequence.twoBitFrag2('hg38').upper()\n",
    "    \n",
    "    if dna_sequence[pos-start_index:pos-start_index+len(ref)]!=ref:\n",
    "        print('Error in positioning')\n",
    "        for j in range(-2,3):\n",
    "            print(dna_sequence[5000+max_distance+j])\n",
    "        return\n",
    "    \n",
    "    input_dna_sequence1,input_dna_sequence2=replace_dna_ref_to_alt2(dna_sequence,pos,ref,alt,max_distance)\n",
    "    print (\"sequence changed --- %s seconds ---\" % (time.time() - start_time))\n",
    "    start_time = time.time()\n",
    "    \n",
    "    predicted_value1,_,_,_,_,_,_ = predict_sequence_with_context2(input_dna_sequence1,model)\n",
    "    predicted_value2,_,_,_,_,_,_ = predict_sequence_with_context2(input_dna_sequence2,model)\n",
    "    print(input_dna_sequence1[:50])\n",
    "    if strand == '-':\n",
    "        predicted_value1 = predicted_value1[:, ::-1, ::1]\n",
    "        predicted_value2 = predicted_value2[:, ::-1, ::1]\n",
    "    \n",
    "    print (\"prediction --- %s seconds ---\" % (time.time() - start_time))\n",
    "    start_time = time.time()\n",
    "    \n",
    "#     predicted_value_for_common1=np.concatenate((predicted_value1[0][:max_distance],predicted_value1[0][max_distance+len(ref):]))\n",
    "#     predicted_value_for_common2=np.concatenate((predicted_value2[0][:max_distance],predicted_value2[0][max_distance+len(alt):]))\n",
    "    predicted_value_for_common1=np.concatenate((predicted_value1[0][:max_distance],predicted_value1[0][-max_distance:]))\n",
    "    predicted_value_for_common2=np.concatenate((predicted_value2[0][:max_distance],predicted_value2[0][-max_distance:]))\n",
    "    \n",
    "    \n",
    "    \n",
    "    predicted_value_for_raw1=predicted_value1[0][max_distance:max_distance+len(ref)]\n",
    "    predicted_value_for_raw2=predicted_value2[0][max_distance:max_distance+len(alt)]\n",
    "    \n",
    "    acceptor_prob1 = predicted_value_for_common1[ :, 1]\n",
    "    donor_prob1 = predicted_value_for_common1[ :, 2]\n",
    "    \n",
    "    acceptor_prob2 = predicted_value_for_common2[ :, 1]\n",
    "    donor_prob2 = predicted_value_for_common2[ :, 2]\n",
    "        \n",
    "    \n",
    "    delta_acceptor_prob = acceptor_prob1 - acceptor_prob2\n",
    "    delta_donor_prob = donor_prob1 - donor_prob2\n",
    "    \n",
    "    delta_acceptor_sorted_index = (acceptor_prob1 - acceptor_prob2).argsort()\n",
    "    delta_acceptor_sorted_index = np.flip(delta_acceptor_sorted_index)\n",
    "    \n",
    "    delta_donor_sorted_index = (donor_prob1 - donor_prob2).argsort()\n",
    "    delta_donor_sorted_index = np.flip(delta_donor_sorted_index)\n",
    "    \n",
    "    delta_acceptor_sorted_value = delta_acceptor_prob[delta_acceptor_sorted_index]\n",
    "    delta_donor_sorted_value = delta_donor_prob[delta_donor_sorted_index]\n",
    "\n",
    "    \n",
    "#     return predicted_value_for_common1,predicted_value_for_common2\n",
    "    return delta_acceptor_prob, delta_donor_prob, delta_acceptor_sorted_index, delta_donor_sorted_index, \\\n",
    "            delta_acceptor_sorted_value, delta_donor_sorted_value, \\\n",
    "            predicted_value_for_raw1, predicted_value_for_raw2"
   ]
  },
  {
   "cell_type": "code",
   "execution_count": null,
   "metadata": {},
   "outputs": [],
   "source": [
    "def view_result2(return_above,view_threshold,max_distance):\n",
    "    (delta_acceptor_prob, delta_donor_prob, delta_acceptor_sorted_index, delta_donor_sorted_index, \\\n",
    "    delta_acceptor_sorted_value, delta_donor_sorted_value, predicted_value_for_raw1, predicted_value_for_raw2) = return_above\n",
    "    \n",
    "    count_acceptor_positive=0\n",
    "    count_donor_positive=0\n",
    "    for i in delta_acceptor_sorted_value:\n",
    "        if i>=0:\n",
    "            count_acceptor_positive+=1\n",
    "    \n",
    "    for i in delta_donor_sorted_value:\n",
    "        if i>=0:\n",
    "            count_donor_positive+=1\n",
    "    \n",
    "    delta_acceptor_sorted_index_copied=delta_acceptor_sorted_index.copy()\n",
    "    delta_donor_sorted_index_copied=delta_donor_sorted_index.copy()\n",
    "    \n",
    "    for i in range(2*max_distance):\n",
    "        if delta_acceptor_sorted_index_copied[i]>=max_distance:\n",
    "            delta_acceptor_sorted_index_copied[i]+=1\n",
    "        if delta_donor_sorted_index_copied[i]>=max_distance:\n",
    "            delta_donor_sorted_index_copied[i]+=1\n",
    "    \n",
    "  \n",
    "    df_acceptor_loss=pd.DataFrame()\n",
    "    \n",
    "    df_acceptor_loss['delta score(Acceptor Loss)']=delta_acceptor_sorted_value[:min(view_threshold,count_acceptor_positive)]\n",
    "    df_acceptor_loss['pre-mRNA position']=(delta_acceptor_sorted_index_copied-max_distance)[:min(view_threshold,count_acceptor_positive)]\n",
    "    \n",
    "    \n",
    "    \n",
    "    \n",
    "    delta_acceptor_sorted_value_r = delta_acceptor_sorted_value[::-1]\n",
    "    delta_acceptor_sorted_index_r = delta_acceptor_sorted_index_copied[::-1]\n",
    "    \n",
    "    df_acceptor_gain=pd.DataFrame()\n",
    "    \n",
    "    df_acceptor_gain['delta score(Acceptor Gain)']=-delta_acceptor_sorted_value_r[:min(view_threshold,2*max_distance-count_acceptor_positive)]\n",
    "    df_acceptor_gain['pre-mRNA position']=(delta_acceptor_sorted_index_r-max_distance)[:min(view_threshold,2*max_distance-count_acceptor_positive)]\n",
    "    \n",
    "    \n",
    "    \n",
    "    \n",
    "    df_donor_loss=pd.DataFrame()\n",
    "    \n",
    "    df_donor_loss['delta score(Donor Loss)']=delta_donor_sorted_value[:min(view_threshold,count_donor_positive)]\n",
    "    df_donor_loss['pre-mRNA position']=(delta_donor_sorted_index_copied-max_distance)[:min(view_threshold,count_donor_positive)]\n",
    "    \n",
    "    \n",
    "    \n",
    "    \n",
    "    delta_donor_sorted_value_r = delta_donor_sorted_value[::-1]\n",
    "    delta_donor_sorted_index_r = delta_donor_sorted_index_copied[::-1]\n",
    "    \n",
    "    df_donor_gain=pd.DataFrame()\n",
    "    \n",
    "    df_donor_gain['delta score(Donor Gain)']=-delta_donor_sorted_value_r[:min(view_threshold,2*max_distance-count_donor_positive)]\n",
    "    df_donor_gain['pre-mRNA position']=(delta_donor_sorted_index_r-max_distance)[:min(view_threshold,2*max_distance-count_donor_positive)]\n",
    "    \n",
    "    \n",
    "    \n",
    "    ## START FOR RAW ##\n",
    "    \n",
    "    delta_in_raw = predicted_value_for_raw1-predicted_value_for_raw2\n",
    "    delta_raw_acceptor= delta_in_raw[:, 1]\n",
    "    delta_raw_donor= delta_in_raw[:, 2]\n",
    "    \n",
    "    \n",
    "    count_delta_acceptor_positive=0\n",
    "    count_delta_donor_positive=0\n",
    "    for i in delta_raw_acceptor:\n",
    "        if i>=0:\n",
    "            count_delta_acceptor_positive+=1\n",
    "    \n",
    "    for i in delta_raw_donor:\n",
    "        if i>=0:\n",
    "            count_delta_donor_positive+=1\n",
    "    \n",
    "\n",
    "    \n",
    "    delta_raw_acceptor_sorted_index_copied=delta_raw_acceptor.argsort().copy()\n",
    "    delta_raw_donor_sorted_index_copied=delta_raw_donor.argsort().copy()\n",
    "    \n",
    "    delta_raw_acceptor_sorted_index_copied = np.flip(delta_raw_acceptor_sorted_index_copied)\n",
    "    delta_raw_donor_sorted_index_copied = np.flip(delta_raw_donor_sorted_index_copied)\n",
    "    \n",
    "    delta_raw_acceptor_sorted_value=delta_raw_acceptor[delta_raw_acceptor_sorted_index_copied]\n",
    "    delta_raw_donor_sorted_value=delta_raw_donor[delta_raw_donor_sorted_index_copied]\n",
    "    \n",
    "    \n",
    "    \n",
    "    for i in range(len(delta_raw_acceptor)):\n",
    "        delta_raw_acceptor_sorted_index_copied[i]+=1\n",
    "        delta_raw_donor_sorted_index_copied[i]+=1\n",
    "    \n",
    "\n",
    "    \n",
    "  \n",
    "    df_raw_acceptor_loss=pd.DataFrame()\n",
    "    \n",
    "    df_raw_acceptor_loss['delta score in raw(Acceptor Loss)']=delta_raw_acceptor_sorted_value[:min(view_threshold,count_delta_acceptor_positive)]\n",
    "    df_raw_acceptor_loss['pre-mRNA position']=delta_raw_acceptor_sorted_index_copied[:min(view_threshold,count_delta_acceptor_positive)]\n",
    "    \n",
    "    \n",
    "    \n",
    "    \n",
    "    delta_raw_acceptor_sorted_value_r = delta_raw_acceptor_sorted_value[::-1]\n",
    "    delta_raw_acceptor_sorted_index_r = delta_raw_acceptor_sorted_index_copied[::-1]\n",
    "    \n",
    "    df_raw_acceptor_gain=pd.DataFrame()\n",
    "    \n",
    "    df_raw_acceptor_gain['delta score in raw(Acceptor Gain)']=-delta_raw_acceptor_sorted_value_r[:min(view_threshold,len(delta_raw_acceptor_sorted_value_r)-count_delta_acceptor_positive)]\n",
    "    df_raw_acceptor_gain['pre-mRNA position']=delta_raw_acceptor_sorted_index_r[:min(view_threshold,len(delta_raw_acceptor_sorted_value_r)-count_delta_acceptor_positive)]\n",
    "    \n",
    "    \n",
    "    \n",
    "    df_raw_donor_loss=pd.DataFrame()\n",
    "    \n",
    "    df_raw_donor_loss['delta score in raw(Donor Loss)']=delta_raw_donor_sorted_value[:min(view_threshold,count_delta_donor_positive)]\n",
    "    df_raw_donor_loss['pre-mRNA position']=delta_raw_donor_sorted_index_copied[:min(view_threshold,count_delta_donor_positive)]\n",
    "    \n",
    "    \n",
    "    \n",
    "    \n",
    "    delta_raw_donor_sorted_value_r = delta_raw_donor_sorted_value[::-1]\n",
    "    delta_raw_donor_sorted_index_r = delta_raw_donor_sorted_index_copied[::-1]\n",
    "    \n",
    "    df_raw_donor_gain=pd.DataFrame()\n",
    "    \n",
    "    df_raw_donor_gain['delta score in raw(Donor Gain)']=-delta_raw_donor_sorted_value_r[:min(view_threshold,len(delta_raw_donor_sorted_value_r)-count_delta_donor_positive)]\n",
    "    df_raw_donor_gain['pre-mRNA position']=delta_raw_donor_sorted_index_r[:min(view_threshold,len(delta_raw_donor_sorted_value_r)-count_delta_donor_positive)]\n",
    "    \n",
    "    \n",
    "    \n",
    "    pd.options.display.float_format = '{:.5f}'.format\n",
    "    \n",
    "    return df_acceptor_loss,df_donor_loss,df_acceptor_gain,df_donor_gain,\\\n",
    "            df_raw_acceptor_loss,df_raw_donor_loss,df_raw_acceptor_gain,df_raw_donor_gain"
   ]
  },
  {
   "cell_type": "code",
   "execution_count": null,
   "metadata": {},
   "outputs": [],
   "source": []
  },
  {
   "cell_type": "code",
   "execution_count": null,
   "metadata": {},
   "outputs": [],
   "source": []
  },
  {
   "cell_type": "code",
   "execution_count": null,
   "metadata": {},
   "outputs": [],
   "source": []
  },
  {
   "cell_type": "code",
   "execution_count": 7,
   "metadata": {},
   "outputs": [
    {
     "ename": "NameError",
     "evalue": "name 'compare_mutated_sequences2' is not defined",
     "output_type": "error",
     "traceback": [
      "\u001b[0;31m---------------------------------------------------------------------------\u001b[0m",
      "\u001b[0;31mNameError\u001b[0m                                 Traceback (most recent call last)",
      "\u001b[0;32m<ipython-input-7-c149791a9cc6>\u001b[0m in \u001b[0;36m<module>\u001b[0;34m\u001b[0m\n\u001b[1;32m      6\u001b[0m \u001b[0mmax_distance\u001b[0m\u001b[0;34m=\u001b[0m\u001b[0;36m50\u001b[0m\u001b[0;34m\u001b[0m\u001b[0;34m\u001b[0m\u001b[0m\n\u001b[1;32m      7\u001b[0m \u001b[0;34m\u001b[0m\u001b[0m\n\u001b[0;32m----> 8\u001b[0;31m \u001b[0mx\u001b[0m\u001b[0;34m=\u001b[0m\u001b[0mcompare_mutated_sequences2\u001b[0m\u001b[0;34m(\u001b[0m\u001b[0mchr\u001b[0m\u001b[0;34m,\u001b[0m\u001b[0mpos\u001b[0m\u001b[0;34m,\u001b[0m\u001b[0mref\u001b[0m\u001b[0;34m,\u001b[0m\u001b[0malt\u001b[0m\u001b[0;34m,\u001b[0m\u001b[0mstrand\u001b[0m\u001b[0;34m,\u001b[0m\u001b[0mmax_distance\u001b[0m\u001b[0;34m,\u001b[0m\u001b[0mmodels\u001b[0m\u001b[0;34m)\u001b[0m\u001b[0;34m\u001b[0m\u001b[0;34m\u001b[0m\u001b[0m\n\u001b[0m",
      "\u001b[0;31mNameError\u001b[0m: name 'compare_mutated_sequences2' is not defined"
     ]
    }
   ],
   "source": [
    "chr='chr8'\n",
    "pos=140300615\n",
    "ref='T'\n",
    "alt='G'\n",
    "strand='-'\n",
    "max_distance=50\n",
    "\n",
    "x=compare_mutated_sequences2(chr,pos,ref,alt,strand,max_distance,models)"
   ]
  },
  {
   "cell_type": "code",
   "execution_count": null,
   "metadata": {},
   "outputs": [],
   "source": [
    "view_result=view_result2(x,30,50)\n",
    "view_result[0]"
   ]
  },
  {
   "cell_type": "code",
   "execution_count": null,
   "metadata": {},
   "outputs": [],
   "source": []
  },
  {
   "cell_type": "code",
   "execution_count": null,
   "metadata": {},
   "outputs": [],
   "source": []
  },
  {
   "cell_type": "code",
   "execution_count": null,
   "metadata": {},
   "outputs": [],
   "source": []
  },
  {
   "cell_type": "code",
   "execution_count": null,
   "metadata": {},
   "outputs": [],
   "source": []
  },
  {
   "cell_type": "code",
   "execution_count": 331,
   "metadata": {},
   "outputs": [
    {
     "name": "stdout",
     "output_type": "stream",
     "text": [
      "Ref and Alt : (C to G)\n",
      "CAGCCCCACCTTCCTCTCCTCCTGCCCCACCTTCCTCTCCTCCTGCCCCACCTTCCTCTCCTCCTGCCCCACCAGAACCGGGGGCGGCTGGCAGACAAGAG\n",
      "                                                  -\n",
      "CAGCCCCACCTTCCTCTCCTCCTGCCCCACCTTCCTCTCCTCCTGCCCCAGCTTCCTCTCCTCCTGCCCCACCAGAACCGGGGGCGGCTGGCAGACAAGAG\n",
      "\n",
      "sequence changed --- 0.002262592315673828 seconds ---\n",
      "prediction --- 0.9056439399719238 seconds ---\n"
     ]
    }
   ],
   "source": [
    "chr='chr1'\n",
    "pos=930129\n",
    "ref='C'\n",
    "alt='G'\n",
    "strand='+'\n",
    "max_distance=50\n",
    "\n",
    "x=compare_mutated_sequences2(chr,pos,ref,alt,strand,max_distance,models)"
   ]
  },
  {
   "cell_type": "code",
   "execution_count": 319,
   "metadata": {},
   "outputs": [
    {
     "name": "stdout",
     "output_type": "stream",
     "text": [
      "Ref and Alt : (GGGC to G)\n",
      "CCTCTGGCCTGTCCGCATGTCTCCACGCTGTAAGCACAGGCTGTTGGGGTGGGCAGGCTGGACACAACACCAGGGTCCTCACTCTTGGGACATGGGCAGCCGTC\n",
      "                                                  ----\n",
      "CCTCTGGCCTGTCCGCATGTCTCCACGCTGTAAGCACAGGCTGTTGGGGTG...AGGCTGGACACAACACCAGGGTCCTCACTCTTGGGACATGGGCAGCCGTC\n",
      "\n",
      "sequence changed --- 0.0018095970153808594 seconds ---\n",
      "prediction --- 1.039003610610962 seconds ---\n"
     ]
    }
   ],
   "source": [
    "chr='chr1'\n",
    "pos=1042465\n",
    "ref='GGGC'\n",
    "alt='G'\n",
    "strand='+'\n",
    "max_distance=50\n",
    "\n",
    "x=compare_mutated_sequences2(chr,pos,ref,alt,strand,max_distance,models)"
   ]
  },
  {
   "cell_type": "code",
   "execution_count": 341,
   "metadata": {},
   "outputs": [
    {
     "name": "stdout",
     "output_type": "stream",
     "text": [
      "Ref and Alt : (A to AGGGTAGA)\n",
      "GGGCCAGGGGGAGGCAGTGGCCGTCGTGTCCCGTCGTGTTCGTCTTGGTCA.......GTTCGCCCATCTTCTGGTCTTTCTCTCTGCGTCTGTCTCTTCTCTTTGGT\n",
      "                                                  --------\n",
      "GGGCCAGGGGGAGGCAGTGGCCGTCGTGTCCCGTCGTGTTCGTCTTGGTCAGGGTAGAGTTCGCCCATCTTCTGGTCTTTCTCTCTGCGTCTGTCTCTTCTCTTTGGT\n",
      "\n",
      "sequence changed --- 0.0020122528076171875 seconds ---\n",
      "prediction --- 1.0425617694854736 seconds ---\n"
     ]
    }
   ],
   "source": [
    "chr='chr1'\n",
    "pos=1042600\n",
    "ref='A'\n",
    "alt='AGGGTAGA'\n",
    "strand='+'\n",
    "max_distance=50\n",
    "\n",
    "x=compare_mutated_sequences2(chr,pos,ref,alt,strand,max_distance,models)"
   ]
  },
  {
   "cell_type": "code",
   "execution_count": 441,
   "metadata": {},
   "outputs": [
    {
     "name": "stdout",
     "output_type": "stream",
     "text": [
      "Ref and Alt : (G to GGCTCTACCCTTTGAAAGAAGGGCTCTCAAAAAATTTGTGAACATATTTTAGTAAATACCATCATGATGGAAAGAGCACGAAGAGCCCTCTGGGTTGCTGAAAATGTCCTGTCTTCATCTGGTTAGGGAGAACACAGGCAGAAAAAAATGTGTATTTGTATGTATAAATTTTCATTGAACTGTGTGTTTAAGATTATGGAATTTGTGTGATACCTCAACAAAAATTTTAACAGTTTTAAGGTTGATTCTCTCTCTCTTTTTTTTTTTTTCTTTTGTCACCCAGGCTAGAGTGCAGTGGTGCCATCTTGGCTCACTGCAGCCTCCGCCTCCTGGGTTCAAGTGATTCTCCTGCCTCAGCCTCCTGAGTAGCTGGGATTACGGGC)\n",
      "GTTAGACGTGAGTCACTAAGTACAGACCACACTCAACGGGAGGGAAGTTAG..............................................................................................................................................................................................................................................................................................................................................................................................GCTCTACCCTTTGAAAGAAGGGCTCTCAAAAAATTTGTGAACATATTTTA\n",
      "                                                  -----------------------------------------------------------------------------------------------------------------------------------------------------------------------------------------------------------------------------------------------------------------------------------------------------------------------------------------------------------------------------------------------\n",
      "GTTAGACGTGAGTCACTAAGTACAGACCACACTCAACGGGAGGGAAGTTAGGCTCTACCCTTTGAAAGAAGGGCTCTCAAAAAATTTGTGAACATATTTTAGTAAATACCATCATGATGGAAAGAGCACGAAGAGCCCTCTGGGTTGCTGAAAATGTCCTGTCTTCATCTGGTTAGGGAGAACACAGGCAGAAAAAAATGTGTATTTGTATGTATAAATTTTCATTGAACTGTGTGTTTAAGATTATGGAATTTGTGTGATACCTCAACAAAAATTTTAACAGTTTTAAGGTTGATTCTCTCTCTCTTTTTTTTTTTTTCTTTTGTCACCCAGGCTAGAGTGCAGTGGTGCCATCTTGGCTCACTGCAGCCTCCGCCTCCTGGGTTCAAGTGATTCTCCTGCCTCAGCCTCCTGAGTAGCTGGGATTACGGGCGCTCTACCCTTTGAAAGAAGGGCTCTCAAAAAATTTGTGAACATATTTTA\n",
      "\n",
      "sequence changed --- 0.006991147994995117 seconds ---\n",
      "prediction --- 0.9129147529602051 seconds ---\n"
     ]
    }
   ],
   "source": [
    "chr='chr11'\n",
    "pos=108299059\n",
    "ref='G'\n",
    "alt='GGCTCTACCCTTTGAAAGAAGGGCTCTCAAAAAATTTGTGAACATATTTTAGTAAATACCATCATGATGGAAAGAGCACGAAGAGCCCTCTGGGTTGCTGAAAATGTCCTGTCTTCATCTGGTTAGGGAGAACACAGGCAGAAAAAAATGTGTATTTGTATGTATAAATTTTCATTGAACTGTGTGTTTAAGATTATGGAATTTGTGTGATACCTCAACAAAAATTTTAACAGTTTTAAGGTTGATTCTCTCTCTCTTTTTTTTTTTTTCTTTTGTCACCCAGGCTAGAGTGCAGTGGTGCCATCTTGGCTCACTGCAGCCTCCGCCTCCTGGGTTCAAGTGATTCTCCTGCCTCAGCCTCCTGAGTAGCTGGGATTACGGGC'\n",
    "strand='+'\n",
    "max_distance=50\n",
    "\n",
    "x=compare_mutated_sequences2(chr,pos,ref,alt,strand,max_distance,models)"
   ]
  },
  {
   "cell_type": "code",
   "execution_count": 442,
   "metadata": {},
   "outputs": [],
   "source": [
    "# To visualzie\n",
    "\n",
    "view_result=view_result2(x,50)"
   ]
  },
  {
   "cell_type": "markdown",
   "metadata": {},
   "source": [
    "display(view_result[0])는 acceptor_loss,<br/>\n",
    "display(view_result[1])는 donor_loss,<br/>\n",
    "display(view_result[2])는 acceptor_gain,<br/>\n",
    "display(view_result[3])는 donor_gain 를 출력해줍니다.<br/><br/>\n",
    "\n",
    "display(view_result[4])는 ref와 alt내에서의 acceptor_loss,<br/>\n",
    "display(view_result[5])는 ref와 alt내에서의 donor_loss,<br/>\n",
    "display(view_result[6])는 ref와 alt내에서의 acceptor_gain,<br/>\n",
    "display(view_result[7])는 ref와 alt내에서의 donor_gain 를 출력해줍니다.<br/><br/>"
   ]
  },
  {
   "cell_type": "code",
   "execution_count": 448,
   "metadata": {},
   "outputs": [
    {
     "data": {
      "text/html": [
       "<div>\n",
       "<style scoped>\n",
       "    .dataframe tbody tr th:only-of-type {\n",
       "        vertical-align: middle;\n",
       "    }\n",
       "\n",
       "    .dataframe tbody tr th {\n",
       "        vertical-align: top;\n",
       "    }\n",
       "\n",
       "    .dataframe thead th {\n",
       "        text-align: right;\n",
       "    }\n",
       "</style>\n",
       "<table border=\"1\" class=\"dataframe\">\n",
       "  <thead>\n",
       "    <tr style=\"text-align: right;\">\n",
       "      <th></th>\n",
       "      <th>delta score in raw(Acceptor Gain)</th>\n",
       "      <th>pre-mRNA position</th>\n",
       "    </tr>\n",
       "  </thead>\n",
       "  <tbody>\n",
       "    <tr>\n",
       "      <th>0</th>\n",
       "      <td>0.16307</td>\n",
       "      <td>284</td>\n",
       "    </tr>\n",
       "    <tr>\n",
       "      <th>1</th>\n",
       "      <td>0.00382</td>\n",
       "      <td>289</td>\n",
       "    </tr>\n",
       "    <tr>\n",
       "      <th>2</th>\n",
       "      <td>0.00052</td>\n",
       "      <td>127</td>\n",
       "    </tr>\n",
       "    <tr>\n",
       "      <th>3</th>\n",
       "      <td>0.00031</td>\n",
       "      <td>53</td>\n",
       "    </tr>\n",
       "    <tr>\n",
       "      <th>4</th>\n",
       "      <td>0.00006</td>\n",
       "      <td>296</td>\n",
       "    </tr>\n",
       "    <tr>\n",
       "      <th>...</th>\n",
       "      <td>...</td>\n",
       "      <td>...</td>\n",
       "    </tr>\n",
       "    <tr>\n",
       "      <th>294</th>\n",
       "      <td>0.00000</td>\n",
       "      <td>32</td>\n",
       "    </tr>\n",
       "    <tr>\n",
       "      <th>295</th>\n",
       "      <td>0.00000</td>\n",
       "      <td>100</td>\n",
       "    </tr>\n",
       "    <tr>\n",
       "      <th>296</th>\n",
       "      <td>0.00000</td>\n",
       "      <td>348</td>\n",
       "    </tr>\n",
       "    <tr>\n",
       "      <th>297</th>\n",
       "      <td>0.00000</td>\n",
       "      <td>328</td>\n",
       "    </tr>\n",
       "    <tr>\n",
       "      <th>298</th>\n",
       "      <td>0.00000</td>\n",
       "      <td>169</td>\n",
       "    </tr>\n",
       "  </tbody>\n",
       "</table>\n",
       "<p>299 rows × 2 columns</p>\n",
       "</div>"
      ],
      "text/plain": [
       "     delta score in raw(Acceptor Gain)  pre-mRNA position\n",
       "0                              0.16307                284\n",
       "1                              0.00382                289\n",
       "2                              0.00052                127\n",
       "3                              0.00031                 53\n",
       "4                              0.00006                296\n",
       "..                                 ...                ...\n",
       "294                            0.00000                 32\n",
       "295                            0.00000                100\n",
       "296                            0.00000                348\n",
       "297                            0.00000                328\n",
       "298                            0.00000                169\n",
       "\n",
       "[299 rows x 2 columns]"
      ]
     },
     "metadata": {},
     "output_type": "display_data"
    }
   ],
   "source": [
    "display(view_result[6])"
   ]
  },
  {
   "cell_type": "markdown",
   "metadata": {},
   "source": [
    "이 밑으로는 사용되지 않는 코드들입니다."
   ]
  },
  {
   "cell_type": "code",
   "execution_count": null,
   "metadata": {},
   "outputs": [],
   "source": []
  },
  {
   "cell_type": "code",
   "execution_count": null,
   "metadata": {},
   "outputs": [],
   "source": []
  },
  {
   "cell_type": "code",
   "execution_count": null,
   "metadata": {},
   "outputs": [],
   "source": []
  },
  {
   "cell_type": "code",
   "execution_count": null,
   "metadata": {},
   "outputs": [],
   "source": []
  },
  {
   "cell_type": "code",
   "execution_count": null,
   "metadata": {},
   "outputs": [],
   "source": []
  },
  {
   "cell_type": "code",
   "execution_count": null,
   "metadata": {},
   "outputs": [],
   "source": []
  },
  {
   "cell_type": "code",
   "execution_count": 6,
   "metadata": {},
   "outputs": [],
   "source": [
    "def predict_sequence_with_context(dna_sequence,strand,model,assembly='hg38'):\n",
    "    encoded_dna_sequence = one_hot_encode(dna_sequence)[None, :]\n",
    "    \n",
    "    if strand == '-':\n",
    "        encoded_dna_sequence = encoded_dna_sequence[:, ::-1, ::-1]\n",
    "    \n",
    "    predicted_value = np.mean([model[m].predict(encoded_dna_sequence) for m in range(5)], axis=0)\n",
    "    \n",
    "    \n",
    "    acceptor_prob = predicted_value[0, :, 1]\n",
    "    donor_prob = predicted_value[0, :, 2]\n",
    "    \n",
    "    acceptor_prob_sorted_index=acceptor_prob.argsort()\n",
    "    acceptor_prob_sorted_index=np.flip(acceptor_prob_sorted_index)\n",
    "    \n",
    "    donor_prob_sorted_index=donor_prob.argsort()\n",
    "    donor_prob_sorted_index=np.flip(donor_prob_sorted_index)\n",
    "    \n",
    "    acceptor_prob_sorted_value=acceptor_prob[acceptor_prob_sorted_index]\n",
    "    donor_prob_sorted_value=donor_prob[donor_prob_sorted_index]\n",
    "    \n",
    "    #                 0          1             2                 3                          4\n",
    "    return predicted_value, acceptor_prob, donor_prob, acceptor_prob_sorted_index, donor_prob_sorted_index,\\\n",
    "        acceptor_prob_sorted_value, donor_prob_sorted_value"
   ]
  },
  {
   "cell_type": "code",
   "execution_count": 7,
   "metadata": {},
   "outputs": [],
   "source": [
    "def replace_dna_ref_to_alt(chrom,pos,ref,alt,start_index,end_index,strand,context,model,assembly='hg38'):\n",
    "    dna_sequence=jkgenome.locus(chrom+':'+str(start_index)+'-'+str(end_index)+strand)\n",
    "    dna_sequence=dna_sequence.twoBitFrag2('hg38').upper()\n",
    "    \n",
    "    if dna_sequence[pos-start_index:pos-start_index+len(ref)]!=ref:\n",
    "        print('Error in positioning')\n",
    "        \n",
    "    original_dna_sequence=dna_sequence\n",
    "    altered_dna_sequence=dna_sequence[:pos-start_index] + alt + dna_sequence[pos-start_index+len(ref):]\n",
    "    \n",
    "    print(\"Ref and Alt : (\"+ref+\" to \"+alt+\")\")\n",
    "    if len(ref)>len(alt):\n",
    "        print(original_dna_sequence[pos-start_index-50:pos-start_index]+ref+                         original_dna_sequence[pos-start_index+len(ref):pos-start_index+len(ref)+50])\n",
    "        print(\" \"*50+\"-\"*len(ref))\n",
    "        print(altered_dna_sequence[pos-start_index-50:pos-start_index]+alt+'.'*(len(ref)-len(alt))+altered_dna_sequence[pos-start_index+len(alt):pos-start_index+len(alt)+50])\n",
    "        \n",
    "        \n",
    "    else:\n",
    "        print(original_dna_sequence[pos-start_index-50:pos-start_index]+ref+'.'*(len(alt)-len(ref))+original_dna_sequence[pos-start_index+len(ref):pos-start_index+len(ref)+50])\n",
    "        print(\" \"*50+\"-\"*len(alt))\n",
    "        print(altered_dna_sequence[pos-start_index-50:pos-start_index]+alt                        +altered_dna_sequence[pos-start_index+len(alt):pos-start_index+len(alt)+50])\n",
    "    print()\n",
    "    return original_dna_sequence,altered_dna_sequence"
   ]
  },
  {
   "cell_type": "code",
   "execution_count": 8,
   "metadata": {},
   "outputs": [],
   "source": [
    "def compare_mutated_sequences(chrom,pos,ref,alt,start_index,end_index,strand,context,model,assembly='hg38'):\n",
    "    start_time = time.time()\n",
    "    \n",
    "    dna_sequence=jkgenome.locus(chrom+':'+str(start_index)+'-'+str(end_index)+'+')\n",
    "    dna_sequence=dna_sequence.twoBitFrag2('hg38').upper()\n",
    "    \n",
    "    if dna_sequence[pos-start_index:pos-start_index+len(ref)]!=ref:\n",
    "        print('Error in positioning')\n",
    "        return\n",
    "    \n",
    "    input_dna_sequence1,input_dna_sequence2=replace_dna_ref_to_alt2(chrom,pos,ref,alt,start_index,end_index,strand,context,model)\n",
    "    print (\"sequence changed --- %s seconds ---\" % (time.time() - start_time))\n",
    "    start_time = time.time()\n",
    "    \n",
    "    predicted_value1,_,_,_,_,_,_ = predict_sequence_with_context2(input_dna_sequence1,strand,model)\n",
    "    predicted_value2,_,_,_,_,_,_ = predict_sequence_with_context2(input_dna_sequence2,strand,model)\n",
    "    \n",
    "    print (\"prediction --- %s seconds ---\" % (time.time() - start_time))\n",
    "    start_time = time.time()\n",
    "    \n",
    "    predicted_value_for_common1=np.concatenate((predicted_value1[0][:pos-start_index],predicted_value1[0][pos-start_index+len(ref):]))\n",
    "    predicted_value_for_common2=np.concatenate((predicted_value2[0][:pos-start_index],predicted_value2[0][pos-start_index+len(alt):]))\n",
    "    \n",
    "    predicted_value_for_raw1=predicted_value1[0][pos-start_index:pos-start_index+len(ref)]\n",
    "    predicted_value_for_raw2=predicted_value2[0][pos-start_index:pos-start_index+len(alt)]\n",
    "    \n",
    "    acceptor_prob1 = predicted_value_for_common1[ :, 1]\n",
    "    donor_prob1 = predicted_value_for_common1[ :, 2]\n",
    "    \n",
    "    acceptor_prob2 = predicted_value_for_common2[ :, 1]\n",
    "    donor_prob2 = predicted_value_for_common2[ :, 2]\n",
    "        \n",
    "    \n",
    "    delta_acceptor_prob = acceptor_prob1 - acceptor_prob2\n",
    "    delta_donor_prob = donor_prob1 - donor_prob2\n",
    "    \n",
    "    delta_acceptor_sorted_index = (acceptor_prob1 - acceptor_prob2).argsort()\n",
    "    delta_acceptor_sorted_index = np.flip(delta_acceptor_sorted_index)\n",
    "    \n",
    "    delta_donor_sorted_index = (donor_prob1 - donor_prob2).argsort()\n",
    "    delta_donor_sorted_index = np.flip(delta_donor_sorted_index)\n",
    "    \n",
    "    delta_acceptor_sorted_value = delta_acceptor_prob[delta_acceptor_sorted_index]\n",
    "    delta_donor_sorted_value = delta_donor_prob[delta_donor_sorted_index]\n",
    "    \n",
    "    \n",
    "    \n",
    "    return delta_acceptor_prob, delta_donor_prob, delta_acceptor_sorted_index, delta_donor_sorted_index, \\\n",
    "            delta_acceptor_sorted_value, delta_donor_sorted_value, \\\n",
    "            predicted_value_for_raw1, predicted_value_for_raw2"
   ]
  },
  {
   "cell_type": "code",
   "execution_count": 9,
   "metadata": {},
   "outputs": [],
   "source": [
    "def view_delta(delta_acceptor_prob, delta_donor_prob, delta_acceptor_sorted_index, \\\n",
    "               delta_donor_sorted_index, delta_acceptor_sorted_value, delta_donor_sorted_value, \\\n",
    "            predicted_value_for_raw1, predicted_value_for_raw2,ranking):\n",
    "    print(\"Largest Delta in acceptor\")\n",
    "    for i in range(ranking):\n",
    "        print('%10d : '% delta_acceptor_sorted_index[i],delta_acceptor_sorted_value[i] )\n",
    "    print()\n",
    "    \n",
    "    print(\"Smallest Delta in acceptor\")\n",
    "    for i in range(-1,-ranking-1,-1):\n",
    "        print('%10d : '% delta_acceptor_sorted_index[i],delta_acceptor_sorted_value[i] )\n",
    "    print()\n",
    "    \n",
    "    print(\"Largest Delta in donor\")\n",
    "    for i in range(ranking):\n",
    "        print('%10d : '% delta_donor_sorted_index[i],delta_donor_sorted_value[i] )\n",
    "    print()\n",
    "    \n",
    "    print(\"Smallest Delta in donor\")\n",
    "    for i in range(-1,-ranking-1,-1):\n",
    "        print('%10d : '% delta_donor_sorted_index[i],delta_donor_sorted_value[i] )\n",
    "    print()\n",
    "    print(\"Prob for Ref(\"+ref+')')\n",
    "    print(predicted_value_for_raw1)\n",
    "    print()\n",
    "    print(\"Prob for Alt(\"+alt+')')\n",
    "    print(predicted_value_for_raw2)\n",
    "    print()"
   ]
  },
  {
   "cell_type": "code",
   "execution_count": 42,
   "metadata": {},
   "outputs": [
    {
     "name": "stdout",
     "output_type": "stream",
     "text": [
      "Ref and Alt : (T to G)\n",
      "CATTTTGTGTGGCCGGAGGCTAGCAGGAAGGTTCAATAGTTTCACATGCCTGTTGTTTCAAACAGAACACAAATACTTCAACTGTCTGGTTAGCGTGGTTT\n",
      "                                                  -\n",
      "CATTTTGTGTGGCCGGAGGCTAGCAGGAAGGTTCAATAGTTTCACATGCCGGTTGTTTCAAACAGAACACAAATACTTCAACTGTCTGGTTAGCGTGGTTT\n",
      "\n",
      "sequence changed --- 0.0021009445190429688 seconds ---\n",
      "WARNING:tensorflow:6 out of the last 11 calls to <function Model.make_predict_function.<locals>.predict_function at 0x7f87dc03bc20> triggered tf.function retracing. Tracing is expensive and the excessive number of tracings could be due to (1) creating @tf.function repeatedly in a loop, (2) passing tensors with different shapes, (3) passing Python objects instead of tensors. For (1), please define your @tf.function outside of the loop. For (2), @tf.function has experimental_relax_shapes=True option that relaxes argument shapes that can avoid unnecessary retracing. For (3), please refer to https://www.tensorflow.org/tutorials/customization/performance#python_or_tensor_args and https://www.tensorflow.org/api_docs/python/tf/function for  more details.\n",
      "WARNING:tensorflow:6 out of the last 11 calls to <function Model.make_predict_function.<locals>.predict_function at 0x7f872863f5f0> triggered tf.function retracing. Tracing is expensive and the excessive number of tracings could be due to (1) creating @tf.function repeatedly in a loop, (2) passing tensors with different shapes, (3) passing Python objects instead of tensors. For (1), please define your @tf.function outside of the loop. For (2), @tf.function has experimental_relax_shapes=True option that relaxes argument shapes that can avoid unnecessary retracing. For (3), please refer to https://www.tensorflow.org/tutorials/customization/performance#python_or_tensor_args and https://www.tensorflow.org/api_docs/python/tf/function for  more details.\n",
      "WARNING:tensorflow:6 out of the last 11 calls to <function Model.make_predict_function.<locals>.predict_function at 0x7f872068a3b0> triggered tf.function retracing. Tracing is expensive and the excessive number of tracings could be due to (1) creating @tf.function repeatedly in a loop, (2) passing tensors with different shapes, (3) passing Python objects instead of tensors. For (1), please define your @tf.function outside of the loop. For (2), @tf.function has experimental_relax_shapes=True option that relaxes argument shapes that can avoid unnecessary retracing. For (3), please refer to https://www.tensorflow.org/tutorials/customization/performance#python_or_tensor_args and https://www.tensorflow.org/api_docs/python/tf/function for  more details.\n",
      "WARNING:tensorflow:6 out of the last 11 calls to <function Model.make_predict_function.<locals>.predict_function at 0x7f87206acdd0> triggered tf.function retracing. Tracing is expensive and the excessive number of tracings could be due to (1) creating @tf.function repeatedly in a loop, (2) passing tensors with different shapes, (3) passing Python objects instead of tensors. For (1), please define your @tf.function outside of the loop. For (2), @tf.function has experimental_relax_shapes=True option that relaxes argument shapes that can avoid unnecessary retracing. For (3), please refer to https://www.tensorflow.org/tutorials/customization/performance#python_or_tensor_args and https://www.tensorflow.org/api_docs/python/tf/function for  more details.\n",
      "WARNING:tensorflow:6 out of the last 11 calls to <function Model.make_predict_function.<locals>.predict_function at 0x7f8720166830> triggered tf.function retracing. Tracing is expensive and the excessive number of tracings could be due to (1) creating @tf.function repeatedly in a loop, (2) passing tensors with different shapes, (3) passing Python objects instead of tensors. For (1), please define your @tf.function outside of the loop. For (2), @tf.function has experimental_relax_shapes=True option that relaxes argument shapes that can avoid unnecessary retracing. For (3), please refer to https://www.tensorflow.org/tutorials/customization/performance#python_or_tensor_args and https://www.tensorflow.org/api_docs/python/tf/function for  more details.\n",
      "prediction --- 4.471197128295898 seconds ---\n"
     ]
    }
   ],
   "source": [
    "pos=108299060\n",
    "ref='T'\n",
    "alt='G'\n",
    "\n",
    "x=compare_mutated_sequences('chr8',140300615,ref,alt,140295565,140305666,'+',10000,models)"
   ]
  },
  {
   "cell_type": "code",
   "execution_count": 340,
   "metadata": {},
   "outputs": [
    {
     "data": {
      "text/plain": [
       "(array([[9.9998838e-01, 5.9908612e-06, 5.6180970e-06],\n",
       "        [9.9997568e-01, 5.3283616e-06, 1.8994824e-05],\n",
       "        [8.8686007e-01, 1.7099734e-02, 9.6040204e-02],\n",
       "        [9.9997902e-01, 1.6930042e-05, 4.0703262e-06],\n",
       "        [9.9997061e-01, 1.7508986e-05, 1.1816104e-05],\n",
       "        [9.9995959e-01, 2.5733127e-05, 1.4624675e-05],\n",
       "        [9.9996978e-01, 2.6363025e-05, 3.8955200e-06],\n",
       "        [9.9624860e-01, 3.7170320e-03, 3.4272922e-05],\n",
       "        [8.2308722e-01, 4.2800061e-04, 1.7648479e-01]], dtype=float32),\n",
       " array([[9.993326e-01, 8.073356e-05, 5.866751e-04]], dtype=float32))"
      ]
     },
     "execution_count": 340,
     "metadata": {},
     "output_type": "execute_result"
    }
   ],
   "source": [
    "x[-1],x[-2]"
   ]
  },
  {
   "cell_type": "code",
   "execution_count": null,
   "metadata": {},
   "outputs": [],
   "source": []
  },
  {
   "cell_type": "code",
   "execution_count": null,
   "metadata": {},
   "outputs": [],
   "source": []
  },
  {
   "cell_type": "code",
   "execution_count": null,
   "metadata": {},
   "outputs": [],
   "source": []
  },
  {
   "cell_type": "code",
   "execution_count": 300,
   "metadata": {},
   "outputs": [],
   "source": [
    "encoded_dna_sequence1 = one_hot_encode('N'*(10000//2) + ctestInput1 + 'N'*(10000//2))[None, :]\n",
    "encoded_dna_sequence2 = one_hot_encode('N'*(10000//2) + ctestInput2 + 'N'*(10000//2))[None, :]"
   ]
  },
  {
   "cell_type": "code",
   "execution_count": null,
   "metadata": {},
   "outputs": [],
   "source": []
  },
  {
   "cell_type": "code",
   "execution_count": 314,
   "metadata": {},
   "outputs": [],
   "source": [
    "ctestInput1=\"\"\n",
    "for i in range(len(testInput1)):\n",
    "    ctestInput1+=testInput1[-i]"
   ]
  },
  {
   "cell_type": "code",
   "execution_count": 315,
   "metadata": {},
   "outputs": [],
   "source": [
    "ctestInput2=\"\"\n",
    "for i in range(len(testInput2)):\n",
    "    ctestInput2+=testInput2[-i]"
   ]
  },
  {
   "cell_type": "code",
   "execution_count": 317,
   "metadata": {},
   "outputs": [
    {
     "data": {
      "text/plain": [
       "('GAGGTTTGCGGGAGTAAACAAGAAGTAGAG', 'TGAGATGAAGAACAAATGAGGGCGTTTGGA')"
      ]
     },
     "execution_count": 317,
     "metadata": {},
     "output_type": "execute_result"
    }
   ],
   "source": [
    "ctestInput1[:30],testInput1[-30:]"
   ]
  },
  {
   "cell_type": "code",
   "execution_count": 313,
   "metadata": {},
   "outputs": [
    {
     "name": "stdout",
     "output_type": "stream",
     "text": [
      "diff at 99999 A C\n"
     ]
    }
   ],
   "source": [
    "for i in range(200000):\n",
    "    if ctestInput1[i]!=ctestInput2[i]:\n",
    "        print(\"diff at \"+str(i)+\" \"+ctestInput1[i],ctestInput2[i])"
   ]
  },
  {
   "cell_type": "code",
   "execution_count": 299,
   "metadata": {},
   "outputs": [
    {
     "data": {
      "text/plain": [
       "(200000, 200000)"
      ]
     },
     "execution_count": 299,
     "metadata": {},
     "output_type": "execute_result"
    }
   ],
   "source": [
    "len(ctestInput1),len(ctestInput2)"
   ]
  },
  {
   "cell_type": "code",
   "execution_count": 281,
   "metadata": {},
   "outputs": [],
   "source": [
    "def predict_sequence_with_context222(dna_sequence,context,model,assembly='hg38'):\n",
    "    encoded_dna_sequence = one_hot_encode('N'*(context//2) + dna_sequence + 'N'*(context//2))[None, :]\n",
    "    for i in range(len(encoded_dna_sequence)):\n",
    "        if encoded_dna_sequence[0][i]!=0:\n",
    "            encoded_dna_sequence[0][i]=5-encoded_dna_sequence[0][i]\n",
    "            \n",
    "    \n",
    "    predicted_value = np.mean([model[m].predict(encoded_dna_sequence) for m in range(5)], axis=0)\n",
    "    \n",
    "    \n",
    "    acceptor_prob = predicted_value[0, :, 1]\n",
    "    donor_prob = predicted_value[0, :, 2]\n",
    "    \n",
    "    acceptor_prob_sorted_index=acceptor_prob.argsort()\n",
    "    acceptor_prob_sorted_index=np.flip(acceptor_prob_sorted_index)\n",
    "    \n",
    "    donor_prob_sorted_index=donor_prob.argsort()\n",
    "    donor_prob_sorted_index=np.flip(donor_prob_sorted_index)\n",
    "    \n",
    "    acceptor_prob_sorted_value=acceptor_prob[acceptor_prob_sorted_index]\n",
    "    donor_prob_sorted_value=donor_prob[donor_prob_sorted_index]\n",
    "    \n",
    "    #                 0          1             2                 3                          4\n",
    "    return predicted_value, acceptor_prob, donor_prob, acceptor_prob_sorted_index, donor_prob_sorted_index,\\\n",
    "        acceptor_prob_sorted_value, donor_prob_sorted_value"
   ]
  },
  {
   "cell_type": "code",
   "execution_count": 450,
   "metadata": {},
   "outputs": [
    {
     "data": {
      "text/plain": [
       "101"
      ]
     },
     "execution_count": 450,
     "metadata": {},
     "output_type": "execute_result"
    }
   ],
   "source": [
    "pp=jkgenome.locus('chr8:140300565-140300666+')\n",
    "testInput1=pp.twoBitFrag2('hg38').upper()\n",
    "len(testInput1)"
   ]
  },
  {
   "cell_type": "code",
   "execution_count": 451,
   "metadata": {},
   "outputs": [],
   "source": [
    "testInput2=testInput1[:50-1]+'G'+testInput1[50:]"
   ]
  },
  {
   "cell_type": "code",
   "execution_count": 453,
   "metadata": {},
   "outputs": [
    {
     "data": {
      "text/plain": [
       "(101, 101, 'T')"
      ]
     },
     "execution_count": 453,
     "metadata": {},
     "output_type": "execute_result"
    }
   ],
   "source": [
    "len(testInput1),len(testInput2),testInput2[50]"
   ]
  },
  {
   "cell_type": "code",
   "execution_count": 479,
   "metadata": {},
   "outputs": [],
   "source": [
    "testResult1=predict_sequence_with_context(testInput1,10000,models,assembly='hg38')\n",
    "testResult2=predict_sequence_with_context(testInput2,10000,models,assembly='hg38')"
   ]
  },
  {
   "cell_type": "code",
   "execution_count": 489,
   "metadata": {},
   "outputs": [
    {
     "data": {
      "text/plain": [
       "101"
      ]
     },
     "execution_count": 489,
     "metadata": {},
     "output_type": "execute_result"
    }
   ],
   "source": [
    "len(testResult1[0][0])"
   ]
  },
  {
   "cell_type": "code",
   "execution_count": 490,
   "metadata": {},
   "outputs": [
    {
     "data": {
      "text/plain": [
       "array([3.23750041e-02, 8.04164819e-03, 3.92570253e-03, 1.12120085e-03,\n",
       "       8.09352379e-04, 4.49840212e-04, 3.18651873e-04, 2.35539075e-04,\n",
       "       1.75542213e-04, 1.65320002e-04, 1.60658747e-04, 1.57047558e-04,\n",
       "       1.32356552e-04, 1.31460110e-04, 1.26880783e-04, 1.22217272e-04,\n",
       "       1.21049445e-04, 1.20567624e-04, 1.14949376e-04, 1.10036184e-04,\n",
       "       1.06633015e-04, 1.05626845e-04, 9.79065298e-05, 8.48221025e-05,\n",
       "       8.17297914e-05, 6.53561874e-05, 5.77614483e-05, 5.64154980e-05,\n",
       "       5.33474304e-05, 4.97122455e-05], dtype=float32)"
      ]
     },
     "execution_count": 490,
     "metadata": {},
     "output_type": "execute_result"
    }
   ],
   "source": [
    "testResult1[5][:30]"
   ]
  },
  {
   "cell_type": "code",
   "execution_count": 491,
   "metadata": {},
   "outputs": [
    {
     "data": {
      "text/plain": [
       "array([65, 87, 93, 82, 70, 72, 84, 39, 61, 18, 88, 96, 95, 76, 86, 26, 23,\n",
       "       29, 77, 91, 81, 74, 47, 45, 85, 69, 94, 90, 83, 97])"
      ]
     },
     "execution_count": 491,
     "metadata": {},
     "output_type": "execute_result"
    }
   ],
   "source": [
    "testResult1[3][:30]"
   ]
  },
  {
   "cell_type": "code",
   "execution_count": 492,
   "metadata": {},
   "outputs": [
    {
     "data": {
      "text/plain": [
       "array([3.6704972e-02, 7.6620854e-03, 3.9339373e-03, 1.2013034e-03,\n",
       "       9.3438383e-04, 4.4399663e-04, 3.1739305e-04, 2.4963630e-04,\n",
       "       1.8139134e-04, 1.7632445e-04, 1.6302233e-04, 1.5322703e-04,\n",
       "       1.4985586e-04, 1.4926252e-04, 1.4824625e-04, 1.3275603e-04,\n",
       "       1.2798907e-04, 1.1267855e-04, 1.0360809e-04, 9.6483695e-05,\n",
       "       9.5840696e-05, 9.3472925e-05, 9.1332331e-05, 9.1121561e-05,\n",
       "       9.0461377e-05, 6.5233624e-05, 6.2680447e-05, 5.6511355e-05,\n",
       "       5.5614586e-05, 5.2507639e-05], dtype=float32)"
      ]
     },
     "execution_count": 492,
     "metadata": {},
     "output_type": "execute_result"
    }
   ],
   "source": [
    "testResult2[5][:30]"
   ]
  },
  {
   "cell_type": "code",
   "execution_count": 493,
   "metadata": {},
   "outputs": [
    {
     "data": {
      "text/plain": [
       "array([65, 87, 93, 82, 70, 72, 84, 39, 18, 61, 26, 76, 95, 88, 96, 86, 23,\n",
       "       45, 81, 77, 74, 29, 91, 85, 47, 69, 94, 90, 30, 97])"
      ]
     },
     "execution_count": 493,
     "metadata": {},
     "output_type": "execute_result"
    }
   ],
   "source": [
    "testResult2[3][:30]"
   ]
  },
  {
   "cell_type": "code",
   "execution_count": 495,
   "metadata": {},
   "outputs": [
    {
     "name": "stdout",
     "output_type": "stream",
     "text": [
      "[-4.3299682e-03 -1.2503145e-04 -8.0102589e-05 -4.0805055e-05\n",
      " -2.7856448e-05 -2.1766915e-05 -1.7499304e-05 -1.6357160e-05\n",
      " -1.6071339e-05 -1.4097226e-05]\n",
      "[6.6014127e-06 7.4451527e-06 8.8013039e-06 9.7861484e-06 1.1396231e-05\n",
      " 1.4200458e-05 1.8465682e-05 1.8703853e-05 2.7094698e-05 3.7956284e-04]\n",
      "[ 10  11  12  13  14  15  16  17  18  19  20  21  22  23  24  25  26  27\n",
      "  28  29  30  31  32  33  34  35  36  37  38  39  40  41  42  43  44  45\n",
      "  46  47  48  49  50  51  52  53  54  55  56  57  58  59  60  61  62  63\n",
      "  64  65  66  67  68  69  70  71  72  73  74  75  76  77  78  79  80  81\n",
      "  82  83  84  85  86  87  88  89  90  91  92  93  94  95  96  97  98  99\n",
      " 100]\n",
      "[ 91  92  93  94  95  96  97  98  99 100]\n"
     ]
    }
   ],
   "source": [
    "xx=(testResult1[1]-testResult2[1])\n",
    "xx.sort()\n",
    "print(xx[:10])\n",
    "print(xx[-10:])\n",
    "pp=xx.argsort()\n",
    "\n",
    "print(pp[10:])\n",
    "print(pp[-10:])"
   ]
  },
  {
   "cell_type": "code",
   "execution_count": 485,
   "metadata": {},
   "outputs": [],
   "source": [
    "xx=(testResult1[1]-testResult2[1])"
   ]
  },
  {
   "cell_type": "code",
   "execution_count": 486,
   "metadata": {},
   "outputs": [
    {
     "data": {
      "text/plain": [
       "array([], dtype=int64)"
      ]
     },
     "execution_count": 486,
     "metadata": {},
     "output_type": "execute_result"
    }
   ],
   "source": [
    "np.array(range(len(testResult1[1])))[xx>0.9]"
   ]
  },
  {
   "cell_type": "code",
   "execution_count": 478,
   "metadata": {},
   "outputs": [
    {
     "data": {
      "text/plain": [
       "20000"
      ]
     },
     "execution_count": 478,
     "metadata": {},
     "output_type": "execute_result"
    }
   ],
   "source": [
    "len(testResult1[1])"
   ]
  },
  {
   "cell_type": "code",
   "execution_count": 430,
   "metadata": {},
   "outputs": [
    {
     "data": {
      "text/plain": [
       "array([ 0.0000000e+00, -1.7285347e-06,  0.0000000e+00,  3.1054020e-04,\n",
       "        0.0000000e+00,  3.2675266e-04,  9.2566013e-05,  0.0000000e+00,\n",
       "        1.1127591e-03,  5.6468666e-02,  5.7368875e-02,  9.5674396e-03,\n",
       "        3.0140281e-02,  1.6888976e-03,  0.0000000e+00,  3.7291646e-04,\n",
       "        1.3731724e-01,  6.0564443e-02,  2.9785335e-03,  0.0000000e+00,\n",
       "        0.0000000e+00,  0.0000000e+00,  5.2675605e-05,  5.7145953e-05,\n",
       "        0.0000000e+00,  3.4645200e-07,  3.2436103e-04,  0.0000000e+00,\n",
       "        3.5911426e-04, -7.5788125e-03], dtype=float32)"
      ]
     },
     "execution_count": 430,
     "metadata": {},
     "output_type": "execute_result"
    }
   ],
   "source": [
    "testResult1[6][:30]-testResult2[6][:30]"
   ]
  },
  {
   "cell_type": "code",
   "execution_count": 441,
   "metadata": {},
   "outputs": [],
   "source": [
    "xx=(testResult1[5]-testResult2[5])"
   ]
  },
  {
   "cell_type": "code",
   "execution_count": 442,
   "metadata": {},
   "outputs": [],
   "source": [
    "xx.sort()"
   ]
  },
  {
   "cell_type": "code",
   "execution_count": 443,
   "metadata": {},
   "outputs": [
    {
     "data": {
      "text/plain": [
       "(array([-0.10696635, -0.07015467, -0.05700406, -0.0321241 , -0.03099149,\n",
       "        -0.02593975, -0.01960662, -0.01747973, -0.01663751, -0.01628403],\n",
       "       dtype=float32),\n",
       " array([1.2141466e-04, 4.0273368e-04, 8.4060431e-04, 4.2890906e-03,\n",
       "        4.5473576e-03, 5.5983633e-02, 6.6358447e-02, 7.4043334e-02,\n",
       "        1.4059460e-01, 3.0369344e-01], dtype=float32))"
      ]
     },
     "execution_count": 443,
     "metadata": {},
     "output_type": "execute_result"
    }
   ],
   "source": [
    "xx[:10],xx[-10:]"
   ]
  },
  {
   "cell_type": "code",
   "execution_count": 236,
   "metadata": {},
   "outputs": [
    {
     "data": {
      "text/plain": [
       "0.8521849"
      ]
     },
     "execution_count": 236,
     "metadata": {},
     "output_type": "execute_result"
    }
   ],
   "source": [
    "maxx-minn"
   ]
  },
  {
   "cell_type": "code",
   "execution_count": 246,
   "metadata": {},
   "outputs": [
    {
     "data": {
      "text/plain": [
       "200000"
      ]
     },
     "execution_count": 246,
     "metadata": {},
     "output_type": "execute_result"
    }
   ],
   "source": [
    "len(testInput1)"
   ]
  },
  {
   "cell_type": "code",
   "execution_count": 262,
   "metadata": {},
   "outputs": [
    {
     "data": {
      "text/plain": [
       "200000"
      ]
     },
     "execution_count": 262,
     "metadata": {},
     "output_type": "execute_result"
    }
   ],
   "source": [
    "len(testResult1[0][0])"
   ]
  },
  {
   "cell_type": "code",
   "execution_count": null,
   "metadata": {},
   "outputs": [],
   "source": [
    "len(testInput)\n",
    "testInput[1000000-10:1000000+10]"
   ]
  },
  {
   "cell_type": "code",
   "execution_count": null,
   "metadata": {},
   "outputs": [],
   "source": [
    "pp=jkgenome.locus('chr8:139300616-141300616+')\n",
    "testInput=pp.twoBitFrag2('hg38').upper()\n",
    "testInput[1000000-1]"
   ]
  },
  {
   "cell_type": "code",
   "execution_count": null,
   "metadata": {},
   "outputs": [],
   "source": [
    "testResult1[0][0][1000000-10:1000000+10]"
   ]
  },
  {
   "cell_type": "code",
   "execution_count": null,
   "metadata": {},
   "outputs": [],
   "source": []
  },
  {
   "cell_type": "code",
   "execution_count": null,
   "metadata": {},
   "outputs": [],
   "source": [
    "testResult=predict_sequence_with_context(testInput,10000,models,assembly='hg38')"
   ]
  },
  {
   "cell_type": "code",
   "execution_count": null,
   "metadata": {},
   "outputs": [],
   "source": [
    "testResult[5][:30]"
   ]
  },
  {
   "cell_type": "code",
   "execution_count": null,
   "metadata": {},
   "outputs": [],
   "source": [
    "testResult[3][:30] "
   ]
  },
  {
   "cell_type": "code",
   "execution_count": null,
   "metadata": {},
   "outputs": [],
   "source": [
    "testResult[3][:30]"
   ]
  },
  {
   "cell_type": "code",
   "execution_count": null,
   "metadata": {},
   "outputs": [],
   "source": [
    "testResult1[0][0][69143]"
   ]
  },
  {
   "cell_type": "code",
   "execution_count": null,
   "metadata": {},
   "outputs": [],
   "source": []
  },
  {
   "cell_type": "code",
   "execution_count": null,
   "metadata": {},
   "outputs": [],
   "source": [
    "testInput2=testInput[:100000]+'G'+testInput[100000+1:]"
   ]
  },
  {
   "cell_type": "code",
   "execution_count": null,
   "metadata": {},
   "outputs": [],
   "source": [
    "testResult2=predict_sequence_with_context(testInput2,10000,models,assembly='hg38')"
   ]
  },
  {
   "cell_type": "code",
   "execution_count": null,
   "metadata": {},
   "outputs": [],
   "source": [
    "testResult2[3][:30]"
   ]
  },
  {
   "cell_type": "code",
   "execution_count": null,
   "metadata": {},
   "outputs": [],
   "source": []
  },
  {
   "cell_type": "code",
   "execution_count": null,
   "metadata": {},
   "outputs": [],
   "source": []
  },
  {
   "cell_type": "code",
   "execution_count": 404,
   "metadata": {},
   "outputs": [
    {
     "data": {
      "text/plain": [
       "'CTGTCTGAATGTTTGGGCGATGGGTGAAGGTGAGTTGAGAGATGGGTGGGAATTGGGGACAATAAACCGTCCCACCTGCCTGGTACCTTGACCCTGGGAAAGGCTGGGAAGGTGAGATCCTGGGGCAGATGCCCAGCCTCATGGGGTCATGAATGGGCAAGTCTGTGAATACTCAGAGGCCGCCCCCAGGGCAGGGCTTCTCAAACGGCCCCCTCTGAAGCCCCTTCCCCCATCTCTCCACCCTTTGAACCCAGAGGCCATGGGCACCGGAGACCTGGACCTCCTATCAGCCTTCCGCCGCACGTGAGTGGCCATCCTCAGGGCCTGGGGGAGGCCAGTGCTGGAGTCTGAGGCCCTTCAGGGTCTCGACTGGGGGTCAGGGCTGGGGATGATTTGCGGGGCGGAGCTGAAGTCAGTGGGGGCTGCAGGGGAGAGCAAGCTTCCCAGGCAGGTGAGGATACTGAGTCTAACCCCCACAGGAGCCTGGCTGGAGGTGGTCGGCGGATCAGGTACCCCTGCCCCAGGCCCTACCTGCACCATCCGCAGACCCCCAGGGGTCTGAGACGGGTGGGAGCCCAATCTGGCTAGTGTCCCTTTCTCCCTCCCCACTCCACTCCCATCCTGCTCCTAATCCCTTTCCAGTCCCTCACTGCAGCCTCACTGGGGGTCCCTCTCCATAGTGATAGCCATGAGGACACTGGGATTCTGGACTTCAGCTCACTGCTGAAAAAGAGGTGAGTCCTGGGTGGCAGTTCCTGGGGCAGCTGGTGAGGCCTGGCTCCAAATCCCAGCACTGTGGTTTGCCAGCTGTGTGACCCTGAGCACAACACTGCACCTCTCTGAGTTGGTTTCCTTGTCTGTCGAGGGGATGATCCCAGTGTGGAAGGAGTTAAAGGGCTCTGCAGACATTATGTCCCGTCAACAGTCATCCTCACAGTGTCCCCCACGGCCACTCCACACTTGAGGCTGCAAAAGCTCCCTCCGTAAACTCCGGGGACCCAGAAGGAACAGAGAGAGGGTCCCCAGAGCTGCAGGGTCTACCAGGTCGGCCCAACTGACTTATGTTCTCTCTGCCCTCTCTCTCCCTCTCCCCCGGCCCCTCCATTATGGCTGCTGCTGCTGTGGCCCAGAGAGTAAGAATCGGGGTCTGGGTGTTTGGGGGCGGCAGGGCGCTGGTGGGTGCAGAGGGGATTCCCGTCCCCTCTCTGAGAGGCTGTGGTGAGAGACTCAGAGCAGGGTGCGGCTCCCCACGGACAGGGGTGAGTCTCTGTGCCTTGGGCTTCTCCTGCCACCCACCTATCTGTCAGAGCTTAGGAGGGATAAGAAAAAGTAATGCACACAGGAGGTCCTGCCAGAGCCTCCGGAGCAGCATGGGTGCCCCACAACACAGGGAGTGCAAGTGCGGAAAATAGGGAGGAAGTAAAGGCCCATGGGTGGGGTCCAGGTCTTTGAGGGAAGGTGGCCATACCTCTCATGTGCCACCTACCCTTTCTCCCACCCCCACCCCTGGAGCAGCAGTTTCCGGACCCCGAGGTGAGTGCCCAACATAGCACAGCACCCTCATCACCCCTAATTCTGCCAGGAGCCCCTCCAGATCCCCAGCCCCTCTTCAGCTCCCTTGGCCCCCAGTCCTGCCTGGCCTGGGACCCAGAGCAGCTCCAGCTGCCCCACCAGAAGGGAAGGGGCAGAGGGACAGGGGTGGCTACAGCTCCTTGGTCCTGGGCCCAGGAAGCCCCGCCCAGGGGGCTGCAGTCTTGCCCCCGGCCACAGCCTAGACTGCGGGACACAGGGACTCGAAGCTGGAGGCACCAGCAGAGGAGGACGTGTGGGAGATCCTACGGCAGGCACCCCCATCTGAGTACGAGCGCATCGCCTTCCAGTACGGCGTCACTGACCTGCGCGGCATGCTAAAGAGGCTCAAGGGCATGAGGCGCGATGAGAAGAAGAGCACAGGTTAGCCCTTCCTCAGAGGGGAGAGGAGAGGGCACAGGCTAGCCCTTCCCTACACAGGAGAGGAGAGGGCATAGGTTAGCCCTTCCCCACAGGGGAGAGGAGAGGGCACAGGTTAGCCCCCCACCTCGTCCACATACATGGAAAGAGCGGAGTCCGGCTTAGCACAGAGACTCACAGGAAAGAAGAGCCCAGGTTAACCCCTCCTTGTGTAGAAAAAGCCAAGAATGCCCAGGTTAGCCCCTTACCACAGAGATAGAAGAGAAGAGCAAAAGTTAGGCCAGGACAGCCACAAGGAAAAGGACAGAGCTCAGGTTAACCCTCCTCACCAAGGAAAAATCAGGCTACACTTTCTTTCTCTACCCTCTTCTGAAAAGAAATGAAGCCCGGTTAACCCTCTCCACACCCAAAAGAAAAGGGAAGAGGCCCGCTAAGCCTGGAGAGCCACACACAGGCAAAGAAAAGAGCCTGGCTAATCTTTCTCTCAGGCAAACAAAGCAGGAGGGCTTGGGTTAACTACCCTCACCCCCAGGCAGATGGAAAGAGGAGAGCCCAGGAATAGCCCTTCTCCACTGAGGGGTTGACAAGGGCGGGTGTGAGCCGGGAAAGCAGGGGTCTCACATGCCTTCTCCCCACCATGTCTGGGTCTAGCACAGGGCCTGGCACACACCTCGAGCGCTCTATAAACACCGACTGAATGGAGGGGTCAGCTTCCATGCAGGATATGGGAGACAAGCCCCTCCCAAAGCACACACACAAAACACACACGATCATGGGGACGGGGAGAGGAGCTGGTTAGTCCCTCCCTGCTGACCTCCCCCAGGCCCCTTATCCCTCTGCCCTGCCTCCCTGTTGTCTCAGCCTCACTGGGTTTCCCATCACCCCATCGCTAGGTGGCCTGGCCCTTACCGGCACCGTGGCCCCATTTAAGCCAGGGATCCCCTGAATGCCACCAATGTTCCTCTGGGTTAACTCCTGAACTGCTGAGCCCAGAGGGCACCAAGCAAAGGACTGTAGGTGCCCAAGGAGGAAAAGATGGAGGCTGGCAAGGCAGATGGGGACCTCCGAGGGTAGGGGTGTCTTCCAGGAATAGCAACAACAGTAAAAAGAGCAAATTGCTGGCCAGGTGCAGTGGCTCACGCCTGTAATCCCAGCACTTTGGGAGGCCGAGGCAGGTGGATCACCTGAGGTTAGGCGTTCAAGACCAGCCTGACCAACATGGTGAAACCCCGTCTCTACTAAAAATACAAAATTACCTGGGCATGGTGGCAGGCGCCTGTAATCCCAGCTACTCCGGAGGCTGAGGCAGGAGAATCACTTGAACCCGGGAGGCAGAGGTTGCAGTGAGTCAGGATTGTGCCATTGCACTCCAACCTGGGTGACAGAATGAGACTCCATCTCAAAAAAAGTGAGTGAGTTCCTTCCTAAGCCAGCCACTAGGTGCTTTATGTAATTATCTCATTTAATTCTCGAAACAACACTATGATGGAAGGACTATTACCATTTCCATGTTACTGAGGAAACCGAGGCACAGAGGGTTTAAGGAACTAGCGCAAGGTCACAGAGCACCCAGCAGTAGATCTCTGCCCCTCCGCAGCTGACTCCAGGCCCAGCCAGAGTATTTGAGGACTCAGGGGTCCTTCTCTGCTCGGTGGATGGAGCCCCCACTTCCTCCCTGGGCTCAGCAGCAGCAACATGGGCTTTTACAAACACGGCCGCAAGAGGAGGCATTGTTGTGGAGCAGGGCTGGGCTCAAGACCCAGCTCTGCCACACACCTGCTGGGCTGGTGGCATTGGGCCAGTCGCCTCTCTGAGCCCTATTTCCCCCACTGCAGCAGCATGGGGACCACCGCACTGGCCCTGGGGGCTGAGATGGGAGTGAGAGTGCTGGGCACAGAGGGCTGCTAGGTGGGAGCGCCTGGGAAGAGTACACAACTCAGGGGTTGCTGAGAGAAGAGAAGGCACAGCTGTCCCAGCCCCAGTTCTCCTGACAAGCTTCTGTCTTTCTGGAAGCCCCTAACCCAATCCCTGAGCTGAGCAGGTGGAGAGGACCCCAAGGAAGACAGAAGGACAAGGTCAGACAGACAGAGACAAGGAGGTGGGTTGACACATAGACACAGATAAAGAAATGAAGACACCATGCCTGTAATCCCAGCACTTTGGGAGGCTGAGGCGGGCGCATCACCTGAGGTCAGGATTTCAAGACCAGCCCGGCCAACATGGTAAAACCCCGTCTCTACTAAAAATACAAAAATTAGCTGGGCGTGGTGGCACATGCCTGTAATCCCAGCTACTCGGGAGGCCGAGGCAGGAGAATCACTTGAACCTGGGAGGCAGAGGTTGCAGTGAGCCAAGATGGCGCCATTGCACTCCAGCCTGGCCAACAGAGCAAGACTCTGTCCAAAAAACAAACAAACAGACAAACAAACAAAACAAAAAGAAATAGAGACACAGAGAAGTGGAAGCGGGGCGGCACAGAGGGGATTGGAGGGGGGGACCTGGGCCCCAGCCACAGCCACAGTAGCTTGGCCTGGGGGAGCAGGGTGCGGGCGGTGGGGTGGCCGGGGCTGAGGGGTGGTGCTCAGCCTTTCAGAAGAAGCTGGAGCCGGCCTACCAGGTGAGCAAAGGCCACAAGATCCGGCTGACCGTGGAACTGGCTGACCATGACGCTGAGGTCAAATGGCTCAAGAATGGCCAGGAGATCCAGATGAGCGGCAGGTGCAGCCTGGGGTGGGGAGGGGGGCTCGGGTGGAGGTGGGGACCCCCATAGCCTTGCCTCCTGCCCCTCTCCACATGCGTATCTCTGACTCGGTGTGGCTCTCAGCCCCATCTCTCTGGGCCTAATTTCCCATCCTTTTGCTCCTGCCGGTCCCTCTCTCTCTCTCCTTTTGTCTCGGGCTCACTTCCTCCCGTCGGGAACACTTCAACGGCCCCTTCTGTTCTACAGCAAGTAAGTTCCCCTCTGGATGGCTTGGGGTGGGGGGCACAGGGATTATCATGGGGCGCACTGGGCCCGGAGGGGTGTCCGCAGCTTTCCTGCCACTTCCCTGCGGCCCCCACCCAGGTACATCTTTGAGTCCATCGGTGCCAAGCGTACCCTGACCATCAGCCAGTGCTCATTGGCGGACGACGCAGCCTACCAGTGCGTGGTGGGTGGCGAGAAGTGTAGCACGGAGCTCTTTGTGAAAGGTGGGCCTGGGACCTGAGGATGTGGGAACCTGGGGAGGAGATGGCCTCAGGGGAGCCAACCCTCATGCTCACCCTGCCTGGACAGAGCCCCCTGTGCTCATCACGCGCCCCTTGGAGGACCAGCTGGTGATGGTGGGGCAGCGGGTGGAGTTTGAGTGTGAAGTATCGGAGGAGGGGGCGCAAGTCAAATGGTGAGTTCCAGAAGCACGGGGCATGGGTGTTGGGGGCATCTGCCCAGAAGAGGCCACAGCACTTGCCACCCACCCACCCGGCTAGGCTGAAGGACGGGGTGGAGCTGACCCGGGAGGAGACCTTCAAATACCGGTTCAAGAAGGACGGGCAGAGACACCACCTGATCATCAACGAGGCCATGCTGGAGGACGCGGGGCACTATGCACTGTGCACTAGCGGGGGCCAGGCGCTGGCTGAGCTCATTGTGCAGGGTGAGCCTGGCTGGGGGGGCACATGAGGCTTTAGGGCTTGGACCCCTCAGCCCCCACCCCACCTAGCCCTGTAGGGGAGCAGGCAAACCTGGGCTCAAGGCCTCTGTGACCTTGGGCCTTTGACAGCCTAAACCTCATCCTTCTCATCTCTAAAATGACGATGCTGAGGTGACCGCTCCAGAGGGTACTGAGAGGGTCATACGGGCCTGGTGAGCATCACCACCCCTCAGACACTTGAGGTTCCTTATGTGCACTGCACCATCACAGGCAAACATGGCACACACAGGCACACGTGTTTTCACATGCCCACATGCACCCAGACACGTGCGCACCAGCGCCCATGGGCCCACACGCCCTCCACAGGGATTCACGCCACACCCACACACCCTCCCGAGCTCAATGGCTCTGCCCTGCCCTGCAGAAAAGAAGCTGGAGGTGTACCAGAGCATCGCAGACCTGATGGTGGGCGCAAAGGACCAGGCGGTGTTCAAATGTGAGGTCTCAGATGAGAATGTTCGGGGTGTGTGGCTGAAGAATGGGAAGGAGCTGGTGCCCGACAGCCGCATAAAGGTGTCCCACATCGGGCGGTGAGTGTGCAGGGCAGGTGGATGGGACAGGTGGAGACTGAGATGGAGACAGAGAGAGACACAGGGAGAAACAGAGAGAGAGAGATAAAGACAGGTGGACAGAGAGGCAGATGCACAGAGACAGGACAGAGACTGAGACAGAGACCCACAGAGAGGGAGAAACAGACAGACCCAAAAAGACAAAGAGACAGAAAGACAGAAATAGTTCTATAGAGACAGAAAGATATGCACAGGGAGGCACACACATAGGAGAGTTCGTCAGAGACAGAGAAGAACAGAGGGACAGAGACAAAGAGGCAGCAGGGAGAGACACGGACGGGGTCGAGCGCTCCCCAGCACCCTCCCCCAGCTTGTGACCAGGGCAGGGCAGGAGGCCACCAAGGAGGCCGGCTCTGGCCAGAGGCCCTCACTGCCTCTCCCGCCCTCTTGCTCATCCCTGGAGCAACTGGGCTGGCCGTGCTGGGCCCAAGTTCACAGAGATTAATGAGACCCAGCCCCTGCCCAGTCTCCAAGGGCCCAGCCAAGGAGATGCTTTGATGTAGAAATCACTTTTACGCTGCCTACCTCTGAAGGCACATTAAAAAGCTGGAAAATTAGATAATATAGAAAAAAAAAGGCATTTTTAAAAATCAGAATACCAACAAGCCAGGACAAGGTGAGGGCCTCCTGGGACCCTGGCTGGGGTATCTGGCAAGGCCAGGGGTGTGTGGCCCAGTGGGGTCCCCTGAGCCACTGCTCCCCTGCAGGGTCCACAAACTGACCATTGACGACGTCACACCTGCCGACGAGGCTGACTACAGCTTTGTGCCCGAGGGCTTCGCCTGCAACCTGTCAGCCAAGCTCCACTTCATGGGTGAGCCTGCTCCAGGGTAGGGTGGGTCGGGGCAGTGGGGCCAGGAGCCCCTGTCACTGGGCCCTGCCTTTGCCCCCGTGCTACTTGCTCTTCCTTCTCTTGCAGAGGTCAAGATTGACTTCGTACCCAGGCAGGGTAAGTCTTGGGGCCCCTGAGTCTTGGTTCTGCTCACTTTCCCGCAACCCACCCACGCAGGCCTCCCCTCCACTCACAGAGGGAAGAGCAAGGATCAAAAGTGGGGGTCCTGGGGCCCAGCTTCAGCTTTGCCACTCATGACCATGGGTCAATTATAATCTCTGTGAGCCTCAGTTTCCTCTTCTCTAAAATGGGAACCCTGATAGTGCCACCTCATAGGATAGTTATAAAGATGAGGTGACATGATGTATCAGACCTGTCAAGTGCTGTCACATGTGTGACTGTTATTATTACATCTTTTCTTCTTCTTCCTTTTTTTTTATTTTTATTTTTTTTGAGACGGAGTCTCCCTCTGTCGCCCACGCTGGAGAGAAGTGGCGCGATCTCGGCTCACTGCAAGCTCCGCCTCCCAGGTTCACACCACTCTCCTGCCTCAGCCTCCTGAGTAGCTGGGACTACAGGCGCCCGCCACCATGCCCAGCTAATTATTTTTTGTATTTTTAGTAGAGACGGGGTTTCACCATGTTAGCCAGGATGGTTTCGATCTCCTGATCTCATGATCTGCCTGCCTCGGCCTCCCAAAGTGCTGGGATTACAGGCGTGAGCCACTGCGTCCAGACTGCTTTGCTTTGTTTAACTGAGGGCAGATTCCTGATTTATTTGGCCAGGGAACCTTTTTAATGTGTGCATGTGTGCGTGCATGTGTGCGCGCGTGTGTGTGTGTGCATGTGTCTGTGTGTGTATGTATATATGTGTGTCTGTGTCTGTGTGTGTGCGTGTATGTATGTGTATTTGTGTCTGTGTGCATGTGTGTGTCTGTGTGTGCATGTGTGTATGTGTATGTGTGTCTGTGTGTATGTGTATATGCGTGTGTGTGTGTGTATTGTGTGTGTGTGTATGTGTGTGGCAAGACACTGATGTTCCCCCAGTTTTCAAAATGCTATGCTAGGTGACCTGACCTGAATATTACAAGCCTCCCAGCCAACGTCCTGGGGTGATGGGAATGTTCCAGATCTTGGTTGGATTAATAATTGCATGGGTGTATTCATCTGTCAGAACTCAGCCTACTGTCAGATCTGAGCATAAACTATACCTCAATACAAATCTAAAAAACCAATAACCAGGGGCCCAGGCTCTTGAGCAGCCCCGCCCCAGTGACCTGTGCTCCTCCTGGCTCTCCCGTTTCTCTGAACTACATTGTGTCTTCTGCAGAACCTCCCAAGATCCACCTGGACTGCCCAGGCCGCATACCAGACACCATTGTGGTTGTAGCTGGAAATAAGCTACGTCTGGACGTCCCTATCTCTGGGGACCCTGCTCCCACTGTGATCTGGCAGAAGGCTATCACGCAGGTACTGTGGGTCCCTCCTCAGTCTCCCCATCTATAAGATGGGTGTGTGGAACCAGCCAAGTGCTAGGACCTGCTGCACACCCCACCCACATGTGCACGCCCTGCTGTTGGCTACCCCATGGGAGAGACTGGTCAGGGGGCAGGCAAGGTGGGCAGTGTGGGTCAGGGGGTGGAAGAAGCAGCAGAGGGGCGCTTCCAGGCTGAGTCAGCTCCTCTGCTCCCTACTTCCCTCCTGCCCTGTTCCCAGGGGAATAAGGCCCCAGCCAGGCCAGCCCCAGATGCCCCAGAGGACACAGGTGACAGCGATGAGTGGGTGTTTGACAAGAAGGTGAGTGAGACTGAGGTCAGGAGGAGGCTCGTTTGTCTTTCATCACTTTCTACCTACGTGGTGCCGAGCCCTTGGCGAGGTCTCCATGGAGGTGCCACACTTGGCCGGGTGTGTTGCTGCCCCCAGCAGGGTCCCTGTGGGGCCCTCACACCTCAGGCAGAGGGTCTCTGTGAAGTGTGCTGATGGCCATCACAAGGATGTGGACACCCTCTCATTGCCAGGAAGCCCTCATGACTGGGCTGCTCCCTGGCTCCCTTCATCCTAAGCTGACCTTGACCTTGACCTTGTGCTCCCTCTCAACTCAGGAGTAGTTTCTGAGACACTTTTCTGCCAGTGTAGCTGCCGGGGTCTTGCTCCTGCCTGGCACTGTTGGTTCTTCTGAAGGCTGGGGTCTTGAGGGGTCCTCATGATAGCTCATCTGAGAGGACAGGTGGTTGCCCCAGGTCCCGTGACAAAGCTAGAACCCGAGCCCCTGCCCTCAGTCGGTGCCACAGAGATGATTTTGAACTAGATGCTGACGTGGATGCAGTCTTCCCACAGGCTGTGTTCCCCCCATGGACCCCCGGGACATCTGGCTGTTGGCGGAGGCTGCAAGGGCCTCTGGGGTCTGACTTGGATCTCACCCCAACTCTGCACCCCCCCAGCTGCTGTGTGAGACCGAGGGCCGGGTCCGCGTGGAGACCACCAAGGACCGCAGCATCTTCACGGTCGAGGGGGCAGAGAAGGAAGATGAGGGCGTCTACACGGTCACAGTGAAGAACCCTGTGGGCGAGGACCAGGTCAACCTCACAGTCAAGGTCATCGGTGAGGCCGGCCGGGGTCCAAGCTGGAGAACACAGAGGGGCAGCCCCAAGGAGGGCCCATCCGTTCGCTCATTCAGCCACTCGACAAACATCACGGGCATGCTCCCTGAGCCGAGCGGCAACAGGACAGGTTTTTCTGCCCAAAAGGAGCCCCGCTCTGGGGGAGATGGAGGCAGATGCATCCAGCAGATTTCCTGCGACACTGCTGTACATGAGCCATGTCCAGAGTGCCGTGGGAGCACTGAGCAGAGAGCCATCCCTGTGCCTGGGGGTGATGCCTTTAGGAGGCTGAGAAGATGGTGAGGAAAGGCATCCCAGGCAGAGGAAACTGTGTACAAAGGGGTGGAGGAGGGAAAGGGCCTT'"
      ]
     },
     "execution_count": 404,
     "metadata": {},
     "output_type": "execute_result"
    }
   ],
   "source": [
    "pp=jkgenome.locus('chr11:47359708-47369710-')\n",
    "xxxx=pp.twoBitFrag2('hg19').upper()\n",
    "xxxx"
   ]
  },
  {
   "cell_type": "code",
   "execution_count": 407,
   "metadata": {},
   "outputs": [],
   "source": [
    "pppppp=predict_sequence_with_context(xxxx,10000,models,assembly='hg19')"
   ]
  },
  {
   "cell_type": "code",
   "execution_count": 409,
   "metadata": {},
   "outputs": [
    {
     "data": {
      "text/plain": [
       "array([0.9986476 , 0.9976985 , 0.99746644, 0.9963444 , 0.9960413 ,\n",
       "       0.9932972 , 0.98099554, 0.98063487, 0.9355999 , 0.8594283 ,\n",
       "       0.74491316, 0.6864151 , 0.64838743, 0.6317855 , 0.5831027 ,\n",
       "       0.54514587, 0.46745053, 0.4419094 , 0.44165546, 0.4244079 ,\n",
       "       0.40271544, 0.361901  , 0.35564238, 0.34413013, 0.32823086,\n",
       "       0.2702531 , 0.256715  , 0.2411994 , 0.17268628, 0.16499874],\n",
       "      dtype=float32)"
      ]
     },
     "execution_count": 409,
     "metadata": {},
     "output_type": "execute_result"
    }
   ],
   "source": [
    "pppppp[5][:30]"
   ]
  },
  {
   "cell_type": "code",
   "execution_count": 410,
   "metadata": {},
   "outputs": [
    {
     "data": {
      "text/plain": [
       "array([6915, 8369, 9480, 6003, 5415, 5014, 5224, 7127, 8755, 4535, 1515,\n",
       "        680, 1770,  642, 1789,  254, 4897, 1130, 4543, 3963, 6008, 9376,\n",
       "        479, 4567, 1518, 4774, 1728, 4546, 1582, 4981])"
      ]
     },
     "execution_count": 410,
     "metadata": {},
     "output_type": "execute_result"
    }
   ],
   "source": [
    "pppppp[3][:30]"
   ]
  },
  {
   "cell_type": "code",
   "execution_count": 358,
   "metadata": {},
   "outputs": [],
   "source": [
    "input2=xxxx[:9999]+'T'+xxxx[10000:]"
   ]
  },
  {
   "cell_type": "code",
   "execution_count": 359,
   "metadata": {},
   "outputs": [
    {
     "name": "stdout",
     "output_type": "stream",
     "text": [
      "9999 A T\n"
     ]
    }
   ],
   "source": [
    "for i in range(20000):\n",
    "    if input1[i]!=input2[i]:\n",
    "        print(i,input1[i],input2[i])"
   ]
  },
  {
   "cell_type": "code",
   "execution_count": 360,
   "metadata": {},
   "outputs": [
    {
     "data": {
      "text/plain": [
       "(20000, 20000)"
      ]
     },
     "execution_count": 360,
     "metadata": {},
     "output_type": "execute_result"
    }
   ],
   "source": [
    "len(input2),len(input1)"
   ]
  },
  {
   "cell_type": "code",
   "execution_count": null,
   "metadata": {},
   "outputs": [],
   "source": []
  },
  {
   "cell_type": "code",
   "execution_count": null,
   "metadata": {},
   "outputs": [],
   "source": []
  },
  {
   "cell_type": "code",
   "execution_count": null,
   "metadata": {},
   "outputs": [],
   "source": [
    "compare_mutated_sequences(chrom,pos,ref,alt,start_index,end_index,strand,context,model,assembly='hg38')"
   ]
  },
  {
   "cell_type": "code",
   "execution_count": 498,
   "metadata": {},
   "outputs": [
    {
     "name": "stdout",
     "output_type": "stream",
     "text": [
      "Ref and Alt : (T to G)\n",
      "CATTTTGTGTGGCCGGAGGCTAGCAGGAAGGTTCAATAGTTTCACATGCCTGTTGTTTCAAACAGAACACAAATACTTCAACTGTCTGGTTAGCGTGGTTT\n",
      "                                                  -\n",
      "CATTTTGTGTGGCCGGAGGCTAGCAGGAAGGTTCAATAGTTTCACATGCCGGTTGTTTCAAACAGAACACAAATACTTCAACTGTCTGGTTAGCGTGGTTT\n",
      "\n",
      "sequence changed --- 0.007157564163208008 seconds ---\n",
      "prediction --- 3.5381619930267334 seconds ---\n"
     ]
    }
   ],
   "source": [
    "ref='T'\n",
    "alt='G'\n",
    "x=compare_mutated_sequences('chr8',140300616-1,ref,alt,140300616-5000,140300616+5000,'+',10000,models)"
   ]
  },
  {
   "cell_type": "code",
   "execution_count": 499,
   "metadata": {},
   "outputs": [
    {
     "data": {
      "text/plain": [
       "9999"
      ]
     },
     "execution_count": 499,
     "metadata": {},
     "output_type": "execute_result"
    }
   ],
   "source": [
    "len(x[0])"
   ]
  },
  {
   "cell_type": "code",
   "execution_count": 500,
   "metadata": {},
   "outputs": [
    {
     "name": "stdout",
     "output_type": "stream",
     "text": [
      "-0.00033577578 0.0008279085\n"
     ]
    }
   ],
   "source": [
    "minn=1\n",
    "maxx=0\n",
    "for i in range(len(x[0])):\n",
    "    if minn>x[0][i]:\n",
    "        minn=x[0][i]\n",
    "    if maxx<x[0][i]:\n",
    "        maxx=x[0][i]\n",
    "print(minn,maxx)"
   ]
  },
  {
   "cell_type": "code",
   "execution_count": null,
   "metadata": {},
   "outputs": [],
   "source": []
  },
  {
   "cell_type": "code",
   "execution_count": null,
   "metadata": {},
   "outputs": [],
   "source": []
  },
  {
   "cell_type": "code",
   "execution_count": null,
   "metadata": {},
   "outputs": [],
   "source": []
  },
  {
   "cell_type": "code",
   "execution_count": null,
   "metadata": {},
   "outputs": [],
   "source": []
  },
  {
   "cell_type": "code",
   "execution_count": 382,
   "metadata": {},
   "outputs": [
    {
     "name": "stdout",
     "output_type": "stream",
     "text": [
      "Ref and Alt : (A to G)\n",
      "GGGACTACTGTATTATAAAAACTAATAATTGTCTTCTTTTCTCCCCTTTAAGTGGACGCGCCTTCAAGAAGAAATAGATCATCTGGTGGTAATACAGTTTT\n",
      "                                                  -\n",
      "GGGACTACTGTATTATAAAAACTAATAATTGTCTTCTTTTCTCCCCTTTAGGTGGACGCGCCTTCAAGAAGAAATAGATCATCTGGTGGTAATACAGTTTT\n",
      "\n",
      "sequence changed --- 0.02477574348449707 seconds ---\n",
      "prediction --- 2.76558780670166 seconds ---\n"
     ]
    }
   ],
   "source": [
    "######### TODAY\n",
    "\n",
    "\n",
    "ref='A'\n",
    "alt='G'\n",
    "\n",
    "x=compare_mutated_sequences('chr3',142740189,ref,alt,142740190-10000,142740190+10000,'+',10000,models)"
   ]
  },
  {
   "cell_type": "code",
   "execution_count": 383,
   "metadata": {},
   "outputs": [
    {
     "name": "stdout",
     "output_type": "stream",
     "text": [
      "Largest Delta in acceptor\n",
      "     10000 :  0.9628092\n",
      "     10093 :  0.13181767\n",
      "      9901 :  0.009439922\n",
      "     10025 :  0.009007661\n",
      "     10019 :  0.005023396\n",
      "     10016 :  0.0038957505\n",
      "     11503 :  0.0014853477\n",
      "     10123 :  0.0011556149\n",
      "      7320 :  0.0008781776\n",
      "      9697 :  0.00045300456\n",
      "\n",
      "Smallest Delta in acceptor\n",
      "      9999 :  -0.99900365\n",
      "      9228 :  -0.0013905545\n",
      "     13260 :  -0.000699684\n",
      "     12625 :  -0.00038695335\n",
      "      9258 :  -0.00036087027\n",
      "      9250 :  -0.000225842\n",
      "     13134 :  -0.00020573661\n",
      "     10141 :  -0.0001413891\n",
      "     13323 :  -0.00010251999\n",
      "     12595 :  -7.840991e-05\n",
      "\n",
      "Largest Delta in donor\n",
      "      9935 :  0.008949852\n",
      "     11714 :  0.004448712\n",
      "      8328 :  0.0027533919\n",
      "      8314 :  0.0011265688\n",
      "      9941 :  0.0009659065\n",
      "     12668 :  0.00061035156\n",
      "      8687 :  0.0004094243\n",
      "     10205 :  0.00027507544\n",
      "     11312 :  0.00010192394\n",
      "     10154 :  7.92357e-05\n",
      "\n",
      "Smallest Delta in donor\n",
      "     10032 :  -0.39879802\n",
      "     10035 :  -0.09092188\n",
      "      9329 :  -0.0068995804\n",
      "     10038 :  -0.006283201\n",
      "     10215 :  -0.005467236\n",
      "     10092 :  -0.0033973197\n",
      "     10031 :  -0.0027186524\n",
      "     10043 :  -0.0018761172\n",
      "     10034 :  -0.0017739858\n",
      "     13485 :  -0.0013384521\n",
      "\n",
      "Prob for Ref(A)\n",
      "[[9.9999273e-01 3.9345018e-06 3.3140132e-06]]\n",
      "\n",
      "Prob for Alt(G)\n",
      "[[9.999830e-01 3.176658e-06 1.379890e-05]]\n",
      "\n"
     ]
    }
   ],
   "source": [
    "view_delta(x[0],x[1],x[2],x[3],x[4],x[5],x[6],x[7],10)"
   ]
  },
  {
   "cell_type": "code",
   "execution_count": 386,
   "metadata": {},
   "outputs": [
    {
     "name": "stdout",
     "output_type": "stream",
     "text": [
      "Ref and Alt : (G to A)\n",
      "GGCGCACTGGGCCCGGAGGGGTGTCCGCAGCTTTCCTGCCACTTCCCTGCGGCCCCCACCCAGGTACATCTTTGAGTCCATCGGTGCCAAGCGTACCCTGA\n",
      "                                                  -\n",
      "GGCGCACTGGGCCCGGAGGGGTGTCCGCAGCTTTCCTGCCACTTCCCTGCAGCCCCCACCCAGGTACATCTTTGAGTCCATCGGTGCCAAGCGTACCCTGA\n",
      "\n",
      "sequence changed --- 0.04125475883483887 seconds ---\n",
      "prediction --- 2.791537284851074 seconds ---\n"
     ]
    }
   ],
   "source": [
    "######### TODAY\n",
    "\n",
    "\n",
    "ref='G'\n",
    "alt='A'\n",
    "\n",
    "x=compare_mutated_sequences('chr11',47364709,ref,alt,47364709-10000,47364709+10000,'-',10000,models)"
   ]
  },
  {
   "cell_type": "code",
   "execution_count": 387,
   "metadata": {},
   "outputs": [
    {
     "name": "stdout",
     "output_type": "stream",
     "text": [
      "Largest Delta in acceptor\n",
      "     10012 :  0.40365905\n",
      "      9896 :  0.013271779\n",
      "     10057 :  0.0032427367\n",
      "      9566 :  0.0031074584\n",
      "      9900 :  0.0026617134\n",
      "      9542 :  0.0026085973\n",
      "     11006 :  0.0018072128\n",
      "     10040 :  0.001747489\n",
      "     10706 :  0.0010415763\n",
      "      9852 :  0.0009825248\n",
      "\n",
      "Smallest Delta in acceptor\n",
      "     10001 :  -0.9829251\n",
      "      9980 :  -0.11118871\n",
      "      9876 :  -0.005281953\n",
      "      9773 :  -0.002778083\n",
      "      9878 :  -0.0022020414\n",
      "      9873 :  -0.0020470626\n",
      "      9871 :  -0.0018259231\n",
      "      6788 :  -0.0018077493\n",
      "      6517 :  -0.0016589463\n",
      "      6511 :  -0.0016127378\n",
      "\n",
      "Largest Delta in donor\n",
      "     10096 :  0.005030662\n",
      "     10089 :  0.004070699\n",
      "      9666 :  0.0020329356\n",
      "     10788 :  0.0014981255\n",
      "      9565 :  0.0007424839\n",
      "      6877 :  0.0005048588\n",
      "     10327 :  0.00040739775\n",
      "     11821 :  0.00016477704\n",
      "     10579 :  0.00014519691\n",
      "     10100 :  0.00011189486\n",
      "\n",
      "Smallest Delta in donor\n",
      "      9898 :  -0.003786683\n",
      "     10011 :  -0.0033223256\n",
      "      9046 :  -0.0023861006\n",
      "      9023 :  -0.0017029941\n",
      "      6531 :  -0.001242578\n",
      "      6257 :  -0.0009677112\n",
      "      9894 :  -0.00084595196\n",
      "      9170 :  -0.00064639375\n",
      "      9138 :  -0.00051512755\n",
      "      9678 :  -0.00044912286\n",
      "\n",
      "Prob for Ref(G)\n",
      "[[9.9997962e-01 1.9697733e-05 7.0202327e-07]]\n",
      "\n",
      "Prob for Alt(A)\n",
      "[[9.9998665e-01 1.2961272e-05 3.5164982e-07]]\n",
      "\n"
     ]
    }
   ],
   "source": [
    "view_delta(x[0],x[1],x[2],x[3],x[4],x[5],x[6],x[7],10)"
   ]
  },
  {
   "cell_type": "code",
   "execution_count": null,
   "metadata": {},
   "outputs": [],
   "source": []
  },
  {
   "cell_type": "code",
   "execution_count": null,
   "metadata": {},
   "outputs": [],
   "source": []
  },
  {
   "cell_type": "code",
   "execution_count": null,
   "metadata": {},
   "outputs": [],
   "source": []
  },
  {
   "cell_type": "code",
   "execution_count": null,
   "metadata": {},
   "outputs": [],
   "source": []
  },
  {
   "cell_type": "code",
   "execution_count": null,
   "metadata": {},
   "outputs": [],
   "source": []
  },
  {
   "cell_type": "code",
   "execution_count": null,
   "metadata": {},
   "outputs": [],
   "source": []
  },
  {
   "cell_type": "code",
   "execution_count": null,
   "metadata": {},
   "outputs": [],
   "source": []
  },
  {
   "cell_type": "code",
   "execution_count": null,
   "metadata": {},
   "outputs": [],
   "source": []
  },
  {
   "cell_type": "code",
   "execution_count": null,
   "metadata": {},
   "outputs": [],
   "source": []
  },
  {
   "cell_type": "code",
   "execution_count": null,
   "metadata": {},
   "outputs": [],
   "source": []
  },
  {
   "cell_type": "code",
   "execution_count": null,
   "metadata": {},
   "outputs": [],
   "source": [
    "\n",
    "\n",
    "input_sequence = 'CGATCTGACGTGGGTGTCATCGCATTATCGATATTGCAT'\n",
    "# Replace this with your custom sequence\n",
    "\n",
    "context = 10000\n",
    "paths = ('models/spliceai{}.h5'.format(x) for x in range(1, 6))\n",
    "models = [load_model(resource_filename('spliceai', x),compile=False) for x in paths]\n",
    "x = one_hot_encode('N'*(context//2) + input_sequence + 'N'*(context//2))[None, :]\n",
    "y = np.mean([models[m].predict(x) for m in range(5)], axis=0)\n",
    "\n"
   ]
  },
  {
   "cell_type": "code",
   "execution_count": null,
   "metadata": {},
   "outputs": [],
   "source": []
  },
  {
   "cell_type": "code",
   "execution_count": null,
   "metadata": {},
   "outputs": [],
   "source": [
    "def replace_dna(chrom,pos,ref,alt,start_index,end_index,strand,assembly='hg38'):\n",
    "    locus_region=jkgenome.locus(chrom+':'+str(start_index)+'-'+str(end_index)+strand)\n",
    "    \n",
    "    original_seq=locus_region.twoBitFrag2(assembly).upper()\n",
    "    \n",
    "    if original_seq[pos-start_index:pos-start_index+len(ref)]!=ref:\n",
    "        print('Error in positioning')\n",
    "        return '',''\n",
    "\n",
    "    gene_seq1=original_seq\n",
    "    gene_seq2=original_seq[:pos-start_index] + alt + original_seq[pos-start_index+len(ref):]\n",
    "    \n",
    "    print(\"original seq and changed seq : (\"+ref+\" to \"+alt+\")\")\n",
    "    if len(ref)>len(alt):\n",
    "        print(gene_seq1[pos-start_index-50:pos-start_index]+ref+                         gene_seq1[pos-start_index+len(ref):pos-start_index+len(ref)+50])\n",
    "        print(\" \"*50+\"-\"*len(ref))\n",
    "        print(gene_seq2[pos-start_index-50:pos-start_index]+alt+'.'*(len(ref)-len(alt))+gene_seq2[pos-start_index+len(alt):pos-start_index+len(alt)+50])\n",
    "        \n",
    "        \n",
    "    else:\n",
    "        print(gene_seq1[pos-start_index-50:pos-start_index]+ref+'.'*(len(alt)-len(ref))+gene_seq1[pos-start_index+len(ref):pos-start_index+len(ref)+50])\n",
    "        print(\" \"*50+\"-\"*len(alt))\n",
    "        print(gene_seq2[pos-start_index-50:pos-start_index]+alt                        +gene_seq2[pos-start_index+len(alt):pos-start_index+len(alt)+50])\n",
    "    print()\n",
    "    return gene_seq1,gene_seq2"
   ]
  },
  {
   "cell_type": "code",
   "execution_count": null,
   "metadata": {},
   "outputs": [],
   "source": [
    "def spliceAI_run(chrom,pos,ref,alt,start_index,end_index,strand,assembly='hg38'):  # hg38, pos-1; indel exam: T to TA\n",
    "    start_time = time.time()\n",
    "    \n",
    "    input_seq1,input_seq2=replace_dna(chrom,pos,ref,alt,start_index,end_index,strand,assembly='hg38')\n",
    "    \n",
    "   \n",
    "    \n",
    "    \n",
    "    \n",
    "    x1 = one_hot_encode('N'*(context//2) + input_seq1 + 'N'*(context//2))[None, :]\n",
    "    x2 = one_hot_encode('N'*(context//2) + input_seq2 + 'N'*(context//2))[None, :]\n",
    "    print (\"encoding --- %s seconds ---\" % (time.time() - start_time))\n",
    "    print()\n",
    "    y1 = np.mean([models[m].predict(x1) for m in range(5)], axis=0)\n",
    "    y2 = np.mean([models[m].predict(x2) for m in range(5)], axis=0)\n",
    "    \n",
    "    yy1=np.concatenate((y1[0][:pos-start_index],y1[0][pos-start_index+len(ref):]))\n",
    "    yy2=np.concatenate((y2[0][:pos-start_index],y2[0][pos-start_index+len(alt):]))\n",
    "    \n",
    "    acceptor_prob_origianl = yy1[ :, 1]\n",
    "    acceptor_prob_changed = yy2[ :, 1]\n",
    "    donor_prob_original = yy1[ :, 2]\n",
    "    donor_prob_changed = yy2[ :, 2]\n",
    "    \n",
    "    delta_acceptor=acceptor_prob_changed-acceptor_prob_origianl\n",
    "    delta_donor=donor_prob_changed-donor_prob_original\n",
    "    \n",
    "    acceptor_watching=delta_acceptor.argsort()\n",
    "    donor_watching=delta_donor.argsort()\n",
    "    for i in range(-1,-10,-1):\n",
    "        print(delta_acceptor[acceptor_watching[i]])\n",
    "        \n",
    "    for i in range(-1,-10,-1):\n",
    "        print(delta_donor[donor_watching[i]])\n",
    "    \n",
    "    print (\"predict --- %s seconds ---\" % (time.time() - start_time))\n",
    "    return (delta_acceptor,acceptor_watching,delta_donor,donor_watching)"
   ]
  },
  {
   "cell_type": "code",
   "execution_count": null,
   "metadata": {},
   "outputs": [],
   "source": [
    "pos=140200046\n",
    "ref='CTTTACA'\n",
    "alt='AAAAAAAAAAAAAA'\n",
    "\n",
    "predicted=spliceAI_run('chr8',pos,ref,alt,140200046-100000,140200046+100000,'+')"
   ]
  },
  {
   "cell_type": "code",
   "execution_count": null,
   "metadata": {},
   "outputs": [],
   "source": [
    "predicted[0][predicted[1][-10:]],predicted[1][-10:]"
   ]
  },
  {
   "cell_type": "code",
   "execution_count": null,
   "metadata": {},
   "outputs": [],
   "source": [
    "len(predicted[0])"
   ]
  },
  {
   "cell_type": "code",
   "execution_count": null,
   "metadata": {},
   "outputs": [],
   "source": []
  }
 ],
 "metadata": {
  "kernelspec": {
   "display_name": "Python 3",
   "language": "python",
   "name": "python3"
  },
  "language_info": {
   "codemirror_mode": {
    "name": "ipython",
    "version": 3
   },
   "file_extension": ".py",
   "mimetype": "text/x-python",
   "name": "python",
   "nbconvert_exporter": "python",
   "pygments_lexer": "ipython3",
   "version": "3.8.5"
  }
 },
 "nbformat": 4,
 "nbformat_minor": 4
}
