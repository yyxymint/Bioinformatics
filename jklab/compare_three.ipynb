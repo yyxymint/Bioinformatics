{
 "cells": [
  {
   "cell_type": "code",
   "execution_count": 2,
   "metadata": {},
   "outputs": [],
   "source": [
    "import sys\n",
    "sys.path.append('/home/ychwang/jklab-master')\n",
    "import jkgenome"
   ]
  },
  {
   "cell_type": "code",
   "execution_count": 3,
   "metadata": {},
   "outputs": [
    {
     "data": {
      "text/plain": [
       "-6.71"
      ]
     },
     "execution_count": 3,
     "metadata": {},
     "output_type": "execute_result"
    }
   ],
   "source": [
    "jkgenome.mes5('ATGGTCCTG')\n"
   ]
  },
  {
   "cell_type": "code",
   "execution_count": 5,
   "metadata": {},
   "outputs": [
    {
     "data": {
      "text/plain": [
       "-9.02"
      ]
     },
     "execution_count": 5,
     "metadata": {},
     "output_type": "execute_result"
    }
   ],
   "source": [
    "jkgenome.mes3('GCATGGACGAGCTGTACAAGGAC')\n"
   ]
  },
  {
   "cell_type": "code",
   "execution_count": 7,
   "metadata": {},
   "outputs": [
    {
     "data": {
      "text/plain": [
       "-11.29"
      ]
     },
     "execution_count": 7,
     "metadata": {},
     "output_type": "execute_result"
    }
   ],
   "source": [
    "jkgenome.mes3('GTACAAGGACTGATAGTAAGGCC')\n",
    "\n"
   ]
  },
  {
   "cell_type": "code",
   "execution_count": null,
   "metadata": {},
   "outputs": [],
   "source": []
  },
  {
   "cell_type": "code",
   "execution_count": null,
   "metadata": {},
   "outputs": [],
   "source": []
  },
  {
   "cell_type": "code",
   "execution_count": null,
   "metadata": {},
   "outputs": [],
   "source": []
  },
  {
   "cell_type": "code",
   "execution_count": null,
   "metadata": {},
   "outputs": [],
   "source": []
  },
  {
   "cell_type": "code",
   "execution_count": null,
   "metadata": {},
   "outputs": [],
   "source": []
  },
  {
   "cell_type": "markdown",
   "metadata": {},
   "source": [
    "jkgenome import 할 수 있게 경로를 추가해주세요"
   ]
  },
  {
   "cell_type": "code",
   "execution_count": 19,
   "metadata": {},
   "outputs": [
    {
     "data": {
      "text/plain": [
       "'TTGAAACAACAGGCATGTGA'"
      ]
     },
     "execution_count": 19,
     "metadata": {},
     "output_type": "execute_result"
    }
   ],
   "source": [
    "import_test=jkgenome.locus('chr8:140300606-140300626-')\n",
    "import_test.twoBitFrag2('hg38').upper()"
   ]
  },
  {
   "cell_type": "code",
   "execution_count": null,
   "metadata": {},
   "outputs": [],
   "source": []
  },
  {
   "cell_type": "code",
   "execution_count": null,
   "metadata": {},
   "outputs": [],
   "source": []
  },
  {
   "cell_type": "code",
   "execution_count": null,
   "metadata": {},
   "outputs": [],
   "source": []
  },
  {
   "cell_type": "code",
   "execution_count": null,
   "metadata": {},
   "outputs": [],
   "source": []
  },
  {
   "cell_type": "code",
   "execution_count": 33,
   "metadata": {},
   "outputs": [
    {
     "name": "stdout",
     "output_type": "stream",
     "text": [
      "/home/ychwang\r\n"
     ]
    }
   ],
   "source": [
    "!pwd"
   ]
  },
  {
   "cell_type": "code",
   "execution_count": 23,
   "metadata": {},
   "outputs": [],
   "source": [
    "paths = ('20k/SpliceAI20000_c{}.h5'.format(x) for x in range(1,6))\n",
    "model_20k=[load_model(resource_filename('spliceai', x),compile=False) for x in paths]"
   ]
  },
  {
   "cell_type": "code",
   "execution_count": 24,
   "metadata": {},
   "outputs": [],
   "source": [
    "# default model\n",
    "paths = ('models/spliceai{}.h5'.format(x) for x in range(1, 6))\n",
    "model_default = [load_model(resource_filename('spliceai', x),compile=False) for x in paths]"
   ]
  },
  {
   "cell_type": "code",
   "execution_count": 25,
   "metadata": {},
   "outputs": [],
   "source": [
    "paths = ('4k/SpliceAI4000_c{}.h5'.format(x) for x in range(1,6))\n",
    "model_4k=[load_model(resource_filename('spliceai', x),compile=False) for x in paths]"
   ]
  },
  {
   "cell_type": "code",
   "execution_count": 26,
   "metadata": {},
   "outputs": [],
   "source": [
    "def predict_sequence_with_context2(dna_sequence,strand,model,assembly='hg38'):\n",
    "    encoded_dna_sequence = one_hot_encode(dna_sequence)[None, :]\n",
    "    \n",
    "    if strand == '-':\n",
    "        encoded_dna_sequence = encoded_dna_sequence[:, ::-1, ::-1]\n",
    "    \n",
    "    predicted_value = np.mean([model[m].predict(encoded_dna_sequence) for m in range(5)], axis=0)\n",
    "    \n",
    "    \n",
    "    acceptor_prob = predicted_value[0, :, 1]\n",
    "    donor_prob = predicted_value[0, :, 2]\n",
    "    \n",
    "    acceptor_prob_sorted_index=acceptor_prob.argsort()\n",
    "    acceptor_prob_sorted_index=np.flip(acceptor_prob_sorted_index)\n",
    "    \n",
    "    donor_prob_sorted_index=donor_prob.argsort()\n",
    "    donor_prob_sorted_index=np.flip(donor_prob_sorted_index)\n",
    "    \n",
    "    acceptor_prob_sorted_value=acceptor_prob[acceptor_prob_sorted_index]\n",
    "    donor_prob_sorted_value=donor_prob[donor_prob_sorted_index]\n",
    "    \n",
    "    #                 0          1             2                 3                          4\n",
    "    return predicted_value, acceptor_prob, donor_prob, acceptor_prob_sorted_index, donor_prob_sorted_index,\\\n",
    "        acceptor_prob_sorted_value, donor_prob_sorted_value"
   ]
  },
  {
   "cell_type": "code",
   "execution_count": 27,
   "metadata": {},
   "outputs": [],
   "source": [
    "def replace_dna_ref_to_alt2(dna_sequence,ref,alt,max_distance,context):    \n",
    "    original_dna_sequence=dna_sequence\n",
    "    altered_dna_sequence=dna_sequence[:context+max_distance] + alt + dna_sequence[-context-max_distance:]\n",
    "\n",
    "    \n",
    "    if max(len(ref),len(alt))<30:\n",
    "        print(\"Ref and Alt : (\"+ref+\" to \"+alt+\")\")\n",
    "        if len(ref)>len(alt):\n",
    "            print(original_dna_sequence[context+max_distance-50:context+max_distance]+ref+                         original_dna_sequence[context+max_distance+len(ref):context+max_distance+len(ref)+50])\n",
    "            print(\" \"*50+\"-\"*len(ref))\n",
    "            print(altered_dna_sequence[context+max_distance-50:context+max_distance]+alt+'.'*(len(ref)-len(alt))+altered_dna_sequence[context+max_distance+len(alt):context+max_distance+len(alt)+50])\n",
    "\n",
    "\n",
    "        else:\n",
    "            print(original_dna_sequence[context+max_distance-50:context+max_distance]+ref+'.'*(len(alt)-len(ref))+original_dna_sequence[context+max_distance+len(ref):context+max_distance+len(ref)+50])\n",
    "            print(\" \"*50+\"-\"*len(alt))\n",
    "            print(altered_dna_sequence[context+max_distance-50:context+max_distance]+alt                        +altered_dna_sequence[context+max_distance+len(alt):context+max_distance+len(alt)+50])\n",
    "        print()\n",
    "    return original_dna_sequence,altered_dna_sequence"
   ]
  },
  {
   "cell_type": "code",
   "execution_count": 28,
   "metadata": {},
   "outputs": [],
   "source": [
    "def view_result2(return_above,view_threshold,max_distance):\n",
    "    (delta_acceptor_prob, delta_donor_prob, delta_acceptor_sorted_index, delta_donor_sorted_index, \\\n",
    "    delta_acceptor_sorted_value, delta_donor_sorted_value, predicted_value_for_raw1, predicted_value_for_raw2) = return_above\n",
    "    \n",
    "    count_acceptor_positive=0\n",
    "    count_donor_positive=0\n",
    "    for i in delta_acceptor_sorted_value:\n",
    "        if i>=0:\n",
    "            count_acceptor_positive+=1\n",
    "    \n",
    "    for i in delta_donor_sorted_value:\n",
    "        if i>=0:\n",
    "            count_donor_positive+=1\n",
    "    \n",
    "    delta_acceptor_sorted_index_copied=delta_acceptor_sorted_index.copy()\n",
    "    delta_donor_sorted_index_copied=delta_donor_sorted_index.copy()\n",
    "    \n",
    "    for i in range(2*max_distance):\n",
    "        if delta_acceptor_sorted_index_copied[i]>=max_distance:\n",
    "            delta_acceptor_sorted_index_copied[i]+=1\n",
    "        if delta_donor_sorted_index_copied[i]>=max_distance:\n",
    "            delta_donor_sorted_index_copied[i]+=1\n",
    "    \n",
    "  \n",
    "    df_acceptor_loss=pd.DataFrame()\n",
    "    \n",
    "    df_acceptor_loss['delta score(Acceptor Loss)']=delta_acceptor_sorted_value[:min(view_threshold,count_acceptor_positive)]\n",
    "    df_acceptor_loss['pre-mRNA position']=(delta_acceptor_sorted_index_copied-max_distance)[:min(view_threshold,count_acceptor_positive)]\n",
    "    \n",
    "    \n",
    "    \n",
    "    \n",
    "    delta_acceptor_sorted_value_r = delta_acceptor_sorted_value[::-1]\n",
    "    delta_acceptor_sorted_index_r = delta_acceptor_sorted_index_copied[::-1]\n",
    "    \n",
    "    df_acceptor_gain=pd.DataFrame()\n",
    "    \n",
    "    df_acceptor_gain['delta score(Acceptor Gain)']=-delta_acceptor_sorted_value_r[:min(view_threshold,2*max_distance-count_acceptor_positive)]\n",
    "    df_acceptor_gain['pre-mRNA position']=(delta_acceptor_sorted_index_r-max_distance)[:min(view_threshold,2*max_distance-count_acceptor_positive)]\n",
    "    \n",
    "    \n",
    "    \n",
    "    \n",
    "    df_donor_loss=pd.DataFrame()\n",
    "    \n",
    "    df_donor_loss['delta score(Donor Loss)']=delta_donor_sorted_value[:min(view_threshold,count_donor_positive)]\n",
    "    df_donor_loss['pre-mRNA position']=(delta_donor_sorted_index_copied-max_distance)[:min(view_threshold,count_donor_positive)]\n",
    "    \n",
    "    \n",
    "    \n",
    "    \n",
    "    delta_donor_sorted_value_r = delta_donor_sorted_value[::-1]\n",
    "    delta_donor_sorted_index_r = delta_donor_sorted_index_copied[::-1]\n",
    "    \n",
    "    df_donor_gain=pd.DataFrame()\n",
    "    \n",
    "    df_donor_gain['delta score(Donor Gain)']=-delta_donor_sorted_value_r[:min(view_threshold,2*max_distance-count_donor_positive)]\n",
    "    df_donor_gain['pre-mRNA position']=(delta_donor_sorted_index_r-max_distance)[:min(view_threshold,2*max_distance-count_donor_positive)]\n",
    "    \n",
    "    \n",
    "    \n",
    "    ## START FOR RAW ##\n",
    "    \n",
    "    delta_in_raw = predicted_value_for_raw1-predicted_value_for_raw2\n",
    "    delta_raw_acceptor= delta_in_raw[:, 1]\n",
    "    delta_raw_donor= delta_in_raw[:, 2]\n",
    "    \n",
    "    \n",
    "    count_delta_acceptor_positive=0\n",
    "    count_delta_donor_positive=0\n",
    "    for i in delta_raw_acceptor:\n",
    "        if i>=0:\n",
    "            count_delta_acceptor_positive+=1\n",
    "    \n",
    "    for i in delta_raw_donor:\n",
    "        if i>=0:\n",
    "            count_delta_donor_positive+=1\n",
    "    \n",
    "\n",
    "    \n",
    "    delta_raw_acceptor_sorted_index_copied=delta_raw_acceptor.argsort().copy()\n",
    "    delta_raw_donor_sorted_index_copied=delta_raw_donor.argsort().copy()\n",
    "    \n",
    "    delta_raw_acceptor_sorted_index_copied = np.flip(delta_raw_acceptor_sorted_index_copied)\n",
    "    delta_raw_donor_sorted_index_copied = np.flip(delta_raw_donor_sorted_index_copied)\n",
    "    \n",
    "    delta_raw_acceptor_sorted_value=delta_raw_acceptor[delta_raw_acceptor_sorted_index_copied]\n",
    "    delta_raw_donor_sorted_value=delta_raw_donor[delta_raw_donor_sorted_index_copied]\n",
    "    \n",
    "    \n",
    "    \n",
    "    for i in range(len(delta_raw_acceptor)):\n",
    "        delta_raw_acceptor_sorted_index_copied[i]+=1\n",
    "        delta_raw_donor_sorted_index_copied[i]+=1\n",
    "    \n",
    "\n",
    "    \n",
    "  \n",
    "    df_raw_acceptor_loss=pd.DataFrame()\n",
    "    \n",
    "    df_raw_acceptor_loss['delta score in raw(Acceptor Loss)']=delta_raw_acceptor_sorted_value[:min(view_threshold,count_delta_acceptor_positive)]\n",
    "    df_raw_acceptor_loss['pre-mRNA position']=delta_raw_acceptor_sorted_index_copied[:min(view_threshold,count_delta_acceptor_positive)]\n",
    "    \n",
    "    \n",
    "    \n",
    "    \n",
    "    delta_raw_acceptor_sorted_value_r = delta_raw_acceptor_sorted_value[::-1]\n",
    "    delta_raw_acceptor_sorted_index_r = delta_raw_acceptor_sorted_index_copied[::-1]\n",
    "    \n",
    "    df_raw_acceptor_gain=pd.DataFrame()\n",
    "    \n",
    "    df_raw_acceptor_gain['delta score in raw(Acceptor Gain)']=-delta_raw_acceptor_sorted_value_r[:min(view_threshold,len(delta_raw_acceptor_sorted_value_r)-count_delta_acceptor_positive)]\n",
    "    df_raw_acceptor_gain['pre-mRNA position']=delta_raw_acceptor_sorted_index_r[:min(view_threshold,len(delta_raw_acceptor_sorted_value_r)-count_delta_acceptor_positive)]\n",
    "    \n",
    "    \n",
    "    \n",
    "    df_raw_donor_loss=pd.DataFrame()\n",
    "    \n",
    "    df_raw_donor_loss['delta score in raw(Donor Loss)']=delta_raw_donor_sorted_value[:min(view_threshold,count_delta_donor_positive)]\n",
    "    df_raw_donor_loss['pre-mRNA position']=delta_raw_donor_sorted_index_copied[:min(view_threshold,count_delta_donor_positive)]\n",
    "    \n",
    "    \n",
    "    \n",
    "    \n",
    "    delta_raw_donor_sorted_value_r = delta_raw_donor_sorted_value[::-1]\n",
    "    delta_raw_donor_sorted_index_r = delta_raw_donor_sorted_index_copied[::-1]\n",
    "    \n",
    "    df_raw_donor_gain=pd.DataFrame()\n",
    "    \n",
    "    df_raw_donor_gain['delta score in raw(Donor Gain)']=-delta_raw_donor_sorted_value_r[:min(view_threshold,len(delta_raw_donor_sorted_value_r)-count_delta_donor_positive)]\n",
    "    df_raw_donor_gain['pre-mRNA position']=delta_raw_donor_sorted_index_r[:min(view_threshold,len(delta_raw_donor_sorted_value_r)-count_delta_donor_positive)]\n",
    "    \n",
    "    \n",
    "    \n",
    "    pd.options.display.float_format = '{:.5f}'.format\n",
    "    \n",
    "    return df_acceptor_loss,df_donor_loss,df_acceptor_gain,df_donor_gain,\\\n",
    "            df_raw_acceptor_loss,df_raw_donor_loss,df_raw_acceptor_gain,df_raw_donor_gain"
   ]
  },
  {
   "cell_type": "code",
   "execution_count": 29,
   "metadata": {},
   "outputs": [],
   "source": [
    "def spliceAI(chrom,pos,ref,alt,strand,max_distance,model=model_default,view_threshold=5,assembly='hg38',context=5000):\n",
    "\n",
    "    start_time = time.time()\n",
    "    \n",
    "    start_index= pos-context-max_distance-1\n",
    "    end_index= pos+context+max_distance+len(ref)-1\n",
    "    chrom='chr'+str(chrom)\n",
    "    \n",
    "    dna_sequence=jkgenome.locus(chrom+':'+str(start_index)+'-'+str(end_index)+'+')\n",
    "    dna_sequence=dna_sequence.twoBitFrag2('hg38').upper()\n",
    "    \n",
    "    if dna_sequence[pos-start_index-1:pos-start_index+len(ref)-1]!=ref:\n",
    "        print('Error in positioning')\n",
    "        print('The hg38 reference allele should be: '+dna_sequence[pos-start_index-1:pos-start_index+len(ref)-1])\n",
    "        for i in range(-10,11):\n",
    "            print(dna_sequence[pos-start_index+i-1],end=\"\")\n",
    "        print()\n",
    "        print(' '*10+\"-\"*len(ref))\n",
    "        return\n",
    "    \n",
    "    \n",
    "    input_dna_sequence1,input_dna_sequence2=replace_dna_ref_to_alt2(dna_sequence,ref,alt,max_distance,context)\n",
    "    print (\"sequence changed --- %s seconds ---\" % (time.time() - start_time))\n",
    "    start_time = time.time()\n",
    "    \n",
    "    predicted_value1,_,_,_,_,_,_ = predict_sequence_with_context2(input_dna_sequence1,strand,model)\n",
    "    predicted_value2,_,_,_,_,_,_ = predict_sequence_with_context2(input_dna_sequence2,strand,model)\n",
    "    \n",
    "    \n",
    "    if strand == '-':\n",
    "        predicted_value1 = predicted_value1[:, ::-1, ::1]\n",
    "        predicted_value2 = predicted_value2[:, ::-1, ::1]\n",
    "    \n",
    "    print (\"prediction --- %s seconds ---\" % (time.time() - start_time))\n",
    "    start_time = time.time()\n",
    "    \n",
    "    predicted_value_for_common1=np.concatenate((predicted_value1[0][:max_distance],predicted_value1[0][-max_distance:]))\n",
    "    predicted_value_for_common2=np.concatenate((predicted_value2[0][:max_distance],predicted_value2[0][-max_distance:]))\n",
    "    \n",
    "    \n",
    "    predicted_value_for_raw1=predicted_value1[0][max_distance:max_distance+len(ref)]\n",
    "    predicted_value_for_raw2=predicted_value2[0][max_distance:max_distance+len(alt)]\n",
    "    \n",
    "    acceptor_prob1 = predicted_value_for_common1[ :, 1]\n",
    "    donor_prob1 = predicted_value_for_common1[ :, 2]\n",
    "    \n",
    "    acceptor_prob2 = predicted_value_for_common2[ :, 1]\n",
    "    donor_prob2 = predicted_value_for_common2[ :, 2]\n",
    "        \n",
    "    \n",
    "    delta_acceptor_prob = acceptor_prob1 - acceptor_prob2\n",
    "    delta_donor_prob = donor_prob1 - donor_prob2\n",
    "    \n",
    "    delta_acceptor_sorted_index = (acceptor_prob1 - acceptor_prob2).argsort()\n",
    "    delta_acceptor_sorted_index = np.flip(delta_acceptor_sorted_index)\n",
    "    \n",
    "    delta_donor_sorted_index = (donor_prob1 - donor_prob2).argsort()\n",
    "    delta_donor_sorted_index = np.flip(delta_donor_sorted_index)\n",
    "    \n",
    "    delta_acceptor_sorted_value = delta_acceptor_prob[delta_acceptor_sorted_index]\n",
    "    delta_donor_sorted_value = delta_donor_prob[delta_donor_sorted_index]\n",
    "    \n",
    "    \n",
    "    df_acceptor_loss,df_donor_loss,df_acceptor_gain,df_donor_gain,\\\n",
    "    df_raw_acceptor_loss,df_raw_donor_loss,df_raw_acceptor_gain,df_raw_donor_gain \\\n",
    "    = view_result2(  (delta_acceptor_prob, delta_donor_prob, delta_acceptor_sorted_index, delta_donor_sorted_index, \\\n",
    "                    delta_acceptor_sorted_value, delta_donor_sorted_value, \\\n",
    "                    predicted_value_for_raw1, predicted_value_for_raw2),view_threshold,max_distance)\n",
    "    \n",
    "    delta_common=pd.concat([df_acceptor_loss,df_donor_loss,df_acceptor_gain,df_donor_gain], axis=1)\n",
    "\n",
    "\n",
    "    return df_acceptor_loss,df_donor_loss,df_acceptor_gain,df_donor_gain,\\\n",
    "            df_raw_acceptor_loss,df_raw_donor_loss,df_raw_acceptor_gain,df_raw_donor_gain"
   ]
  },
  {
   "cell_type": "code",
   "execution_count": null,
   "metadata": {},
   "outputs": [],
   "source": []
  },
  {
   "cell_type": "code",
   "execution_count": 31,
   "metadata": {},
   "outputs": [],
   "source": [
    "def compare_three_models(chrom,pos,ref,alt,strand,max_distance,model1=model_default,\n",
    "                  model2=model_20k,model3=model_4k,view_threshold=5,assembly='hg38',context1=5000,context2=10000,context3=2000):\n",
    "    sresult1=spliceAI(chrom,pos,ref,alt,strand,max_distance,model=model1,context=context1)\n",
    "    sresult2=spliceAI(chrom,pos,ref,alt,strand,max_distance,model=model2,context=context2)\n",
    "    sresult3=spliceAI(chrom,pos,ref,alt,strand,max_distance,model=model3,context=context3)\n",
    "    view_common=[]\n",
    "    for i in range(8):\n",
    "        view_common.append(pd.concat([sresult1[i],sresult2[i],sresult3[i]], axis=1))\n",
    "    return view_common"
   ]
  },
  {
   "cell_type": "code",
   "execution_count": 32,
   "metadata": {},
   "outputs": [
    {
     "name": "stdout",
     "output_type": "stream",
     "text": [
      "Ref and Alt : (T to G)\n",
      "CATTTTGTGTGGCCGGAGGCTAGCAGGAAGGTTCAATAGTTTCACATGCCTGTTGTTTCAAACAGAACACAAATACTTCAACTGTCTGGTTAGCGTGGTTT\n",
      "                                                  -\n",
      "CATTTTGTGTGGCCGGAGGCTAGCAGGAAGGTTCAATAGTTTCACATGCCGGTTGTTTCAAACAGAACACAAATACTTCAACTGTCTGGTTAGCGTGGTTT\n",
      "\n",
      "sequence changed --- 0.006379127502441406 seconds ---\n",
      "WARNING:tensorflow:5 out of the last 5 calls to <function Model.make_predict_function.<locals>.predict_function at 0x7f9a22fedb80> triggered tf.function retracing. Tracing is expensive and the excessive number of tracings could be due to (1) creating @tf.function repeatedly in a loop, (2) passing tensors with different shapes, (3) passing Python objects instead of tensors. For (1), please define your @tf.function outside of the loop. For (2), @tf.function has experimental_relax_shapes=True option that relaxes argument shapes that can avoid unnecessary retracing. For (3), please refer to https://www.tensorflow.org/guide/function#controlling_retracing and https://www.tensorflow.org/api_docs/python/tf/function for  more details.\n",
      "prediction --- 4.829054355621338 seconds ---\n",
      "Ref and Alt : (T to G)\n",
      "CATTTTGTGTGGCCGGAGGCTAGCAGGAAGGTTCAATAGTTTCACATGCCTGTTGTTTCAAACAGAACACAAATACTTCAACTGTCTGGTTAGCGTGGTTT\n",
      "                                                  -\n",
      "CATTTTGTGTGGCCGGAGGCTAGCAGGAAGGTTCAATAGTTTCACATGCCGGTTGTTTCAAACAGAACACAAATACTTCAACTGTCTGGTTAGCGTGGTTT\n",
      "\n",
      "sequence changed --- 0.013247489929199219 seconds ---\n",
      "WARNING:tensorflow:6 out of the last 11 calls to <function Model.make_predict_function.<locals>.predict_function at 0x7f9a200943a0> triggered tf.function retracing. Tracing is expensive and the excessive number of tracings could be due to (1) creating @tf.function repeatedly in a loop, (2) passing tensors with different shapes, (3) passing Python objects instead of tensors. For (1), please define your @tf.function outside of the loop. For (2), @tf.function has experimental_relax_shapes=True option that relaxes argument shapes that can avoid unnecessary retracing. For (3), please refer to https://www.tensorflow.org/guide/function#controlling_retracing and https://www.tensorflow.org/api_docs/python/tf/function for  more details.\n",
      "WARNING:tensorflow:6 out of the last 11 calls to <function Model.make_predict_function.<locals>.predict_function at 0x7f9a2013e4c0> triggered tf.function retracing. Tracing is expensive and the excessive number of tracings could be due to (1) creating @tf.function repeatedly in a loop, (2) passing tensors with different shapes, (3) passing Python objects instead of tensors. For (1), please define your @tf.function outside of the loop. For (2), @tf.function has experimental_relax_shapes=True option that relaxes argument shapes that can avoid unnecessary retracing. For (3), please refer to https://www.tensorflow.org/guide/function#controlling_retracing and https://www.tensorflow.org/api_docs/python/tf/function for  more details.\n",
      "WARNING:tensorflow:6 out of the last 11 calls to <function Model.make_predict_function.<locals>.predict_function at 0x7f9a20094f70> triggered tf.function retracing. Tracing is expensive and the excessive number of tracings could be due to (1) creating @tf.function repeatedly in a loop, (2) passing tensors with different shapes, (3) passing Python objects instead of tensors. For (1), please define your @tf.function outside of the loop. For (2), @tf.function has experimental_relax_shapes=True option that relaxes argument shapes that can avoid unnecessary retracing. For (3), please refer to https://www.tensorflow.org/guide/function#controlling_retracing and https://www.tensorflow.org/api_docs/python/tf/function for  more details.\n",
      "WARNING:tensorflow:6 out of the last 11 calls to <function Model.make_predict_function.<locals>.predict_function at 0x7f9a11352790> triggered tf.function retracing. Tracing is expensive and the excessive number of tracings could be due to (1) creating @tf.function repeatedly in a loop, (2) passing tensors with different shapes, (3) passing Python objects instead of tensors. For (1), please define your @tf.function outside of the loop. For (2), @tf.function has experimental_relax_shapes=True option that relaxes argument shapes that can avoid unnecessary retracing. For (3), please refer to https://www.tensorflow.org/guide/function#controlling_retracing and https://www.tensorflow.org/api_docs/python/tf/function for  more details.\n",
      "WARNING:tensorflow:6 out of the last 11 calls to <function Model.make_predict_function.<locals>.predict_function at 0x7f99efda2280> triggered tf.function retracing. Tracing is expensive and the excessive number of tracings could be due to (1) creating @tf.function repeatedly in a loop, (2) passing tensors with different shapes, (3) passing Python objects instead of tensors. For (1), please define your @tf.function outside of the loop. For (2), @tf.function has experimental_relax_shapes=True option that relaxes argument shapes that can avoid unnecessary retracing. For (3), please refer to https://www.tensorflow.org/guide/function#controlling_retracing and https://www.tensorflow.org/api_docs/python/tf/function for  more details.\n",
      "prediction --- 6.84605073928833 seconds ---\n",
      "Ref and Alt : (T to G)\n",
      "CATTTTGTGTGGCCGGAGGCTAGCAGGAAGGTTCAATAGTTTCACATGCCTGTTGTTTCAAACAGAACACAAATACTTCAACTGTCTGGTTAGCGTGGTTT\n",
      "                                                  -\n",
      "CATTTTGTGTGGCCGGAGGCTAGCAGGAAGGTTCAATAGTTTCACATGCCGGTTGTTTCAAACAGAACACAAATACTTCAACTGTCTGGTTAGCGTGGTTT\n",
      "\n",
      "sequence changed --- 0.002485990524291992 seconds ---\n",
      "WARNING:tensorflow:6 out of the last 11 calls to <function Model.make_predict_function.<locals>.predict_function at 0x7f99eea8fdc0> triggered tf.function retracing. Tracing is expensive and the excessive number of tracings could be due to (1) creating @tf.function repeatedly in a loop, (2) passing tensors with different shapes, (3) passing Python objects instead of tensors. For (1), please define your @tf.function outside of the loop. For (2), @tf.function has experimental_relax_shapes=True option that relaxes argument shapes that can avoid unnecessary retracing. For (3), please refer to https://www.tensorflow.org/guide/function#controlling_retracing and https://www.tensorflow.org/api_docs/python/tf/function for  more details.\n",
      "WARNING:tensorflow:6 out of the last 11 calls to <function Model.make_predict_function.<locals>.predict_function at 0x7f99ef2ea160> triggered tf.function retracing. Tracing is expensive and the excessive number of tracings could be due to (1) creating @tf.function repeatedly in a loop, (2) passing tensors with different shapes, (3) passing Python objects instead of tensors. For (1), please define your @tf.function outside of the loop. For (2), @tf.function has experimental_relax_shapes=True option that relaxes argument shapes that can avoid unnecessary retracing. For (3), please refer to https://www.tensorflow.org/guide/function#controlling_retracing and https://www.tensorflow.org/api_docs/python/tf/function for  more details.\n",
      "WARNING:tensorflow:6 out of the last 11 calls to <function Model.make_predict_function.<locals>.predict_function at 0x7f99efda2820> triggered tf.function retracing. Tracing is expensive and the excessive number of tracings could be due to (1) creating @tf.function repeatedly in a loop, (2) passing tensors with different shapes, (3) passing Python objects instead of tensors. For (1), please define your @tf.function outside of the loop. For (2), @tf.function has experimental_relax_shapes=True option that relaxes argument shapes that can avoid unnecessary retracing. For (3), please refer to https://www.tensorflow.org/guide/function#controlling_retracing and https://www.tensorflow.org/api_docs/python/tf/function for  more details.\n",
      "WARNING:tensorflow:6 out of the last 11 calls to <function Model.make_predict_function.<locals>.predict_function at 0x7f99eea435e0> triggered tf.function retracing. Tracing is expensive and the excessive number of tracings could be due to (1) creating @tf.function repeatedly in a loop, (2) passing tensors with different shapes, (3) passing Python objects instead of tensors. For (1), please define your @tf.function outside of the loop. For (2), @tf.function has experimental_relax_shapes=True option that relaxes argument shapes that can avoid unnecessary retracing. For (3), please refer to https://www.tensorflow.org/guide/function#controlling_retracing and https://www.tensorflow.org/api_docs/python/tf/function for  more details.\n"
     ]
    },
    {
     "name": "stdout",
     "output_type": "stream",
     "text": [
      "WARNING:tensorflow:6 out of the last 11 calls to <function Model.make_predict_function.<locals>.predict_function at 0x7f99ed432040> triggered tf.function retracing. Tracing is expensive and the excessive number of tracings could be due to (1) creating @tf.function repeatedly in a loop, (2) passing tensors with different shapes, (3) passing Python objects instead of tensors. For (1), please define your @tf.function outside of the loop. For (2), @tf.function has experimental_relax_shapes=True option that relaxes argument shapes that can avoid unnecessary retracing. For (3), please refer to https://www.tensorflow.org/guide/function#controlling_retracing and https://www.tensorflow.org/api_docs/python/tf/function for  more details.\n",
      "prediction --- 4.367474555969238 seconds ---\n"
     ]
    },
    {
     "data": {
      "text/html": [
       "<div>\n",
       "<style scoped>\n",
       "    .dataframe tbody tr th:only-of-type {\n",
       "        vertical-align: middle;\n",
       "    }\n",
       "\n",
       "    .dataframe tbody tr th {\n",
       "        vertical-align: top;\n",
       "    }\n",
       "\n",
       "    .dataframe thead th {\n",
       "        text-align: right;\n",
       "    }\n",
       "</style>\n",
       "<table border=\"1\" class=\"dataframe\">\n",
       "  <thead>\n",
       "    <tr style=\"text-align: right;\">\n",
       "      <th></th>\n",
       "      <th>delta score(Acceptor Loss)</th>\n",
       "      <th>pre-mRNA position</th>\n",
       "      <th>delta score(Acceptor Loss)</th>\n",
       "      <th>pre-mRNA position</th>\n",
       "      <th>delta score(Acceptor Loss)</th>\n",
       "      <th>pre-mRNA position</th>\n",
       "    </tr>\n",
       "  </thead>\n",
       "  <tbody>\n",
       "    <tr>\n",
       "      <th>0</th>\n",
       "      <td>0.82717</td>\n",
       "      <td>-2</td>\n",
       "      <td>0.63757</td>\n",
       "      <td>-2</td>\n",
       "      <td>0.97734</td>\n",
       "      <td>-2</td>\n",
       "    </tr>\n",
       "    <tr>\n",
       "      <th>1</th>\n",
       "      <td>0.01557</td>\n",
       "      <td>-744</td>\n",
       "      <td>0.00014</td>\n",
       "      <td>-2566</td>\n",
       "      <td>0.00029</td>\n",
       "      <td>-1190</td>\n",
       "    </tr>\n",
       "    <tr>\n",
       "      <th>2</th>\n",
       "      <td>0.01395</td>\n",
       "      <td>2217</td>\n",
       "      <td>0.00007</td>\n",
       "      <td>-147</td>\n",
       "      <td>0.00017</td>\n",
       "      <td>-744</td>\n",
       "    </tr>\n",
       "    <tr>\n",
       "      <th>3</th>\n",
       "      <td>0.01302</td>\n",
       "      <td>979</td>\n",
       "      <td>0.00006</td>\n",
       "      <td>-3409</td>\n",
       "      <td>0.00008</td>\n",
       "      <td>1</td>\n",
       "    </tr>\n",
       "    <tr>\n",
       "      <th>4</th>\n",
       "      <td>0.01247</td>\n",
       "      <td>-538</td>\n",
       "      <td>0.00002</td>\n",
       "      <td>5869</td>\n",
       "      <td>0.00007</td>\n",
       "      <td>-852</td>\n",
       "    </tr>\n",
       "  </tbody>\n",
       "</table>\n",
       "</div>"
      ],
      "text/plain": [
       "   delta score(Acceptor Loss)  pre-mRNA position  delta score(Acceptor Loss)  \\\n",
       "0                     0.82717                 -2                     0.63757   \n",
       "1                     0.01557               -744                     0.00014   \n",
       "2                     0.01395               2217                     0.00007   \n",
       "3                     0.01302                979                     0.00006   \n",
       "4                     0.01247               -538                     0.00002   \n",
       "\n",
       "   pre-mRNA position  delta score(Acceptor Loss)  pre-mRNA position  \n",
       "0                 -2                     0.97734                 -2  \n",
       "1              -2566                     0.00029              -1190  \n",
       "2               -147                     0.00017               -744  \n",
       "3              -3409                     0.00008                  1  \n",
       "4               5869                     0.00007               -852  "
      ]
     },
     "execution_count": 32,
     "metadata": {},
     "output_type": "execute_result"
    }
   ],
   "source": [
    "compare_three_models(8,140300616,'T','G','-',10000)[0]"
   ]
  },
  {
   "cell_type": "code",
   "execution_count": null,
   "metadata": {},
   "outputs": [],
   "source": []
  },
  {
   "cell_type": "code",
   "execution_count": null,
   "metadata": {},
   "outputs": [],
   "source": []
  },
  {
   "cell_type": "code",
   "execution_count": null,
   "metadata": {},
   "outputs": [],
   "source": []
  },
  {
   "cell_type": "code",
   "execution_count": null,
   "metadata": {},
   "outputs": [],
   "source": []
  },
  {
   "cell_type": "code",
   "execution_count": null,
   "metadata": {},
   "outputs": [],
   "source": []
  },
  {
   "cell_type": "code",
   "execution_count": null,
   "metadata": {},
   "outputs": [],
   "source": []
  },
  {
   "cell_type": "code",
   "execution_count": null,
   "metadata": {},
   "outputs": [],
   "source": []
  },
  {
   "cell_type": "code",
   "execution_count": null,
   "metadata": {},
   "outputs": [],
   "source": []
  },
  {
   "cell_type": "code",
   "execution_count": null,
   "metadata": {},
   "outputs": [],
   "source": []
  },
  {
   "cell_type": "code",
   "execution_count": null,
   "metadata": {},
   "outputs": [],
   "source": []
  },
  {
   "cell_type": "code",
   "execution_count": null,
   "metadata": {},
   "outputs": [],
   "source": []
  },
  {
   "cell_type": "code",
   "execution_count": null,
   "metadata": {},
   "outputs": [],
   "source": []
  },
  {
   "cell_type": "code",
   "execution_count": null,
   "metadata": {},
   "outputs": [],
   "source": []
  },
  {
   "cell_type": "code",
   "execution_count": null,
   "metadata": {},
   "outputs": [],
   "source": []
  },
  {
   "cell_type": "code",
   "execution_count": null,
   "metadata": {},
   "outputs": [],
   "source": []
  },
  {
   "cell_type": "code",
   "execution_count": null,
   "metadata": {},
   "outputs": [],
   "source": []
  },
  {
   "cell_type": "code",
   "execution_count": null,
   "metadata": {},
   "outputs": [],
   "source": []
  },
  {
   "cell_type": "code",
   "execution_count": null,
   "metadata": {},
   "outputs": [],
   "source": []
  },
  {
   "cell_type": "code",
   "execution_count": null,
   "metadata": {},
   "outputs": [],
   "source": []
  },
  {
   "cell_type": "code",
   "execution_count": null,
   "metadata": {},
   "outputs": [],
   "source": []
  },
  {
   "cell_type": "code",
   "execution_count": null,
   "metadata": {},
   "outputs": [],
   "source": []
  },
  {
   "cell_type": "code",
   "execution_count": null,
   "metadata": {},
   "outputs": [],
   "source": []
  },
  {
   "cell_type": "code",
   "execution_count": null,
   "metadata": {},
   "outputs": [],
   "source": []
  },
  {
   "cell_type": "code",
   "execution_count": null,
   "metadata": {},
   "outputs": [],
   "source": []
  },
  {
   "cell_type": "code",
   "execution_count": 57,
   "metadata": {},
   "outputs": [],
   "source": [
    "def spliceAI2(chrom,pos,ref,alt,strand,max_distance,model=spliceai_models,view_threshold=30,assembly='hg38'):\n",
    "\n",
    "    start_time = time.time()\n",
    "    \n",
    "    start_index= pos-5000-max_distance\n",
    "    end_index= pos+5000+max_distance+1\n",
    "    chrom='chr'+str(chrom)\n",
    "    \n",
    "    dna_sequence=jkgenome.locus(chrom+':'+str(start_index)+'-'+str(end_index)+'+')\n",
    "    dna_sequence=dna_sequence.twoBitFrag2('hg38').upper()\n",
    "    \n",
    "    if dna_sequence[pos-start_index:pos-start_index+len(ref)]!=ref:\n",
    "        print('Error in positioning')\n",
    "        print('The hg38 reference allele should be: '+dna_sequence[pos-start_index:pos-start_index+len(ref)])\n",
    "        for i in range(-10,11):\n",
    "            print(dna_sequence[pos-start_index+i],end=\"\")\n",
    "        print()\n",
    "        print(' '*10+\"-\")\n",
    "        return\n",
    "    \n",
    "    \n",
    "    input_dna_sequence1,input_dna_sequence2=replace_dna_ref_to_alt2(dna_sequence,pos,ref,alt,max_distance)\n",
    "    print (\"sequence changed --- %s seconds ---\" % (time.time() - start_time))\n",
    "    start_time = time.time()\n",
    "    \n",
    "    predicted_value1,_,_,_,_,_,_ = predict_sequence_with_context2(input_dna_sequence1,strand,model)\n",
    "    predicted_value2,_,_,_,_,_,_ = predict_sequence_with_context2(input_dna_sequence2,strand,model)\n",
    "    \n",
    "    if strand == '-':\n",
    "        predicted_value1 = predicted_value1[:, ::-1, ::1]\n",
    "        predicted_value2 = predicted_value2[:, ::-1, ::1]\n",
    "    \n",
    "    print (\"prediction --- %s seconds ---\" % (time.time() - start_time))\n",
    "    start_time = time.time()\n",
    "    \n",
    "    predicted_value_for_common1=np.concatenate((predicted_value1[0][:max_distance],predicted_value1[0][-max_distance:]))\n",
    "    predicted_value_for_common2=np.concatenate((predicted_value2[0][:max_distance],predicted_value2[0][-max_distance:]))\n",
    "    \n",
    "    \n",
    "    predicted_value_for_raw1=predicted_value1[0][max_distance:max_distance+len(ref)]\n",
    "    predicted_value_for_raw2=predicted_value2[0][max_distance:max_distance+len(alt)]\n",
    "    \n",
    "    acceptor_prob1 = predicted_value_for_common1[ :, 1]\n",
    "    donor_prob1 = predicted_value_for_common1[ :, 2]\n",
    "    \n",
    "    acceptor_prob2 = predicted_value_for_common2[ :, 1]\n",
    "    donor_prob2 = predicted_value_for_common2[ :, 2]\n",
    "        \n",
    "    \n",
    "    delta_acceptor_prob = acceptor_prob1 - acceptor_prob2\n",
    "    delta_donor_prob = donor_prob1 - donor_prob2\n",
    "    \n",
    "    delta_acceptor_sorted_index = (acceptor_prob1 - acceptor_prob2).argsort()\n",
    "    delta_acceptor_sorted_index = np.flip(delta_acceptor_sorted_index)\n",
    "    \n",
    "    delta_donor_sorted_index = (donor_prob1 - donor_prob2).argsort()\n",
    "    delta_donor_sorted_index = np.flip(delta_donor_sorted_index)\n",
    "    \n",
    "    delta_acceptor_sorted_value = delta_acceptor_prob[delta_acceptor_sorted_index]\n",
    "    delta_donor_sorted_value = delta_donor_prob[delta_donor_sorted_index]\n",
    "    \n",
    "    \n",
    "    df_acceptor_loss,df_donor_loss,df_acceptor_gain,df_donor_gain,\\\n",
    "    df_raw_acceptor_loss,df_raw_donor_loss,df_raw_acceptor_gain,df_raw_donor_gain \\\n",
    "    = view_result2(  (delta_acceptor_prob, delta_donor_prob, delta_acceptor_sorted_index, delta_donor_sorted_index, \\\n",
    "                    delta_acceptor_sorted_value, delta_donor_sorted_value, \\\n",
    "                    predicted_value_for_raw1, predicted_value_for_raw2),view_threshold,max_distance)\n",
    "    \n",
    "    delta_common=pd.concat([df_acceptor_loss,df_donor_loss,df_acceptor_gain,df_donor_gain], axis=1)\n",
    "#     for i in range(4):\n",
    "#         col_name='pre-mRNA position'+str(i)\n",
    "#         delta_common=delta_common.astype({col_name:'int')\n",
    "                                          \n",
    "    delta_raw_common=pd.concat([df_raw_acceptor_loss,df_raw_donor_loss,df_raw_acceptor_gain,df_raw_donor_gain], axis=1)\n",
    "#     for i in range(4,8):\n",
    "#         col_name='pre-mRNA position'+str(i)\n",
    "#         delta_raw_common=delta_raw_common.astype({col_name:'int')\n",
    "                                          \n",
    "    display(delta_common)\n",
    "    display(delta_raw_common)\n"
   ]
  },
  {
   "cell_type": "code",
   "execution_count": 58,
   "metadata": {},
   "outputs": [
    {
     "name": "stdout",
     "output_type": "stream",
     "text": [
      "Ref and Alt : (T to G)\n",
      "CATTTTGTGTGGCCGGAGGCTAGCAGGAAGGTTCAATAGTTTCACATGCCTGTTGTTTCAAACAGAACACAAATACTTCAACTGTCTGGTTAGCGTGGTTT\n",
      "                                                  -\n",
      "CATTTTGTGTGGCCGGAGGCTAGCAGGAAGGTTCAATAGTTTCACATGCCGGTTGTTTCAAACAGAACACAAATACTTCAACTGTCTGGTTAGCGTGGTTT\n",
      "\n",
      "sequence changed --- 0.0018610954284667969 seconds ---\n",
      "prediction --- 0.8403332233428955 seconds ---\n"
     ]
    },
    {
     "data": {
      "text/html": [
       "<div>\n",
       "<style scoped>\n",
       "    .dataframe tbody tr th:only-of-type {\n",
       "        vertical-align: middle;\n",
       "    }\n",
       "\n",
       "    .dataframe tbody tr th {\n",
       "        vertical-align: top;\n",
       "    }\n",
       "\n",
       "    .dataframe thead th {\n",
       "        text-align: right;\n",
       "    }\n",
       "</style>\n",
       "<table border=\"1\" class=\"dataframe\">\n",
       "  <thead>\n",
       "    <tr style=\"text-align: right;\">\n",
       "      <th></th>\n",
       "      <th>delta score(Acceptor Loss)</th>\n",
       "      <th>pre-mRNA position</th>\n",
       "      <th>delta score(Donor Loss)</th>\n",
       "      <th>pre-mRNA position</th>\n",
       "      <th>delta score(Acceptor Gain)</th>\n",
       "      <th>pre-mRNA position</th>\n",
       "      <th>delta score(Donor Gain)</th>\n",
       "      <th>pre-mRNA position</th>\n",
       "    </tr>\n",
       "  </thead>\n",
       "  <tbody>\n",
       "    <tr>\n",
       "      <th>0</th>\n",
       "      <td>0.82717</td>\n",
       "      <td>-2.00000</td>\n",
       "      <td>0.00028</td>\n",
       "      <td>-2</td>\n",
       "      <td>0.04461</td>\n",
       "      <td>-32</td>\n",
       "      <td>0.00000</td>\n",
       "      <td>43.00000</td>\n",
       "    </tr>\n",
       "    <tr>\n",
       "      <th>1</th>\n",
       "      <td>0.00024</td>\n",
       "      <td>24.00000</td>\n",
       "      <td>0.00011</td>\n",
       "      <td>-1</td>\n",
       "      <td>0.01247</td>\n",
       "      <td>34</td>\n",
       "      <td>0.00000</td>\n",
       "      <td>30.00000</td>\n",
       "    </tr>\n",
       "    <tr>\n",
       "      <th>2</th>\n",
       "      <td>0.00001</td>\n",
       "      <td>1.00000</td>\n",
       "      <td>0.00001</td>\n",
       "      <td>-32</td>\n",
       "      <td>0.00222</td>\n",
       "      <td>30</td>\n",
       "      <td>0.00000</td>\n",
       "      <td>47.00000</td>\n",
       "    </tr>\n",
       "    <tr>\n",
       "      <th>3</th>\n",
       "      <td>0.00000</td>\n",
       "      <td>4.00000</td>\n",
       "      <td>0.00001</td>\n",
       "      <td>26</td>\n",
       "      <td>0.00009</td>\n",
       "      <td>-21</td>\n",
       "      <td>0.00000</td>\n",
       "      <td>50.00000</td>\n",
       "    </tr>\n",
       "    <tr>\n",
       "      <th>4</th>\n",
       "      <td>0.00000</td>\n",
       "      <td>7.00000</td>\n",
       "      <td>0.00000</td>\n",
       "      <td>4</td>\n",
       "      <td>0.00003</td>\n",
       "      <td>50</td>\n",
       "      <td>0.00000</td>\n",
       "      <td>2.00000</td>\n",
       "    </tr>\n",
       "    <tr>\n",
       "      <th>5</th>\n",
       "      <td>0.00000</td>\n",
       "      <td>27.00000</td>\n",
       "      <td>0.00000</td>\n",
       "      <td>-28</td>\n",
       "      <td>0.00002</td>\n",
       "      <td>-28</td>\n",
       "      <td>0.00000</td>\n",
       "      <td>13.00000</td>\n",
       "    </tr>\n",
       "    <tr>\n",
       "      <th>6</th>\n",
       "      <td>0.00000</td>\n",
       "      <td>-1.00000</td>\n",
       "      <td>0.00000</td>\n",
       "      <td>-6</td>\n",
       "      <td>0.00002</td>\n",
       "      <td>43</td>\n",
       "      <td>0.00000</td>\n",
       "      <td>42.00000</td>\n",
       "    </tr>\n",
       "    <tr>\n",
       "      <th>7</th>\n",
       "      <td>0.00000</td>\n",
       "      <td>21.00000</td>\n",
       "      <td>0.00000</td>\n",
       "      <td>-11</td>\n",
       "      <td>0.00002</td>\n",
       "      <td>-6</td>\n",
       "      <td>0.00000</td>\n",
       "      <td>46.00000</td>\n",
       "    </tr>\n",
       "    <tr>\n",
       "      <th>8</th>\n",
       "      <td>0.00000</td>\n",
       "      <td>26.00000</td>\n",
       "      <td>0.00000</td>\n",
       "      <td>-8</td>\n",
       "      <td>0.00001</td>\n",
       "      <td>42</td>\n",
       "      <td>0.00000</td>\n",
       "      <td>39.00000</td>\n",
       "    </tr>\n",
       "    <tr>\n",
       "      <th>9</th>\n",
       "      <td>0.00000</td>\n",
       "      <td>20.00000</td>\n",
       "      <td>0.00000</td>\n",
       "      <td>-24</td>\n",
       "      <td>0.00001</td>\n",
       "      <td>37</td>\n",
       "      <td>0.00000</td>\n",
       "      <td>48.00000</td>\n",
       "    </tr>\n",
       "    <tr>\n",
       "      <th>10</th>\n",
       "      <td>0.00000</td>\n",
       "      <td>28.00000</td>\n",
       "      <td>0.00000</td>\n",
       "      <td>-14</td>\n",
       "      <td>0.00001</td>\n",
       "      <td>-4</td>\n",
       "      <td>0.00000</td>\n",
       "      <td>38.00000</td>\n",
       "    </tr>\n",
       "    <tr>\n",
       "      <th>11</th>\n",
       "      <td>0.00000</td>\n",
       "      <td>22.00000</td>\n",
       "      <td>0.00000</td>\n",
       "      <td>-46</td>\n",
       "      <td>0.00000</td>\n",
       "      <td>38</td>\n",
       "      <td>0.00000</td>\n",
       "      <td>1.00000</td>\n",
       "    </tr>\n",
       "    <tr>\n",
       "      <th>12</th>\n",
       "      <td>0.00000</td>\n",
       "      <td>25.00000</td>\n",
       "      <td>0.00000</td>\n",
       "      <td>-45</td>\n",
       "      <td>0.00000</td>\n",
       "      <td>-43</td>\n",
       "      <td>0.00000</td>\n",
       "      <td>37.00000</td>\n",
       "    </tr>\n",
       "    <tr>\n",
       "      <th>13</th>\n",
       "      <td>0.00000</td>\n",
       "      <td>14.00000</td>\n",
       "      <td>0.00000</td>\n",
       "      <td>-47</td>\n",
       "      <td>0.00000</td>\n",
       "      <td>39</td>\n",
       "      <td>0.00000</td>\n",
       "      <td>41.00000</td>\n",
       "    </tr>\n",
       "    <tr>\n",
       "      <th>14</th>\n",
       "      <td>0.00000</td>\n",
       "      <td>11.00000</td>\n",
       "      <td>0.00000</td>\n",
       "      <td>-20</td>\n",
       "      <td>0.00000</td>\n",
       "      <td>-8</td>\n",
       "      <td>0.00000</td>\n",
       "      <td>49.00000</td>\n",
       "    </tr>\n",
       "    <tr>\n",
       "      <th>15</th>\n",
       "      <td>0.00000</td>\n",
       "      <td>23.00000</td>\n",
       "      <td>0.00000</td>\n",
       "      <td>31</td>\n",
       "      <td>0.00000</td>\n",
       "      <td>-27</td>\n",
       "      <td>0.00000</td>\n",
       "      <td>35.00000</td>\n",
       "    </tr>\n",
       "    <tr>\n",
       "      <th>16</th>\n",
       "      <td>0.00000</td>\n",
       "      <td>15.00000</td>\n",
       "      <td>0.00000</td>\n",
       "      <td>-10</td>\n",
       "      <td>0.00000</td>\n",
       "      <td>-12</td>\n",
       "      <td>0.00000</td>\n",
       "      <td>44.00000</td>\n",
       "    </tr>\n",
       "    <tr>\n",
       "      <th>17</th>\n",
       "      <td>0.00000</td>\n",
       "      <td>-49.00000</td>\n",
       "      <td>0.00000</td>\n",
       "      <td>-7</td>\n",
       "      <td>0.00000</td>\n",
       "      <td>-3</td>\n",
       "      <td>0.00000</td>\n",
       "      <td>40.00000</td>\n",
       "    </tr>\n",
       "    <tr>\n",
       "      <th>18</th>\n",
       "      <td>0.00000</td>\n",
       "      <td>3.00000</td>\n",
       "      <td>0.00000</td>\n",
       "      <td>-27</td>\n",
       "      <td>0.00000</td>\n",
       "      <td>-23</td>\n",
       "      <td>0.00000</td>\n",
       "      <td>34.00000</td>\n",
       "    </tr>\n",
       "    <tr>\n",
       "      <th>19</th>\n",
       "      <td>0.00000</td>\n",
       "      <td>16.00000</td>\n",
       "      <td>0.00000</td>\n",
       "      <td>-44</td>\n",
       "      <td>0.00000</td>\n",
       "      <td>-45</td>\n",
       "      <td>0.00000</td>\n",
       "      <td>45.00000</td>\n",
       "    </tr>\n",
       "    <tr>\n",
       "      <th>20</th>\n",
       "      <td>0.00000</td>\n",
       "      <td>18.00000</td>\n",
       "      <td>0.00000</td>\n",
       "      <td>-50</td>\n",
       "      <td>0.00000</td>\n",
       "      <td>47</td>\n",
       "      <td>0.00000</td>\n",
       "      <td>11.00000</td>\n",
       "    </tr>\n",
       "    <tr>\n",
       "      <th>21</th>\n",
       "      <td>0.00000</td>\n",
       "      <td>31.00000</td>\n",
       "      <td>0.00000</td>\n",
       "      <td>32</td>\n",
       "      <td>0.00000</td>\n",
       "      <td>-20</td>\n",
       "      <td>0.00000</td>\n",
       "      <td>-42.00000</td>\n",
       "    </tr>\n",
       "    <tr>\n",
       "      <th>22</th>\n",
       "      <td>0.00000</td>\n",
       "      <td>-10.00000</td>\n",
       "      <td>0.00000</td>\n",
       "      <td>-40</td>\n",
       "      <td>0.00000</td>\n",
       "      <td>-18</td>\n",
       "      <td>0.00000</td>\n",
       "      <td>-4.00000</td>\n",
       "    </tr>\n",
       "    <tr>\n",
       "      <th>23</th>\n",
       "      <td>0.00000</td>\n",
       "      <td>8.00000</td>\n",
       "      <td>0.00000</td>\n",
       "      <td>7</td>\n",
       "      <td>0.00000</td>\n",
       "      <td>-48</td>\n",
       "      <td>0.00000</td>\n",
       "      <td>12.00000</td>\n",
       "    </tr>\n",
       "    <tr>\n",
       "      <th>24</th>\n",
       "      <td>0.00000</td>\n",
       "      <td>29.00000</td>\n",
       "      <td>0.00000</td>\n",
       "      <td>-16</td>\n",
       "      <td>0.00000</td>\n",
       "      <td>-39</td>\n",
       "      <td>0.00000</td>\n",
       "      <td>9.00000</td>\n",
       "    </tr>\n",
       "    <tr>\n",
       "      <th>25</th>\n",
       "      <td>nan</td>\n",
       "      <td>nan</td>\n",
       "      <td>0.00000</td>\n",
       "      <td>-5</td>\n",
       "      <td>0.00000</td>\n",
       "      <td>-22</td>\n",
       "      <td>0.00000</td>\n",
       "      <td>33.00000</td>\n",
       "    </tr>\n",
       "    <tr>\n",
       "      <th>26</th>\n",
       "      <td>nan</td>\n",
       "      <td>nan</td>\n",
       "      <td>0.00000</td>\n",
       "      <td>-12</td>\n",
       "      <td>0.00000</td>\n",
       "      <td>-40</td>\n",
       "      <td>nan</td>\n",
       "      <td>nan</td>\n",
       "    </tr>\n",
       "    <tr>\n",
       "      <th>27</th>\n",
       "      <td>nan</td>\n",
       "      <td>nan</td>\n",
       "      <td>0.00000</td>\n",
       "      <td>24</td>\n",
       "      <td>0.00000</td>\n",
       "      <td>46</td>\n",
       "      <td>nan</td>\n",
       "      <td>nan</td>\n",
       "    </tr>\n",
       "    <tr>\n",
       "      <th>28</th>\n",
       "      <td>nan</td>\n",
       "      <td>nan</td>\n",
       "      <td>0.00000</td>\n",
       "      <td>-26</td>\n",
       "      <td>0.00000</td>\n",
       "      <td>-33</td>\n",
       "      <td>nan</td>\n",
       "      <td>nan</td>\n",
       "    </tr>\n",
       "    <tr>\n",
       "      <th>29</th>\n",
       "      <td>nan</td>\n",
       "      <td>nan</td>\n",
       "      <td>0.00000</td>\n",
       "      <td>-18</td>\n",
       "      <td>0.00000</td>\n",
       "      <td>-5</td>\n",
       "      <td>nan</td>\n",
       "      <td>nan</td>\n",
       "    </tr>\n",
       "  </tbody>\n",
       "</table>\n",
       "</div>"
      ],
      "text/plain": [
       "    delta score(Acceptor Loss)  pre-mRNA position  delta score(Donor Loss)  \\\n",
       "0                      0.82717           -2.00000                  0.00028   \n",
       "1                      0.00024           24.00000                  0.00011   \n",
       "2                      0.00001            1.00000                  0.00001   \n",
       "3                      0.00000            4.00000                  0.00001   \n",
       "4                      0.00000            7.00000                  0.00000   \n",
       "5                      0.00000           27.00000                  0.00000   \n",
       "6                      0.00000           -1.00000                  0.00000   \n",
       "7                      0.00000           21.00000                  0.00000   \n",
       "8                      0.00000           26.00000                  0.00000   \n",
       "9                      0.00000           20.00000                  0.00000   \n",
       "10                     0.00000           28.00000                  0.00000   \n",
       "11                     0.00000           22.00000                  0.00000   \n",
       "12                     0.00000           25.00000                  0.00000   \n",
       "13                     0.00000           14.00000                  0.00000   \n",
       "14                     0.00000           11.00000                  0.00000   \n",
       "15                     0.00000           23.00000                  0.00000   \n",
       "16                     0.00000           15.00000                  0.00000   \n",
       "17                     0.00000          -49.00000                  0.00000   \n",
       "18                     0.00000            3.00000                  0.00000   \n",
       "19                     0.00000           16.00000                  0.00000   \n",
       "20                     0.00000           18.00000                  0.00000   \n",
       "21                     0.00000           31.00000                  0.00000   \n",
       "22                     0.00000          -10.00000                  0.00000   \n",
       "23                     0.00000            8.00000                  0.00000   \n",
       "24                     0.00000           29.00000                  0.00000   \n",
       "25                         nan                nan                  0.00000   \n",
       "26                         nan                nan                  0.00000   \n",
       "27                         nan                nan                  0.00000   \n",
       "28                         nan                nan                  0.00000   \n",
       "29                         nan                nan                  0.00000   \n",
       "\n",
       "    pre-mRNA position  delta score(Acceptor Gain)  pre-mRNA position  \\\n",
       "0                  -2                     0.04461                -32   \n",
       "1                  -1                     0.01247                 34   \n",
       "2                 -32                     0.00222                 30   \n",
       "3                  26                     0.00009                -21   \n",
       "4                   4                     0.00003                 50   \n",
       "5                 -28                     0.00002                -28   \n",
       "6                  -6                     0.00002                 43   \n",
       "7                 -11                     0.00002                 -6   \n",
       "8                  -8                     0.00001                 42   \n",
       "9                 -24                     0.00001                 37   \n",
       "10                -14                     0.00001                 -4   \n",
       "11                -46                     0.00000                 38   \n",
       "12                -45                     0.00000                -43   \n",
       "13                -47                     0.00000                 39   \n",
       "14                -20                     0.00000                 -8   \n",
       "15                 31                     0.00000                -27   \n",
       "16                -10                     0.00000                -12   \n",
       "17                 -7                     0.00000                 -3   \n",
       "18                -27                     0.00000                -23   \n",
       "19                -44                     0.00000                -45   \n",
       "20                -50                     0.00000                 47   \n",
       "21                 32                     0.00000                -20   \n",
       "22                -40                     0.00000                -18   \n",
       "23                  7                     0.00000                -48   \n",
       "24                -16                     0.00000                -39   \n",
       "25                 -5                     0.00000                -22   \n",
       "26                -12                     0.00000                -40   \n",
       "27                 24                     0.00000                 46   \n",
       "28                -26                     0.00000                -33   \n",
       "29                -18                     0.00000                 -5   \n",
       "\n",
       "    delta score(Donor Gain)  pre-mRNA position  \n",
       "0                   0.00000           43.00000  \n",
       "1                   0.00000           30.00000  \n",
       "2                   0.00000           47.00000  \n",
       "3                   0.00000           50.00000  \n",
       "4                   0.00000            2.00000  \n",
       "5                   0.00000           13.00000  \n",
       "6                   0.00000           42.00000  \n",
       "7                   0.00000           46.00000  \n",
       "8                   0.00000           39.00000  \n",
       "9                   0.00000           48.00000  \n",
       "10                  0.00000           38.00000  \n",
       "11                  0.00000            1.00000  \n",
       "12                  0.00000           37.00000  \n",
       "13                  0.00000           41.00000  \n",
       "14                  0.00000           49.00000  \n",
       "15                  0.00000           35.00000  \n",
       "16                  0.00000           44.00000  \n",
       "17                  0.00000           40.00000  \n",
       "18                  0.00000           34.00000  \n",
       "19                  0.00000           45.00000  \n",
       "20                  0.00000           11.00000  \n",
       "21                  0.00000          -42.00000  \n",
       "22                  0.00000           -4.00000  \n",
       "23                  0.00000           12.00000  \n",
       "24                  0.00000            9.00000  \n",
       "25                  0.00000           33.00000  \n",
       "26                      nan                nan  \n",
       "27                      nan                nan  \n",
       "28                      nan                nan  \n",
       "29                      nan                nan  "
      ]
     },
     "metadata": {},
     "output_type": "display_data"
    },
    {
     "data": {
      "text/html": [
       "<div>\n",
       "<style scoped>\n",
       "    .dataframe tbody tr th:only-of-type {\n",
       "        vertical-align: middle;\n",
       "    }\n",
       "\n",
       "    .dataframe tbody tr th {\n",
       "        vertical-align: top;\n",
       "    }\n",
       "\n",
       "    .dataframe thead th {\n",
       "        text-align: right;\n",
       "    }\n",
       "</style>\n",
       "<table border=\"1\" class=\"dataframe\">\n",
       "  <thead>\n",
       "    <tr style=\"text-align: right;\">\n",
       "      <th></th>\n",
       "      <th>delta score in raw(Acceptor Loss)</th>\n",
       "      <th>pre-mRNA position</th>\n",
       "      <th>delta score in raw(Donor Loss)</th>\n",
       "      <th>pre-mRNA position</th>\n",
       "      <th>delta score in raw(Acceptor Gain)</th>\n",
       "      <th>pre-mRNA position</th>\n",
       "      <th>delta score in raw(Donor Gain)</th>\n",
       "      <th>pre-mRNA position</th>\n",
       "    </tr>\n",
       "  </thead>\n",
       "  <tbody>\n",
       "    <tr>\n",
       "      <th>0</th>\n",
       "      <td>nan</td>\n",
       "      <td>nan</td>\n",
       "      <td>nan</td>\n",
       "      <td>nan</td>\n",
       "      <td>0.00000</td>\n",
       "      <td>1</td>\n",
       "      <td>0.00000</td>\n",
       "      <td>1</td>\n",
       "    </tr>\n",
       "  </tbody>\n",
       "</table>\n",
       "</div>"
      ],
      "text/plain": [
       "   delta score in raw(Acceptor Loss)  pre-mRNA position  \\\n",
       "0                                nan                nan   \n",
       "\n",
       "   delta score in raw(Donor Loss)  pre-mRNA position  \\\n",
       "0                             nan                nan   \n",
       "\n",
       "   delta score in raw(Acceptor Gain)  pre-mRNA position  \\\n",
       "0                            0.00000                  1   \n",
       "\n",
       "   delta score in raw(Donor Gain)  pre-mRNA position  \n",
       "0                         0.00000                  1  "
      ]
     },
     "metadata": {},
     "output_type": "display_data"
    }
   ],
   "source": [
    "spliceAI2(8,140300615,'T','G','-',50)"
   ]
  },
  {
   "cell_type": "code",
   "execution_count": null,
   "metadata": {},
   "outputs": [],
   "source": []
  },
  {
   "cell_type": "code",
   "execution_count": null,
   "metadata": {},
   "outputs": [],
   "source": []
  },
  {
   "cell_type": "code",
   "execution_count": null,
   "metadata": {},
   "outputs": [],
   "source": []
  },
  {
   "cell_type": "code",
   "execution_count": null,
   "metadata": {},
   "outputs": [],
   "source": []
  },
  {
   "cell_type": "code",
   "execution_count": null,
   "metadata": {},
   "outputs": [],
   "source": []
  },
  {
   "cell_type": "code",
   "execution_count": null,
   "metadata": {},
   "outputs": [],
   "source": []
  },
  {
   "cell_type": "code",
   "execution_count": null,
   "metadata": {},
   "outputs": [],
   "source": []
  },
  {
   "cell_type": "code",
   "execution_count": null,
   "metadata": {},
   "outputs": [],
   "source": []
  },
  {
   "cell_type": "code",
   "execution_count": null,
   "metadata": {},
   "outputs": [],
   "source": []
  },
  {
   "cell_type": "code",
   "execution_count": null,
   "metadata": {},
   "outputs": [],
   "source": []
  },
  {
   "cell_type": "code",
   "execution_count": null,
   "metadata": {},
   "outputs": [],
   "source": []
  },
  {
   "cell_type": "code",
   "execution_count": null,
   "metadata": {},
   "outputs": [],
   "source": []
  },
  {
   "cell_type": "code",
   "execution_count": null,
   "metadata": {},
   "outputs": [],
   "source": []
  },
  {
   "cell_type": "code",
   "execution_count": null,
   "metadata": {},
   "outputs": [],
   "source": []
  },
  {
   "cell_type": "code",
   "execution_count": null,
   "metadata": {},
   "outputs": [],
   "source": []
  },
  {
   "cell_type": "code",
   "execution_count": null,
   "metadata": {},
   "outputs": [],
   "source": []
  },
  {
   "cell_type": "code",
   "execution_count": 6,
   "metadata": {},
   "outputs": [],
   "source": [
    "def predict_sequence_with_context(dna_sequence,strand,model,assembly='hg38'):\n",
    "    encoded_dna_sequence = one_hot_encode(dna_sequence)[None, :]\n",
    "    \n",
    "    if strand == '-':\n",
    "        encoded_dna_sequence = encoded_dna_sequence[:, ::-1, ::-1]\n",
    "    \n",
    "    predicted_value = np.mean([model[m].predict(encoded_dna_sequence) for m in range(5)], axis=0)\n",
    "    \n",
    "    \n",
    "    acceptor_prob = predicted_value[0, :, 1]\n",
    "    donor_prob = predicted_value[0, :, 2]\n",
    "    \n",
    "    acceptor_prob_sorted_index=acceptor_prob.argsort()\n",
    "    acceptor_prob_sorted_index=np.flip(acceptor_prob_sorted_index)\n",
    "    \n",
    "    donor_prob_sorted_index=donor_prob.argsort()\n",
    "    donor_prob_sorted_index=np.flip(donor_prob_sorted_index)\n",
    "    \n",
    "    acceptor_prob_sorted_value=acceptor_prob[acceptor_prob_sorted_index]\n",
    "    donor_prob_sorted_value=donor_prob[donor_prob_sorted_index]\n",
    "    \n",
    "    #                 0          1             2                 3                          4\n",
    "    return predicted_value, acceptor_prob, donor_prob, acceptor_prob_sorted_index, donor_prob_sorted_index,\\\n",
    "        acceptor_prob_sorted_value, donor_prob_sorted_value"
   ]
  },
  {
   "cell_type": "code",
   "execution_count": 7,
   "metadata": {},
   "outputs": [],
   "source": [
    "def replace_dna_ref_to_alt(chrom,pos,ref,alt,start_index,end_index,strand,context,model,assembly='hg38'):\n",
    "    dna_sequence=jkgenome.locus(chrom+':'+str(start_index)+'-'+str(end_index)+strand)\n",
    "    dna_sequence=dna_sequence.twoBitFrag2('hg38').upper()\n",
    "    \n",
    "    if dna_sequence[pos-start_index:pos-start_index+len(ref)]!=ref:\n",
    "        print('Error in positioning')\n",
    "        \n",
    "    original_dna_sequence=dna_sequence\n",
    "    altered_dna_sequence=dna_sequence[:pos-start_index] + alt + dna_sequence[pos-start_index+len(ref):]\n",
    "    \n",
    "    print(\"Ref and Alt : (\"+ref+\" to \"+alt+\")\")\n",
    "    if len(ref)>len(alt):\n",
    "        print(original_dna_sequence[pos-start_index-50:pos-start_index]+ref+                         original_dna_sequence[pos-start_index+len(ref):pos-start_index+len(ref)+50])\n",
    "        print(\" \"*50+\"-\"*len(ref))\n",
    "        print(altered_dna_sequence[pos-start_index-50:pos-start_index]+alt+'.'*(len(ref)-len(alt))+altered_dna_sequence[pos-start_index+len(alt):pos-start_index+len(alt)+50])\n",
    "        \n",
    "        \n",
    "    else:\n",
    "        print(original_dna_sequence[pos-start_index-50:pos-start_index]+ref+'.'*(len(alt)-len(ref))+original_dna_sequence[pos-start_index+len(ref):pos-start_index+len(ref)+50])\n",
    "        print(\" \"*50+\"-\"*len(alt))\n",
    "        print(altered_dna_sequence[pos-start_index-50:pos-start_index]+alt                        +altered_dna_sequence[pos-start_index+len(alt):pos-start_index+len(alt)+50])\n",
    "    print()\n",
    "    return original_dna_sequence,altered_dna_sequence"
   ]
  },
  {
   "cell_type": "code",
   "execution_count": 8,
   "metadata": {},
   "outputs": [],
   "source": [
    "def compare_mutated_sequences(chrom,pos,ref,alt,start_index,end_index,strand,context,model,assembly='hg38'):\n",
    "    start_time = time.time()\n",
    "    \n",
    "    dna_sequence=jkgenome.locus(chrom+':'+str(start_index)+'-'+str(end_index)+'+')\n",
    "    dna_sequence=dna_sequence.twoBitFrag2('hg38').upper()\n",
    "    \n",
    "    if dna_sequence[pos-start_index:pos-start_index+len(ref)]!=ref:\n",
    "        print('Error in positioning')\n",
    "        return\n",
    "    \n",
    "    input_dna_sequence1,input_dna_sequence2=replace_dna_ref_to_alt2(chrom,pos,ref,alt,start_index,end_index,strand,context,model)\n",
    "    print (\"sequence changed --- %s seconds ---\" % (time.time() - start_time))\n",
    "    start_time = time.time()\n",
    "    \n",
    "    predicted_value1,_,_,_,_,_,_ = predict_sequence_with_context2(input_dna_sequence1,strand,model)\n",
    "    predicted_value2,_,_,_,_,_,_ = predict_sequence_with_context2(input_dna_sequence2,strand,model)\n",
    "    \n",
    "    print (\"prediction --- %s seconds ---\" % (time.time() - start_time))\n",
    "    start_time = time.time()\n",
    "    \n",
    "    predicted_value_for_common1=np.concatenate((predicted_value1[0][:pos-start_index],predicted_value1[0][pos-start_index+len(ref):]))\n",
    "    predicted_value_for_common2=np.concatenate((predicted_value2[0][:pos-start_index],predicted_value2[0][pos-start_index+len(alt):]))\n",
    "    \n",
    "    predicted_value_for_raw1=predicted_value1[0][pos-start_index:pos-start_index+len(ref)]\n",
    "    predicted_value_for_raw2=predicted_value2[0][pos-start_index:pos-start_index+len(alt)]\n",
    "    \n",
    "    acceptor_prob1 = predicted_value_for_common1[ :, 1]\n",
    "    donor_prob1 = predicted_value_for_common1[ :, 2]\n",
    "    \n",
    "    acceptor_prob2 = predicted_value_for_common2[ :, 1]\n",
    "    donor_prob2 = predicted_value_for_common2[ :, 2]\n",
    "        \n",
    "    \n",
    "    delta_acceptor_prob = acceptor_prob1 - acceptor_prob2\n",
    "    delta_donor_prob = donor_prob1 - donor_prob2\n",
    "    \n",
    "    delta_acceptor_sorted_index = (acceptor_prob1 - acceptor_prob2).argsort()\n",
    "    delta_acceptor_sorted_index = np.flip(delta_acceptor_sorted_index)\n",
    "    \n",
    "    delta_donor_sorted_index = (donor_prob1 - donor_prob2).argsort()\n",
    "    delta_donor_sorted_index = np.flip(delta_donor_sorted_index)\n",
    "    \n",
    "    delta_acceptor_sorted_value = delta_acceptor_prob[delta_acceptor_sorted_index]\n",
    "    delta_donor_sorted_value = delta_donor_prob[delta_donor_sorted_index]\n",
    "    \n",
    "    \n",
    "    \n",
    "    return delta_acceptor_prob, delta_donor_prob, delta_acceptor_sorted_index, delta_donor_sorted_index, \\\n",
    "            delta_acceptor_sorted_value, delta_donor_sorted_value, \\\n",
    "            predicted_value_for_raw1, predicted_value_for_raw2"
   ]
  },
  {
   "cell_type": "code",
   "execution_count": 9,
   "metadata": {},
   "outputs": [],
   "source": [
    "def view_delta(delta_acceptor_prob, delta_donor_prob, delta_acceptor_sorted_index, \\\n",
    "               delta_donor_sorted_index, delta_acceptor_sorted_value, delta_donor_sorted_value, \\\n",
    "            predicted_value_for_raw1, predicted_value_for_raw2,ranking):\n",
    "    print(\"Largest Delta in acceptor\")\n",
    "    for i in range(ranking):\n",
    "        print('%10d : '% delta_acceptor_sorted_index[i],delta_acceptor_sorted_value[i] )\n",
    "    print()\n",
    "    \n",
    "    print(\"Smallest Delta in acceptor\")\n",
    "    for i in range(-1,-ranking-1,-1):\n",
    "        print('%10d : '% delta_acceptor_sorted_index[i],delta_acceptor_sorted_value[i] )\n",
    "    print()\n",
    "    \n",
    "    print(\"Largest Delta in donor\")\n",
    "    for i in range(ranking):\n",
    "        print('%10d : '% delta_donor_sorted_index[i],delta_donor_sorted_value[i] )\n",
    "    print()\n",
    "    \n",
    "    print(\"Smallest Delta in donor\")\n",
    "    for i in range(-1,-ranking-1,-1):\n",
    "        print('%10d : '% delta_donor_sorted_index[i],delta_donor_sorted_value[i] )\n",
    "    print()\n",
    "    print(\"Prob for Ref(\"+ref+')')\n",
    "    print(predicted_value_for_raw1)\n",
    "    print()\n",
    "    print(\"Prob for Alt(\"+alt+')')\n",
    "    print(predicted_value_for_raw2)\n",
    "    print()"
   ]
  },
  {
   "cell_type": "code",
   "execution_count": 42,
   "metadata": {},
   "outputs": [
    {
     "name": "stdout",
     "output_type": "stream",
     "text": [
      "Ref and Alt : (T to G)\n",
      "CATTTTGTGTGGCCGGAGGCTAGCAGGAAGGTTCAATAGTTTCACATGCCTGTTGTTTCAAACAGAACACAAATACTTCAACTGTCTGGTTAGCGTGGTTT\n",
      "                                                  -\n",
      "CATTTTGTGTGGCCGGAGGCTAGCAGGAAGGTTCAATAGTTTCACATGCCGGTTGTTTCAAACAGAACACAAATACTTCAACTGTCTGGTTAGCGTGGTTT\n",
      "\n",
      "sequence changed --- 0.0021009445190429688 seconds ---\n",
      "WARNING:tensorflow:6 out of the last 11 calls to <function Model.make_predict_function.<locals>.predict_function at 0x7f87dc03bc20> triggered tf.function retracing. Tracing is expensive and the excessive number of tracings could be due to (1) creating @tf.function repeatedly in a loop, (2) passing tensors with different shapes, (3) passing Python objects instead of tensors. For (1), please define your @tf.function outside of the loop. For (2), @tf.function has experimental_relax_shapes=True option that relaxes argument shapes that can avoid unnecessary retracing. For (3), please refer to https://www.tensorflow.org/tutorials/customization/performance#python_or_tensor_args and https://www.tensorflow.org/api_docs/python/tf/function for  more details.\n",
      "WARNING:tensorflow:6 out of the last 11 calls to <function Model.make_predict_function.<locals>.predict_function at 0x7f872863f5f0> triggered tf.function retracing. Tracing is expensive and the excessive number of tracings could be due to (1) creating @tf.function repeatedly in a loop, (2) passing tensors with different shapes, (3) passing Python objects instead of tensors. For (1), please define your @tf.function outside of the loop. For (2), @tf.function has experimental_relax_shapes=True option that relaxes argument shapes that can avoid unnecessary retracing. For (3), please refer to https://www.tensorflow.org/tutorials/customization/performance#python_or_tensor_args and https://www.tensorflow.org/api_docs/python/tf/function for  more details.\n",
      "WARNING:tensorflow:6 out of the last 11 calls to <function Model.make_predict_function.<locals>.predict_function at 0x7f872068a3b0> triggered tf.function retracing. Tracing is expensive and the excessive number of tracings could be due to (1) creating @tf.function repeatedly in a loop, (2) passing tensors with different shapes, (3) passing Python objects instead of tensors. For (1), please define your @tf.function outside of the loop. For (2), @tf.function has experimental_relax_shapes=True option that relaxes argument shapes that can avoid unnecessary retracing. For (3), please refer to https://www.tensorflow.org/tutorials/customization/performance#python_or_tensor_args and https://www.tensorflow.org/api_docs/python/tf/function for  more details.\n",
      "WARNING:tensorflow:6 out of the last 11 calls to <function Model.make_predict_function.<locals>.predict_function at 0x7f87206acdd0> triggered tf.function retracing. Tracing is expensive and the excessive number of tracings could be due to (1) creating @tf.function repeatedly in a loop, (2) passing tensors with different shapes, (3) passing Python objects instead of tensors. For (1), please define your @tf.function outside of the loop. For (2), @tf.function has experimental_relax_shapes=True option that relaxes argument shapes that can avoid unnecessary retracing. For (3), please refer to https://www.tensorflow.org/tutorials/customization/performance#python_or_tensor_args and https://www.tensorflow.org/api_docs/python/tf/function for  more details.\n",
      "WARNING:tensorflow:6 out of the last 11 calls to <function Model.make_predict_function.<locals>.predict_function at 0x7f8720166830> triggered tf.function retracing. Tracing is expensive and the excessive number of tracings could be due to (1) creating @tf.function repeatedly in a loop, (2) passing tensors with different shapes, (3) passing Python objects instead of tensors. For (1), please define your @tf.function outside of the loop. For (2), @tf.function has experimental_relax_shapes=True option that relaxes argument shapes that can avoid unnecessary retracing. For (3), please refer to https://www.tensorflow.org/tutorials/customization/performance#python_or_tensor_args and https://www.tensorflow.org/api_docs/python/tf/function for  more details.\n",
      "prediction --- 4.471197128295898 seconds ---\n"
     ]
    }
   ],
   "source": [
    "pos=108299060\n",
    "ref='T'\n",
    "alt='G'\n",
    "\n",
    "x=compare_mutated_sequences('chr8',140300615,ref,alt,140295565,140305666,'+',10000,models)"
   ]
  },
  {
   "cell_type": "code",
   "execution_count": 340,
   "metadata": {},
   "outputs": [
    {
     "data": {
      "text/plain": [
       "(array([[9.9998838e-01, 5.9908612e-06, 5.6180970e-06],\n",
       "        [9.9997568e-01, 5.3283616e-06, 1.8994824e-05],\n",
       "        [8.8686007e-01, 1.7099734e-02, 9.6040204e-02],\n",
       "        [9.9997902e-01, 1.6930042e-05, 4.0703262e-06],\n",
       "        [9.9997061e-01, 1.7508986e-05, 1.1816104e-05],\n",
       "        [9.9995959e-01, 2.5733127e-05, 1.4624675e-05],\n",
       "        [9.9996978e-01, 2.6363025e-05, 3.8955200e-06],\n",
       "        [9.9624860e-01, 3.7170320e-03, 3.4272922e-05],\n",
       "        [8.2308722e-01, 4.2800061e-04, 1.7648479e-01]], dtype=float32),\n",
       " array([[9.993326e-01, 8.073356e-05, 5.866751e-04]], dtype=float32))"
      ]
     },
     "execution_count": 340,
     "metadata": {},
     "output_type": "execute_result"
    }
   ],
   "source": [
    "x[-1],x[-2]"
   ]
  },
  {
   "cell_type": "code",
   "execution_count": null,
   "metadata": {},
   "outputs": [],
   "source": []
  },
  {
   "cell_type": "code",
   "execution_count": null,
   "metadata": {},
   "outputs": [],
   "source": []
  },
  {
   "cell_type": "code",
   "execution_count": null,
   "metadata": {},
   "outputs": [],
   "source": []
  },
  {
   "cell_type": "code",
   "execution_count": 300,
   "metadata": {},
   "outputs": [],
   "source": [
    "encoded_dna_sequence1 = one_hot_encode('N'*(10000//2) + ctestInput1 + 'N'*(10000//2))[None, :]\n",
    "encoded_dna_sequence2 = one_hot_encode('N'*(10000//2) + ctestInput2 + 'N'*(10000//2))[None, :]"
   ]
  },
  {
   "cell_type": "code",
   "execution_count": null,
   "metadata": {},
   "outputs": [],
   "source": []
  },
  {
   "cell_type": "code",
   "execution_count": 314,
   "metadata": {},
   "outputs": [],
   "source": [
    "ctestInput1=\"\"\n",
    "for i in range(len(testInput1)):\n",
    "    ctestInput1+=testInput1[-i]"
   ]
  },
  {
   "cell_type": "code",
   "execution_count": 315,
   "metadata": {},
   "outputs": [],
   "source": [
    "ctestInput2=\"\"\n",
    "for i in range(len(testInput2)):\n",
    "    ctestInput2+=testInput2[-i]"
   ]
  },
  {
   "cell_type": "code",
   "execution_count": 317,
   "metadata": {},
   "outputs": [
    {
     "data": {
      "text/plain": [
       "('GAGGTTTGCGGGAGTAAACAAGAAGTAGAG', 'TGAGATGAAGAACAAATGAGGGCGTTTGGA')"
      ]
     },
     "execution_count": 317,
     "metadata": {},
     "output_type": "execute_result"
    }
   ],
   "source": [
    "ctestInput1[:30],testInput1[-30:]"
   ]
  },
  {
   "cell_type": "code",
   "execution_count": 313,
   "metadata": {},
   "outputs": [
    {
     "name": "stdout",
     "output_type": "stream",
     "text": [
      "diff at 99999 A C\n"
     ]
    }
   ],
   "source": [
    "for i in range(200000):\n",
    "    if ctestInput1[i]!=ctestInput2[i]:\n",
    "        print(\"diff at \"+str(i)+\" \"+ctestInput1[i],ctestInput2[i])"
   ]
  },
  {
   "cell_type": "code",
   "execution_count": 299,
   "metadata": {},
   "outputs": [
    {
     "data": {
      "text/plain": [
       "(200000, 200000)"
      ]
     },
     "execution_count": 299,
     "metadata": {},
     "output_type": "execute_result"
    }
   ],
   "source": [
    "len(ctestInput1),len(ctestInput2)"
   ]
  },
  {
   "cell_type": "code",
   "execution_count": 281,
   "metadata": {},
   "outputs": [],
   "source": [
    "def predict_sequence_with_context222(dna_sequence,context,model,assembly='hg38'):\n",
    "    encoded_dna_sequence = one_hot_encode('N'*(context//2) + dna_sequence + 'N'*(context//2))[None, :]\n",
    "    for i in range(len(encoded_dna_sequence)):\n",
    "        if encoded_dna_sequence[0][i]!=0:\n",
    "            encoded_dna_sequence[0][i]=5-encoded_dna_sequence[0][i]\n",
    "            \n",
    "    \n",
    "    predicted_value = np.mean([model[m].predict(encoded_dna_sequence) for m in range(5)], axis=0)\n",
    "    \n",
    "    \n",
    "    acceptor_prob = predicted_value[0, :, 1]\n",
    "    donor_prob = predicted_value[0, :, 2]\n",
    "    \n",
    "    acceptor_prob_sorted_index=acceptor_prob.argsort()\n",
    "    acceptor_prob_sorted_index=np.flip(acceptor_prob_sorted_index)\n",
    "    \n",
    "    donor_prob_sorted_index=donor_prob.argsort()\n",
    "    donor_prob_sorted_index=np.flip(donor_prob_sorted_index)\n",
    "    \n",
    "    acceptor_prob_sorted_value=acceptor_prob[acceptor_prob_sorted_index]\n",
    "    donor_prob_sorted_value=donor_prob[donor_prob_sorted_index]\n",
    "    \n",
    "    #                 0          1             2                 3                          4\n",
    "    return predicted_value, acceptor_prob, donor_prob, acceptor_prob_sorted_index, donor_prob_sorted_index,\\\n",
    "        acceptor_prob_sorted_value, donor_prob_sorted_value"
   ]
  },
  {
   "cell_type": "code",
   "execution_count": 450,
   "metadata": {},
   "outputs": [
    {
     "data": {
      "text/plain": [
       "101"
      ]
     },
     "execution_count": 450,
     "metadata": {},
     "output_type": "execute_result"
    }
   ],
   "source": [
    "pp=jkgenome.locus('chr8:140300565-140300666+')\n",
    "testInput1=pp.twoBitFrag2('hg38').upper()\n",
    "len(testInput1)"
   ]
  },
  {
   "cell_type": "code",
   "execution_count": 451,
   "metadata": {},
   "outputs": [],
   "source": [
    "testInput2=testInput1[:50-1]+'G'+testInput1[50:]"
   ]
  },
  {
   "cell_type": "code",
   "execution_count": 453,
   "metadata": {},
   "outputs": [
    {
     "data": {
      "text/plain": [
       "(101, 101, 'T')"
      ]
     },
     "execution_count": 453,
     "metadata": {},
     "output_type": "execute_result"
    }
   ],
   "source": [
    "len(testInput1),len(testInput2),testInput2[50]"
   ]
  },
  {
   "cell_type": "code",
   "execution_count": 479,
   "metadata": {},
   "outputs": [],
   "source": [
    "testResult1=predict_sequence_with_context(testInput1,10000,models,assembly='hg38')\n",
    "testResult2=predict_sequence_with_context(testInput2,10000,models,assembly='hg38')"
   ]
  },
  {
   "cell_type": "code",
   "execution_count": 489,
   "metadata": {},
   "outputs": [
    {
     "data": {
      "text/plain": [
       "101"
      ]
     },
     "execution_count": 489,
     "metadata": {},
     "output_type": "execute_result"
    }
   ],
   "source": [
    "len(testResult1[0][0])"
   ]
  },
  {
   "cell_type": "code",
   "execution_count": 490,
   "metadata": {},
   "outputs": [
    {
     "data": {
      "text/plain": [
       "array([3.23750041e-02, 8.04164819e-03, 3.92570253e-03, 1.12120085e-03,\n",
       "       8.09352379e-04, 4.49840212e-04, 3.18651873e-04, 2.35539075e-04,\n",
       "       1.75542213e-04, 1.65320002e-04, 1.60658747e-04, 1.57047558e-04,\n",
       "       1.32356552e-04, 1.31460110e-04, 1.26880783e-04, 1.22217272e-04,\n",
       "       1.21049445e-04, 1.20567624e-04, 1.14949376e-04, 1.10036184e-04,\n",
       "       1.06633015e-04, 1.05626845e-04, 9.79065298e-05, 8.48221025e-05,\n",
       "       8.17297914e-05, 6.53561874e-05, 5.77614483e-05, 5.64154980e-05,\n",
       "       5.33474304e-05, 4.97122455e-05], dtype=float32)"
      ]
     },
     "execution_count": 490,
     "metadata": {},
     "output_type": "execute_result"
    }
   ],
   "source": [
    "testResult1[5][:30]"
   ]
  },
  {
   "cell_type": "code",
   "execution_count": 491,
   "metadata": {},
   "outputs": [
    {
     "data": {
      "text/plain": [
       "array([65, 87, 93, 82, 70, 72, 84, 39, 61, 18, 88, 96, 95, 76, 86, 26, 23,\n",
       "       29, 77, 91, 81, 74, 47, 45, 85, 69, 94, 90, 83, 97])"
      ]
     },
     "execution_count": 491,
     "metadata": {},
     "output_type": "execute_result"
    }
   ],
   "source": [
    "testResult1[3][:30]"
   ]
  },
  {
   "cell_type": "code",
   "execution_count": 492,
   "metadata": {},
   "outputs": [
    {
     "data": {
      "text/plain": [
       "array([3.6704972e-02, 7.6620854e-03, 3.9339373e-03, 1.2013034e-03,\n",
       "       9.3438383e-04, 4.4399663e-04, 3.1739305e-04, 2.4963630e-04,\n",
       "       1.8139134e-04, 1.7632445e-04, 1.6302233e-04, 1.5322703e-04,\n",
       "       1.4985586e-04, 1.4926252e-04, 1.4824625e-04, 1.3275603e-04,\n",
       "       1.2798907e-04, 1.1267855e-04, 1.0360809e-04, 9.6483695e-05,\n",
       "       9.5840696e-05, 9.3472925e-05, 9.1332331e-05, 9.1121561e-05,\n",
       "       9.0461377e-05, 6.5233624e-05, 6.2680447e-05, 5.6511355e-05,\n",
       "       5.5614586e-05, 5.2507639e-05], dtype=float32)"
      ]
     },
     "execution_count": 492,
     "metadata": {},
     "output_type": "execute_result"
    }
   ],
   "source": [
    "testResult2[5][:30]"
   ]
  },
  {
   "cell_type": "code",
   "execution_count": 493,
   "metadata": {},
   "outputs": [
    {
     "data": {
      "text/plain": [
       "array([65, 87, 93, 82, 70, 72, 84, 39, 18, 61, 26, 76, 95, 88, 96, 86, 23,\n",
       "       45, 81, 77, 74, 29, 91, 85, 47, 69, 94, 90, 30, 97])"
      ]
     },
     "execution_count": 493,
     "metadata": {},
     "output_type": "execute_result"
    }
   ],
   "source": [
    "testResult2[3][:30]"
   ]
  },
  {
   "cell_type": "code",
   "execution_count": 495,
   "metadata": {},
   "outputs": [
    {
     "name": "stdout",
     "output_type": "stream",
     "text": [
      "[-4.3299682e-03 -1.2503145e-04 -8.0102589e-05 -4.0805055e-05\n",
      " -2.7856448e-05 -2.1766915e-05 -1.7499304e-05 -1.6357160e-05\n",
      " -1.6071339e-05 -1.4097226e-05]\n",
      "[6.6014127e-06 7.4451527e-06 8.8013039e-06 9.7861484e-06 1.1396231e-05\n",
      " 1.4200458e-05 1.8465682e-05 1.8703853e-05 2.7094698e-05 3.7956284e-04]\n",
      "[ 10  11  12  13  14  15  16  17  18  19  20  21  22  23  24  25  26  27\n",
      "  28  29  30  31  32  33  34  35  36  37  38  39  40  41  42  43  44  45\n",
      "  46  47  48  49  50  51  52  53  54  55  56  57  58  59  60  61  62  63\n",
      "  64  65  66  67  68  69  70  71  72  73  74  75  76  77  78  79  80  81\n",
      "  82  83  84  85  86  87  88  89  90  91  92  93  94  95  96  97  98  99\n",
      " 100]\n",
      "[ 91  92  93  94  95  96  97  98  99 100]\n"
     ]
    }
   ],
   "source": [
    "xx=(testResult1[1]-testResult2[1])\n",
    "xx.sort()\n",
    "print(xx[:10])\n",
    "print(xx[-10:])\n",
    "pp=xx.argsort()\n",
    "\n",
    "print(pp[10:])\n",
    "print(pp[-10:])"
   ]
  },
  {
   "cell_type": "code",
   "execution_count": 485,
   "metadata": {},
   "outputs": [],
   "source": [
    "xx=(testResult1[1]-testResult2[1])"
   ]
  },
  {
   "cell_type": "code",
   "execution_count": 486,
   "metadata": {},
   "outputs": [
    {
     "data": {
      "text/plain": [
       "array([], dtype=int64)"
      ]
     },
     "execution_count": 486,
     "metadata": {},
     "output_type": "execute_result"
    }
   ],
   "source": [
    "np.array(range(len(testResult1[1])))[xx>0.9]"
   ]
  },
  {
   "cell_type": "code",
   "execution_count": 478,
   "metadata": {},
   "outputs": [
    {
     "data": {
      "text/plain": [
       "20000"
      ]
     },
     "execution_count": 478,
     "metadata": {},
     "output_type": "execute_result"
    }
   ],
   "source": [
    "len(testResult1[1])"
   ]
  },
  {
   "cell_type": "code",
   "execution_count": 430,
   "metadata": {},
   "outputs": [
    {
     "data": {
      "text/plain": [
       "array([ 0.0000000e+00, -1.7285347e-06,  0.0000000e+00,  3.1054020e-04,\n",
       "        0.0000000e+00,  3.2675266e-04,  9.2566013e-05,  0.0000000e+00,\n",
       "        1.1127591e-03,  5.6468666e-02,  5.7368875e-02,  9.5674396e-03,\n",
       "        3.0140281e-02,  1.6888976e-03,  0.0000000e+00,  3.7291646e-04,\n",
       "        1.3731724e-01,  6.0564443e-02,  2.9785335e-03,  0.0000000e+00,\n",
       "        0.0000000e+00,  0.0000000e+00,  5.2675605e-05,  5.7145953e-05,\n",
       "        0.0000000e+00,  3.4645200e-07,  3.2436103e-04,  0.0000000e+00,\n",
       "        3.5911426e-04, -7.5788125e-03], dtype=float32)"
      ]
     },
     "execution_count": 430,
     "metadata": {},
     "output_type": "execute_result"
    }
   ],
   "source": [
    "testResult1[6][:30]-testResult2[6][:30]"
   ]
  },
  {
   "cell_type": "code",
   "execution_count": 441,
   "metadata": {},
   "outputs": [],
   "source": [
    "xx=(testResult1[5]-testResult2[5])"
   ]
  },
  {
   "cell_type": "code",
   "execution_count": 442,
   "metadata": {},
   "outputs": [],
   "source": [
    "xx.sort()"
   ]
  },
  {
   "cell_type": "code",
   "execution_count": 443,
   "metadata": {},
   "outputs": [
    {
     "data": {
      "text/plain": [
       "(array([-0.10696635, -0.07015467, -0.05700406, -0.0321241 , -0.03099149,\n",
       "        -0.02593975, -0.01960662, -0.01747973, -0.01663751, -0.01628403],\n",
       "       dtype=float32),\n",
       " array([1.2141466e-04, 4.0273368e-04, 8.4060431e-04, 4.2890906e-03,\n",
       "        4.5473576e-03, 5.5983633e-02, 6.6358447e-02, 7.4043334e-02,\n",
       "        1.4059460e-01, 3.0369344e-01], dtype=float32))"
      ]
     },
     "execution_count": 443,
     "metadata": {},
     "output_type": "execute_result"
    }
   ],
   "source": [
    "xx[:10],xx[-10:]"
   ]
  },
  {
   "cell_type": "code",
   "execution_count": 236,
   "metadata": {},
   "outputs": [
    {
     "data": {
      "text/plain": [
       "0.8521849"
      ]
     },
     "execution_count": 236,
     "metadata": {},
     "output_type": "execute_result"
    }
   ],
   "source": [
    "maxx-minn"
   ]
  },
  {
   "cell_type": "code",
   "execution_count": 246,
   "metadata": {},
   "outputs": [
    {
     "data": {
      "text/plain": [
       "200000"
      ]
     },
     "execution_count": 246,
     "metadata": {},
     "output_type": "execute_result"
    }
   ],
   "source": [
    "len(testInput1)"
   ]
  },
  {
   "cell_type": "code",
   "execution_count": 262,
   "metadata": {},
   "outputs": [
    {
     "data": {
      "text/plain": [
       "200000"
      ]
     },
     "execution_count": 262,
     "metadata": {},
     "output_type": "execute_result"
    }
   ],
   "source": [
    "len(testResult1[0][0])"
   ]
  },
  {
   "cell_type": "code",
   "execution_count": null,
   "metadata": {},
   "outputs": [],
   "source": [
    "len(testInput)\n",
    "testInput[1000000-10:1000000+10]"
   ]
  },
  {
   "cell_type": "code",
   "execution_count": null,
   "metadata": {},
   "outputs": [],
   "source": [
    "pp=jkgenome.locus('chr8:139300616-141300616+')\n",
    "testInput=pp.twoBitFrag2('hg38').upper()\n",
    "testInput[1000000-1]"
   ]
  },
  {
   "cell_type": "code",
   "execution_count": null,
   "metadata": {},
   "outputs": [],
   "source": [
    "testResult1[0][0][1000000-10:1000000+10]"
   ]
  },
  {
   "cell_type": "code",
   "execution_count": null,
   "metadata": {},
   "outputs": [],
   "source": []
  },
  {
   "cell_type": "code",
   "execution_count": null,
   "metadata": {},
   "outputs": [],
   "source": [
    "testResult=predict_sequence_with_context(testInput,10000,models,assembly='hg38')"
   ]
  },
  {
   "cell_type": "code",
   "execution_count": null,
   "metadata": {},
   "outputs": [],
   "source": [
    "testResult[5][:30]"
   ]
  },
  {
   "cell_type": "code",
   "execution_count": null,
   "metadata": {},
   "outputs": [],
   "source": [
    "testResult[3][:30] "
   ]
  },
  {
   "cell_type": "code",
   "execution_count": null,
   "metadata": {},
   "outputs": [],
   "source": [
    "testResult[3][:30]"
   ]
  },
  {
   "cell_type": "code",
   "execution_count": null,
   "metadata": {},
   "outputs": [],
   "source": [
    "testResult1[0][0][69143]"
   ]
  },
  {
   "cell_type": "code",
   "execution_count": null,
   "metadata": {},
   "outputs": [],
   "source": []
  },
  {
   "cell_type": "code",
   "execution_count": null,
   "metadata": {},
   "outputs": [],
   "source": [
    "testInput2=testInput[:100000]+'G'+testInput[100000+1:]"
   ]
  },
  {
   "cell_type": "code",
   "execution_count": null,
   "metadata": {},
   "outputs": [],
   "source": [
    "testResult2=predict_sequence_with_context(testInput2,10000,models,assembly='hg38')"
   ]
  },
  {
   "cell_type": "code",
   "execution_count": null,
   "metadata": {},
   "outputs": [],
   "source": [
    "testResult2[3][:30]"
   ]
  },
  {
   "cell_type": "code",
   "execution_count": null,
   "metadata": {},
   "outputs": [],
   "source": []
  },
  {
   "cell_type": "code",
   "execution_count": null,
   "metadata": {},
   "outputs": [],
   "source": []
  },
  {
   "cell_type": "code",
   "execution_count": 404,
   "metadata": {},
   "outputs": [
    {
     "data": {
      "text/plain": [
       "'CTGTCTGAATGTTTGGGCGATGGGTGAAGGTGAGTTGAGAGATGGGTGGGAATTGGGGACAATAAACCGTCCCACCTGCCTGGTACCTTGACCCTGGGAAAGGCTGGGAAGGTGAGATCCTGGGGCAGATGCCCAGCCTCATGGGGTCATGAATGGGCAAGTCTGTGAATACTCAGAGGCCGCCCCCAGGGCAGGGCTTCTCAAACGGCCCCCTCTGAAGCCCCTTCCCCCATCTCTCCACCCTTTGAACCCAGAGGCCATGGGCACCGGAGACCTGGACCTCCTATCAGCCTTCCGCCGCACGTGAGTGGCCATCCTCAGGGCCTGGGGGAGGCCAGTGCTGGAGTCTGAGGCCCTTCAGGGTCTCGACTGGGGGTCAGGGCTGGGGATGATTTGCGGGGCGGAGCTGAAGTCAGTGGGGGCTGCAGGGGAGAGCAAGCTTCCCAGGCAGGTGAGGATACTGAGTCTAACCCCCACAGGAGCCTGGCTGGAGGTGGTCGGCGGATCAGGTACCCCTGCCCCAGGCCCTACCTGCACCATCCGCAGACCCCCAGGGGTCTGAGACGGGTGGGAGCCCAATCTGGCTAGTGTCCCTTTCTCCCTCCCCACTCCACTCCCATCCTGCTCCTAATCCCTTTCCAGTCCCTCACTGCAGCCTCACTGGGGGTCCCTCTCCATAGTGATAGCCATGAGGACACTGGGATTCTGGACTTCAGCTCACTGCTGAAAAAGAGGTGAGTCCTGGGTGGCAGTTCCTGGGGCAGCTGGTGAGGCCTGGCTCCAAATCCCAGCACTGTGGTTTGCCAGCTGTGTGACCCTGAGCACAACACTGCACCTCTCTGAGTTGGTTTCCTTGTCTGTCGAGGGGATGATCCCAGTGTGGAAGGAGTTAAAGGGCTCTGCAGACATTATGTCCCGTCAACAGTCATCCTCACAGTGTCCCCCACGGCCACTCCACACTTGAGGCTGCAAAAGCTCCCTCCGTAAACTCCGGGGACCCAGAAGGAACAGAGAGAGGGTCCCCAGAGCTGCAGGGTCTACCAGGTCGGCCCAACTGACTTATGTTCTCTCTGCCCTCTCTCTCCCTCTCCCCCGGCCCCTCCATTATGGCTGCTGCTGCTGTGGCCCAGAGAGTAAGAATCGGGGTCTGGGTGTTTGGGGGCGGCAGGGCGCTGGTGGGTGCAGAGGGGATTCCCGTCCCCTCTCTGAGAGGCTGTGGTGAGAGACTCAGAGCAGGGTGCGGCTCCCCACGGACAGGGGTGAGTCTCTGTGCCTTGGGCTTCTCCTGCCACCCACCTATCTGTCAGAGCTTAGGAGGGATAAGAAAAAGTAATGCACACAGGAGGTCCTGCCAGAGCCTCCGGAGCAGCATGGGTGCCCCACAACACAGGGAGTGCAAGTGCGGAAAATAGGGAGGAAGTAAAGGCCCATGGGTGGGGTCCAGGTCTTTGAGGGAAGGTGGCCATACCTCTCATGTGCCACCTACCCTTTCTCCCACCCCCACCCCTGGAGCAGCAGTTTCCGGACCCCGAGGTGAGTGCCCAACATAGCACAGCACCCTCATCACCCCTAATTCTGCCAGGAGCCCCTCCAGATCCCCAGCCCCTCTTCAGCTCCCTTGGCCCCCAGTCCTGCCTGGCCTGGGACCCAGAGCAGCTCCAGCTGCCCCACCAGAAGGGAAGGGGCAGAGGGACAGGGGTGGCTACAGCTCCTTGGTCCTGGGCCCAGGAAGCCCCGCCCAGGGGGCTGCAGTCTTGCCCCCGGCCACAGCCTAGACTGCGGGACACAGGGACTCGAAGCTGGAGGCACCAGCAGAGGAGGACGTGTGGGAGATCCTACGGCAGGCACCCCCATCTGAGTACGAGCGCATCGCCTTCCAGTACGGCGTCACTGACCTGCGCGGCATGCTAAAGAGGCTCAAGGGCATGAGGCGCGATGAGAAGAAGAGCACAGGTTAGCCCTTCCTCAGAGGGGAGAGGAGAGGGCACAGGCTAGCCCTTCCCTACACAGGAGAGGAGAGGGCATAGGTTAGCCCTTCCCCACAGGGGAGAGGAGAGGGCACAGGTTAGCCCCCCACCTCGTCCACATACATGGAAAGAGCGGAGTCCGGCTTAGCACAGAGACTCACAGGAAAGAAGAGCCCAGGTTAACCCCTCCTTGTGTAGAAAAAGCCAAGAATGCCCAGGTTAGCCCCTTACCACAGAGATAGAAGAGAAGAGCAAAAGTTAGGCCAGGACAGCCACAAGGAAAAGGACAGAGCTCAGGTTAACCCTCCTCACCAAGGAAAAATCAGGCTACACTTTCTTTCTCTACCCTCTTCTGAAAAGAAATGAAGCCCGGTTAACCCTCTCCACACCCAAAAGAAAAGGGAAGAGGCCCGCTAAGCCTGGAGAGCCACACACAGGCAAAGAAAAGAGCCTGGCTAATCTTTCTCTCAGGCAAACAAAGCAGGAGGGCTTGGGTTAACTACCCTCACCCCCAGGCAGATGGAAAGAGGAGAGCCCAGGAATAGCCCTTCTCCACTGAGGGGTTGACAAGGGCGGGTGTGAGCCGGGAAAGCAGGGGTCTCACATGCCTTCTCCCCACCATGTCTGGGTCTAGCACAGGGCCTGGCACACACCTCGAGCGCTCTATAAACACCGACTGAATGGAGGGGTCAGCTTCCATGCAGGATATGGGAGACAAGCCCCTCCCAAAGCACACACACAAAACACACACGATCATGGGGACGGGGAGAGGAGCTGGTTAGTCCCTCCCTGCTGACCTCCCCCAGGCCCCTTATCCCTCTGCCCTGCCTCCCTGTTGTCTCAGCCTCACTGGGTTTCCCATCACCCCATCGCTAGGTGGCCTGGCCCTTACCGGCACCGTGGCCCCATTTAAGCCAGGGATCCCCTGAATGCCACCAATGTTCCTCTGGGTTAACTCCTGAACTGCTGAGCCCAGAGGGCACCAAGCAAAGGACTGTAGGTGCCCAAGGAGGAAAAGATGGAGGCTGGCAAGGCAGATGGGGACCTCCGAGGGTAGGGGTGTCTTCCAGGAATAGCAACAACAGTAAAAAGAGCAAATTGCTGGCCAGGTGCAGTGGCTCACGCCTGTAATCCCAGCACTTTGGGAGGCCGAGGCAGGTGGATCACCTGAGGTTAGGCGTTCAAGACCAGCCTGACCAACATGGTGAAACCCCGTCTCTACTAAAAATACAAAATTACCTGGGCATGGTGGCAGGCGCCTGTAATCCCAGCTACTCCGGAGGCTGAGGCAGGAGAATCACTTGAACCCGGGAGGCAGAGGTTGCAGTGAGTCAGGATTGTGCCATTGCACTCCAACCTGGGTGACAGAATGAGACTCCATCTCAAAAAAAGTGAGTGAGTTCCTTCCTAAGCCAGCCACTAGGTGCTTTATGTAATTATCTCATTTAATTCTCGAAACAACACTATGATGGAAGGACTATTACCATTTCCATGTTACTGAGGAAACCGAGGCACAGAGGGTTTAAGGAACTAGCGCAAGGTCACAGAGCACCCAGCAGTAGATCTCTGCCCCTCCGCAGCTGACTCCAGGCCCAGCCAGAGTATTTGAGGACTCAGGGGTCCTTCTCTGCTCGGTGGATGGAGCCCCCACTTCCTCCCTGGGCTCAGCAGCAGCAACATGGGCTTTTACAAACACGGCCGCAAGAGGAGGCATTGTTGTGGAGCAGGGCTGGGCTCAAGACCCAGCTCTGCCACACACCTGCTGGGCTGGTGGCATTGGGCCAGTCGCCTCTCTGAGCCCTATTTCCCCCACTGCAGCAGCATGGGGACCACCGCACTGGCCCTGGGGGCTGAGATGGGAGTGAGAGTGCTGGGCACAGAGGGCTGCTAGGTGGGAGCGCCTGGGAAGAGTACACAACTCAGGGGTTGCTGAGAGAAGAGAAGGCACAGCTGTCCCAGCCCCAGTTCTCCTGACAAGCTTCTGTCTTTCTGGAAGCCCCTAACCCAATCCCTGAGCTGAGCAGGTGGAGAGGACCCCAAGGAAGACAGAAGGACAAGGTCAGACAGACAGAGACAAGGAGGTGGGTTGACACATAGACACAGATAAAGAAATGAAGACACCATGCCTGTAATCCCAGCACTTTGGGAGGCTGAGGCGGGCGCATCACCTGAGGTCAGGATTTCAAGACCAGCCCGGCCAACATGGTAAAACCCCGTCTCTACTAAAAATACAAAAATTAGCTGGGCGTGGTGGCACATGCCTGTAATCCCAGCTACTCGGGAGGCCGAGGCAGGAGAATCACTTGAACCTGGGAGGCAGAGGTTGCAGTGAGCCAAGATGGCGCCATTGCACTCCAGCCTGGCCAACAGAGCAAGACTCTGTCCAAAAAACAAACAAACAGACAAACAAACAAAACAAAAAGAAATAGAGACACAGAGAAGTGGAAGCGGGGCGGCACAGAGGGGATTGGAGGGGGGGACCTGGGCCCCAGCCACAGCCACAGTAGCTTGGCCTGGGGGAGCAGGGTGCGGGCGGTGGGGTGGCCGGGGCTGAGGGGTGGTGCTCAGCCTTTCAGAAGAAGCTGGAGCCGGCCTACCAGGTGAGCAAAGGCCACAAGATCCGGCTGACCGTGGAACTGGCTGACCATGACGCTGAGGTCAAATGGCTCAAGAATGGCCAGGAGATCCAGATGAGCGGCAGGTGCAGCCTGGGGTGGGGAGGGGGGCTCGGGTGGAGGTGGGGACCCCCATAGCCTTGCCTCCTGCCCCTCTCCACATGCGTATCTCTGACTCGGTGTGGCTCTCAGCCCCATCTCTCTGGGCCTAATTTCCCATCCTTTTGCTCCTGCCGGTCCCTCTCTCTCTCTCCTTTTGTCTCGGGCTCACTTCCTCCCGTCGGGAACACTTCAACGGCCCCTTCTGTTCTACAGCAAGTAAGTTCCCCTCTGGATGGCTTGGGGTGGGGGGCACAGGGATTATCATGGGGCGCACTGGGCCCGGAGGGGTGTCCGCAGCTTTCCTGCCACTTCCCTGCGGCCCCCACCCAGGTACATCTTTGAGTCCATCGGTGCCAAGCGTACCCTGACCATCAGCCAGTGCTCATTGGCGGACGACGCAGCCTACCAGTGCGTGGTGGGTGGCGAGAAGTGTAGCACGGAGCTCTTTGTGAAAGGTGGGCCTGGGACCTGAGGATGTGGGAACCTGGGGAGGAGATGGCCTCAGGGGAGCCAACCCTCATGCTCACCCTGCCTGGACAGAGCCCCCTGTGCTCATCACGCGCCCCTTGGAGGACCAGCTGGTGATGGTGGGGCAGCGGGTGGAGTTTGAGTGTGAAGTATCGGAGGAGGGGGCGCAAGTCAAATGGTGAGTTCCAGAAGCACGGGGCATGGGTGTTGGGGGCATCTGCCCAGAAGAGGCCACAGCACTTGCCACCCACCCACCCGGCTAGGCTGAAGGACGGGGTGGAGCTGACCCGGGAGGAGACCTTCAAATACCGGTTCAAGAAGGACGGGCAGAGACACCACCTGATCATCAACGAGGCCATGCTGGAGGACGCGGGGCACTATGCACTGTGCACTAGCGGGGGCCAGGCGCTGGCTGAGCTCATTGTGCAGGGTGAGCCTGGCTGGGGGGGCACATGAGGCTTTAGGGCTTGGACCCCTCAGCCCCCACCCCACCTAGCCCTGTAGGGGAGCAGGCAAACCTGGGCTCAAGGCCTCTGTGACCTTGGGCCTTTGACAGCCTAAACCTCATCCTTCTCATCTCTAAAATGACGATGCTGAGGTGACCGCTCCAGAGGGTACTGAGAGGGTCATACGGGCCTGGTGAGCATCACCACCCCTCAGACACTTGAGGTTCCTTATGTGCACTGCACCATCACAGGCAAACATGGCACACACAGGCACACGTGTTTTCACATGCCCACATGCACCCAGACACGTGCGCACCAGCGCCCATGGGCCCACACGCCCTCCACAGGGATTCACGCCACACCCACACACCCTCCCGAGCTCAATGGCTCTGCCCTGCCCTGCAGAAAAGAAGCTGGAGGTGTACCAGAGCATCGCAGACCTGATGGTGGGCGCAAAGGACCAGGCGGTGTTCAAATGTGAGGTCTCAGATGAGAATGTTCGGGGTGTGTGGCTGAAGAATGGGAAGGAGCTGGTGCCCGACAGCCGCATAAAGGTGTCCCACATCGGGCGGTGAGTGTGCAGGGCAGGTGGATGGGACAGGTGGAGACTGAGATGGAGACAGAGAGAGACACAGGGAGAAACAGAGAGAGAGAGATAAAGACAGGTGGACAGAGAGGCAGATGCACAGAGACAGGACAGAGACTGAGACAGAGACCCACAGAGAGGGAGAAACAGACAGACCCAAAAAGACAAAGAGACAGAAAGACAGAAATAGTTCTATAGAGACAGAAAGATATGCACAGGGAGGCACACACATAGGAGAGTTCGTCAGAGACAGAGAAGAACAGAGGGACAGAGACAAAGAGGCAGCAGGGAGAGACACGGACGGGGTCGAGCGCTCCCCAGCACCCTCCCCCAGCTTGTGACCAGGGCAGGGCAGGAGGCCACCAAGGAGGCCGGCTCTGGCCAGAGGCCCTCACTGCCTCTCCCGCCCTCTTGCTCATCCCTGGAGCAACTGGGCTGGCCGTGCTGGGCCCAAGTTCACAGAGATTAATGAGACCCAGCCCCTGCCCAGTCTCCAAGGGCCCAGCCAAGGAGATGCTTTGATGTAGAAATCACTTTTACGCTGCCTACCTCTGAAGGCACATTAAAAAGCTGGAAAATTAGATAATATAGAAAAAAAAAGGCATTTTTAAAAATCAGAATACCAACAAGCCAGGACAAGGTGAGGGCCTCCTGGGACCCTGGCTGGGGTATCTGGCAAGGCCAGGGGTGTGTGGCCCAGTGGGGTCCCCTGAGCCACTGCTCCCCTGCAGGGTCCACAAACTGACCATTGACGACGTCACACCTGCCGACGAGGCTGACTACAGCTTTGTGCCCGAGGGCTTCGCCTGCAACCTGTCAGCCAAGCTCCACTTCATGGGTGAGCCTGCTCCAGGGTAGGGTGGGTCGGGGCAGTGGGGCCAGGAGCCCCTGTCACTGGGCCCTGCCTTTGCCCCCGTGCTACTTGCTCTTCCTTCTCTTGCAGAGGTCAAGATTGACTTCGTACCCAGGCAGGGTAAGTCTTGGGGCCCCTGAGTCTTGGTTCTGCTCACTTTCCCGCAACCCACCCACGCAGGCCTCCCCTCCACTCACAGAGGGAAGAGCAAGGATCAAAAGTGGGGGTCCTGGGGCCCAGCTTCAGCTTTGCCACTCATGACCATGGGTCAATTATAATCTCTGTGAGCCTCAGTTTCCTCTTCTCTAAAATGGGAACCCTGATAGTGCCACCTCATAGGATAGTTATAAAGATGAGGTGACATGATGTATCAGACCTGTCAAGTGCTGTCACATGTGTGACTGTTATTATTACATCTTTTCTTCTTCTTCCTTTTTTTTTATTTTTATTTTTTTTGAGACGGAGTCTCCCTCTGTCGCCCACGCTGGAGAGAAGTGGCGCGATCTCGGCTCACTGCAAGCTCCGCCTCCCAGGTTCACACCACTCTCCTGCCTCAGCCTCCTGAGTAGCTGGGACTACAGGCGCCCGCCACCATGCCCAGCTAATTATTTTTTGTATTTTTAGTAGAGACGGGGTTTCACCATGTTAGCCAGGATGGTTTCGATCTCCTGATCTCATGATCTGCCTGCCTCGGCCTCCCAAAGTGCTGGGATTACAGGCGTGAGCCACTGCGTCCAGACTGCTTTGCTTTGTTTAACTGAGGGCAGATTCCTGATTTATTTGGCCAGGGAACCTTTTTAATGTGTGCATGTGTGCGTGCATGTGTGCGCGCGTGTGTGTGTGTGCATGTGTCTGTGTGTGTATGTATATATGTGTGTCTGTGTCTGTGTGTGTGCGTGTATGTATGTGTATTTGTGTCTGTGTGCATGTGTGTGTCTGTGTGTGCATGTGTGTATGTGTATGTGTGTCTGTGTGTATGTGTATATGCGTGTGTGTGTGTGTATTGTGTGTGTGTGTATGTGTGTGGCAAGACACTGATGTTCCCCCAGTTTTCAAAATGCTATGCTAGGTGACCTGACCTGAATATTACAAGCCTCCCAGCCAACGTCCTGGGGTGATGGGAATGTTCCAGATCTTGGTTGGATTAATAATTGCATGGGTGTATTCATCTGTCAGAACTCAGCCTACTGTCAGATCTGAGCATAAACTATACCTCAATACAAATCTAAAAAACCAATAACCAGGGGCCCAGGCTCTTGAGCAGCCCCGCCCCAGTGACCTGTGCTCCTCCTGGCTCTCCCGTTTCTCTGAACTACATTGTGTCTTCTGCAGAACCTCCCAAGATCCACCTGGACTGCCCAGGCCGCATACCAGACACCATTGTGGTTGTAGCTGGAAATAAGCTACGTCTGGACGTCCCTATCTCTGGGGACCCTGCTCCCACTGTGATCTGGCAGAAGGCTATCACGCAGGTACTGTGGGTCCCTCCTCAGTCTCCCCATCTATAAGATGGGTGTGTGGAACCAGCCAAGTGCTAGGACCTGCTGCACACCCCACCCACATGTGCACGCCCTGCTGTTGGCTACCCCATGGGAGAGACTGGTCAGGGGGCAGGCAAGGTGGGCAGTGTGGGTCAGGGGGTGGAAGAAGCAGCAGAGGGGCGCTTCCAGGCTGAGTCAGCTCCTCTGCTCCCTACTTCCCTCCTGCCCTGTTCCCAGGGGAATAAGGCCCCAGCCAGGCCAGCCCCAGATGCCCCAGAGGACACAGGTGACAGCGATGAGTGGGTGTTTGACAAGAAGGTGAGTGAGACTGAGGTCAGGAGGAGGCTCGTTTGTCTTTCATCACTTTCTACCTACGTGGTGCCGAGCCCTTGGCGAGGTCTCCATGGAGGTGCCACACTTGGCCGGGTGTGTTGCTGCCCCCAGCAGGGTCCCTGTGGGGCCCTCACACCTCAGGCAGAGGGTCTCTGTGAAGTGTGCTGATGGCCATCACAAGGATGTGGACACCCTCTCATTGCCAGGAAGCCCTCATGACTGGGCTGCTCCCTGGCTCCCTTCATCCTAAGCTGACCTTGACCTTGACCTTGTGCTCCCTCTCAACTCAGGAGTAGTTTCTGAGACACTTTTCTGCCAGTGTAGCTGCCGGGGTCTTGCTCCTGCCTGGCACTGTTGGTTCTTCTGAAGGCTGGGGTCTTGAGGGGTCCTCATGATAGCTCATCTGAGAGGACAGGTGGTTGCCCCAGGTCCCGTGACAAAGCTAGAACCCGAGCCCCTGCCCTCAGTCGGTGCCACAGAGATGATTTTGAACTAGATGCTGACGTGGATGCAGTCTTCCCACAGGCTGTGTTCCCCCCATGGACCCCCGGGACATCTGGCTGTTGGCGGAGGCTGCAAGGGCCTCTGGGGTCTGACTTGGATCTCACCCCAACTCTGCACCCCCCCAGCTGCTGTGTGAGACCGAGGGCCGGGTCCGCGTGGAGACCACCAAGGACCGCAGCATCTTCACGGTCGAGGGGGCAGAGAAGGAAGATGAGGGCGTCTACACGGTCACAGTGAAGAACCCTGTGGGCGAGGACCAGGTCAACCTCACAGTCAAGGTCATCGGTGAGGCCGGCCGGGGTCCAAGCTGGAGAACACAGAGGGGCAGCCCCAAGGAGGGCCCATCCGTTCGCTCATTCAGCCACTCGACAAACATCACGGGCATGCTCCCTGAGCCGAGCGGCAACAGGACAGGTTTTTCTGCCCAAAAGGAGCCCCGCTCTGGGGGAGATGGAGGCAGATGCATCCAGCAGATTTCCTGCGACACTGCTGTACATGAGCCATGTCCAGAGTGCCGTGGGAGCACTGAGCAGAGAGCCATCCCTGTGCCTGGGGGTGATGCCTTTAGGAGGCTGAGAAGATGGTGAGGAAAGGCATCCCAGGCAGAGGAAACTGTGTACAAAGGGGTGGAGGAGGGAAAGGGCCTT'"
      ]
     },
     "execution_count": 404,
     "metadata": {},
     "output_type": "execute_result"
    }
   ],
   "source": [
    "pp=jkgenome.locus('chr11:47359708-47369710-')\n",
    "xxxx=pp.twoBitFrag2('hg19').upper()\n",
    "xxxx"
   ]
  },
  {
   "cell_type": "code",
   "execution_count": 407,
   "metadata": {},
   "outputs": [],
   "source": [
    "pppppp=predict_sequence_with_context(xxxx,10000,models,assembly='hg19')"
   ]
  },
  {
   "cell_type": "code",
   "execution_count": 409,
   "metadata": {},
   "outputs": [
    {
     "data": {
      "text/plain": [
       "array([0.9986476 , 0.9976985 , 0.99746644, 0.9963444 , 0.9960413 ,\n",
       "       0.9932972 , 0.98099554, 0.98063487, 0.9355999 , 0.8594283 ,\n",
       "       0.74491316, 0.6864151 , 0.64838743, 0.6317855 , 0.5831027 ,\n",
       "       0.54514587, 0.46745053, 0.4419094 , 0.44165546, 0.4244079 ,\n",
       "       0.40271544, 0.361901  , 0.35564238, 0.34413013, 0.32823086,\n",
       "       0.2702531 , 0.256715  , 0.2411994 , 0.17268628, 0.16499874],\n",
       "      dtype=float32)"
      ]
     },
     "execution_count": 409,
     "metadata": {},
     "output_type": "execute_result"
    }
   ],
   "source": [
    "pppppp[5][:30]"
   ]
  },
  {
   "cell_type": "code",
   "execution_count": 410,
   "metadata": {},
   "outputs": [
    {
     "data": {
      "text/plain": [
       "array([6915, 8369, 9480, 6003, 5415, 5014, 5224, 7127, 8755, 4535, 1515,\n",
       "        680, 1770,  642, 1789,  254, 4897, 1130, 4543, 3963, 6008, 9376,\n",
       "        479, 4567, 1518, 4774, 1728, 4546, 1582, 4981])"
      ]
     },
     "execution_count": 410,
     "metadata": {},
     "output_type": "execute_result"
    }
   ],
   "source": [
    "pppppp[3][:30]"
   ]
  },
  {
   "cell_type": "code",
   "execution_count": 358,
   "metadata": {},
   "outputs": [],
   "source": [
    "input2=xxxx[:9999]+'T'+xxxx[10000:]"
   ]
  },
  {
   "cell_type": "code",
   "execution_count": 359,
   "metadata": {},
   "outputs": [
    {
     "name": "stdout",
     "output_type": "stream",
     "text": [
      "9999 A T\n"
     ]
    }
   ],
   "source": [
    "for i in range(20000):\n",
    "    if input1[i]!=input2[i]:\n",
    "        print(i,input1[i],input2[i])"
   ]
  },
  {
   "cell_type": "code",
   "execution_count": 360,
   "metadata": {},
   "outputs": [
    {
     "data": {
      "text/plain": [
       "(20000, 20000)"
      ]
     },
     "execution_count": 360,
     "metadata": {},
     "output_type": "execute_result"
    }
   ],
   "source": [
    "len(input2),len(input1)"
   ]
  },
  {
   "cell_type": "code",
   "execution_count": null,
   "metadata": {},
   "outputs": [],
   "source": []
  },
  {
   "cell_type": "code",
   "execution_count": null,
   "metadata": {},
   "outputs": [],
   "source": []
  },
  {
   "cell_type": "code",
   "execution_count": null,
   "metadata": {},
   "outputs": [],
   "source": [
    "compare_mutated_sequences(chrom,pos,ref,alt,start_index,end_index,strand,context,model,assembly='hg38')"
   ]
  },
  {
   "cell_type": "code",
   "execution_count": 498,
   "metadata": {},
   "outputs": [
    {
     "name": "stdout",
     "output_type": "stream",
     "text": [
      "Ref and Alt : (T to G)\n",
      "CATTTTGTGTGGCCGGAGGCTAGCAGGAAGGTTCAATAGTTTCACATGCCTGTTGTTTCAAACAGAACACAAATACTTCAACTGTCTGGTTAGCGTGGTTT\n",
      "                                                  -\n",
      "CATTTTGTGTGGCCGGAGGCTAGCAGGAAGGTTCAATAGTTTCACATGCCGGTTGTTTCAAACAGAACACAAATACTTCAACTGTCTGGTTAGCGTGGTTT\n",
      "\n",
      "sequence changed --- 0.007157564163208008 seconds ---\n",
      "prediction --- 3.5381619930267334 seconds ---\n"
     ]
    }
   ],
   "source": [
    "ref='T'\n",
    "alt='G'\n",
    "x=compare_mutated_sequences('chr8',140300616-1,ref,alt,140300616-5000,140300616+5000,'+',10000,models)"
   ]
  },
  {
   "cell_type": "code",
   "execution_count": 499,
   "metadata": {},
   "outputs": [
    {
     "data": {
      "text/plain": [
       "9999"
      ]
     },
     "execution_count": 499,
     "metadata": {},
     "output_type": "execute_result"
    }
   ],
   "source": [
    "len(x[0])"
   ]
  },
  {
   "cell_type": "code",
   "execution_count": 500,
   "metadata": {},
   "outputs": [
    {
     "name": "stdout",
     "output_type": "stream",
     "text": [
      "-0.00033577578 0.0008279085\n"
     ]
    }
   ],
   "source": [
    "minn=1\n",
    "maxx=0\n",
    "for i in range(len(x[0])):\n",
    "    if minn>x[0][i]:\n",
    "        minn=x[0][i]\n",
    "    if maxx<x[0][i]:\n",
    "        maxx=x[0][i]\n",
    "print(minn,maxx)"
   ]
  },
  {
   "cell_type": "code",
   "execution_count": null,
   "metadata": {},
   "outputs": [],
   "source": []
  },
  {
   "cell_type": "code",
   "execution_count": null,
   "metadata": {},
   "outputs": [],
   "source": []
  },
  {
   "cell_type": "code",
   "execution_count": null,
   "metadata": {},
   "outputs": [],
   "source": []
  },
  {
   "cell_type": "code",
   "execution_count": null,
   "metadata": {},
   "outputs": [],
   "source": []
  },
  {
   "cell_type": "code",
   "execution_count": 382,
   "metadata": {},
   "outputs": [
    {
     "name": "stdout",
     "output_type": "stream",
     "text": [
      "Ref and Alt : (A to G)\n",
      "GGGACTACTGTATTATAAAAACTAATAATTGTCTTCTTTTCTCCCCTTTAAGTGGACGCGCCTTCAAGAAGAAATAGATCATCTGGTGGTAATACAGTTTT\n",
      "                                                  -\n",
      "GGGACTACTGTATTATAAAAACTAATAATTGTCTTCTTTTCTCCCCTTTAGGTGGACGCGCCTTCAAGAAGAAATAGATCATCTGGTGGTAATACAGTTTT\n",
      "\n",
      "sequence changed --- 0.02477574348449707 seconds ---\n",
      "prediction --- 2.76558780670166 seconds ---\n"
     ]
    }
   ],
   "source": [
    "######### TODAY\n",
    "\n",
    "\n",
    "ref='A'\n",
    "alt='G'\n",
    "\n",
    "x=compare_mutated_sequences('chr3',142740189,ref,alt,142740190-10000,142740190+10000,'+',10000,models)"
   ]
  },
  {
   "cell_type": "code",
   "execution_count": 383,
   "metadata": {},
   "outputs": [
    {
     "name": "stdout",
     "output_type": "stream",
     "text": [
      "Largest Delta in acceptor\n",
      "     10000 :  0.9628092\n",
      "     10093 :  0.13181767\n",
      "      9901 :  0.009439922\n",
      "     10025 :  0.009007661\n",
      "     10019 :  0.005023396\n",
      "     10016 :  0.0038957505\n",
      "     11503 :  0.0014853477\n",
      "     10123 :  0.0011556149\n",
      "      7320 :  0.0008781776\n",
      "      9697 :  0.00045300456\n",
      "\n",
      "Smallest Delta in acceptor\n",
      "      9999 :  -0.99900365\n",
      "      9228 :  -0.0013905545\n",
      "     13260 :  -0.000699684\n",
      "     12625 :  -0.00038695335\n",
      "      9258 :  -0.00036087027\n",
      "      9250 :  -0.000225842\n",
      "     13134 :  -0.00020573661\n",
      "     10141 :  -0.0001413891\n",
      "     13323 :  -0.00010251999\n",
      "     12595 :  -7.840991e-05\n",
      "\n",
      "Largest Delta in donor\n",
      "      9935 :  0.008949852\n",
      "     11714 :  0.004448712\n",
      "      8328 :  0.0027533919\n",
      "      8314 :  0.0011265688\n",
      "      9941 :  0.0009659065\n",
      "     12668 :  0.00061035156\n",
      "      8687 :  0.0004094243\n",
      "     10205 :  0.00027507544\n",
      "     11312 :  0.00010192394\n",
      "     10154 :  7.92357e-05\n",
      "\n",
      "Smallest Delta in donor\n",
      "     10032 :  -0.39879802\n",
      "     10035 :  -0.09092188\n",
      "      9329 :  -0.0068995804\n",
      "     10038 :  -0.006283201\n",
      "     10215 :  -0.005467236\n",
      "     10092 :  -0.0033973197\n",
      "     10031 :  -0.0027186524\n",
      "     10043 :  -0.0018761172\n",
      "     10034 :  -0.0017739858\n",
      "     13485 :  -0.0013384521\n",
      "\n",
      "Prob for Ref(A)\n",
      "[[9.9999273e-01 3.9345018e-06 3.3140132e-06]]\n",
      "\n",
      "Prob for Alt(G)\n",
      "[[9.999830e-01 3.176658e-06 1.379890e-05]]\n",
      "\n"
     ]
    }
   ],
   "source": [
    "view_delta(x[0],x[1],x[2],x[3],x[4],x[5],x[6],x[7],10)"
   ]
  },
  {
   "cell_type": "code",
   "execution_count": 386,
   "metadata": {},
   "outputs": [
    {
     "name": "stdout",
     "output_type": "stream",
     "text": [
      "Ref and Alt : (G to A)\n",
      "GGCGCACTGGGCCCGGAGGGGTGTCCGCAGCTTTCCTGCCACTTCCCTGCGGCCCCCACCCAGGTACATCTTTGAGTCCATCGGTGCCAAGCGTACCCTGA\n",
      "                                                  -\n",
      "GGCGCACTGGGCCCGGAGGGGTGTCCGCAGCTTTCCTGCCACTTCCCTGCAGCCCCCACCCAGGTACATCTTTGAGTCCATCGGTGCCAAGCGTACCCTGA\n",
      "\n",
      "sequence changed --- 0.04125475883483887 seconds ---\n",
      "prediction --- 2.791537284851074 seconds ---\n"
     ]
    }
   ],
   "source": [
    "######### TODAY\n",
    "\n",
    "\n",
    "ref='G'\n",
    "alt='A'\n",
    "\n",
    "x=compare_mutated_sequences('chr11',47364709,ref,alt,47364709-10000,47364709+10000,'-',10000,models)"
   ]
  },
  {
   "cell_type": "code",
   "execution_count": 387,
   "metadata": {},
   "outputs": [
    {
     "name": "stdout",
     "output_type": "stream",
     "text": [
      "Largest Delta in acceptor\n",
      "     10012 :  0.40365905\n",
      "      9896 :  0.013271779\n",
      "     10057 :  0.0032427367\n",
      "      9566 :  0.0031074584\n",
      "      9900 :  0.0026617134\n",
      "      9542 :  0.0026085973\n",
      "     11006 :  0.0018072128\n",
      "     10040 :  0.001747489\n",
      "     10706 :  0.0010415763\n",
      "      9852 :  0.0009825248\n",
      "\n",
      "Smallest Delta in acceptor\n",
      "     10001 :  -0.9829251\n",
      "      9980 :  -0.11118871\n",
      "      9876 :  -0.005281953\n",
      "      9773 :  -0.002778083\n",
      "      9878 :  -0.0022020414\n",
      "      9873 :  -0.0020470626\n",
      "      9871 :  -0.0018259231\n",
      "      6788 :  -0.0018077493\n",
      "      6517 :  -0.0016589463\n",
      "      6511 :  -0.0016127378\n",
      "\n",
      "Largest Delta in donor\n",
      "     10096 :  0.005030662\n",
      "     10089 :  0.004070699\n",
      "      9666 :  0.0020329356\n",
      "     10788 :  0.0014981255\n",
      "      9565 :  0.0007424839\n",
      "      6877 :  0.0005048588\n",
      "     10327 :  0.00040739775\n",
      "     11821 :  0.00016477704\n",
      "     10579 :  0.00014519691\n",
      "     10100 :  0.00011189486\n",
      "\n",
      "Smallest Delta in donor\n",
      "      9898 :  -0.003786683\n",
      "     10011 :  -0.0033223256\n",
      "      9046 :  -0.0023861006\n",
      "      9023 :  -0.0017029941\n",
      "      6531 :  -0.001242578\n",
      "      6257 :  -0.0009677112\n",
      "      9894 :  -0.00084595196\n",
      "      9170 :  -0.00064639375\n",
      "      9138 :  -0.00051512755\n",
      "      9678 :  -0.00044912286\n",
      "\n",
      "Prob for Ref(G)\n",
      "[[9.9997962e-01 1.9697733e-05 7.0202327e-07]]\n",
      "\n",
      "Prob for Alt(A)\n",
      "[[9.9998665e-01 1.2961272e-05 3.5164982e-07]]\n",
      "\n"
     ]
    }
   ],
   "source": [
    "view_delta(x[0],x[1],x[2],x[3],x[4],x[5],x[6],x[7],10)"
   ]
  },
  {
   "cell_type": "code",
   "execution_count": null,
   "metadata": {},
   "outputs": [],
   "source": []
  },
  {
   "cell_type": "code",
   "execution_count": null,
   "metadata": {},
   "outputs": [],
   "source": []
  },
  {
   "cell_type": "code",
   "execution_count": null,
   "metadata": {},
   "outputs": [],
   "source": []
  },
  {
   "cell_type": "code",
   "execution_count": null,
   "metadata": {},
   "outputs": [],
   "source": []
  },
  {
   "cell_type": "code",
   "execution_count": null,
   "metadata": {},
   "outputs": [],
   "source": []
  },
  {
   "cell_type": "code",
   "execution_count": null,
   "metadata": {},
   "outputs": [],
   "source": []
  },
  {
   "cell_type": "code",
   "execution_count": null,
   "metadata": {},
   "outputs": [],
   "source": []
  },
  {
   "cell_type": "code",
   "execution_count": null,
   "metadata": {},
   "outputs": [],
   "source": []
  },
  {
   "cell_type": "code",
   "execution_count": null,
   "metadata": {},
   "outputs": [],
   "source": []
  },
  {
   "cell_type": "code",
   "execution_count": null,
   "metadata": {},
   "outputs": [],
   "source": []
  },
  {
   "cell_type": "code",
   "execution_count": null,
   "metadata": {},
   "outputs": [],
   "source": [
    "\n",
    "\n",
    "input_sequence = 'CGATCTGACGTGGGTGTCATCGCATTATCGATATTGCAT'\n",
    "# Replace this with your custom sequence\n",
    "\n",
    "context = 10000\n",
    "paths = ('models/spliceai{}.h5'.format(x) for x in range(1, 6))\n",
    "models = [load_model(resource_filename('spliceai', x),compile=False) for x in paths]\n",
    "x = one_hot_encode('N'*(context//2) + input_sequence + 'N'*(context//2))[None, :]\n",
    "y = np.mean([models[m].predict(x) for m in range(5)], axis=0)\n",
    "\n"
   ]
  },
  {
   "cell_type": "code",
   "execution_count": null,
   "metadata": {},
   "outputs": [],
   "source": []
  },
  {
   "cell_type": "code",
   "execution_count": null,
   "metadata": {},
   "outputs": [],
   "source": [
    "def replace_dna(chrom,pos,ref,alt,start_index,end_index,strand,assembly='hg38'):\n",
    "    locus_region=jkgenome.locus(chrom+':'+str(start_index)+'-'+str(end_index)+strand)\n",
    "    \n",
    "    original_seq=locus_region.twoBitFrag2(assembly).upper()\n",
    "    \n",
    "    if original_seq[pos-start_index:pos-start_index+len(ref)]!=ref:\n",
    "        print('Error in positioning')\n",
    "        return '',''\n",
    "\n",
    "    gene_seq1=original_seq\n",
    "    gene_seq2=original_seq[:pos-start_index] + alt + original_seq[pos-start_index+len(ref):]\n",
    "    \n",
    "    print(\"original seq and changed seq : (\"+ref+\" to \"+alt+\")\")\n",
    "    if len(ref)>len(alt):\n",
    "        print(gene_seq1[pos-start_index-50:pos-start_index]+ref+                         gene_seq1[pos-start_index+len(ref):pos-start_index+len(ref)+50])\n",
    "        print(\" \"*50+\"-\"*len(ref))\n",
    "        print(gene_seq2[pos-start_index-50:pos-start_index]+alt+'.'*(len(ref)-len(alt))+gene_seq2[pos-start_index+len(alt):pos-start_index+len(alt)+50])\n",
    "        \n",
    "        \n",
    "    else:\n",
    "        print(gene_seq1[pos-start_index-50:pos-start_index]+ref+'.'*(len(alt)-len(ref))+gene_seq1[pos-start_index+len(ref):pos-start_index+len(ref)+50])\n",
    "        print(\" \"*50+\"-\"*len(alt))\n",
    "        print(gene_seq2[pos-start_index-50:pos-start_index]+alt                        +gene_seq2[pos-start_index+len(alt):pos-start_index+len(alt)+50])\n",
    "    print()\n",
    "    return gene_seq1,gene_seq2"
   ]
  },
  {
   "cell_type": "code",
   "execution_count": null,
   "metadata": {},
   "outputs": [],
   "source": [
    "def spliceAI_run(chrom,pos,ref,alt,start_index,end_index,strand,assembly='hg38'):  # hg38, pos-1; indel exam: T to TA\n",
    "    start_time = time.time()\n",
    "    \n",
    "    input_seq1,input_seq2=replace_dna(chrom,pos,ref,alt,start_index,end_index,strand,assembly='hg38')\n",
    "    \n",
    "   \n",
    "    \n",
    "    \n",
    "    \n",
    "    x1 = one_hot_encode('N'*(context//2) + input_seq1 + 'N'*(context//2))[None, :]\n",
    "    x2 = one_hot_encode('N'*(context//2) + input_seq2 + 'N'*(context//2))[None, :]\n",
    "    print (\"encoding --- %s seconds ---\" % (time.time() - start_time))\n",
    "    print()\n",
    "    y1 = np.mean([models[m].predict(x1) for m in range(5)], axis=0)\n",
    "    y2 = np.mean([models[m].predict(x2) for m in range(5)], axis=0)\n",
    "    \n",
    "    yy1=np.concatenate((y1[0][:pos-start_index],y1[0][pos-start_index+len(ref):]))\n",
    "    yy2=np.concatenate((y2[0][:pos-start_index],y2[0][pos-start_index+len(alt):]))\n",
    "    \n",
    "    acceptor_prob_origianl = yy1[ :, 1]\n",
    "    acceptor_prob_changed = yy2[ :, 1]\n",
    "    donor_prob_original = yy1[ :, 2]\n",
    "    donor_prob_changed = yy2[ :, 2]\n",
    "    \n",
    "    delta_acceptor=acceptor_prob_changed-acceptor_prob_origianl\n",
    "    delta_donor=donor_prob_changed-donor_prob_original\n",
    "    \n",
    "    acceptor_watching=delta_acceptor.argsort()\n",
    "    donor_watching=delta_donor.argsort()\n",
    "    for i in range(-1,-10,-1):\n",
    "        print(delta_acceptor[acceptor_watching[i]])\n",
    "        \n",
    "    for i in range(-1,-10,-1):\n",
    "        print(delta_donor[donor_watching[i]])\n",
    "    \n",
    "    print (\"predict --- %s seconds ---\" % (time.time() - start_time))\n",
    "    return (delta_acceptor,acceptor_watching,delta_donor,donor_watching)"
   ]
  },
  {
   "cell_type": "code",
   "execution_count": null,
   "metadata": {},
   "outputs": [],
   "source": [
    "pos=140200046\n",
    "ref='CTTTACA'\n",
    "alt='AAAAAAAAAAAAAA'\n",
    "\n",
    "predicted=spliceAI_run('chr8',pos,ref,alt,140200046-100000,140200046+100000,'+')"
   ]
  },
  {
   "cell_type": "code",
   "execution_count": null,
   "metadata": {},
   "outputs": [],
   "source": [
    "predicted[0][predicted[1][-10:]],predicted[1][-10:]"
   ]
  },
  {
   "cell_type": "code",
   "execution_count": null,
   "metadata": {},
   "outputs": [],
   "source": [
    "len(predicted[0])"
   ]
  },
  {
   "cell_type": "code",
   "execution_count": null,
   "metadata": {},
   "outputs": [],
   "source": []
  },
  {
   "cell_type": "code",
   "execution_count": null,
   "metadata": {},
   "outputs": [],
   "source": []
  },
  {
   "cell_type": "code",
   "execution_count": null,
   "metadata": {},
   "outputs": [],
   "source": []
  },
  {
   "cell_type": "code",
   "execution_count": 87,
   "metadata": {},
   "outputs": [],
   "source": [
    "def compare_mutated_sequences2(chrom,pos,ref,alt,strand,max_distance,model,assembly='hg38'):\n",
    "    \n",
    "    start_time = time.time()\n",
    "    \n",
    "    start_index= pos-5000-max_distance\n",
    "    end_index= pos+5000+max_distance+1\n",
    "    print(jkgenome.locus(chrom+':'+str(start_index)+'-'+str(end_index)+'+'))\n",
    "    dna_sequence=jkgenome.locus(chrom+':'+str(start_index)+'-'+str(end_index)+'+')\n",
    "    dna_sequence=dna_sequence.twoBitFrag2('hg38').upper()\n",
    "    \n",
    "    if dna_sequence[pos-start_index:pos-start_index+len(ref)]!=ref:\n",
    "        print('Error in positioning')\n",
    "        for j in range(-2,3):\n",
    "            print(dna_sequence[5000+max_distance+j])\n",
    "        return\n",
    "    \n",
    "    input_dna_sequence1,input_dna_sequence2=replace_dna_ref_to_alt2(dna_sequence,pos,ref,alt,max_distance)\n",
    "    print (\"sequence changed --- %s seconds ---\" % (time.time() - start_time))\n",
    "    start_time = time.time()\n",
    "    \n",
    "    predicted_value1,_,_,_,_,_,_ = predict_sequence_with_context2(input_dna_sequence1,model)\n",
    "    predicted_value2,_,_,_,_,_,_ = predict_sequence_with_context2(input_dna_sequence2,model)\n",
    "    \n",
    "    if strand == '-':\n",
    "        predicted_value1 = predicted_value1[:, ::-1, ::1]\n",
    "        predicted_value2 = predicted_value2[:, ::-1, ::1]\n",
    "    \n",
    "    print (\"prediction --- %s seconds ---\" % (time.time() - start_time))\n",
    "    start_time = time.time()\n",
    "    \n",
    "#     predicted_value_for_common1=np.concatenate((predicted_value1[0][:max_distance],predicted_value1[0][max_distance+len(ref):]))\n",
    "#     predicted_value_for_common2=np.concatenate((predicted_value2[0][:max_distance],predicted_value2[0][max_distance+len(alt):]))\n",
    "    predicted_value_for_common1=np.concatenate((predicted_value1[0][:max_distance],predicted_value1[0][-max_distance:]))\n",
    "    predicted_value_for_common2=np.concatenate((predicted_value2[0][:max_distance],predicted_value2[0][-max_distance:]))\n",
    "    \n",
    "    \n",
    "    predicted_value_for_raw1=predicted_value1[0][max_distance:max_distance+len(ref)]\n",
    "    predicted_value_for_raw2=predicted_value2[0][max_distance:max_distance+len(alt)]\n",
    "    \n",
    "    acceptor_prob1 = predicted_value_for_common1[ :, 1]\n",
    "    donor_prob1 = predicted_value_for_common1[ :, 2]\n",
    "    \n",
    "    acceptor_prob2 = predicted_value_for_common2[ :, 1]\n",
    "    donor_prob2 = predicted_value_for_common2[ :, 2]\n",
    "        \n",
    "    \n",
    "    delta_acceptor_prob = acceptor_prob1 - acceptor_prob2\n",
    "    delta_donor_prob = donor_prob1 - donor_prob2\n",
    "    \n",
    "    delta_acceptor_sorted_index = (acceptor_prob1 - acceptor_prob2).argsort()\n",
    "    delta_acceptor_sorted_index = np.flip(delta_acceptor_sorted_index)\n",
    "    \n",
    "    delta_donor_sorted_index = (donor_prob1 - donor_prob2).argsort()\n",
    "    delta_donor_sorted_index = np.flip(delta_donor_sorted_index)\n",
    "    \n",
    "    delta_acceptor_sorted_value = delta_acceptor_prob[delta_acceptor_sorted_index]\n",
    "    delta_donor_sorted_value = delta_donor_prob[delta_donor_sorted_index]\n",
    "    \n",
    "    \n",
    "#     return predicted_value_for_common1,predicted_value_for_common2\n",
    "    return delta_acceptor_prob, delta_donor_prob, delta_acceptor_sorted_index, delta_donor_sorted_index, \\\n",
    "            delta_acceptor_sorted_value, delta_donor_sorted_value, \\\n",
    "            predicted_value_for_raw1, predicted_value_for_raw2"
   ]
  },
  {
   "cell_type": "code",
   "execution_count": null,
   "metadata": {},
   "outputs": [],
   "source": []
  }
 ],
 "metadata": {
  "kernelspec": {
   "display_name": "Python 3",
   "language": "python",
   "name": "python3"
  },
  "language_info": {
   "codemirror_mode": {
    "name": "ipython",
    "version": 3
   },
   "file_extension": ".py",
   "mimetype": "text/x-python",
   "name": "python",
   "nbconvert_exporter": "python",
   "pygments_lexer": "ipython3",
   "version": "3.8.5"
  }
 },
 "nbformat": 4,
 "nbformat_minor": 4
}
