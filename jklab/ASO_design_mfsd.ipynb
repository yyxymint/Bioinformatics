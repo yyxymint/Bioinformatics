{
 "cells": [
  {
   "cell_type": "code",
   "execution_count": 1,
   "id": "selected-illness",
   "metadata": {},
   "outputs": [],
   "source": [
    "from keras.models import load_model\n",
    "from pkg_resources import resource_filename\n",
    "from utils2 import one_hot_encode\n",
    "import numpy as np\n",
    "\n",
    "import datetime as dt\n",
    "import h5py\n",
    "import numpy as np\n",
    "import os\n",
    "import fnmatch\n",
    "import time\n",
    "import re\n",
    "from sklearn.metrics import average_precision_score\n",
    "from pandas import DataFrame\n",
    "import pandas as pd\n",
    "import random"
   ]
  },
  {
   "cell_type": "code",
   "execution_count": null,
   "id": "reported-negotiation",
   "metadata": {},
   "outputs": [],
   "source": []
  },
  {
   "cell_type": "code",
   "execution_count": 2,
   "id": "decent-nitrogen",
   "metadata": {},
   "outputs": [],
   "source": [
    "paths = ('snp_data/spliceai{}.h5'.format(x) for x in [1,2,3,4,5])\n",
    "spliceai_models=[load_model(resource_filename('spliceai', x),compile=False) for x in paths]"
   ]
  },
  {
   "cell_type": "code",
   "execution_count": null,
   "id": "present-christianity",
   "metadata": {},
   "outputs": [],
   "source": []
  },
  {
   "cell_type": "code",
   "execution_count": 3,
   "id": "hindu-nurse",
   "metadata": {},
   "outputs": [],
   "source": [
    "def make_random_seq(seq_len):\n",
    "    \n",
    "    random_seq=''\n",
    "    for _ in range(seq_len):\n",
    "        xx=random.random()\n",
    "        \n",
    "        if xx<0.25:\n",
    "            random_seq+='A'\n",
    "        elif xx<0.5:\n",
    "            random_seq+='T'\n",
    "        elif xx<0.75:\n",
    "            random_seq+='G'\n",
    "        else:\n",
    "            random_seq+='C'\n",
    "    \n",
    "    return random_seq\n"
   ]
  },
  {
   "cell_type": "code",
   "execution_count": null,
   "id": "surrounded-covering",
   "metadata": {},
   "outputs": [],
   "source": []
  },
  {
   "cell_type": "code",
   "execution_count": null,
   "id": "complex-consciousness",
   "metadata": {},
   "outputs": [],
   "source": []
  },
  {
   "cell_type": "code",
   "execution_count": 4,
   "id": "annoying-angola",
   "metadata": {},
   "outputs": [],
   "source": [
    "left_context='aggagctgtggctctctgctgctgtccagcatcatgaaacagtatcataccacagatcactagtctggaaaaatatcaaaattcaaaatttgaagtgtggtttctactgaatgagtatcactttcctactgttgtaaagctgaacagttctaagttggacactcataagtcagagactgtatgTACTTTAATAAGGTTCTAAAATTAATCAACAAATGTTAAGTCAGTGTATCAGGTTCAGTGCTATGGGGGTACTATGAGAATTCTTGTCCTTATGGAGCCAAGTAGAGGGATCAAGATATAAGATAGACATATATTTATATTCAAAGTTAATAGGAAGTACATTACATCTTGCTACAGAAGTAGAGCAGTGCTGCTGATACACATTCTTATAGAATGTCCAATAccatcccctcaaagcacgtgtattccagtagggggaaagccaataaacacaaatgtgaagtcagatagtggtaagtactacaaagaagaatagaagagaaaagaataaggagtgacaagggcagggctgggaagtggggaaatgttgtatttgatacactgctcaaggaaggtatatatgaggaagttacatttaagctgagaccttagtgaagtcagCAAAGAGccatgcaatggcctggatggtctcgatctcctgacctcagatgatccgtcctcctcagcctcccaaagtactgggattacaggcgtgagccaccacacccagccTttattatactttgagttctggaatatatgtgcaggtttgttacataggtataaatgtactatggtggtttgctgcacccatcaacccatcatctacattaggtatttctcctaatgctatccctcctctagccccccaccccgcaataggcccctgtgtgtgatgttcccctccctgtgtccatgtattctctttgttcaactcccacttatgagtgagaacatgtggcgtttgtttttctgttcctgtgtttgctgagaatgatggtttccagcttcatccatgttactgtaaaagacatgaactcatccttttttatggctgcatagttttccatggtgtatatgtgctacattttctttatccagtctgtcattgatgggcatttgggttggttccaagtctttactattgtgaatagtgctgtaataaacatacatgtgcatgtgtcttcatagtagaatgatttataatcctttgggtatatacccagtaatgggattgctgggtcaaatggtatttctggttctagatccttggggaattgccacactgtcttccacaatggttgaactaatttacactcccaccaacagtgtaaaggtgttcctatttctccacatcctctccagcatctgttgttccccgactttttaatgattgccactctaactggtgtgagatggtatctcattgtgattttgatatgcatttctctaatgaccagtgatgatgagctttttttcatatgtttgttggttgcataaatgtcttcttttgagaagcatctgttcatatcctttgcccactttttgatggggttgtttttttcttgtaaatttgtttaagttccttgtagattctggatattagacctttatcagatggatagattgcaaaaattttctcccattctgtaggttgcttgttcactctgatgatagtttattttgctgtgcagaagctctttagtttaattagatcccatttatcaattttggtttttgttgccattgcttttggtgttttagacatgaagtccttgcccatgcctatgtcctgaatggtaatgcctaggttttcttctagggtttttatggttttaggtcctatgtttaagtctttgatctttcttgaattaatttttgtataaggtataaagaaggggcccagtctcagttttctgcgtatggctagccagttttcccaacaccatttattaaatagggaatcctttccctattgcttgtttttgtcaggtttgtcaaagatcagatggttgtagatgtgtggtgttatttctgaggcctctattctgttccattggtctatatatctgttttggtacaagaatcatgctgttttggttactgtagccttgtagtgtagtttgaagtcaggtattgtgatgtcttcagctttgttctttttgcttaggattgtcttggctatatgggctctgttttggttccgtatgaaatttaaagtagtttttttctaattctgtgaagaaagtcaatggtagcttgatggggatagcattgaatccataagttactttggacagtatggccattttcacaatattgattcttactgtccatgagcatggaatgtttttccatttgtttgtgtcctctcttatgtcctttagcagtggtttgtagttctccttgaagaggtccttcacatcccttgtaagttgtattcctagatattttattctctttgcagcaattgtgaatggcagttcactcttgatttggctctctgtttgtctgttattggtgtataggaatgcttgtgatttttgcacattgattttttatcctgagactttgctgaagttgcttgtcgcttaaggagattttgggcaccactggtcccacagaaatacaaactaccgtcagagaataccacagtattctctaatactataaacacctctatgcaaataaaatagaaaatctagaagacacggataaattcctggacacatacaccctcccaagactaaaccaggaagaagtcgaatccctgaattgaccaataataagttctgagattgaggcagtaattaatagcctaccaaccaaaaaaagcccaggaccagatagattcacagccgaattctactggaggtacaaagtttccattccttctgaaactccattccttctgtaactatgccaaaccgtagaagaagagggactcctccctaactcattttatgaggccagaatcatcctgataccaaaacctggcagagacacaacaaaaaaaatttaaggccaatatccctgatgaacatcgatgcgaaaatcctcaataaaatactggcaaacccaggccaggtgcggtggctcacgcctgtaatctcagcactttgggaggctgaagtgggtggatcacgaggtcagaggtcgagaccatcctggccaacacagtgaaaccccatctctactaaaaatacaaaaaaaattagccaggcgtggtggcaggcacctgtagtcccagctactcaggagactgaggcaggagaatggcatgaacccgggaggcggagtttgcagtgagccaagttcacgccactgcataccagcctgggcgacagagcaagactctgtctcaaataataataataataataataataataataataataataataaataaaaataaaaaataaaatactggaaaactgaattcagcagcacatcaaaaagcttatccaccacgatcaaatctgcttcatccctgagatgcaaggctggttcaacatacacaaatcaataaatgtaatccatctcataaacagaaccaatgacaaaaaccacatgattatctcaatatatgcagaaaaggcctttgataaaattcaacactccttcatgctaacaacactcaataaactgatattgatggaacgtatctcaaaataataagcgctatttatgacaaacccacagccagtatcatactgaatgggcaaaaactggaagcattccctttgaaaaccggcacaagacaaggataccctctctcacctctcctgttcaacatagtgttggaagttctggccagggcaatcaggcaagagaaagaaataaagggtattcaattaggaaatgagaaagtcaaattgcctctgtttgcagatgacatgattgctgtatttcttaaaaactagtacttgcatctagaagcttgatgaaatttgggttcaattttttggcaagaatactttataggtgggaatatgtgcttatatcagaagaaatataatgttttgtttatctcttcttaacatgtaagtagccactgattattccatagatccattaattcattaatgaatcattacaaaattctggtattttaattctatcattcctttatttatttgctagaatacttaccatgaagagaatctttccctcaccaactatttggttaacctgagctatagttgtataggaaaggcaggataaaggcttgattattttcttttgtttccctaacatcctcaaaaactgaccaaagagtactttattttaatatactatgaattcatagattataacactttttttttttttggcgacagggtcttgctctgtcacccagtttggagtgcagtggtgccatcacagctcattgcagccttgacctcctgggctcaagtaatcctcctgcctcaacctcctaagtagctagaactacaggcaccaaataccactcctggctaatttttaaaattttttgtagagatggggtcttgctatgttgcccaggctggttttgaacttctggcatcaagcagtcctcccgctttggcctcccaaagtactggggttataggtgtgagccactacaccaggccacagatgataatactttttgtgtgtttcaatccattgccattattattctgttttggtactcacattgtcacatttttggccagcttcttcaaattggctgagtcaaaaagactcatgacctagtagtcactgataacttctgtgctttttgctgtgaaagatctgagctcatctactttttgtgtcccagaccttaagtcagccatttttcagaggagtcctggttatttttagtggaaaattatatttagCATTCTTTTTAATGGATATATCACTAAAAGTACAAGATATTATTTTTAGTTTTTAAAATTATGAAAGTAATGAAGCTATGTTATAATGTTTCATTTTAAAATTACAGAGTTTCTGTTCTTTAACAG'.upper()\n",
    "right_context='GTATAGCCATACATAATTCTATAATGTTAACCTCTGTTATTTATCTAAAATCAACAAGTAATGCACTGCAATGGTTTTGTTTTTACAGATTTGCACAATAATTCAATCCCTAATACCACATTTGGGGAAATTATTATTGGTCTTTGGAAGTCTCCAATGGAAGATGACAATGAAAGACCAACTGGTTGCTCGATTGAACAAGCCTGGTGCCTCTACACCCCGGTGATTCATCTGGCCCAGTTCCTTACATCAGCTGTGCTAATAGGATTAGGCTATCCAGTCTGCAATCTTATGTCCTATACTCTATATTCAAAAATTCTAGGACCAAAACCTCAGGTAAGCCAGGTACCCTGACATTGCAATTATAGAAAATATACTTGTAAGCACTCAACATTTTTTGCTGCCATTCTCTATTTTTACACAGACTGATTTGAGGGATTTTTATCATATTCAGCATTTAAAATTTTTAAAAATCCCACAACTTCTATAAAGTTCATTCTTGGGTAGGTTATGTGGGTTATAGTTTTGGATACAGAAGTTGTAGgagtggcattgtggtagagtgtaaagtggcacagtggagtcagccaaatatggcttcaaacctcttgaacaagttacttaaactttctgagtttcagcttctacctttgttaaacaggcataacacctgtcatcgaaacttgtgaacattacaaatgatgtatttaaagcacctacctcagtgactggcatgtagcaggtacaaaataaatgttagctttaAAAGGTATTTTAATCAATTTTATTATTCCCAGGGCTTCAGCAGACAGTAAGtttttccctttacactccttttattttttttAATCTGACTTAATATTAAATGCTATATTTATAGGAGGCATTTTATGTTTAATTTAAAAGTAAAAGATGCAGAAATGATTCTTGTAAGTTTGCTGTAGTTTGGTAATACCATTTCTTTGCTTTTAAATAACTAAACCCCAATATCAATCTGCTTGTCCTCCATTTCACCCCCAACAGGGTGTATACATGGGCTGGTTAACAGCATCTGGAAGTGGAGCCCGGATTCTTGGGCCTATGTTCATCAGCCAAGTGTATGCTCACTGGGGACCACGATGGGCATTCAGCCTGGTGTGTGGAATAATAGTGCTCACCATCACCCTCCTGGGAGTGGTTTACAAAAGACTCATTGCTCTTTCTGTAAGATATGGGAGGATTCAGGAATAAACTAGCTAAGACTGTGATGGAAACTACTTGCTGTGTGGCACTTCCTGGTCTAAAGCTCTGCTAGACAATTGCGGTGAGCCAGTCTCCAAGAATCAGACTACAGATATTGCAGATTTTGAAGAACAAGAACATATGTTGAATAACAGAGAGAATTCTACATGTCATTGTGAATAGTAGGTTATATAAAAACATACTAGATGATAATTTCCTTACCTCAGAAATGAAATATTATTCTTATAATACCTTTTTGTGGTTGCATGAACTAATGAGTGAATGGACAATGATGAATAAATGTGAAGCTGTATTCTTAATACCCACTGCAGAAGTGTCATTAAAATAATATACAGTGGAACCAGAAAGAGGGTTCTGTAAGAATTAGCCATAGCAGAACAAAATTATAGAATTTTAAATACCTCTACCCAAGTAGAGGTATTTTTATTCAGACACCTACTTTTTATTTATAAAAAAATGCATTTTCTATTATCAAGTTCACTTATGAAATAAAAATTATAACACATATTTTCCATTTAGCGTGCCTAACATCCTACCTTGCCTTCTATGAGTCTTTCTTCTAATACTACACCTCTGCCTTATTTTAGTTCAGGGTTTCACTAAGTAACCCCTACATTAATAAATGAGTATGGATAATGCTAATATTTGAGCAATACAGAGGATTAAGAGATCAAGATACTTCACTGCCTATTAGCCTAATAGGGATACCTACTTTCTTTCAAATGCCAAAAATTCACATTAGAAACATAATCCAGATATGTGTTATTTtatatatatatataCAAAACAGTAAATGGTTTCTTAAAATTATTGCTATTTTTCAACCCCCTTAAACTGGAGAAAAACATTTAATTAGTAAAACATTAATTAATTTACTTTAATTTTTCCCATCTCTCAGTAGTGGCGGGGAGGAACACAACAGTTTTCAATCTATGTCTGCATAGTTGTGTAGAGCTGCAGAATTTTAGTTGGATTTTTAATTTGGATGATCCCTGACAGCCCCAAACTAGTCAGGCTAATAAGTATTTGAGGCAAAATGGCTTTAATCTAACAATTTACTGAGTTTACCTGAAGTTGGCTAAATAACACTGTATGTTTAACTTCTACCTCTACATAAGTTGAATGCTGATAAAAGGAACTAGTAGATAACTATGTATATTGATAAGCACTGTTAAGAAAATGCAAAAATATTTCTAAACACTTTTCCAAATGTTTTCTACTTTAAGTTAGAAATAGTTTCAAATCTGAGAATAAACACTATATAATCTGCACTTTATAggttgggtgcagtgtctcatgcctgtaatcccagcactttggaaggccaaggcaggaggattgcttgaggccaggaattcaagaccagcctgggaaacaaagtgagaccctgtctttacaaaaaataaaaacaaaaatttaaaaCTGTATAATCTGCACTTTATGCTAAACTAGCTGTGCTCTTAAACTCAATTTTTTCAGCTCTAATAAAGGGCTTAATTTGATAGAATTATTCTACGATTAAATTTTGAAGACTGTTTTCACTCTCCTCTGCCGCCCATAGCAAGACTGCTTCCATAGATTTCTCAGAACCGTAGCCAGTTCTGGCTATTTGGTCAAGTCTGGGATCCCTCTTACCTGCTATTCTGCAGCTGCTTTCTCTGTCTTACATTTTTTGGGCCACGTCTAATCTTAAAGAGTAAACTCTACCCTTGGTTTGCATAGTGTGCATGACAAAAATAACAAGAATAATGGTAATGATGAAaatgataagagcaaaatttgtggagtgctttccacattccaggtaatgtgtaacatacaatttaattcttacagcagtcttatggagtgaaaatactattatgattcccgttttacagatgaaagaatggaggcacagaaaagttacttgtctaagTAACAGTCTATCCTTAAAGTCCACAGTCTTAACCACTTGATTTTTCATAGTGAGGAAAATATCCCAGAAAGTTGCAGTTTCAATTAATCACTAATTGTAGGGTAATTTAACTATACCAGTGAGTCCTACTAGCAGAAATATTTGGGCAACATAAGCCCACTGACTGGAGCTTTTGTCTTAGCATAATAACCTGTTTCCAGCAAGAATATAACAGAAAAAAGTTTCCCAGCTTTCAAAGGTTTATAATATTGATTAAAATTTAGATAAACTTAACCTTACACAAATGACTCTTACTTTCCTTTTTATTGAGAGCATTTTCTTTGGAGCATTTTCTTCTTTGGAGGATTATACCTTGCTCATCTTGGCACAAAAGAAGGCGAAAGGAAGTAACATGGGATTGGGAAAAGAGCAAGGAGATAAAGTTTGAGGaaaaaaaaTCACCATGTTGATGTCTTCTTGAGTAGGCCAAGTTGCGTATAAAGAGAAAATGACAACAGGAGATTTTAAGGTATGATATATTGTTAAGAGTAGTACATATTTAAGAAGAGAAAATATGTTTTTGAAAACAAATTTAAACTTGAAAGGATGATTTTCATATTTTGAAGGGATTTATAACTTCACAAAGCATCTCCATTCTATCTTGTTCAGCTTTACATTTAAAAATAAACTCTTCTTGTTCATATAAACCTTATCTCTTACATAAAGTGAAATCTGTTAATTTTTTGTTTTGACAAGGATAAACTACTTACCTGCATCTGTTTAAGAATAGATTAACTTATTTTGAGAAGAAATTCTGGGCACCATTTTTGACCATTGAAGACTTATTTGTAATTTAATTTCTACTTTACATTGTGAATGTTCATTTTCTAATAAACAAGATTATTTTGCATATGTACCTTAAGCTTTAAAACTTTATTCAGTCGtctttcagtacatatttaagggggtacccactatgtgccaattacaatgtcatttgggggattgtgcggtaaacaaaacacacagagctccgaccttcatgaggcttatgtaccagcaagaaagtcagatattcacaagatgatttcacagatgattatgattgagggaggggtgatgagagagaagcatagggagctatgagggtgaatatgattaacagggaacctgacctgaacaggagagtcaggcatgtttctccagaagaaatgattagccaagacctagtggaagagaaaatttggattggtgaagagtgggacaagtacttttcaggcagaaggcagtgtgtacaaagccctggaggtgggaagatcttggagctttcacagaactaaaaataggtccaagttgggtggagtatagtggttgagaagaagcctaattttagctgagtctataaagggacaatgcaaggccttgcAGGCCCCAGGTATTAAGACTTcttgtgcaactaagagtttaagagttctatttaggcatggttggagctagaatccaaatgtcatcaggactcttttctttgggttctacatgtctctgcttgactttattttcagatgctgtccatatttgtaggaagaggaccactggcagccctaggcacacaacatccttatagttcacaattctagagaaaaatggcttgggtagtagtaccagaaaaaatatgaagtagccaagtttagctcatgtacacatccctgaattgaccacatgaggatagactcctctactaacccagatatagatcacgcatccattctggaAATGCAATGTGGGAGGGAGGAGGGGAAGAACCCTGTGGAGCTCGTCCCAATTACATGGTCTAAACAGACATAACTGAATGAAAAGGAGA'.upper()\n",
    "intron_exon_intron = 'GTAAGTTAAGTGTTTTTGGTTTTATGTCTGTTTTTaaaaaataaaacaaaaaaCAGAGCTAACAATGCAAATGGATATACCAGGAAAATAATTTAAAGCttttttttGCACACAAATTTACAATTTATTAAGAGATTATCATATTTCTATACATTACAGCATTTCTTTGGTAAAACAAAATTTCTCACAAAGTATATAATTGACTCTTATTTATCTTTTGTCTACTATGTTTTCCTGAAAGTATATTTCATAAACCATTGTTCTACTGTATTGTAATATATATTGTGCAACAAAAAAGATTCATGGTTAAGTTTGGAAAATCTTGGTTAAGATTACCAAACTTATTCTAGAACTTCTATCCATAGTATATATATTCTATATCATCATCATGGCAAATAAAATTTGTGTCATTTCCCAGACCACACAACACTCtttttttttttgagacaaggtctcgtattgttacccatactggaatgcagtggtgcaatcatggctcagtgcagcctgatgggctcaagagatcctctcatctcagcctcctgaatagctggactacaggcatgaccaccacacctggctaatttcttttatttttattttttgtagagatattatctcactatgttgcccaggctagtctcattcctgggctcacgcaatcctccagcctcagtctcccaaagtgttgggattacaggcatgagccactgcgcccagcATAAGTGttttttaattgatacatgatagatgtacatatgtttggggtatgagtgatcatttgatacattcgtataatgtataaagatcaaatcaagataattgggataccatcactttaaatatttaccttttctttatgctaggaacatttgaattactcttttctagcttttgacatgtacactaaattattgctaactatagtcaccctactgagctattgaaaactaggtcttatttcttctaactgtgtatttgtacctattaatcaactattgtttattgcctccttcccgctattattcgtggcctctggtaactaccaatctagtctctttctttcttttcttctttttttttttctttttgtaaaagatggcgtctcactctgttgcccagaatggagtggagtggagtgatcatagctcatggcagcctcagactcctgggctgaagcaatcctcctgtctcagcttcatgagtagttaggactacaggcatgtgccataatgcctggctaatttttttttttttttttaactttttgtagagacaagatcttgctttgtttcctgggctcaccaatctactctctatcttcatgagattctttttttttttttttttttttttttttgtgacggagtctcgctctgttgcccaggctggagtgcagtggcacgatctcagctcactgcaacctccacctcctgggttccagcgattctcacgcctcagcctcccaagtagctgggactacaggcacatgccatcacacctggctaatttttttttttatttttagtacagacggatttcaccatgttagccaggatggtctcgatctcctgacctcatgatctgcccgcctcagcctcccaaagtgctgggattacaggcgtgaaccaccgctgccgacctgagattcacttttttagctcccacatgagtgagaacatgtgataatttgtctttctgtgcttggcttatttcacttaacataatgaccatgaattccatctatgttaccccaaatgatggcatttcatggtttcaatggctgaataatattcccatatatatataccacatttatccattcatccattgatgaccacttaggttggtttcatattttgactattgtgaatagtgttgaaatgaacatgggagtgcagatgtgtctttgatatattgatttcatttcttttagatatatacctagtaatgggattgctggttcatatggcagttccattttaagtttttaggaacttctgtactgttttccatagtggttttactaatttacattcccaccaacagtatacaagggttcccctttctccacatcctcgccagcatccattattccctctttttgattaaagccattttaattgggttgagagaatacctaattgtggttttgacttgcatttctctgatgattagtgatgtcgaacattttttatttacttagtggccttttatatgtcttttgagaatgtctattcaCTGTTTAAAAGAATCATTTTGAGggcctggtgcagtggctcatgcctgtaatcccagcattttgggaggccaaggcagctggatcatttggggtcagcagttcgagaccagtctggccaacatggtgaaaccccatttctactaaaaatacaaaaatttttctactaaaaatacagggcgtggtggcacatttctactaaaacaaaaaaatttttctactaaaaatagagggtgtggtggcatgtgcgtgtagtcccagctactcaggaggctaaggcaagagaatcgcttcaacctgggaggtggaggttgcagcagtgaaccaagatcacaccactgccctccagcctgggtgacagagtgagatttcatctcaaaataaataaataaatacaaataaataaaagaataatTTTggccaggtatggtgactcacatctgcaaccccagcaatttaggaggctaaaatgggaggatcatttcagcccaggagttagtttgagaccagcctgggcaacatagtgagatcttatctcactatgatataatgagatccctatttcttcacagacacacacacaaacacaattagctgggtatgatggagcacgcctgtagtcccagctacttgggaggttgaggcgagaggattgcttgaacccaggagtttgaggctgcagtgagctgtgattgtaccactacactccagtctgggtgacagagcaagacccatctcttaaaaaaagaaTCATTTTGTAAAAGTACAACTGTAAGGAACATATTTTTAGGGAAATGCTTGTGTAAAATTAAGTTCAGTCATATAGTCTATGGTGGAACATTAGTTGATGAATTTAGACAGTTCTATTTAAGTATTCCTCAAATAcagatactctttaacttgcaatggggctacatcctgataaactgatcatcataagttgaaaatagcactaagttgaaaatacaggctgggtgcagtggctcacgcctgcaatcccagcactttgggaggccaaggcgggcagatcacctgaggtcagaagttcgagaccagcccggccaacgtggtgaaaccccgtcgtaactaaatacacaaaaattagctgggtgtggtggccagtgcctgtaatcacagctgctccacaggtggaggcacaagaatcgcttgaacccaggaggtggaggttgcaatgagccattgcattccagcctggatgacaagagtgaaattccatctcaaaaaaagcgaaaaacaaaaaaaaaaaaacatttaatacacctaacctacggagcattgtagcttagcttagcctactttaaacacactccaacactcacattagttttcagtttggctaaatcatctaacacaaagcgtattttataataaagtgttggatatctcatgtaatttgccaaatacagtatactgtagattatagtactggatgtttacctttgtgatcatgtggctgattaggagctgtggctctctgctgctgtccagcatcatgaaacagtatcataccacagatcactagtctggaaaaatatcaaaattcaaaatttgaagtgtggtttctactgaatgagtatcactttcctactgttgtaaagctgaacagttctaagttggacactcataagtcagagactgtatgTACTTTAATAAGGTTCTAAAATTAATCAACAAATGTTAAGTCAGTGTATCAGGTTCAGTGCTATGGGGGTACTATGAGAATTCTTGTCCTTATGGAGCCAAGTAGAGGGATCAAGATATAAGATAGACATATATTTATATTCAAAGTTAATAGGAAGTACATTACATCTTGCTACAGAAGTAGAGCAGTGCTGCTGATACACATTCTTATAGAATGTCCAATAccatcccctcaaagcacgtgtattccagtagggggaaagccaataaacacaaatgtgaagtcagatagtggtaagtactacaaagaagaatagaagagaaaagaataaggagtgacaagggcagggctgggaagtggggaaatgttgtatttgatacactgctcaaggaaggtatatatgaggaagttacatttaagctgagaccttagtgaagtcagCAAAGAGccatgcaatggcctggatggtctcgatctcctgacctcagatgatccgtcctcctcagcctcccaaagtactgggattacaggcgtgagccaccacacccagccTttattatactttgagttctggaatatatgtgcaggtttgttacataggtataaatgtactatggtggtttgctgcacccatcaacccatcatctacattaggtatttctcctaatgctatccctcctctagccccccaccccgcaataggcccctgtgtgtgatgttcccctccctgtgtccatgtattctctttgttcaactcccacttatgagtgagaacatgtggcgtttgtttttctgttcctgtgtttgctgagaatgatggtttccagcttcatccatgttactgtaaaagacatgaactcatccttttttatggctgcatagttttccatggtgtatatgtgctacattttctttatccagtctgtcattgatgggcatttgggttggttccaagtctttactattgtgaatagtgctgtaataaacatacatgtgcatgtgtcttcatagtagaatgatttataatcctttgggtatatacccagtaatgggattgctgggtcaaatggtatttctggttctagatccttggggaattgccacactgtcttccacaatggttgaactaatttacactcccaccaacagtgtaaaggtgttcctatttctccacatcctctccagcatctgttgttccccgactttttaatgattgccactctaactggtgtgagatggtatctcattgtgattttgatatgcatttctctaatgaccagtgatgatgagctttttttcatatgtttgttggttgcataaatgtcttcttttgagaagcatctgttcatatcctttgcccactttttgatggggttgtttttttcttgtaaatttgtttaagttccttgtagattctggatattagacctttatcagatggatagattgcaaaaattttctcccattctgtaggttgcttgttcactctgatgatagtttattttgctgtgcagaagctctttagtttaattagatcccatttatcaattttggtttttgttgccattgcttttggtgttttagacatgaagtccttgcccatgcctatgtcctgaatggtaatgcctaggttttcttctagggtttttatggttttaggtcctatgtttaagtctttgatctttcttgaattaatttttgtataaggtataaagaaggggcccagtctcagttttctgcgtatggctagccagttttcccaacaccatttattaaatagggaatcctttccctattgcttgtttttgtcaggtttgtcaaagatcagatggttgtagatgtgtggtgttatttctgaggcctctattctgttccattggtctatatatctgttttggtacaagaatcatgctgttttggttactgtagccttgtagtgtagtttgaagtcaggtattgtgatgtcttcagctttgttctttttgcttaggattgtcttggctatatgggctctgttttggttccgtatgaaatttaaagtagtttttttctaattctgtgaagaaagtcaatggtagcttgatggggatagcattgaatccataagttactttggacagtatggccattttcacaatattgattcttactgtccatgagcatggaatgtttttccatttgtttgtgtcctctcttatgtcctttagcagtggtttgtagttctccttgaagaggtccttcacatcccttgtaagttgtattcctagatattttattctctttgcagcaattgtgaatggcagttcactcttgatttggctctctgtttgtctgttattggtgtataggaatgcttgtgatttttgcacattgattttttatcctgagactttgctgaagttgcttgtcgcttaaggagattttgggcaccactggtcccacagaaatacaaactaccgtcagagaataccacagtattctctaatactataaacacctctatgcaaataaaatagaaaatctagaagacacggataaattcctggacacatacaccctcccaagactaaaccaggaagaagtcgaatccctgaattgaccaataataagttctgagattgaggcagtaattaatagcctaccaaccaaaaaaagcccaggaccagatagattcacagccgaattctactggaggtacaaagtttccattccttctgaaactccattccttctgtaactatgccaaaccgtagaagaagagggactcctccctaactcattttatgaggccagaatcatcctgataccaaaacctggcagagacacaacaaaaaaaatttaaggccaatatccctgatgaacatcgatgcgaaaatcctcaataaaatactggcaaacccaggccaggtgcggtggctcacgcctgtaatctcagcactttgggaggctgaagtgggtggatcacgaggtcagaggtcgagaccatcctggccaacacagtgaaaccccatctctactaaaaatacaaaaaaaattagccaggcgtggtggcaggcacctgtagtcccagctactcaggagactgaggcaggagaatggcatgaacccgggaggcggagtttgcagtgagccaagttcacgccactgcataccagcctgggcgacagagcaagactctgtctcaaataataataataataataataataataataataataataataaataaaaataaaaaataaaatactggaaaactgaattcagcagcacatcaaaaagcttatccaccacgatcaaatctgcttcatccctgagatgcaaggctggttcaacatacacaaatcaataaatgtaatccatctcataaacagaaccaatgacaaaaaccacatgattatctcaatatatgcagaaaaggcctttgataaaattcaacactccttcatgctaacaacactcaataaactgatattgatggaacgtatctcaaaataataagcgctatttatgacaaacccacagccagtatcatactgaatgggcaaaaactggaagcattccctttgaaaaccggcacaagacaaggataccctctctcacctctcctgttcaacatagtgttggaagttctggccagggcaatcaggcaagagaaagaaataaagggtattcaattaggaaatgagaaagtcaaattgcctctgtttgcagatgacatgattgctgtatttcttaaaaactagtacttgcatctagaagcttgatgaaatttgggttcaattttttggcaagaatactttataggtgggaatatgtgcttatatcagaagaaatataatgttttgtttatctcttcttaacatgtaagtagccactgattattccatagatccattaattcattaatgaatcattacaaaattctggtattttaattctatcattcctttatttatttgctagaatacttaccatgaagagaatctttccctcaccaactatttggttaacctgagctatagttgtataggaaaggcaggataaaggcttgattattttcttttgtttccctaacatcctcaaaaactgaccaaagagtactttattttaatatactatgaattcatagattataacactttttttttttttggcgacagggtcttgctctgtcacccagtttggagtgcagtggtgccatcacagctcattgcagccttgacctcctgggctcaagtaatcctcctgcctcaacctcctaagtagctagaactacaggcaccaaataccactcctggctaatttttaaaattttttgtagagatggggtcttgctatgttgcccaggctggttttgaacttctggcatcaagcagtcctcccgctttggcctcccaaagtactggggttataggtgtgagccactacaccaggccacagatgataatactttttgtgtgtttcaatccattgccattattattctgttttggtactcacattgtcacatttttggccagcttcttcaaattggctgagtcaaaaagactcatgacctagtagtcactgataacttctgtgctttttgctgtgaaagatctgagctcatctactttttgtgtcccagaccttaagtcagccatttttcagaggagtcctggttatttttagtggaaaattatatttagCATTCTTTTTAATGGATATATCACTAAAAGTACAAGATATTATTTTTAGTTTTTAAAATTATGAAAGTAATGAAGCTATGTTATAATGTTTCATTTTAAAATTACAGAGTTTCTGTTCTTTAACAGGATTGGCGAGCGTGCTATTCTACTGGGAGGACTCATCGTTGTATGGGTTGGCTTCTTTATCTTGTTACCTTGGGGAAATCAATTTCCCAAAATACAGTGGGAAGGTATAGCCATACATAATTCTATAATGTTAACCTCTGTTATTTATCTAAAATCAACAAGTAATGCACTGCAATGGTTTTGTTTTTACAG'.upper()\n",
    "\n",
    "full_seq = left_context + intron_exon_intron + right_context\n",
    "\n",
    "exon_seq = 'GATTGGCGAGCGTGCTATTCTACTGGGAGGACTCATCGTTGTATGGGTTGGCTTCTTTATCTTGTTACCTTGGGGAAATCAATTTCCCAAAATACAGTGGGAAG'\n",
    "\n",
    "\n",
    "acceptor_pos=13719 # full_seq에서 acceptor 위치\n",
    "donor_pos=13822 # (10769 + len(exon_seq)-1), full_seq에서 donor 위치\n"
   ]
  },
  {
   "cell_type": "code",
   "execution_count": null,
   "id": "second-assist",
   "metadata": {},
   "outputs": [],
   "source": []
  },
  {
   "cell_type": "code",
   "execution_count": 5,
   "id": "center-restriction",
   "metadata": {},
   "outputs": [
    {
     "data": {
      "text/plain": [
       "'AG'"
      ]
     },
     "execution_count": 5,
     "metadata": {},
     "output_type": "execute_result"
    }
   ],
   "source": [
    "full_seq[acceptor_pos-2:acceptor_pos]"
   ]
  },
  {
   "cell_type": "code",
   "execution_count": 6,
   "id": "moral-oxide",
   "metadata": {},
   "outputs": [
    {
     "data": {
      "text/plain": [
       "'GT'"
      ]
     },
     "execution_count": 6,
     "metadata": {},
     "output_type": "execute_result"
    }
   ],
   "source": [
    "full_seq[donor_pos+1:donor_pos+3]"
   ]
  },
  {
   "cell_type": "code",
   "execution_count": null,
   "id": "roman-armenia",
   "metadata": {},
   "outputs": [],
   "source": []
  },
  {
   "cell_type": "code",
   "execution_count": null,
   "id": "challenging-chest",
   "metadata": {},
   "outputs": [],
   "source": []
  },
  {
   "cell_type": "code",
   "execution_count": 8,
   "id": "spoken-artist",
   "metadata": {},
   "outputs": [],
   "source": [
    "def get_prob_with_seq(seq):\n",
    "    input_x = one_hot_encode(seq)[None, :]\n",
    "    output_y = np.mean([spliceai_models[m].predict(input_x) for m in range(5)], axis=0)\n",
    "    return output_y"
   ]
  },
  {
   "cell_type": "code",
   "execution_count": null,
   "id": "expanded-fishing",
   "metadata": {},
   "outputs": [],
   "source": []
  },
  {
   "cell_type": "code",
   "execution_count": 9,
   "id": "irish-cornwall",
   "metadata": {},
   "outputs": [
    {
     "name": "stdout",
     "output_type": "stream",
     "text": [
      "WARNING:tensorflow:5 out of the last 5 calls to <function Model.make_predict_function.<locals>.predict_function at 0x7fcd1c0815e0> triggered tf.function retracing. Tracing is expensive and the excessive number of tracings could be due to (1) creating @tf.function repeatedly in a loop, (2) passing tensors with different shapes, (3) passing Python objects instead of tensors. For (1), please define your @tf.function outside of the loop. For (2), @tf.function has experimental_relax_shapes=True option that relaxes argument shapes that can avoid unnecessary retracing. For (3), please refer to https://www.tensorflow.org/guide/function#controlling_retracing and https://www.tensorflow.org/api_docs/python/tf/function for  more details.\n"
     ]
    },
    {
     "name": "stdout",
     "output_type": "stream",
     "text": [
      "done 8700  /  done 8720  /  done 8740  /  done 8760  /  done 8780  /  done 8800  /  done 8820  /  done 8840  /  done 8860  /  done 8880  /  done 8900  /  done 8920  /  done 8940  /  done 8960  /  done 8980  /  done 9000  /  done 9020  /  done 9040  /  done 9060  /  done 9080  /  done 9100  /  done 9120  /  done 9140  /  done 9160  /  done 9180  /  done 9200  /  done 9220  /  done 9240  /  done 9260  /  done 9280  /  done 9300  /  done 9320  /  done 9340  /  done 9360  /  done 9380  /  done 9400  /  done 9420  /  done 9440  /  done 9460  /  done 9480  /  done 9500  /  done 9520  /  done 9540  /  done 9560  /  done 9580  /  done 9600  /  done 9620  /  done 9640  /  done 9660  /  done 9680  /  done 9700  /  done 9720  /  done 9740  /  done 9760  /  done 9780  /  done 9800  /  done 9820  /  done 9840  /  done 9860  /  done 9880  /  done 9900  /  done 9920  /  done 9940  /  done 9960  /  done 9980  /  done 10000  /  done 10020  /  done 10040  /  done 10060  /  done 10080  /  done 10100  /  done 10120  /  done 10140  /  done 10160  /  done 10180  /  done 10200  /  done 10220  /  done 10240  /  done 10260  /  done 10280  /  done 10300  /  done 10320  /  done 10340  /  done 10360  /  done 10380  /  done 10400  /  done 10420  /  done 10440  /  done 10460  /  done 10480  /  done 10500  /  done 10520  /  done 10540  /  done 10560  /  done 10580  /  done 10600  /  done 10620  /  done 10640  /  done 10660  /  done 10680  /  done 10700  /  done 10720  /  done 10740  /  done 10760  /  done 10780  /  done 10800  /  done 10820  /  done 10840  /  done 10860  /  done 10880  /  done 10900  /  done 10920  /  done 10940  /  done 10960  /  done 10980  /  done 11000  /  done 11020  /  done 11040  /  done 11060  /  done 11080  /  done 11100  /  done 11120  /  done 11140  /  done 11160  /  done 11180  /  done 11200  /  done 11220  /  done 11240  /  done 11260  /  done 11280  /  done 11300  /  done 11320  /  done 11340  /  done 11360  /  done 11380  /  done 11400  /  done 11420  /  done 11440  /  done 11460  /  done 11480  /  done 11500  /  done 11520  /  done 11540  /  done 11560  /  done 11580  /  done 11600  /  done 11620  /  done 11640  /  done 11660  /  done 11680  /  done 11700  /  done 11720  /  done 11740  /  done 11760  /  done 11780  /  done 11800  /  done 11820  /  done 11840  /  done 11860  /  done 11880  /  done 11900  /  done 11920  /  done 11940  /  done 11960  /  done 11980  /  done 12000  /  done 12020  /  done 12040  /  done 12060  /  done 12080  /  done 12100  /  done 12120  /  done 12140  /  done 12160  /  done 12180  /  done 12200  /  done 12220  /  done 12240  /  done 12260  /  done 12280  /  done 12300  /  done 12320  /  done 12340  /  done 12360  /  done 12380  /  done 12400  /  done 12420  /  done 12440  /  done 12460  /  done 12480  /  done 12500  /  done 12520  /  done 12540  /  done 12560  /  done 12580  /  done 12600  /  done 12620  /  done 12640  /  done 12660  /  done 12680  /  done 12700  /  done 12720  /  done 12740  /  done 12760  /  done 12780  /  done 12800  /  done 12820  /  done 12840  /  done 12860  /  done 12880  /  done 12900  /  done 12920  /  done 12940  /  done 12960  /  done 12980  /  done 13000  /  done 13020  /  done 13040  /  done 13060  /  done 13080  /  done 13100  /  done 13120  /  done 13140  /  done 13160  /  done 13180  /  done 13200  /  done 13220  /  done 13240  /  done 13260  /  done 13280  /  done 13300  /  done 13320  /  done 13340  /  done 13360  /  done 13380  /  done 13400  /  done 13420  /  done 13440  /  done 13460  /  done 13480  /  done 13500  /  done 13520  /  done 13540  /  done 13560  /  done 13580  /  done 13600  /  done 13620  /  done 13640  /  done 13660  /  done 13680  /  done 13700  /  done 13720  /  done 13740  /  done 13760  /  done 13780  /  done 13800  /  done 13820  /  done 13840  /  done 13860  /  done 13880  /  done 13900  /  done 13920  /  done 13940  /  done 13960  /  done 13980  /  done 14000  /  done 14020  /  done 14040  /  done 14060  /  done 14080  /  done 14100  /  done 14120  /  done 14140  /  done 14160  /  done 14180  /  done 14200  /  done 14220  /  done 14240  /  done 14260  /  done 14280  /  done 14300  /  done 14320  /  done 14340  /  done 14360  /  done 14380  /  done 14400  /  done 14420  /  done 14440  /  done 14460  /  done 14480  /  done 14500  /  done 14520  /  done 14540  /  done 14560  /  done 14580  /  done 14600  /  done 14620  /  done 14640  /  done 14660  /  done 14680  /  done 14700  /  done 14720  /  done 14740  /  done 14760  /  done 14780  /  done 14800  /  done 14820  /  done 14840  /  done 14860  /  done 14880  /  done 14900  /  done 14920  /  done 14940  /  done 14960  /  done 14980  /  done 15000  /  done 15020  /  done 15040  /  done 15060  /  done 15080  /  done 15100  /  done 15120  /  done 15140  /  done 15160  /  done 15180  /  done 15200  /  done 15220  /  done 15240  /  done 15260  /  done 15280  /  done 15300  /  done 15320  /  done 15340  /  done 15360  /  done 15380  /  done 15400  /  done 15420  /  done 15440  /  done 15460  /  done 15480  /  done 15500  /  done 15520  /  done 15540  /  done 15560  /  done 15580  /  done 15600  /  done 15620  /  done 15640  /  done 15660  /  done 15680  /  done 15700  /  done 15720  /  done 15740  /  done 15760  /  done 15780  /  done 15800  /  done 15820  /  done 15840  /  done 15860  /  done 15880  /  done 15900  /  done 15920  /  done 15940  /  done 15960  /  done 15980  /  done 16000  /  done 16020  /  done 16040  /  done 16060  /  done 16080  /  done 16100  /  done 16120  /  done 16140  /  done 16160  /  done 16180  /  done 16200  /  done 16220  /  done 16240  /  done 16260  /  done 16280  /  done 16300  /  done 16320  /  done 16340  /  done 16360  /  done 16380  /  done 16400  /  done 16420  /  done 16440  /  done 16460  /  done 16480  /  done 16500  /  done 16520  /  done 16540  /  done 16560  /  done 16580  /  done 16600  /  done 16620  /  done 16640  /  done 16660  /  done 16680  /  done 16700  /  done 16720  /  done 16740  /  done 16760  /  done 16780  /  done 16800  /  done 16820  /  done 16840  /  done 16860  /  done 16880  /  done 16900  /  done 16920  /  done 16940  /  done 16960  /  done 16980  /  done 17000  /  done 17020  /  done 17040  /  done 17060  /  done 17080  /  done 17100  /  done 17120  /  done 17140  /  done 17160  /  done 17180  /  done 17200  /  done 17220  /  done 17240  /  done 17260  /  done 17280  /  done 17300  /  done 17320  /  done 17340  /  done 17360  /  done 17380  /  done 17400  /  done 17420  /  done 17440  /  done 17460  /  done 17480  /  done 17500  /  done 17520  /  done 17540  /  done 17560  /  done 17580  /  done 17600  /  done 17620  /  done 17640  /  done 17660  /  done 17680  /  done 17700  /  done 17720  /  done 17740  /  done 17760  /  done 17780  /  done 17800  /  done 17820  /  done 17840  /  done 17860  /  done 17880  /  done 17900  /  done 17920  /  done 17940  /  done 17960  /  done 17980  /  done 18000  /  done 18020  /  done 18040  /  done 18060  /  done 18080  /  done 18100  /  done 18120  /  done 18140  /  done 18160  /  done 18180  /  done 18200  /  done 18220  /  done 18240  /  done 18260  /  done 18280  /  done 18300  /  done 18320  /  done 18340  /  done 18360  /  done 18380  /  done 18400  /  done 18420  /  done 18440  /  done 18460  /  done 18480  /  done 18500  /  done 18520  /  done 18540  /  done 18560  /  done 18580  /  done 18600  /  done 18620  /  done 18640  /  done 18660  /  done 18680  /  done 18700  /  done 18720  /  done 18740  /  done 18760  /  done 18780  /  done 18800  /  done 18820  /  done 18840  /  finished 17\n"
     ]
    },
    {
     "name": "stdout",
     "output_type": "stream",
     "text": [
      "done 8700  /  done 8720  /  done 8740  /  done 8760  /  done 8780  /  done 8800  /  done 8820  /  done 8840  /  done 8860  /  done 8880  /  done 8900  /  done 8920  /  done 8940  /  done 8960  /  done 8980  /  done 9000  /  done 9020  /  done 9040  /  done 9060  /  done 9080  /  done 9100  /  done 9120  /  done 9140  /  done 9160  /  done 9180  /  done 9200  /  done 9220  /  done 9240  /  done 9260  /  done 9280  /  done 9300  /  done 9320  /  done 9340  /  done 9360  /  done 9380  /  done 9400  /  done 9420  /  done 9440  /  done 9460  /  done 9480  /  done 9500  /  done 9520  /  done 9540  /  done 9560  /  done 9580  /  done 9600  /  done 9620  /  done 9640  /  done 9660  /  done 9680  /  done 9700  /  done 9720  /  done 9740  /  done 9760  /  done 9780  /  done 9800  /  done 9820  /  done 9840  /  done 9860  /  done 9880  /  done 9900  /  done 9920  /  done 9940  /  done 9960  /  done 9980  /  done 10000  /  done 10020  /  done 10040  /  done 10060  /  done 10080  /  done 10100  /  done 10120  /  done 10140  /  done 10160  /  done 10180  /  done 10200  /  done 10220  /  done 10240  /  done 10260  /  done 10280  /  done 10300  /  done 10320  /  done 10340  /  done 10360  /  done 10380  /  done 10400  /  done 10420  /  done 10440  /  done 10460  /  done 10480  /  done 10500  /  done 10520  /  done 10540  /  done 10560  /  done 10580  /  done 10600  /  done 10620  /  done 10640  /  done 10660  /  done 10680  /  done 10700  /  done 10720  /  done 10740  /  done 10760  /  done 10780  /  done 10800  /  done 10820  /  done 10840  /  done 10860  /  done 10880  /  done 10900  /  done 10920  /  done 10940  /  done 10960  /  done 10980  /  done 11000  /  done 11020  /  done 11040  /  done 11060  /  done 11080  /  done 11100  /  done 11120  /  done 11140  /  done 11160  /  done 11180  /  done 11200  /  done 11220  /  done 11240  /  done 11260  /  done 11280  /  done 11300  /  done 11320  /  done 11340  /  done 11360  /  done 11380  /  done 11400  /  done 11420  /  done 11440  /  done 11460  /  done 11480  /  done 11500  /  done 11520  /  done 11540  /  done 11560  /  done 11580  /  done 11600  /  done 11620  /  done 11640  /  done 11660  /  done 11680  /  done 11700  /  done 11720  /  done 11740  /  done 11760  /  done 11780  /  done 11800  /  done 11820  /  done 11840  /  done 11860  /  done 11880  /  done 11900  /  done 11920  /  done 11940  /  done 11960  /  done 11980  /  done 12000  /  done 12020  /  done 12040  /  done 12060  /  done 12080  /  done 12100  /  done 12120  /  done 12140  /  done 12160  /  done 12180  /  done 12200  /  done 12220  /  done 12240  /  done 12260  /  done 12280  /  done 12300  /  done 12320  /  done 12340  /  done 12360  /  done 12380  /  done 12400  /  done 12420  /  done 12440  /  done 12460  /  done 12480  /  done 12500  /  done 12520  /  done 12540  /  done 12560  /  done 12580  /  done 12600  /  done 12620  /  done 12640  /  done 12660  /  done 12680  /  done 12700  /  done 12720  /  done 12740  /  done 12760  /  done 12780  /  done 12800  /  done 12820  /  done 12840  /  done 12860  /  done 12880  /  done 12900  /  done 12920  /  done 12940  /  done 12960  /  done 12980  /  done 13000  /  done 13020  /  done 13040  /  done 13060  /  done 13080  /  done 13100  /  done 13120  /  done 13140  /  done 13160  /  done 13180  /  done 13200  /  done 13220  /  done 13240  /  done 13260  /  done 13280  /  done 13300  /  done 13320  /  done 13340  /  done 13360  /  done 13380  /  done 13400  /  done 13420  /  done 13440  /  done 13460  /  done 13480  /  done 13500  /  done 13520  /  done 13540  /  done 13560  /  done 13580  /  done 13600  /  done 13620  /  done 13640  /  done 13660  /  done 13680  /  done 13700  /  done 13720  /  done 13740  /  done 13760  /  done 13780  /  done 13800  /  done 13820  /  done 13840  /  done 13860  /  done 13880  /  done 13900  /  done 13920  /  done 13940  /  done 13960  /  done 13980  /  done 14000  /  done 14020  /  done 14040  /  done 14060  /  done 14080  /  done 14100  /  done 14120  /  done 14140  /  done 14160  /  done 14180  /  done 14200  /  done 14220  /  done 14240  /  done 14260  /  done 14280  /  done 14300  /  done 14320  /  done 14340  /  done 14360  /  done 14380  /  done 14400  /  done 14420  /  done 14440  /  done 14460  /  done 14480  /  done 14500  /  done 14520  /  done 14540  /  done 14560  /  done 14580  /  done 14600  /  done 14620  /  done 14640  /  done 14660  /  done 14680  /  done 14700  /  done 14720  /  done 14740  /  done 14760  /  done 14780  /  done 14800  /  done 14820  /  done 14840  /  done 14860  /  done 14880  /  done 14900  /  done 14920  /  done 14940  /  done 14960  /  done 14980  /  done 15000  /  done 15020  /  done 15040  /  done 15060  /  done 15080  /  done 15100  /  done 15120  /  done 15140  /  done 15160  /  done 15180  /  done 15200  /  done 15220  /  done 15240  /  done 15260  /  done 15280  /  done 15300  /  done 15320  /  done 15340  /  done 15360  /  done 15380  /  done 15400  /  done 15420  /  done 15440  /  done 15460  /  done 15480  /  done 15500  /  done 15520  /  done 15540  /  done 15560  /  done 15580  /  done 15600  /  done 15620  /  done 15640  /  done 15660  /  done 15680  /  done 15700  /  done 15720  /  done 15740  /  done 15760  /  done 15780  /  done 15800  /  done 15820  /  done 15840  /  done 15860  /  done 15880  /  done 15900  /  done 15920  /  done 15940  /  done 15960  /  done 15980  /  done 16000  /  done 16020  /  done 16040  /  done 16060  /  done 16080  /  done 16100  /  done 16120  /  done 16140  /  done 16160  /  done 16180  /  done 16200  /  done 16220  /  done 16240  /  done 16260  /  done 16280  /  done 16300  /  done 16320  /  done 16340  /  done 16360  /  done 16380  /  done 16400  /  done 16420  /  done 16440  /  done 16460  /  done 16480  /  done 16500  /  done 16520  /  done 16540  /  done 16560  /  done 16580  /  done 16600  /  done 16620  /  done 16640  /  done 16660  /  done 16680  /  done 16700  /  done 16720  /  done 16740  /  done 16760  /  done 16780  /  done 16800  /  done 16820  /  done 16840  /  done 16860  /  done 16880  /  done 16900  /  done 16920  /  done 16940  /  done 16960  /  done 16980  /  done 17000  /  done 17020  /  done 17040  /  done 17060  /  done 17080  /  done 17100  /  done 17120  /  done 17140  /  done 17160  /  done 17180  /  done 17200  /  done 17220  /  done 17240  /  done 17260  /  done 17280  /  done 17300  /  done 17320  /  done 17340  /  done 17360  /  done 17380  /  done 17400  /  done 17420  /  done 17440  /  done 17460  /  done 17480  /  done 17500  /  done 17520  /  done 17540  /  done 17560  /  done 17580  /  done 17600  /  done 17620  /  done 17640  /  done 17660  /  done 17680  /  done 17700  /  done 17720  /  done 17740  /  done 17760  /  done 17780  /  done 17800  /  done 17820  /  done 17840  /  done 17860  /  done 17880  /  done 17900  /  done 17920  /  done 17940  /  done 17960  /  done 17980  /  done 18000  /  done 18020  /  done 18040  /  done 18060  /  done 18080  /  done 18100  /  done 18120  /  done 18140  /  done 18160  /  done 18180  /  done 18200  /  done 18220  /  done 18240  /  done 18260  /  done 18280  /  done 18300  /  done 18320  /  done 18340  /  done 18360  /  done 18380  /  done 18400  /  done 18420  /  done 18440  /  done 18460  /  done 18480  /  done 18500  /  done 18520  /  done 18540  /  done 18560  /  done 18580  /  done 18600  /  done 18620  /  done 18640  /  done 18660  /  done 18680  /  done 18700  /  done 18720  /  done 18740  /  done 18760  /  done 18780  /  done 18800  /  done 18820  /  done 18840  /  finished 19\n"
     ]
    },
    {
     "name": "stdout",
     "output_type": "stream",
     "text": [
      "done 8700  /  done 8720  /  done 8740  /  done 8760  /  done 8780  /  done 8800  /  done 8820  /  done 8840  /  done 8860  /  done 8880  /  done 8900  /  done 8920  /  done 8940  /  done 8960  /  done 8980  /  done 9000  /  done 9020  /  done 9040  /  done 9060  /  done 9080  /  done 9100  /  done 9120  /  done 9140  /  done 9160  /  done 9180  /  done 9200  /  done 9220  /  done 9240  /  done 9260  /  done 9280  /  done 9300  /  done 9320  /  done 9340  /  done 9360  /  done 9380  /  done 9400  /  done 9420  /  done 9440  /  done 9460  /  done 9480  /  done 9500  /  done 9520  /  done 9540  /  done 9560  /  done 9580  /  done 9600  /  done 9620  /  done 9640  /  done 9660  /  done 9680  /  done 9700  /  done 9720  /  done 9740  /  done 9760  /  done 9780  /  done 9800  /  done 9820  /  done 9840  /  done 9860  /  done 9880  /  done 9900  /  done 9920  /  done 9940  /  done 9960  /  done 9980  /  done 10000  /  done 10020  /  done 10040  /  done 10060  /  done 10080  /  done 10100  /  done 10120  /  done 10140  /  done 10160  /  done 10180  /  done 10200  /  done 10220  /  done 10240  /  done 10260  /  done 10280  /  done 10300  /  done 10320  /  done 10340  /  done 10360  /  done 10380  /  done 10400  /  done 10420  /  done 10440  /  done 10460  /  done 10480  /  done 10500  /  done 10520  /  done 10540  /  done 10560  /  done 10580  /  done 10600  /  done 10620  /  done 10640  /  done 10660  /  done 10680  /  done 10700  /  done 10720  /  done 10740  /  done 10760  /  done 10780  /  done 10800  /  done 10820  /  done 10840  /  done 10860  /  done 10880  /  done 10900  /  done 10920  /  done 10940  /  done 10960  /  done 10980  /  done 11000  /  done 11020  /  done 11040  /  done 11060  /  done 11080  /  done 11100  /  done 11120  /  done 11140  /  done 11160  /  done 11180  /  done 11200  /  done 11220  /  done 11240  /  done 11260  /  done 11280  /  done 11300  /  done 11320  /  done 11340  /  done 11360  /  done 11380  /  done 11400  /  done 11420  /  done 11440  /  done 11460  /  done 11480  /  done 11500  /  done 11520  /  done 11540  /  done 11560  /  done 11580  /  done 11600  /  done 11620  /  done 11640  /  done 11660  /  done 11680  /  done 11700  /  done 11720  /  done 11740  /  done 11760  /  done 11780  /  done 11800  /  done 11820  /  done 11840  /  done 11860  /  done 11880  /  done 11900  /  done 11920  /  done 11940  /  done 11960  /  done 11980  /  done 12000  /  done 12020  /  done 12040  /  done 12060  /  done 12080  /  done 12100  /  done 12120  /  done 12140  /  done 12160  /  done 12180  /  done 12200  /  done 12220  /  done 12240  /  done 12260  /  done 12280  /  done 12300  /  done 12320  /  done 12340  /  done 12360  /  done 12380  /  done 12400  /  done 12420  /  done 12440  /  done 12460  /  done 12480  /  done 12500  /  done 12520  /  done 12540  /  done 12560  /  done 12580  /  done 12600  /  done 12620  /  done 12640  /  done 12660  /  done 12680  /  done 12700  /  done 12720  /  done 12740  /  done 12760  /  done 12780  /  done 12800  /  done 12820  /  done 12840  /  done 12860  /  done 12880  /  done 12900  /  done 12920  /  done 12940  /  done 12960  /  done 12980  /  done 13000  /  done 13020  /  done 13040  /  done 13060  /  done 13080  /  done 13100  /  done 13120  /  done 13140  /  done 13160  /  done 13180  /  done 13200  /  done 13220  /  done 13240  /  done 13260  /  done 13280  /  done 13300  /  done 13320  /  done 13340  /  done 13360  /  done 13380  /  done 13400  /  done 13420  /  done 13440  /  done 13460  /  done 13480  /  done 13500  /  done 13520  /  done 13540  /  done 13560  /  done 13580  /  done 13600  /  done 13620  /  done 13640  /  done 13660  /  done 13680  /  done 13700  /  done 13720  /  done 13740  /  done 13760  /  done 13780  /  done 13800  /  done 13820  /  done 13840  /  done 13860  /  done 13880  /  done 13900  /  done 13920  /  done 13940  /  done 13960  /  done 13980  /  done 14000  /  done 14020  /  done 14040  /  done 14060  /  done 14080  /  done 14100  /  done 14120  /  done 14140  /  done 14160  /  done 14180  /  done 14200  /  done 14220  /  done 14240  /  done 14260  /  done 14280  /  done 14300  /  done 14320  /  done 14340  /  done 14360  /  done 14380  /  done 14400  /  done 14420  /  done 14440  /  done 14460  /  done 14480  /  done 14500  /  done 14520  /  done 14540  /  done 14560  /  done 14580  /  done 14600  /  done 14620  /  done 14640  /  done 14660  /  done 14680  /  done 14700  /  done 14720  /  done 14740  /  done 14760  /  done 14780  /  done 14800  /  done 14820  /  done 14840  /  done 14860  /  done 14880  /  done 14900  /  done 14920  /  done 14940  /  done 14960  /  done 14980  /  done 15000  /  done 15020  /  done 15040  /  done 15060  /  done 15080  /  done 15100  /  done 15120  /  done 15140  /  done 15160  /  done 15180  /  done 15200  /  done 15220  /  done 15240  /  done 15260  /  done 15280  /  done 15300  /  done 15320  /  done 15340  /  done 15360  /  done 15380  /  done 15400  /  done 15420  /  done 15440  /  done 15460  /  done 15480  /  done 15500  /  done 15520  /  done 15540  /  done 15560  /  done 15580  /  done 15600  /  done 15620  /  done 15640  /  done 15660  /  done 15680  /  done 15700  /  done 15720  /  done 15740  /  done 15760  /  done 15780  /  done 15800  /  done 15820  /  done 15840  /  done 15860  /  done 15880  /  done 15900  /  done 15920  /  done 15940  /  done 15960  /  done 15980  /  done 16000  /  done 16020  /  done 16040  /  done 16060  /  done 16080  /  done 16100  /  done 16120  /  done 16140  /  done 16160  /  done 16180  /  done 16200  /  done 16220  /  done 16240  /  done 16260  /  done 16280  /  done 16300  /  done 16320  /  done 16340  /  done 16360  /  done 16380  /  done 16400  /  done 16420  /  done 16440  /  done 16460  /  done 16480  /  done 16500  /  done 16520  /  done 16540  /  done 16560  /  done 16580  /  done 16600  /  done 16620  /  done 16640  /  done 16660  /  done 16680  /  done 16700  /  done 16720  /  done 16740  /  done 16760  /  done 16780  /  done 16800  /  done 16820  /  done 16840  /  done 16860  /  done 16880  /  done 16900  /  done 16920  /  done 16940  /  done 16960  /  done 16980  /  done 17000  /  done 17020  /  done 17040  /  done 17060  /  done 17080  /  done 17100  /  done 17120  /  done 17140  /  done 17160  /  done 17180  /  done 17200  /  done 17220  /  done 17240  /  done 17260  /  done 17280  /  done 17300  /  done 17320  /  done 17340  /  done 17360  /  done 17380  /  done 17400  /  done 17420  /  done 17440  /  done 17460  /  done 17480  /  done 17500  /  done 17520  /  done 17540  /  done 17560  /  done 17580  /  done 17600  /  done 17620  /  done 17640  /  done 17660  /  done 17680  /  done 17700  /  done 17720  /  done 17740  /  done 17760  /  done 17780  /  done 17800  /  done 17820  /  done 17840  /  done 17860  /  done 17880  /  done 17900  /  done 17920  /  done 17940  /  done 17960  /  done 17980  /  done 18000  /  done 18020  /  done 18040  /  done 18060  /  done 18080  /  done 18100  /  done 18120  /  done 18140  /  done 18160  /  done 18180  /  done 18200  /  done 18220  /  done 18240  /  done 18260  /  done 18280  /  done 18300  /  done 18320  /  done 18340  /  done 18360  /  done 18380  /  done 18400  /  done 18420  /  done 18440  /  done 18460  /  done 18480  /  done 18500  /  done 18520  /  done 18540  /  done 18560  /  done 18580  /  done 18600  /  done 18620  /  done 18640  /  done 18660  /  done 18680  /  done 18700  /  done 18720  /  done 18740  /  done 18760  /  done 18780  /  done 18800  /  done 18820  /  done 18840  /  finished 20\n"
     ]
    },
    {
     "name": "stdout",
     "output_type": "stream",
     "text": [
      "done 8700  /  done 8720  /  done 8740  /  done 8760  /  done 8780  /  done 8800  /  done 8820  /  done 8840  /  done 8860  /  done 8880  /  done 8900  /  done 8920  /  done 8940  /  done 8960  /  done 8980  /  done 9000  /  done 9020  /  done 9040  /  done 9060  /  done 9080  /  done 9100  /  done 9120  /  done 9140  /  done 9160  /  done 9180  /  done 9200  /  done 9220  /  done 9240  /  done 9260  /  done 9280  /  done 9300  /  done 9320  /  done 9340  /  done 9360  /  done 9380  /  done 9400  /  done 9420  /  done 9440  /  done 9460  /  done 9480  /  done 9500  /  done 9520  /  done 9540  /  done 9560  /  done 9580  /  done 9600  /  done 9620  /  done 9640  /  done 9660  /  done 9680  /  done 9700  /  done 9720  /  done 9740  /  done 9760  /  done 9780  /  done 9800  /  done 9820  /  done 9840  /  done 9860  /  done 9880  /  done 9900  /  done 9920  /  done 9940  /  done 9960  /  done 9980  /  done 10000  /  done 10020  /  done 10040  /  done 10060  /  done 10080  /  done 10100  /  done 10120  /  done 10140  /  done 10160  /  done 10180  /  done 10200  /  done 10220  /  done 10240  /  done 10260  /  done 10280  /  done 10300  /  done 10320  /  done 10340  /  done 10360  /  done 10380  /  done 10400  /  done 10420  /  done 10440  /  done 10460  /  done 10480  /  done 10500  /  done 10520  /  done 10540  /  done 10560  /  done 10580  /  done 10600  /  done 10620  /  done 10640  /  done 10660  /  done 10680  /  done 10700  /  done 10720  /  done 10740  /  done 10760  /  done 10780  /  done 10800  /  done 10820  /  done 10840  /  done 10860  /  done 10880  /  done 10900  /  done 10920  /  done 10940  /  done 10960  /  done 10980  /  done 11000  /  done 11020  /  done 11040  /  done 11060  /  done 11080  /  done 11100  /  done 11120  /  done 11140  /  done 11160  /  done 11180  /  done 11200  /  done 11220  /  done 11240  /  done 11260  /  done 11280  /  done 11300  /  done 11320  /  done 11340  /  done 11360  /  done 11380  /  done 11400  /  done 11420  /  done 11440  /  done 11460  /  done 11480  /  done 11500  /  done 11520  /  done 11540  /  done 11560  /  done 11580  /  done 11600  /  done 11620  /  done 11640  /  done 11660  /  done 11680  /  done 11700  /  done 11720  /  done 11740  /  done 11760  /  done 11780  /  done 11800  /  done 11820  /  done 11840  /  done 11860  /  done 11880  /  done 11900  /  done 11920  /  done 11940  /  done 11960  /  done 11980  /  done 12000  /  done 12020  /  done 12040  /  done 12060  /  done 12080  /  done 12100  /  done 12120  /  done 12140  /  done 12160  /  done 12180  /  done 12200  /  done 12220  /  done 12240  /  done 12260  /  done 12280  /  done 12300  /  done 12320  /  done 12340  /  done 12360  /  done 12380  /  done 12400  /  done 12420  /  done 12440  /  done 12460  /  done 12480  /  done 12500  /  done 12520  /  done 12540  /  done 12560  /  done 12580  /  done 12600  /  done 12620  /  done 12640  /  done 12660  /  done 12680  /  done 12700  /  done 12720  /  done 12740  /  done 12760  /  done 12780  /  done 12800  /  done 12820  /  done 12840  /  done 12860  /  done 12880  /  done 12900  /  done 12920  /  done 12940  /  done 12960  /  done 12980  /  done 13000  /  done 13020  /  done 13040  /  done 13060  /  done 13080  /  done 13100  /  done 13120  /  done 13140  /  done 13160  /  done 13180  /  done 13200  /  done 13220  /  done 13240  /  done 13260  /  done 13280  /  done 13300  /  done 13320  /  done 13340  /  done 13360  /  done 13380  /  done 13400  /  done 13420  /  done 13440  /  done 13460  /  done 13480  /  done 13500  /  done 13520  /  done 13540  /  done 13560  /  done 13580  /  done 13600  /  done 13620  /  done 13640  /  done 13660  /  done 13680  /  done 13700  /  done 13720  /  done 13740  /  done 13760  /  done 13780  /  done 13800  /  done 13820  /  done 13840  /  done 13860  /  done 13880  /  done 13900  /  done 13920  /  done 13940  /  done 13960  /  done 13980  /  done 14000  /  done 14020  /  done 14040  /  done 14060  /  done 14080  /  done 14100  /  done 14120  /  done 14140  /  done 14160  /  done 14180  /  done 14200  /  done 14220  /  done 14240  /  done 14260  /  done 14280  /  done 14300  /  done 14320  /  done 14340  /  done 14360  /  done 14380  /  done 14400  /  done 14420  /  done 14440  /  done 14460  /  done 14480  /  done 14500  /  done 14520  /  done 14540  /  done 14560  /  done 14580  /  done 14600  /  done 14620  /  done 14640  /  done 14660  /  done 14680  /  done 14700  /  done 14720  /  done 14740  /  done 14760  /  done 14780  /  done 14800  /  done 14820  /  done 14840  /  done 14860  /  done 14880  /  done 14900  /  done 14920  /  done 14940  /  done 14960  /  done 14980  /  done 15000  /  done 15020  /  done 15040  /  done 15060  /  done 15080  /  done 15100  /  done 15120  /  done 15140  /  done 15160  /  done 15180  /  done 15200  /  done 15220  /  done 15240  /  done 15260  /  done 15280  /  done 15300  /  done 15320  /  done 15340  /  done 15360  /  done 15380  /  done 15400  /  done 15420  /  done 15440  /  done 15460  /  done 15480  /  done 15500  /  done 15520  /  done 15540  /  done 15560  /  done 15580  /  done 15600  /  done 15620  /  done 15640  /  done 15660  /  done 15680  /  done 15700  /  done 15720  /  done 15740  /  done 15760  /  done 15780  /  done 15800  /  done 15820  /  done 15840  /  done 15860  /  done 15880  /  done 15900  /  done 15920  /  done 15940  /  done 15960  /  done 15980  /  done 16000  /  done 16020  /  done 16040  /  done 16060  /  done 16080  /  done 16100  /  done 16120  /  done 16140  /  done 16160  /  done 16180  /  done 16200  /  done 16220  /  done 16240  /  done 16260  /  done 16280  /  done 16300  /  done 16320  /  done 16340  /  done 16360  /  done 16380  /  done 16400  /  done 16420  /  done 16440  /  done 16460  /  done 16480  /  done 16500  /  done 16520  /  done 16540  /  done 16560  /  done 16580  /  done 16600  /  done 16620  /  done 16640  /  done 16660  /  done 16680  /  done 16700  /  done 16720  /  done 16740  /  done 16760  /  done 16780  /  done 16800  /  done 16820  /  done 16840  /  done 16860  /  done 16880  /  done 16900  /  done 16920  /  done 16940  /  done 16960  /  done 16980  /  done 17000  /  done 17020  /  done 17040  /  done 17060  /  done 17080  /  done 17100  /  done 17120  /  done 17140  /  done 17160  /  done 17180  /  done 17200  /  done 17220  /  done 17240  /  done 17260  /  done 17280  /  done 17300  /  done 17320  /  done 17340  /  done 17360  /  done 17380  /  done 17400  /  done 17420  /  done 17440  /  done 17460  /  done 17480  /  done 17500  /  done 17520  /  done 17540  /  done 17560  /  done 17580  /  done 17600  /  done 17620  /  done 17640  /  done 17660  /  done 17680  /  done 17700  /  done 17720  /  done 17740  /  done 17760  /  done 17780  /  done 17800  /  done 17820  /  done 17840  /  done 17860  /  done 17880  /  done 17900  /  done 17920  /  done 17940  /  done 17960  /  done 17980  /  done 18000  /  done 18020  /  done 18040  /  done 18060  /  done 18080  /  done 18100  /  done 18120  /  done 18140  /  done 18160  /  done 18180  /  done 18200  /  done 18220  /  done 18240  /  done 18260  /  done 18280  /  done 18300  /  done 18320  /  done 18340  /  done 18360  /  done 18380  /  done 18400  /  done 18420  /  done 18440  /  done 18460  /  done 18480  /  done 18500  /  done 18520  /  done 18540  /  done 18560  /  done 18580  /  done 18600  /  done 18620  /  done 18640  /  done 18660  /  done 18680  /  done 18700  /  done 18720  /  done 18740  /  done 18760  /  done 18780  /  done 18800  /  done 18820  /  done 18840  /  finished 21\n"
     ]
    }
   ],
   "source": [
    "\n",
    "for mask_len in [17,19,20,21]:\n",
    "\n",
    "\n",
    "    input_seq=full_seq\n",
    "\n",
    "\n",
    "    mask_seq='N'*mask_len\n",
    "\n",
    "    best_total=0.0\n",
    "\n",
    "    for now_mut_pos in range(acceptor_pos-5030,donor_pos+5020):\n",
    "\n",
    "        original_seq = input_seq\n",
    "        masked_seq = input_seq[:now_mut_pos] + mask_seq + input_seq[now_mut_pos+mask_len:]\n",
    "\n",
    "\n",
    "        original_donor_seq = original_seq[donor_pos-5000:donor_pos+5000+1]\n",
    "        original_acceptor_seq = original_seq[acceptor_pos-5000:acceptor_pos+5000+1]\n",
    "\n",
    "\n",
    "        masked_donor_seq = masked_seq[donor_pos-5000:donor_pos+5000+1]\n",
    "        masked_acceptor_seq = masked_seq[acceptor_pos-5000:acceptor_pos+5000+1]\n",
    "\n",
    "\n",
    "        original_donor_prob = get_prob_with_seq(original_donor_seq)[0][0][2]\n",
    "        original_acceptor_prob = get_prob_with_seq(original_acceptor_seq)[0][0][1]\n",
    "\n",
    "        masked_donor_prob = get_prob_with_seq(masked_donor_seq)[0][0][2]\n",
    "        masked_acceptor_prob = get_prob_with_seq(masked_acceptor_seq)[0][0][1]\n",
    "\n",
    "\n",
    "\n",
    "\n",
    "        result_total = (masked_donor_prob+masked_acceptor_prob)/2.0\n",
    "        delta_acceptor = masked_acceptor_prob - original_acceptor_prob\n",
    "        delta_donor = masked_donor_prob - original_donor_prob\n",
    "        delta_total = delta_acceptor + delta_donor\n",
    "        delta_pos = now_mut_pos\n",
    "        erased_seq = input_seq[now_mut_pos:now_mut_pos+mask_len]\n",
    "\n",
    "\n",
    "\n",
    "        f = open(\"ASO_mfsd_result_renew.txt\", 'a')\n",
    "\n",
    "        def inline_str(str_list):\n",
    "            num = len(str_list)\n",
    "            ret=\"\"\n",
    "            for i in range(num):\n",
    "                ret+=str(str_list[i])\n",
    "                if i<num-1:\n",
    "                    ret+='\\t'\n",
    "            ret+='\\n'\n",
    "            return ret\n",
    "\n",
    "\n",
    "        f.write(inline_str([result_total,delta_acceptor,delta_donor,delta_total,mask_len,delta_pos,erased_seq,original_acceptor_prob,original_donor_prob,masked_acceptor_prob,masked_donor_prob]))\n",
    "        f.close()\n",
    "\n",
    "        if now_mut_pos%20==0:\n",
    "            print('done '+str(now_mut_pos),end=\"  /  \")\n",
    "    print('finished '+str(mask_len))"
   ]
  },
  {
   "cell_type": "code",
   "execution_count": null,
   "id": "graphic-device",
   "metadata": {},
   "outputs": [],
   "source": []
  },
  {
   "cell_type": "code",
   "execution_count": null,
   "id": "defined-variable",
   "metadata": {},
   "outputs": [],
   "source": []
  },
  {
   "cell_type": "code",
   "execution_count": null,
   "id": "surprising-fancy",
   "metadata": {},
   "outputs": [],
   "source": []
  },
  {
   "cell_type": "code",
   "execution_count": null,
   "id": "expanded-eugene",
   "metadata": {},
   "outputs": [],
   "source": []
  },
  {
   "cell_type": "code",
   "execution_count": null,
   "id": "electrical-illinois",
   "metadata": {},
   "outputs": [],
   "source": []
  },
  {
   "cell_type": "code",
   "execution_count": null,
   "id": "amateur-journey",
   "metadata": {},
   "outputs": [],
   "source": []
  },
  {
   "cell_type": "code",
   "execution_count": null,
   "id": "willing-omaha",
   "metadata": {},
   "outputs": [],
   "source": []
  },
  {
   "cell_type": "code",
   "execution_count": null,
   "id": "superior-missile",
   "metadata": {},
   "outputs": [],
   "source": []
  },
  {
   "cell_type": "code",
   "execution_count": null,
   "id": "unique-texture",
   "metadata": {},
   "outputs": [],
   "source": []
  },
  {
   "cell_type": "code",
   "execution_count": 28,
   "id": "stable-correspondence",
   "metadata": {},
   "outputs": [
    {
     "data": {
      "text/plain": [
       "6251"
      ]
     },
     "execution_count": 28,
     "metadata": {},
     "output_type": "execute_result"
    }
   ],
   "source": [
    "len(input_seq)-len_of_aso+1"
   ]
  },
  {
   "cell_type": "code",
   "execution_count": 45,
   "id": "every-physics",
   "metadata": {},
   "outputs": [],
   "source": [
    "f = open(\"ASO_result.txt\", 'r')"
   ]
  },
  {
   "cell_type": "code",
   "execution_count": 46,
   "id": "sustained-remove",
   "metadata": {},
   "outputs": [],
   "source": [
    "res=[]\n",
    "\n",
    "\n",
    "for line in f:\n",
    "    p=line.split('\\t')\n",
    "    res.append([float(p[0]),p[4],int(p[3])])\n"
   ]
  },
  {
   "cell_type": "code",
   "execution_count": 47,
   "id": "sonic-century",
   "metadata": {},
   "outputs": [
    {
     "data": {
      "text/plain": [
       "[[0.28564858, 'CCAGCATTATGAAAGTG', 5832],\n",
       " [0.2863837, 'TTAGACAAAATCAAAAA', 5773],\n",
       " [0.28948206, 'GTGCTCACATTCCTTAA', 5798],\n",
       " [0.2931587, 'TGCCAGCATTATGAAAG', 5830],\n",
       " [0.3000751, 'TTTTAGACAAAATCAAA', 5771],\n",
       " [0.30198628, 'GTTTTAGACAAAATCAA', 5770],\n",
       " [0.3060084, 'CATTCCTTAAATTAAGG', 5805],\n",
       " [0.30910528, 'CTGCCAGCATTATGAAA', 5829],\n",
       " [0.31307673, 'ACATTCCTTAAATTAAG', 5804],\n",
       " [0.3230291, 'ATTCCTTAAATTAAGGA', 5806]]"
      ]
     },
     "execution_count": 47,
     "metadata": {},
     "output_type": "execute_result"
    }
   ],
   "source": [
    "res.sort()\n",
    "res[-10:]"
   ]
  },
  {
   "cell_type": "code",
   "execution_count": null,
   "id": "precise-nerve",
   "metadata": {},
   "outputs": [],
   "source": []
  },
  {
   "cell_type": "code",
   "execution_count": null,
   "id": "following-loading",
   "metadata": {},
   "outputs": [],
   "source": []
  },
  {
   "cell_type": "code",
   "execution_count": null,
   "id": "accessible-objective",
   "metadata": {},
   "outputs": [],
   "source": []
  },
  {
   "cell_type": "code",
   "execution_count": null,
   "id": "settled-arlington",
   "metadata": {},
   "outputs": [],
   "source": []
  },
  {
   "cell_type": "code",
   "execution_count": null,
   "id": "multiple-amino",
   "metadata": {},
   "outputs": [],
   "source": []
  },
  {
   "cell_type": "code",
   "execution_count": null,
   "id": "dutch-harmony",
   "metadata": {},
   "outputs": [],
   "source": []
  },
  {
   "cell_type": "code",
   "execution_count": null,
   "id": "front-audit",
   "metadata": {},
   "outputs": [],
   "source": []
  },
  {
   "cell_type": "code",
   "execution_count": null,
   "id": "drawn-tonight",
   "metadata": {},
   "outputs": [],
   "source": []
  },
  {
   "cell_type": "code",
   "execution_count": 36,
   "id": "treated-shepherd",
   "metadata": {},
   "outputs": [],
   "source": []
  },
  {
   "cell_type": "code",
   "execution_count": null,
   "id": "backed-guest",
   "metadata": {},
   "outputs": [
    {
     "name": "stdout",
     "output_type": "stream",
     "text": [
      "done 0  /  done 10  /  done 20  /  done 30  /  done 40  /  done 50  /  done 60  /  done 70  /  done 80  /  done 90  /  done 100  /  done 110  /  done 120  /  done 130  /  done 140  /  done 150  /  done 160  /  done 170  /  done 180  /  done 190  /  done 200  /  done 210  /  done 220  /  done 230  /  done 240  /  done 250  /  done 260  /  done 270  /  done 280  /  done 290  /  done 300  /  done 310  /  done 320  /  done 330  /  done 340  /  done 350  /  done 360  /  done 370  /  done 380  /  done 390  /  done 400  /  done 410  /  done 420  /  done 430  /  done 440  /  done 450  /  done 460  /  done 470  /  done 480  /  done 490  /  done 500  /  done 510  /  done 520  /  done 530  /  done 540  /  done 550  /  done 560  /  done 570  /  done 580  /  done 590  /  done 600  /  done 610  /  done 620  /  done 630  /  done 640  /  done 650  /  done 660  /  done 670  /  done 680  /  done 690  /  done 700  /  done 710  /  done 720  /  done 730  /  done 740  /  done 750  /  done 760  /  done 770  /  done 780  /  done 790  /  done 800  /  done 810  /  done 820  /  done 830  /  "
     ]
    }
   ],
   "source": [
    "predict_mutation(intron_exon_intron,donor_pos,acceptor_pos,17)"
   ]
  },
  {
   "cell_type": "code",
   "execution_count": null,
   "id": "average-trustee",
   "metadata": {},
   "outputs": [],
   "source": []
  },
  {
   "cell_type": "code",
   "execution_count": null,
   "id": "peripheral-wagon",
   "metadata": {},
   "outputs": [],
   "source": [
    "5초에 10개"
   ]
  },
  {
   "cell_type": "code",
   "execution_count": null,
   "id": "potential-transcription",
   "metadata": {},
   "outputs": [],
   "source": []
  },
  {
   "cell_type": "code",
   "execution_count": null,
   "id": "incredible-sponsorship",
   "metadata": {},
   "outputs": [],
   "source": []
  },
  {
   "cell_type": "code",
   "execution_count": null,
   "id": "ignored-triangle",
   "metadata": {},
   "outputs": [],
   "source": []
  },
  {
   "cell_type": "code",
   "execution_count": null,
   "id": "perfect-boston",
   "metadata": {},
   "outputs": [],
   "source": []
  },
  {
   "cell_type": "code",
   "execution_count": null,
   "id": "weighted-prize",
   "metadata": {},
   "outputs": [],
   "source": []
  },
  {
   "cell_type": "code",
   "execution_count": null,
   "id": "hollywood-governor",
   "metadata": {},
   "outputs": [],
   "source": []
  },
  {
   "cell_type": "code",
   "execution_count": null,
   "id": "fossil-binary",
   "metadata": {},
   "outputs": [],
   "source": [
    "predict_mutation(intron_exon_intron,donor_pos,acceptor_pos,17)"
   ]
  }
 ],
 "metadata": {
  "kernelspec": {
   "display_name": "spliceai",
   "language": "python",
   "name": "spliceai"
  },
  "language_info": {
   "codemirror_mode": {
    "name": "ipython",
    "version": 3
   },
   "file_extension": ".py",
   "mimetype": "text/x-python",
   "name": "python",
   "nbconvert_exporter": "python",
   "pygments_lexer": "ipython3",
   "version": "3.8.5"
  }
 },
 "nbformat": 4,
 "nbformat_minor": 5
}
